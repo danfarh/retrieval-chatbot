{
  "nbformat": 4,
  "nbformat_minor": 0,
  "metadata": {
    "colab": {
      "provenance": []
    },
    "kernelspec": {
      "name": "python3",
      "display_name": "Python 3"
    },
    "language_info": {
      "name": "python"
    }
  },
  "cells": [
    {
      "cell_type": "code",
      "execution_count": 1,
      "metadata": {
        "id": "yzQ4wLTONaE3"
      },
      "outputs": [],
      "source": [
        "import random\n",
        "import json\n",
        "import pickle\n",
        "import numpy as np\n",
        "import pandas as pd\n",
        "import tensorflow \n",
        "import keras\n",
        "import nltk \n",
        "#nltk.download()\n",
        "\n",
        "from tensorflow.keras.models import Sequential\n",
        "from tensorflow.keras.layers import Dense, Embedding, Conv1D, Activation, GlobalMaxPooling1D, Dropout, Bidirectional, LSTM\n",
        "from tensorflow.keras.optimizers import SGD\n",
        "from tensorflow.keras.models import load_model\n",
        "from tensorflow.keras.preprocessing.text import Tokenizer\n",
        "from tensorflow.keras.preprocessing.sequence import pad_sequences"
      ]
    },
    {
      "cell_type": "code",
      "source": [
        "nltk.download('punkt')"
      ],
      "metadata": {
        "colab": {
          "base_uri": "https://localhost:8080/"
        },
        "id": "mdvevYpIOGxy",
        "outputId": "340e6a76-01a9-4e32-ea73-8833227a8656"
      },
      "execution_count": 2,
      "outputs": [
        {
          "output_type": "stream",
          "name": "stderr",
          "text": [
            "[nltk_data] Downloading package punkt to /root/nltk_data...\n",
            "[nltk_data]   Unzipping tokenizers/punkt.zip.\n"
          ]
        },
        {
          "output_type": "execute_result",
          "data": {
            "text/plain": [
              "True"
            ]
          },
          "metadata": {},
          "execution_count": 2
        }
      ]
    },
    {
      "cell_type": "code",
      "source": [
        "intents = json.loads(open('intents.json').read())"
      ],
      "metadata": {
        "id": "1iHvB3T9NoBE"
      },
      "execution_count": 3,
      "outputs": []
    },
    {
      "cell_type": "code",
      "source": [
        "words = []\n",
        "classes = []\n",
        "documents = []\n",
        "ignore_letters = ['?', '!', '.', ',']\n",
        "\n",
        "for intent in intents['intents']:\n",
        "    for pattern in intent['patterns']:\n",
        "        word_list = nltk.word_tokenize(pattern)\n",
        "        words.extend(word_list)\n",
        "        documents.append((word_list, intent['tag']))\n",
        "        if intent['tag'] not in classes:\n",
        "            classes.append(intent['tag'])"
      ],
      "metadata": {
        "id": "ovsWTyfsN7q-"
      },
      "execution_count": 4,
      "outputs": []
    },
    {
      "cell_type": "code",
      "source": [
        "words = [word for word in words if word not in ignore_letters]\n",
        "words = sorted(set(words))\n",
        "classes = sorted(set(classes))"
      ],
      "metadata": {
        "id": "Z44kMlr6N-up"
      },
      "execution_count": 5,
      "outputs": []
    },
    {
      "cell_type": "markdown",
      "source": [
        "### **Calculate X**"
      ],
      "metadata": {
        "id": "kivdetWj9Kmz"
      }
    },
    {
      "cell_type": "code",
      "source": [
        "question = []\n",
        "for doc in intents['intents']:\n",
        "  question.append(doc['patterns'])"
      ],
      "metadata": {
        "id": "qJUeBaAJvNkW"
      },
      "execution_count": 6,
      "outputs": []
    },
    {
      "cell_type": "code",
      "source": [
        "question_list = []\n",
        "arr = [[question_list.append(x) for x in q] for q in question]"
      ],
      "metadata": {
        "id": "uN-OnVdxx9pL"
      },
      "execution_count": 7,
      "outputs": []
    },
    {
      "cell_type": "code",
      "source": [
        "question_list"
      ],
      "metadata": {
        "colab": {
          "base_uri": "https://localhost:8080/"
        },
        "id": "jQkLNc-n6hZR",
        "outputId": "5784a14b-c873-42c4-87e3-eaa13a9ab90b"
      },
      "execution_count": 8,
      "outputs": [
        {
          "output_type": "execute_result",
          "data": {
            "text/plain": [
              "['Can a student who has received a temporary certificate of completion be able to return to education?',\n",
              " 'Can a graduate student who has a temporary certificate return to study?',\n",
              " 'Can a graduate associate who has a temporary certificate return to study?',\n",
              " \"What is the email address of the university's educational administration?\",\n",
              " \"What is the university's educational management email?\",\n",
              " 'Educational management email',\n",
              " 'University educational management email',\n",
              " 'How can scholarship graduates of the Ministry of Science receive a temporary certificate?',\n",
              " 'How to get the temporary certificate of scholarship graduates of the Ministry of Science',\n",
              " 'How can graduates of the scholarship of the Ministry of Science receive a temporary certificate?',\n",
              " 'What is in the temporary certificate of completion of education?',\n",
              " 'Obligations of temporary certificate of completion of education',\n",
              " 'What are the obligations included in the temporary certificate of graduation?',\n",
              " 'What are the obligations mentioned in the temporary certificate of graduation?',\n",
              " 'What are the obligations raised in the temporary certificate of graduation?',\n",
              " 'How long is the validity of the temporary certificate of graduation?',\n",
              " 'Validity of temporary certificate of completion of education',\n",
              " 'Temporary certificate validity',\n",
              " 'The validity of the temporary certificate of completion of education',\n",
              " 'How valid is the temporary certificate of graduation?',\n",
              " 'How can we get a degree if we have a loan after graduation?',\n",
              " 'How can we get a degree if we still have loans after graduation?',\n",
              " 'How can we get a degree if our student loan continues after graduation?',\n",
              " 'Can those committed to serving the bodies, organizations, especially education, receive their degrees?',\n",
              " 'Can those committed to serving organizations receive their certificates?',\n",
              " 'Can those committed to serving the departments receive their certificates?',\n",
              " 'Can a person who has an obligation to serve the departments receive her certificate?',\n",
              " 'Can a person who has an obligation to serve the departments receive his certificate?',\n",
              " 'What kind of degree do graduates who are committed to serving education receive after graduation?',\n",
              " 'What kind of degree do graduates committed to education receive after graduation?',\n",
              " 'What is the degree of graduates committed to education?',\n",
              " 'What is the type of degree of graduates committed to serving education',\n",
              " 'can the students receive educational approval for their degree of education ?',\n",
              " 'Can graduates get academic approval for their degree?',\n",
              " 'Do graduates receive academic approval for their degree?',\n",
              " 'What are the conditions for obtaining a temporary associate degree certificate?',\n",
              " 'Conditions for obtaining a temporary associate certificate',\n",
              " 'Conditions for obtaining a temporary certificate of inter-sectional associate degree',\n",
              " 'What are the conditions for obtaining a duplicate temporary certificate in case of missing temporary certificate',\n",
              " 'Conditions for obtaining a duplicate temporary certificate',\n",
              " 'Duplicate temporary certificate',\n",
              " 'How to get a duplicate temporary certificate',\n",
              " 'Although the temporary certificate is lost, how to get a duplicate temporary certificate',\n",
              " 'If the temporary certificate is lost, how to get a duplicate temporary certificate',\n",
              " 'How to get a temporary certificate of graduation?',\n",
              " 'How to get a temporary certificate',\n",
              " 'How to get a temporary certificate of completion of education',\n",
              " 'Can people other than the educated person receive his degree',\n",
              " \"Can someone else receive the student's degree?\",\n",
              " \"Can any of the student's relatives receive the degree?\",\n",
              " 'Except for a private student, she can receive her degree',\n",
              " 'Except for a private student, he can receive his degree',\n",
              " 'What are the conditions for obtaining a temporary certificate for male graduates',\n",
              " 'What are the conditions for receiving a temporary certificate for male graduates?',\n",
              " 'Conditions for receiving temporary certificate for male students',\n",
              " 'What degree is given to a graduate subject to the conscription system after graduation',\n",
              " 'What degree is given to the graduates subject to the conscription system after graduation?',\n",
              " 'What degree is given to eligible graduates after graduation?',\n",
              " 'What actions should be taken to receive a temporary certificate of graduation',\n",
              " 'What should be done to get a temporary certificate of graduation?',\n",
              " 'Necessary measures to obtain a temporary certificate of completion of education',\n",
              " 'Procedures for obtaining a temporary certificate of completion of education',\n",
              " 'What are the necessary documents to receive a copy of the encyclopedia?',\n",
              " 'Necessary documents of Duplicate Encyclopedia',\n",
              " 'Documents required for a copy of the encyclopedia',\n",
              " 'Necessary documents of a copy of the encyclopedia',\n",
              " 'How can male graduates receive their academic encyclopedias and transcripts?',\n",
              " 'Under what conditions can male graduates receive their academic encyclopedia and transcripts?',\n",
              " 'What are the documents required to issue academic certificates and certified transcripts?',\n",
              " 'What documents are needed to issue an educational encyclopedia?',\n",
              " 'What documents are needed to issue approved transcripts?',\n",
              " 'What is academic encyclopedia?',\n",
              " 'About academic encyclopedia',\n",
              " 'Educational encyclopedia',\n",
              " 'Can the committed people of the executive bodies or the scholarship use the provided service history to cancel the obligation of the scholarship to fulfill the obligations of providing free education?',\n",
              " 'Can people who are committed to executive bodies or scholarships use the service history provided to cancel the commitment of the scholarship to fulfill the obligations of free education service?',\n",
              " 'Can the committed people of the executive bodies use the provided service history to cancel the obligation of the exchange to fulfill the obligations of providing free education?',\n",
              " 'What documents should scholarship students submit to release their degree?',\n",
              " 'Required documents to release the degree of scholarship students?',\n",
              " 'What documents must scholarship students provide to be able to release their degree?',\n",
              " 'What are the conditions for canceling the commitment of free education for scholarship students?',\n",
              " 'Canceling the obligation of free education for scholarship students',\n",
              " 'Name the methods of canceling the obligation of free education?',\n",
              " 'What are the conditions for canceling the obligation of free education?',\n",
              " 'People who have studied at several levels of education should apply from which level in order to fulfill their service obligation?',\n",
              " 'People who have graduated from several levels should apply from which level to commit to their service?',\n",
              " 'A person who has graduated from several courses should apply from which course to commit to her service?',\n",
              " 'A person who has graduated from several courses should apply from which course to commit to his service?',\n",
              " 'Graduates should contact which unit for guidance and information about the semesters and units taken and passed for the cancellation process of the Sajjad system?',\n",
              " 'For guidance and information about the semesters and units taken and passed for the cancellation process of the Sajjad system, where should the students follow up with?',\n",
              " 'How to register in Sajjad system?',\n",
              " 'What should we do to register in the Sajjad system?',\n",
              " 'Registration guide in Sajjad system',\n",
              " 'Is the passage of time included in the cancellation of the obligation of free education?',\n",
              " 'Will the commitment of free education be canceled over time?',\n",
              " 'What is the cancellation of the obligation of free education?',\n",
              " 'Cancellation of the obligation of free education',\n",
              " 'Explain the cancellation of the free education obligation',\n",
              " 'How long is the free education commitment period?',\n",
              " 'Free education service commitment time',\n",
              " 'What is the commitment time for free education service?',\n",
              " 'How much is the free education service commitment?',\n",
              " 'For which group of accepted students, the amount of commitment is calculated as one time of the study period?',\n",
              " 'For which group, the obligation is calculated equal to the study period?',\n",
              " 'For which group of admitted students, the amount of commitment is calculated as double the duration of education?',\n",
              " 'Commitment is calculated as double the study period for which group?',\n",
              " 'For which group of admitted students, the amount of commitment is calculated as three times the study period?',\n",
              " 'The commitment is calculated as three times the study period for which group?',\n",
              " 'In which case, the quota graduates of regions 2, 3, 4, and 5 and tribes and governorates can benefit from the privilege of region 1?',\n",
              " 'How can the graduates of regions 2, 3, 4, and 5 and tribes and governorates benefit from the privilege of region 1?',\n",
              " 'How can the graduates of regions 2, 3, 4, and 5 and tribes and governorates benefit from the points of region 1?',\n",
              " 'Can withdrawn and expelled students who are eligible to receive an interdisciplinary associate certificate benefit from this privilege if they meet the requirements of Region 1?',\n",
              " 'Can withdrawn and expelled students eligible to receive an associate certificate if they meet the requirements of Region 1 benefit from this privilege?',\n",
              " 'What semesters are not included in the obligation to serve free education?',\n",
              " 'Which semesters are not included in the obligation to serve free education?',\n",
              " 'What are the semesters that are not included in the obligation to serve free education?',\n",
              " 'How is the commitment period of introduction courses to the professor calculated?',\n",
              " 'How is the commitment time of introduction courses to the professor calculated?',\n",
              " 'How to calculate the commitment time of introduction courses to the professor',\n",
              " 'Are the removed semesters for emergency, medical, etc. calculated during the commitment period of free education service?',\n",
              " 'Are the removed semesters counted in the commitment period of free education service?',\n",
              " 'Are the removed semesters calculated as an emergency during the commitment period of the free education service?',\n",
              " 'Are the removed semesters medically calculated during the commitment period of free education service?',\n",
              " \"How is the obligation to serve the thesis unit in the master's degree calculated?\",\n",
              " \"Obligation to serve the thesis unit in the master's degree\",\n",
              " \"Obligation to serve the thesis in the master's degree\",\n",
              " 'How is the obligation to serve the dissertation unit in the specialized doctorate level calculated?',\n",
              " 'Obligation to serve the dissertation unit in the specialized doctorate level',\n",
              " 'Obligation to serve the thesis in the specialized doctoral level',\n",
              " 'Are the semesters in which doctoral students are busy preparing the thesis (proposal) and the comprehensive exam calculated in the repayment amount of the free education service obligation?',\n",
              " 'Are the semesters in which doctoral students are busy preparing proposals and comprehensive exams counted in the repayment amount of the free education service obligation?',\n",
              " 'Are semesters and units of prerequisite courses counted as part of the free education service obligation?',\n",
              " 'Are semesters and prerequisite courses counted as part of the obligation to provide free education?',\n",
              " 'Are semesters and prerequisite courses considered part of the free education service commitment?',\n",
              " 'Canceling the obligation of free education includes who?',\n",
              " 'Who is included in canceling the commitment of free education?',\n",
              " 'Who does the cancellation of the obligation of free education include?',\n",
              " 'How to cancel the obligation of free education (students of the daily course)?',\n",
              " 'How to cancel the obligation of free education for graduates of the daily course?',\n",
              " 'How to cancel the obligation of free education for daily graduates?',\n",
              " 'Are the graduates and those accepted at night, Payam Noor, non-profit and virtual also obliged to cancel the obligation of education service?',\n",
              " 'Are evening, Payam Noor, non-profit and virtual graduates also obliged to cancel the obligation of education?',\n",
              " 'Are night graduates also obliged to cancel the obligation of education service?',\n",
              " 'Are the graduates of Payam Noor also obliged to cancel the commitment of education service?',\n",
              " 'Are non-profit graduates obliged to cancel the education service obligation?',\n",
              " 'Are evening and virtual graduates also obliged to cancel the obligation of education service?',\n",
              " 'What group of graduates are exempt from the obligation to serve free education?',\n",
              " 'Which graduates are exempt from the obligation to serve free education?',\n",
              " 'The equivalent amount is distributed for which group of students and for how long?',\n",
              " 'For which group of students and until when will the amount equivalent to the commitment be distributed?',\n",
              " 'The amount equivalent to the commitment will be paid in installments for which group of students and for how long',\n",
              " 'What is the way to cancel the commitment by paying the fee?',\n",
              " 'How to cancel the commitment by paying the fee?',\n",
              " 'How to cancel the commitment with a fee?',\n",
              " 'what factors influence the cost of graduates to cancel their commitment with the documents ?( to pay the amount and provide the certificate of doing the work )',\n",
              " 'Factors influencing the cost of graduates to cancel the commitment along with the documents of doing the work',\n",
              " 'How is the cost of canceling the free education obligation calculated?',\n",
              " 'How to calculate the cost of canceling the free education commitment',\n",
              " 'How to calculate the cost of canceling the obligation of free education',\n",
              " 'How can we get certified social security insurance work records (12-digit barcode) from the social security website?',\n",
              " 'How to get verified work records of social security insurance (12-digit barcode) from the social security website',\n",
              " 'Is the period of military service counted as part of the effective function to cancel the obligation?',\n",
              " 'Is the military period counted as part of the effective function to cancel the obligation?',\n",
              " 'Is the military period counted as part of the work to cancel the obligation?',\n",
              " 'In what way is the certificate of completion of work while studying at a higher level accepted for lower levels?',\n",
              " 'The conditions for accepting the certificate of doing work while studying at a higher level for lower levels?',\n",
              " 'Was the simultaneous work experience accepted at the same place for a service commitment?',\n",
              " 'Has the work experience in several places been accepted for service commitment?',\n",
              " 'Is work experience in several places accepted for service commitment?',\n",
              " 'Were the certificates of the work provided to fulfill the service commitment at one point?',\n",
              " 'Are the certificates of work done to fulfill the obligation of service at one stage acceptable for other stages?',\n",
              " 'Have the work certificates for the commitment of service at one stage been acceptable for other stages?',\n",
              " 'When is the time to provide a certificate for each point?',\n",
              " 'The time to submit the work completion certificate for each section',\n",
              " 'Can the graduate pay the lower level commitment and provide the certificate of doing their job for higher levels?',\n",
              " 'Can the student pay the commitment amount of the lower levels and provide a certificate of completion of her work for the higher level?',\n",
              " '',\n",
              " 'What activities have not included insurance records and are acceptable as a trustee to fulfill the obligation?',\n",
              " 'Activities that do not include providing insurance records and are acceptable as valid work to fulfill the obligation?',\n",
              " 'Is it possible to act as a valid task to cancel the obligation if an insurance experience without an insurance history?',\n",
              " 'Did he act to cancel the commitment in case of activity without record as valid work?',\n",
              " 'Is the experience of working on a daily basis for the cancellation of a free training commitment?',\n",
              " 'Is working with studying at the same time during the day course considered to cancel the obligation of free education?',\n",
              " 'What is the way to release an academic degree by presenting a valid work certificate?',\n",
              " 'How can the release of the academic degree be done by presenting a valid work certificate?',\n",
              " 'Release of educational qualification through the presentation of a valid work certificate',\n",
              " 'How to release a degree by presenting a valid work certificate',\n",
              " 'What kind of employment is considered valid for fulfilling the obligation of free education service?',\n",
              " 'What are the valid tasks to fulfill the obligation of free education service?',\n",
              " 'What works are valid for free education service commitment',\n",
              " 'Works that serve the commitment of free education',\n",
              " 'In what way is it possible to cancel the obligation of free education for those committed to serving education?',\n",
              " 'The conditions for canceling the obligation of free education for those committed to serving education',\n",
              " 'What are the conditions for canceling the obligation of free education for those committed to serving education?',\n",
              " 'What are the conditions for canceling the obligation of free education for those committed to serving education?',\n",
              " 'Can graduates who studied in two fields at the same time use the certificate of lack of employment to cancel the obligation of free education service?',\n",
              " 'Can graduates who have studied in two fields at the same time use the certificate of non-employment to cancel the obligation of free education service?',\n",
              " 'When will students who have a higher education level in the daily withdrawal period register for employment for the previous level (graduate)?',\n",
              " 'Please tell me the registration time of students who have a higher education level during the daily withdrawal period and are dismissed for the previous level (graduate) in job search.',\n",
              " 'The time of registration in job search for students who have a higher education level during the daily withdrawal period, are dismissed for the previous level (graduate)',\n",
              " 'When can the graduates benefiting from study opportunities during their studies register in employment agencies?',\n",
              " 'When can graduates who benefit from study opportunities during their studies register in employment agencies?',\n",
              " 'When can graduates benefit from study opportunities during their studies to register in employment institutions?',\n",
              " 'If you have an insurance history, can you apply for the release of the certificate through a letter of non-employment?',\n",
              " 'If we have a history of insurance, can we apply for the release of the certificate through a letter of non-employment?',\n",
              " \"Can full-time master's students apply to release their bachelor's degree through the method of obtaining a letter of non-employment?\",\n",
              " \"Can daily graduate students apply to release their bachelor's degree by getting a letter of non-employment at the same time as they study?\",\n",
              " 'Can the students who are studying in all the courses of the higher levels of the day course present a certificate of non-employment during their studies to cancel the obligation of the free education service of the previous level?',\n",
              " 'Can the students who are studying in all the courses of the higher levels provide a certificate of non-employment during their studies to cancel the commitment of the free education service of the previous level?',\n",
              " 'How can scholarship graduates or those committed to institutions use the certificate of lack of employment?',\n",
              " 'How can scholarship graduates use the certificate of lack of employment?',\n",
              " 'How can the graduates committed to the devices use the certificate of lack of employment?',\n",
              " 'If a student studies in a different field at a higher level, how is the use of lack of employment?',\n",
              " 'If the student studies in another field at a higher level, what is the use of not finding a job?',\n",
              " 'How can you use job placement search if you graduate at a higher level?',\n",
              " 'If we graduate in higher grades, how can we use job search?',\n",
              " 'How is the cancellation of the commitment through the employment letter calculated for those who are subject to the conscription system?',\n",
              " 'How is it calculated for those who are under the conscription system, canceling the commitment using the employment letter?',\n",
              " 'What documents are required to register in employment agencies?',\n",
              " 'Documents required for registration in employment agencies',\n",
              " \"Is the letter of non-employment issued at the same time as the student's application in the employment offices?\",\n",
              " \"Is the letter of non-employment issued at the same time as the student's application in the relevant offices?\",\n",
              " 'What should be the time to go to the employment offices?',\n",
              " 'Necessary tips when visiting employment offices',\n",
              " 'Points to pay attention to when visiting employment offices',\n",
              " 'Important points when visiting employment offices',\n",
              " 'Should the time limit of 6 months after graduation be observed in order to refer to employment offices?',\n",
              " 'Should the time of 6 months after graduation be observed to refer to employment offices?',\n",
              " 'Do you have to wait 6 months after graduation to go to employment offices?',\n",
              " 'What are the conditions for canceling the obligation through retirement?',\n",
              " 'Conditions for canceling the obligation with the retirement order',\n",
              " 'Is it possible to send an academic confirmation for undergraduate students who are accepted again in the same degree and medical degree?',\n",
              " 'Is it possible to send an academic confirmation for undergraduate students who are accepted again in the same medical degree?',\n",
              " 'What are the conditions for canceling the obligation through disability?',\n",
              " 'Conditions for canceling the disability obligation',\n",
              " 'How long are the years of friendship and how should you act?',\n",
              " 'How long is the duration of friendship and how can it be done?',\n",
              " 'What is the duration of the years of friendship and how can it be done?',\n",
              " 'What is the time of the Arafaqi years and how is it?',\n",
              " 'Can the educational exemption of the previous level (student or student) that has not yet expired be used for the next levels?',\n",
              " 'Can the academic exemption of the previous level that has not yet expired be used for the next levels?',\n",
              " 'Is it possible to use the educational exemption of the previous level for the following levels?',\n",
              " 'Is it possible to use the educational exemption from the previous level (student or student) for the following levels?',\n",
              " \"Is the student's academic exemption valid in case of disconnection from the university (dismissal, withdrawal or failure to return)?\",\n",
              " \"Is the student's academic exemption valid in case of disconnection from the university?\",\n",
              " 'What are the procedures for obtaining an educational exemption?',\n",
              " 'Guide to receiving educational exemption',\n",
              " 'Steps to get educational exemption',\n",
              " 'What is the maximum period of issuing permission to leave the country for each level of education?',\n",
              " 'How long does it take to issue a permission to leave the country at each level of education?',\n",
              " 'How long does it take to issue a permit to leave the country at each level of education?',\n",
              " 'If you have a study leave, will you be allowed to leave the country?',\n",
              " 'If we have a study leave, permission to leave the country will be issued',\n",
              " 'What are the procedures for obtaining permission to leave the country?',\n",
              " 'Procedures for obtaining permission to leave the country',\n",
              " 'What are the steps to get permission to leave the country?',\n",
              " 'When is the date of sending the letter to the conscription system and announcing the withdrawal from education (cancellation of academic exemption) of the eligible students?',\n",
              " 'When is the date of sending the letter to the conscription system and announcing the graduation of the students?',\n",
              " 'When is the date of sending the letter to the conscription system for eligible students?',\n",
              " 'When is the date of sending the letter to the conscription system for graduate students?',\n",
              " 'How long can a student get a permit to leave the country and is it possible to get a permit to leave the country after graduation?',\n",
              " 'How long can a student get permission to leave the country?',\n",
              " 'Is it possible to get permission to leave the country after graduation?',\n",
              " 'Can a student get permission to leave the country after graduation?',\n",
              " 'What are the examples and issues of issuing permission to leave the country? And how many times can you get permission to leave the country?',\n",
              " 'What are the examples and issues of issuing permission to leave the country?',\n",
              " 'How many times can you get permission to leave the country?',\n",
              " 'What are the examples of issuing permission to leave the country? And how many times can you get an exit permit?',\n",
              " 'Is studying at the same time as public service allowed?',\n",
              " 'Is studying and military service allowed at the same time?',\n",
              " 'Is education and military service allowed at the same time?',\n",
              " 'How long is the academic exemption period?',\n",
              " 'What is the duration of using the educational exemption?',\n",
              " 'The duration of using the academic exemption',\n",
              " 'Is it possible to study in two fields or two universities at the same time?',\n",
              " 'Is it possible to study in two fields at the same time?',\n",
              " 'Is it possible to study in two universities at the same time?',\n",
              " 'What is the deadline after completing the studies in each of the study levels?',\n",
              " 'What is the time after the end of education at each level?',\n",
              " 'How can the soldiers who are sent to serve and continue their education?',\n",
              " 'How can serving soldiers continue their education?',\n",
              " 'How can active duty soldiers continue their education?',\n",
              " 'How can soldiers who are being deployed continue their education?',\n",
              " 'What is the process of discharging soldiers?',\n",
              " 'Discharge process of soldiers',\n",
              " 'Procedures for the discharge of soldiers',\n",
              " 'How should I proceed to obtain sponsorship exemption, special and Olympic cases?',\n",
              " 'What should be done to get a sponsorship exemption?',\n",
              " 'What should be done to get exemption for special cases?',\n",
              " 'How should I proceed to get an Olympic exemption?',\n",
              " 'Can withdrawn and expelled students use the academic exemption again?',\n",
              " 'Can withdrawn students use the study exemption again?',\n",
              " 'Can withdrawn students use the academic exemption again?',\n",
              " 'Can expelled students use the study exemption again?',\n",
              " 'Can expelled students use the academic exemption again?',\n",
              " 'What is the deadline for students to be introduced to public duty?',\n",
              " 'How long does it take for students to be introduced to public duty?',\n",
              " 'How much time does it take for students to be introduced to the military?',\n",
              " 'How much time does it take for students to be introduced to public duty?',\n",
              " 'When is the registration period for guest and transfer?',\n",
              " 'When is the application time for the guest and transfer?',\n",
              " 'What are the initial conditions for changing majors?',\n",
              " 'Conditions for changing majors',\n",
              " 'If you withdraw from your studies, can you return to your studies?',\n",
              " 'If the student withdraws, she can return to study',\n",
              " 'If the student withdraws, he can return to study',\n",
              " 'A student who withdraws can return to study',\n",
              " 'What is the maximum time allowed to submit and approve the research plan?',\n",
              " 'What is the maximum time for submitting and approving the research plan?',\n",
              " 'What is the maximum time to submit a proposal?',\n",
              " 'What is the maximum time for submitting and approving the proposal?',\n",
              " \"Is the teaching method possible without doing and defending the thesis in the master's course for graduation?\",\n",
              " 'Is it possible to graduate without defending the thesis in the senior course?',\n",
              " \"The master's degree is done without a thesis\",\n",
              " 'Is it possible to change the title of the thesis or the thesis committee (adding or removing the second supervisor or consultant professor) after the approval of the research plan?',\n",
              " 'Is it possible to change the thesis title after the approval of the research plan?',\n",
              " 'Is it possible to change the second supervisor or consultant professor after the approval of the research plan?',\n",
              " 'Is it possible to change the second supervisor or consultant professor after the approval of the proposal?',\n",
              " 'If the student is applying for an incentive grade for the essay after defending the thesis, should she approve the amendments and finalize the plan in research plan 3?',\n",
              " 'If the student requests more marks for the article after the thesis defense, should she approve the amendments and finalize the plan in research plan 3?',\n",
              " 'If the student requests more marks for the article after the thesis defense, should he approve the amendments and finalize the plan in research plan 3?',\n",
              " 'After defending the thesis, is it possible to submit an article to get an incentive score?',\n",
              " 'Is it possible to submit an essay after the defense of the thesis to increase the grade?',\n",
              " \"If, after passing all the educational units (courses), the student's grade point average is less than 14, is it possible to defend the thesis?\",\n",
              " \"If the student's GPA is less than 14, is it possible to defend the thesis?\",\n",
              " \"If the student's GPA is less than 14, can she defend her thesis?\",\n",
              " \"If the student's GPA is less than 14, can he defend his thesis?\",\n",
              " 'In case of two conditional semesters, is it possible to continue studying?',\n",
              " 'If we are suspended for two semesters, it is possible to continue studying',\n",
              " 'Should the thesis defense sufficiency condition for the defense permit be published in the form of the final version in paper form or electronically (online)?',\n",
              " 'Is it possible to change the thesis title or the thesis committee (adding or removing the second supervisor or consultant professor) after defending the research project?',\n",
              " 'Is it possible to change the thesis title after defending the research plan?',\n",
              " 'Is it possible to change the second supervisor or advisor after defending the research project?',\n",
              " 'Is it possible to change the second supervisor or advisor after defending the proposal?',\n",
              " 'When is the maximum time allowed to send internal and external study opportunities?',\n",
              " 'What is the time allowed for sending study opportunities inside and outside?',\n",
              " 'Allowed time to send study opportunities inside and outside',\n",
              " 'If the student is applying to get an incentive score for the essay (essays) after the thesis defense, should she approve the amendments and finalize the plan in research plan 3?',\n",
              " 'If the student wants an extra grade for the essay after defending the thesis, she must approve the amendments and complete the plan in research plan 3.',\n",
              " 'If the student wants an extra grade for the essay after defending the thesis, he must approve the amendments and complete the plan in research plan 3.',\n",
              " 'If I request to increase the grade of the article after defending the thesis, I have to do 3 things to approve the amendments and complete the plan in the research plan.',\n",
              " 'After defending the dissertation, is it possible to submit an essay to get an incentive score?',\n",
              " 'After the defense of the dissertation, additional marks can be obtained by submitting an essay',\n",
              " 'Should the names of all the members of the thesis committee (the first and second supervisors, the advisors) be mentioned in the essay, or can someone else be added as an author?',\n",
              " 'Should the names of all the members of the thesis committee be mentioned in the article, or can another person be added as an author?',\n",
              " 'Should the names of all committee members be included in the article, or can another person be added as an author?',\n",
              " 'Who is the responsible author of the essay on the condition of sufficiency of thesis defense?',\n",
              " 'Who is the author of the article?',\n",
              " 'What is the maximum number of articles to be submitted for the sufficiency condition of thesis defense for the defense license?',\n",
              " 'How many times is a student allowed to participate in the comprehensive exam and get a passing grade?',\n",
              " 'How many times is a student allowed to participate in the exam to get a passing grade?',\n",
              " 'What is the maximum time allowed to obtain a license to hold a comprehensive evaluation?',\n",
              " 'Allowed time to obtain permission to conduct a comprehensive assessment',\n",
              " 'How many times a year is the comprehensive exam held in Birjand University?',\n",
              " 'How many times is the comprehensive exam held in Birjand University?',\n",
              " 'When is the deadline for defending the research plan?',\n",
              " 'The deadline for defending the research plan',\n",
              " 'When is the deadline for submitting the English proficiency score?',\n",
              " 'The deadline for submitting the English proficiency score',\n",
              " 'What is the formula for calculating the tuition fee for a thesis or dissertation in terms of days?',\n",
              " 'The formula for calculating the tuition fee of a thesis or dissertation in days',\n",
              " 'How to calculate the tuition fee of thesis or thesis in daily basis',\n",
              " \"For what courses should daily master's and doctorate students pay tuition?\",\n",
              " 'Courses for which full-time graduate and doctoral students must pay tuition',\n",
              " \"For what courses do master's and doctorate students have to pay tuition fees?\",\n",
              " 'If a student has a credit in her financial record at the end of her studies, what action should she take to refund the excess deposit?',\n",
              " 'If a student has a credit in her financial record at the end of her studies, what should she do to return the excess deposit?',\n",
              " 'If a student has a credit in his financial record at the end of his studies, what should he do to return the excess deposit?',\n",
              " 'How is the tuition payment method in the dynamic system?',\n",
              " 'How is tuition payment done in the dynamic system',\n",
              " 'How to pay the tuition through the dynamic system',\n",
              " 'From which semester do students pay daily tuition fees?',\n",
              " 'Students pay tuition daily from the second semester']"
            ]
          },
          "metadata": {},
          "execution_count": 8
        }
      ]
    },
    {
      "cell_type": "code",
      "source": [
        "tokenizer = Tokenizer()\n",
        "tokenizer.fit_on_texts(question_list)"
      ],
      "metadata": {
        "id": "MSaaUi2r1q2k"
      },
      "execution_count": 9,
      "outputs": []
    },
    {
      "cell_type": "code",
      "source": [
        "with open('tokenizer.h5', 'wb') as f:\n",
        "    pickle.dump(tokenizer, f)"
      ],
      "metadata": {
        "id": "IyMVRoY261KR"
      },
      "execution_count": 10,
      "outputs": []
    },
    {
      "cell_type": "code",
      "source": [
        "vocab_size = len(tokenizer.word_index)+1"
      ],
      "metadata": {
        "id": "wxdtTOLn64hE"
      },
      "execution_count": 11,
      "outputs": []
    },
    {
      "cell_type": "code",
      "source": [
        "vocab_size"
      ],
      "metadata": {
        "colab": {
          "base_uri": "https://localhost:8080/"
        },
        "id": "-tRcpPty65zV",
        "outputId": "e88d269d-a2de-44bb-dd5e-26de77ce9a34"
      },
      "execution_count": 12,
      "outputs": [
        {
          "output_type": "execute_result",
          "data": {
            "text/plain": [
              "541"
            ]
          },
          "metadata": {},
          "execution_count": 12
        }
      ]
    },
    {
      "cell_type": "code",
      "source": [
        "def max_length(tensor):\n",
        "    return max(len(t) for t in tensor)"
      ],
      "metadata": {
        "id": "eJexUvgI7ETq"
      },
      "execution_count": 13,
      "outputs": []
    },
    {
      "cell_type": "code",
      "source": [
        "data_to_sequences = tokenizer.texts_to_sequences(question_list)\n",
        "maxlen = max_length(data_to_sequences)"
      ],
      "metadata": {
        "id": "qIdY_4Fr6_ZX"
      },
      "execution_count": 14,
      "outputs": []
    },
    {
      "cell_type": "code",
      "source": [
        "maxlen"
      ],
      "metadata": {
        "colab": {
          "base_uri": "https://localhost:8080/"
        },
        "id": "Mgh9AXvY7Gef",
        "outputId": "62540c6e-458f-4adc-92ea-ab304b4dcf7a"
      },
      "execution_count": 15,
      "outputs": [
        {
          "output_type": "execute_result",
          "data": {
            "text/plain": [
              "40"
            ]
          },
          "metadata": {},
          "execution_count": 15
        }
      ]
    },
    {
      "cell_type": "code",
      "source": [
        "pad_data_to_sequences = pad_sequences(data_to_sequences, maxlen=maxlen)"
      ],
      "metadata": {
        "id": "NVwwEFTW7g8L"
      },
      "execution_count": 16,
      "outputs": []
    },
    {
      "cell_type": "code",
      "source": [
        "pad_data_to_sequences"
      ],
      "metadata": {
        "colab": {
          "base_uri": "https://localhost:8080/"
        },
        "id": "058MDUso7jv1",
        "outputId": "029ae413-ee8f-4a31-b8ac-90d1b224cb72"
      },
      "execution_count": 17,
      "outputs": [
        {
          "output_type": "execute_result",
          "data": {
            "text/plain": [
              "array([[  0,   0,   0, ...,  92,   3,   7],\n",
              "       [  0,   0,   0, ...,  92,   3,  40],\n",
              "       [  0,   0,   0, ...,  92,   3,  40],\n",
              "       ...,\n",
              "       [  0,   0,   0, ...,   1, 305,  63],\n",
              "       [  0,   0,   0, ...,  81,  91, 412],\n",
              "       [  0,   0,   0, ...,   1, 124, 414]], dtype=int32)"
            ]
          },
          "metadata": {},
          "execution_count": 17
        }
      ]
    },
    {
      "cell_type": "code",
      "source": [
        "training = []\n",
        "output_empty = [0] * len(classes)\n",
        "\n",
        "for document in documents:\n",
        "    bag = []\n",
        "    word_patterns = document[0]\n",
        "    for word in words:\n",
        "        bag.append(1) if word in word_patterns else bag.append(0)\n",
        "\n",
        "    output_row = list(output_empty)\n",
        "    output_row[classes.index(document[1])] = 1\n",
        "    training.append([bag, output_row])"
      ],
      "metadata": {
        "id": "tK_g5ggZObXy"
      },
      "execution_count": 18,
      "outputs": []
    },
    {
      "cell_type": "code",
      "source": [
        "random.shuffle(training)\n",
        "training = np.array(training)"
      ],
      "metadata": {
        "colab": {
          "base_uri": "https://localhost:8080/"
        },
        "id": "PhhRpYk-Ofnj",
        "outputId": "2f5138e2-5c9d-4db2-b5cd-189596052256"
      },
      "execution_count": 19,
      "outputs": [
        {
          "output_type": "stream",
          "name": "stderr",
          "text": [
            "<ipython-input-19-cc0bc1dae1db>:2: VisibleDeprecationWarning: Creating an ndarray from ragged nested sequences (which is a list-or-tuple of lists-or-tuples-or ndarrays with different lengths or shapes) is deprecated. If you meant to do this, you must specify 'dtype=object' when creating the ndarray.\n",
            "  training = np.array(training)\n"
          ]
        }
      ]
    },
    {
      "cell_type": "markdown",
      "source": [
        "### **Calculate Y**"
      ],
      "metadata": {
        "id": "Ir-dD3l49SJO"
      }
    },
    {
      "cell_type": "code",
      "source": [
        "tag = []\n",
        "for doc in documents:\n",
        "  tag.append(doc[1])"
      ],
      "metadata": {
        "id": "9oVdreh59VhB"
      },
      "execution_count": 20,
      "outputs": []
    },
    {
      "cell_type": "code",
      "source": [
        "Y = pd.get_dummies(tag)"
      ],
      "metadata": {
        "id": "xsw1XnGA9cG0"
      },
      "execution_count": 21,
      "outputs": []
    },
    {
      "cell_type": "code",
      "source": [
        "num_unique_tags = len(Y.nunique())"
      ],
      "metadata": {
        "id": "VnSFXahB-TOl"
      },
      "execution_count": 22,
      "outputs": []
    },
    {
      "cell_type": "code",
      "source": [
        "num_unique_tags"
      ],
      "metadata": {
        "colab": {
          "base_uri": "https://localhost:8080/"
        },
        "id": "_GewrS-U-b4H",
        "outputId": "8a4766e5-325c-476e-8055-40807d567d1f"
      },
      "execution_count": 23,
      "outputs": [
        {
          "output_type": "execute_result",
          "data": {
            "text/plain": [
              "127"
            ]
          },
          "metadata": {},
          "execution_count": 23
        }
      ]
    },
    {
      "cell_type": "markdown",
      "source": [
        "### **X and Y**"
      ],
      "metadata": {
        "id": "3ni9YRQR9sfJ"
      }
    },
    {
      "cell_type": "code",
      "source": [
        "train_x = pad_data_to_sequences\n",
        "train_y = np.array(Y)"
      ],
      "metadata": {
        "id": "3YR73qG0Olgz"
      },
      "execution_count": 24,
      "outputs": []
    },
    {
      "cell_type": "markdown",
      "source": [
        "### **Network**"
      ],
      "metadata": {
        "id": "gHiPmTP9-D2V"
      }
    },
    {
      "cell_type": "code",
      "source": [
        "embedding_dim = 50"
      ],
      "metadata": {
        "id": "3VQaUjZu-Czb"
      },
      "execution_count": 25,
      "outputs": []
    },
    {
      "cell_type": "code",
      "source": [
        "model = Sequential()\n",
        "model.add(Embedding(vocab_size, embedding_dim, input_length=maxlen))\n",
        "model.add(Bidirectional(LSTM(200, return_sequences=True)))\n",
        "model.add(GlobalMaxPooling1D())\n",
        "model.add(Dropout(0.3))\n",
        "model.add(Dense(200, activation='relu'))\n",
        "model.add(Dropout(0.5))\n",
        "model.add(Dense(num_unique_tags, activation='softmax'))"
      ],
      "metadata": {
        "id": "MS2s3DkKOo2B"
      },
      "execution_count": 26,
      "outputs": []
    },
    {
      "cell_type": "code",
      "source": [
        "model.compile(loss='categorical_crossentropy', optimizer='adam', metrics=['accuracy'])"
      ],
      "metadata": {
        "id": "aY2vguuWOtDq"
      },
      "execution_count": 27,
      "outputs": []
    },
    {
      "cell_type": "code",
      "source": [
        "model.summary()"
      ],
      "metadata": {
        "colab": {
          "base_uri": "https://localhost:8080/"
        },
        "id": "7yvwONnw-tYN",
        "outputId": "eae2a4ee-1a93-4fd4-a69f-b95e56b29727"
      },
      "execution_count": 28,
      "outputs": [
        {
          "output_type": "stream",
          "name": "stdout",
          "text": [
            "Model: \"sequential\"\n",
            "_________________________________________________________________\n",
            " Layer (type)                Output Shape              Param #   \n",
            "=================================================================\n",
            " embedding (Embedding)       (None, 40, 50)            27050     \n",
            "                                                                 \n",
            " bidirectional (Bidirectiona  (None, 40, 400)          401600    \n",
            " l)                                                              \n",
            "                                                                 \n",
            " global_max_pooling1d (Globa  (None, 400)              0         \n",
            " lMaxPooling1D)                                                  \n",
            "                                                                 \n",
            " dropout (Dropout)           (None, 400)               0         \n",
            "                                                                 \n",
            " dense (Dense)               (None, 200)               80200     \n",
            "                                                                 \n",
            " dropout_1 (Dropout)         (None, 200)               0         \n",
            "                                                                 \n",
            " dense_1 (Dense)             (None, 127)               25527     \n",
            "                                                                 \n",
            "=================================================================\n",
            "Total params: 534,377\n",
            "Trainable params: 534,377\n",
            "Non-trainable params: 0\n",
            "_________________________________________________________________\n"
          ]
        }
      ]
    },
    {
      "cell_type": "code",
      "source": [
        "hist = model.fit(train_x, train_y, epochs=200, batch_size=128, verbose=1)"
      ],
      "metadata": {
        "colab": {
          "base_uri": "https://localhost:8080/"
        },
        "id": "qT781s0PO5qs",
        "outputId": "65146d4f-1eae-4b03-ae87-a2e49d3b413b"
      },
      "execution_count": 29,
      "outputs": [
        {
          "output_type": "stream",
          "name": "stdout",
          "text": [
            "Epoch 1/200\n",
            "3/3 [==============================] - 6s 403ms/step - loss: 4.8444 - accuracy: 0.0134\n",
            "Epoch 2/200\n",
            "3/3 [==============================] - 1s 384ms/step - loss: 4.8395 - accuracy: 0.0027\n",
            "Epoch 3/200\n",
            "3/3 [==============================] - 1s 374ms/step - loss: 4.8365 - accuracy: 0.0214\n",
            "Epoch 4/200\n",
            "3/3 [==============================] - 2s 645ms/step - loss: 4.8347 - accuracy: 0.0054\n",
            "Epoch 5/200\n",
            "3/3 [==============================] - 2s 657ms/step - loss: 4.8306 - accuracy: 0.0188\n",
            "Epoch 6/200\n",
            "3/3 [==============================] - 1s 420ms/step - loss: 4.8206 - accuracy: 0.0214\n",
            "Epoch 7/200\n",
            "3/3 [==============================] - 1s 400ms/step - loss: 4.8112 - accuracy: 0.0214\n",
            "Epoch 8/200\n",
            "3/3 [==============================] - 1s 391ms/step - loss: 4.8036 - accuracy: 0.0107\n",
            "Epoch 9/200\n",
            "3/3 [==============================] - 1s 535ms/step - loss: 4.8055 - accuracy: 0.0134\n",
            "Epoch 10/200\n",
            "3/3 [==============================] - 2s 574ms/step - loss: 4.7849 - accuracy: 0.0214\n",
            "Epoch 11/200\n",
            "3/3 [==============================] - 2s 505ms/step - loss: 4.7753 - accuracy: 0.0161\n",
            "Epoch 12/200\n",
            "3/3 [==============================] - 2s 608ms/step - loss: 4.7592 - accuracy: 0.0188\n",
            "Epoch 13/200\n",
            "3/3 [==============================] - 3s 914ms/step - loss: 4.7078 - accuracy: 0.0134\n",
            "Epoch 14/200\n",
            "3/3 [==============================] - 3s 941ms/step - loss: 4.6975 - accuracy: 0.0188\n",
            "Epoch 15/200\n",
            "3/3 [==============================] - 1s 408ms/step - loss: 4.6314 - accuracy: 0.0214\n",
            "Epoch 16/200\n",
            "3/3 [==============================] - 1s 385ms/step - loss: 4.6266 - accuracy: 0.0322\n",
            "Epoch 17/200\n",
            "3/3 [==============================] - 1s 372ms/step - loss: 4.5462 - accuracy: 0.0322\n",
            "Epoch 18/200\n",
            "3/3 [==============================] - 1s 394ms/step - loss: 4.5011 - accuracy: 0.0402\n",
            "Epoch 19/200\n",
            "3/3 [==============================] - 1s 378ms/step - loss: 4.4634 - accuracy: 0.0295\n",
            "Epoch 20/200\n",
            "3/3 [==============================] - 1s 395ms/step - loss: 4.4049 - accuracy: 0.0268\n",
            "Epoch 21/200\n",
            "3/3 [==============================] - 1s 397ms/step - loss: 4.3692 - accuracy: 0.0268\n",
            "Epoch 22/200\n",
            "3/3 [==============================] - 1s 396ms/step - loss: 4.3299 - accuracy: 0.0295\n",
            "Epoch 23/200\n",
            "3/3 [==============================] - 2s 620ms/step - loss: 4.2651 - accuracy: 0.0295\n",
            "Epoch 24/200\n",
            "3/3 [==============================] - 2s 698ms/step - loss: 4.2731 - accuracy: 0.0241\n",
            "Epoch 25/200\n",
            "3/3 [==============================] - 1s 394ms/step - loss: 4.2313 - accuracy: 0.0322\n",
            "Epoch 26/200\n",
            "3/3 [==============================] - 1s 415ms/step - loss: 4.2031 - accuracy: 0.0349\n",
            "Epoch 27/200\n",
            "3/3 [==============================] - 1s 394ms/step - loss: 4.1695 - accuracy: 0.0349\n",
            "Epoch 28/200\n",
            "3/3 [==============================] - 1s 414ms/step - loss: 4.0898 - accuracy: 0.0295\n",
            "Epoch 29/200\n",
            "3/3 [==============================] - 1s 438ms/step - loss: 4.1114 - accuracy: 0.0617\n",
            "Epoch 30/200\n",
            "3/3 [==============================] - 1s 416ms/step - loss: 4.0504 - accuracy: 0.0402\n",
            "Epoch 31/200\n",
            "3/3 [==============================] - 1s 399ms/step - loss: 4.0286 - accuracy: 0.0590\n",
            "Epoch 32/200\n",
            "3/3 [==============================] - 1s 391ms/step - loss: 3.9931 - accuracy: 0.0509\n",
            "Epoch 33/200\n",
            "3/3 [==============================] - 2s 683ms/step - loss: 3.9501 - accuracy: 0.0697\n",
            "Epoch 34/200\n",
            "3/3 [==============================] - 2s 497ms/step - loss: 3.9944 - accuracy: 0.0536\n",
            "Epoch 35/200\n",
            "3/3 [==============================] - 1s 416ms/step - loss: 3.9383 - accuracy: 0.0456\n",
            "Epoch 36/200\n",
            "3/3 [==============================] - 1s 410ms/step - loss: 3.9043 - accuracy: 0.0509\n",
            "Epoch 37/200\n",
            "3/3 [==============================] - 1s 360ms/step - loss: 3.8374 - accuracy: 0.0724\n",
            "Epoch 38/200\n",
            "3/3 [==============================] - 1s 384ms/step - loss: 3.7325 - accuracy: 0.0965\n",
            "Epoch 39/200\n",
            "3/3 [==============================] - 1s 407ms/step - loss: 3.6696 - accuracy: 0.0992\n",
            "Epoch 40/200\n",
            "3/3 [==============================] - 1s 407ms/step - loss: 3.6713 - accuracy: 0.1206\n",
            "Epoch 41/200\n",
            "3/3 [==============================] - 1s 378ms/step - loss: 3.6057 - accuracy: 0.0670\n",
            "Epoch 42/200\n",
            "3/3 [==============================] - 1s 404ms/step - loss: 3.5299 - accuracy: 0.1072\n",
            "Epoch 43/200\n",
            "3/3 [==============================] - 2s 721ms/step - loss: 3.4248 - accuracy: 0.1340\n",
            "Epoch 44/200\n",
            "3/3 [==============================] - 2s 457ms/step - loss: 3.3595 - accuracy: 0.1367\n",
            "Epoch 45/200\n",
            "3/3 [==============================] - 1s 403ms/step - loss: 3.3471 - accuracy: 0.1367\n",
            "Epoch 46/200\n",
            "3/3 [==============================] - 1s 400ms/step - loss: 3.1994 - accuracy: 0.1475\n",
            "Epoch 47/200\n",
            "3/3 [==============================] - 1s 387ms/step - loss: 3.1313 - accuracy: 0.1850\n",
            "Epoch 48/200\n",
            "3/3 [==============================] - 1s 404ms/step - loss: 2.9924 - accuracy: 0.1984\n",
            "Epoch 49/200\n",
            "3/3 [==============================] - 1s 404ms/step - loss: 2.9724 - accuracy: 0.2091\n",
            "Epoch 50/200\n",
            "3/3 [==============================] - 1s 431ms/step - loss: 2.7939 - accuracy: 0.2225\n",
            "Epoch 51/200\n",
            "3/3 [==============================] - 1s 425ms/step - loss: 2.8563 - accuracy: 0.2225\n",
            "Epoch 52/200\n",
            "3/3 [==============================] - 2s 574ms/step - loss: 2.7778 - accuracy: 0.2279\n",
            "Epoch 53/200\n",
            "3/3 [==============================] - 2s 638ms/step - loss: 2.7895 - accuracy: 0.2306\n",
            "Epoch 54/200\n",
            "3/3 [==============================] - 1s 415ms/step - loss: 2.7373 - accuracy: 0.2386\n",
            "Epoch 55/200\n",
            "3/3 [==============================] - 1s 403ms/step - loss: 2.6382 - accuracy: 0.2654\n",
            "Epoch 56/200\n",
            "3/3 [==============================] - 1s 374ms/step - loss: 2.6455 - accuracy: 0.2601\n",
            "Epoch 57/200\n",
            "3/3 [==============================] - 1s 403ms/step - loss: 2.5240 - accuracy: 0.2761\n",
            "Epoch 58/200\n",
            "3/3 [==============================] - 1s 414ms/step - loss: 2.3811 - accuracy: 0.3110\n",
            "Epoch 59/200\n",
            "3/3 [==============================] - 1s 405ms/step - loss: 2.3907 - accuracy: 0.2922\n",
            "Epoch 60/200\n",
            "3/3 [==============================] - 1s 402ms/step - loss: 2.2261 - accuracy: 0.3271\n",
            "Epoch 61/200\n",
            "3/3 [==============================] - 1s 399ms/step - loss: 2.1304 - accuracy: 0.3592\n",
            "Epoch 62/200\n",
            "3/3 [==============================] - 2s 709ms/step - loss: 2.0937 - accuracy: 0.3700\n",
            "Epoch 63/200\n",
            "3/3 [==============================] - 2s 535ms/step - loss: 2.0043 - accuracy: 0.3592\n",
            "Epoch 64/200\n",
            "3/3 [==============================] - 1s 416ms/step - loss: 1.9625 - accuracy: 0.4263\n",
            "Epoch 65/200\n",
            "3/3 [==============================] - 1s 425ms/step - loss: 1.8894 - accuracy: 0.4397\n",
            "Epoch 66/200\n",
            "3/3 [==============================] - 1s 421ms/step - loss: 1.9215 - accuracy: 0.4316\n",
            "Epoch 67/200\n",
            "3/3 [==============================] - 1s 421ms/step - loss: 1.8279 - accuracy: 0.4397\n",
            "Epoch 68/200\n",
            "3/3 [==============================] - 1s 408ms/step - loss: 1.7608 - accuracy: 0.4450\n",
            "Epoch 69/200\n",
            "3/3 [==============================] - 1s 416ms/step - loss: 1.7576 - accuracy: 0.4853\n",
            "Epoch 70/200\n",
            "3/3 [==============================] - 1s 431ms/step - loss: 1.6439 - accuracy: 0.5094\n",
            "Epoch 71/200\n",
            "3/3 [==============================] - 2s 670ms/step - loss: 1.5713 - accuracy: 0.5282\n",
            "Epoch 72/200\n",
            "3/3 [==============================] - 2s 642ms/step - loss: 1.5768 - accuracy: 0.4799\n",
            "Epoch 73/200\n",
            "3/3 [==============================] - 1s 388ms/step - loss: 1.4669 - accuracy: 0.5282\n",
            "Epoch 74/200\n",
            "3/3 [==============================] - 1s 404ms/step - loss: 1.4103 - accuracy: 0.5630\n",
            "Epoch 75/200\n",
            "3/3 [==============================] - 1s 399ms/step - loss: 1.3596 - accuracy: 0.5818\n",
            "Epoch 76/200\n",
            "3/3 [==============================] - 1s 420ms/step - loss: 1.2211 - accuracy: 0.6032\n",
            "Epoch 77/200\n",
            "3/3 [==============================] - 1s 421ms/step - loss: 1.2962 - accuracy: 0.5871\n",
            "Epoch 78/200\n",
            "3/3 [==============================] - 1s 438ms/step - loss: 1.2626 - accuracy: 0.6139\n",
            "Epoch 79/200\n",
            "3/3 [==============================] - 1s 408ms/step - loss: 1.1742 - accuracy: 0.6166\n",
            "Epoch 80/200\n",
            "3/3 [==============================] - 1s 411ms/step - loss: 1.1570 - accuracy: 0.6327\n",
            "Epoch 81/200\n",
            "3/3 [==============================] - 2s 783ms/step - loss: 1.1399 - accuracy: 0.6756\n",
            "Epoch 82/200\n",
            "3/3 [==============================] - 1s 399ms/step - loss: 1.1455 - accuracy: 0.6649\n",
            "Epoch 83/200\n",
            "3/3 [==============================] - 1s 385ms/step - loss: 1.1317 - accuracy: 0.6327\n",
            "Epoch 84/200\n",
            "3/3 [==============================] - 1s 416ms/step - loss: 1.0999 - accuracy: 0.6515\n",
            "Epoch 85/200\n",
            "3/3 [==============================] - 1s 421ms/step - loss: 1.0394 - accuracy: 0.6542\n",
            "Epoch 86/200\n",
            "3/3 [==============================] - 1s 425ms/step - loss: 0.9214 - accuracy: 0.7265\n",
            "Epoch 87/200\n",
            "3/3 [==============================] - 1s 426ms/step - loss: 0.8631 - accuracy: 0.7265\n",
            "Epoch 88/200\n",
            "3/3 [==============================] - 1s 425ms/step - loss: 0.9098 - accuracy: 0.7292\n",
            "Epoch 89/200\n",
            "3/3 [==============================] - 1s 418ms/step - loss: 0.8581 - accuracy: 0.7319\n",
            "Epoch 90/200\n",
            "3/3 [==============================] - 2s 719ms/step - loss: 0.8162 - accuracy: 0.7480\n",
            "Epoch 91/200\n",
            "3/3 [==============================] - 2s 517ms/step - loss: 0.8543 - accuracy: 0.7158\n",
            "Epoch 92/200\n",
            "3/3 [==============================] - 1s 401ms/step - loss: 0.8034 - accuracy: 0.7239\n",
            "Epoch 93/200\n",
            "3/3 [==============================] - 1s 404ms/step - loss: 0.7668 - accuracy: 0.7614\n",
            "Epoch 94/200\n",
            "3/3 [==============================] - 1s 406ms/step - loss: 0.7505 - accuracy: 0.7560\n",
            "Epoch 95/200\n",
            "3/3 [==============================] - 1s 426ms/step - loss: 0.7826 - accuracy: 0.7507\n",
            "Epoch 96/200\n",
            "3/3 [==============================] - 1s 420ms/step - loss: 0.6982 - accuracy: 0.7962\n",
            "Epoch 97/200\n",
            "3/3 [==============================] - 1s 427ms/step - loss: 0.7048 - accuracy: 0.7828\n",
            "Epoch 98/200\n",
            "3/3 [==============================] - 1s 395ms/step - loss: 0.6365 - accuracy: 0.8231\n",
            "Epoch 99/200\n",
            "3/3 [==============================] - 2s 615ms/step - loss: 0.6598 - accuracy: 0.7855\n",
            "Epoch 100/200\n",
            "3/3 [==============================] - 2s 718ms/step - loss: 0.6399 - accuracy: 0.8016\n",
            "Epoch 101/200\n",
            "3/3 [==============================] - 1s 417ms/step - loss: 0.6044 - accuracy: 0.7909\n",
            "Epoch 102/200\n",
            "3/3 [==============================] - 1s 425ms/step - loss: 0.7044 - accuracy: 0.7909\n",
            "Epoch 103/200\n",
            "3/3 [==============================] - 1s 436ms/step - loss: 0.6849 - accuracy: 0.7802\n",
            "Epoch 104/200\n",
            "3/3 [==============================] - 1s 384ms/step - loss: 0.7453 - accuracy: 0.7560\n",
            "Epoch 105/200\n",
            "3/3 [==============================] - 1s 437ms/step - loss: 0.6818 - accuracy: 0.7962\n",
            "Epoch 106/200\n",
            "3/3 [==============================] - 1s 443ms/step - loss: 0.6468 - accuracy: 0.8150\n",
            "Epoch 107/200\n",
            "3/3 [==============================] - 1s 429ms/step - loss: 0.6639 - accuracy: 0.7587\n",
            "Epoch 108/200\n",
            "3/3 [==============================] - 1s 514ms/step - loss: 0.6715 - accuracy: 0.8016\n",
            "Epoch 109/200\n",
            "3/3 [==============================] - 2s 731ms/step - loss: 0.6035 - accuracy: 0.8204\n",
            "Epoch 110/200\n",
            "3/3 [==============================] - 1s 379ms/step - loss: 0.6299 - accuracy: 0.8123\n",
            "Epoch 111/200\n",
            "3/3 [==============================] - 1s 429ms/step - loss: 0.5333 - accuracy: 0.8338\n",
            "Epoch 112/200\n",
            "3/3 [==============================] - 1s 433ms/step - loss: 0.5332 - accuracy: 0.8499\n",
            "Epoch 113/200\n",
            "3/3 [==============================] - 1s 432ms/step - loss: 0.5438 - accuracy: 0.8633\n",
            "Epoch 114/200\n",
            "3/3 [==============================] - 1s 409ms/step - loss: 0.4556 - accuracy: 0.8633\n",
            "Epoch 115/200\n",
            "3/3 [==============================] - 1s 423ms/step - loss: 0.4642 - accuracy: 0.8633\n",
            "Epoch 116/200\n",
            "3/3 [==============================] - 1s 398ms/step - loss: 0.4571 - accuracy: 0.8579\n",
            "Epoch 117/200\n",
            "3/3 [==============================] - 1s 454ms/step - loss: 0.4219 - accuracy: 0.8820\n",
            "Epoch 118/200\n",
            "3/3 [==============================] - 2s 768ms/step - loss: 0.4208 - accuracy: 0.8606\n",
            "Epoch 119/200\n",
            "3/3 [==============================] - 2s 420ms/step - loss: 0.4107 - accuracy: 0.8847\n",
            "Epoch 120/200\n",
            "3/3 [==============================] - 1s 436ms/step - loss: 0.3581 - accuracy: 0.8874\n",
            "Epoch 121/200\n",
            "3/3 [==============================] - 1s 386ms/step - loss: 0.3856 - accuracy: 0.8713\n",
            "Epoch 122/200\n",
            "3/3 [==============================] - 1s 415ms/step - loss: 0.3686 - accuracy: 0.9008\n",
            "Epoch 123/200\n",
            "3/3 [==============================] - 1s 403ms/step - loss: 0.3027 - accuracy: 0.9223\n",
            "Epoch 124/200\n",
            "3/3 [==============================] - 1s 385ms/step - loss: 0.2854 - accuracy: 0.9169\n",
            "Epoch 125/200\n",
            "3/3 [==============================] - 1s 361ms/step - loss: 0.3422 - accuracy: 0.8928\n",
            "Epoch 126/200\n",
            "3/3 [==============================] - 1s 430ms/step - loss: 0.2833 - accuracy: 0.9276\n",
            "Epoch 127/200\n",
            "3/3 [==============================] - 2s 681ms/step - loss: 0.3251 - accuracy: 0.8954\n",
            "Epoch 128/200\n",
            "3/3 [==============================] - 2s 617ms/step - loss: 0.3172 - accuracy: 0.8954\n",
            "Epoch 129/200\n",
            "3/3 [==============================] - 1s 427ms/step - loss: 0.2833 - accuracy: 0.9169\n",
            "Epoch 130/200\n",
            "3/3 [==============================] - 1s 429ms/step - loss: 0.2785 - accuracy: 0.9169\n",
            "Epoch 131/200\n",
            "3/3 [==============================] - 1s 398ms/step - loss: 0.3264 - accuracy: 0.9008\n",
            "Epoch 132/200\n",
            "3/3 [==============================] - 1s 412ms/step - loss: 0.2706 - accuracy: 0.9249\n",
            "Epoch 133/200\n",
            "3/3 [==============================] - 1s 425ms/step - loss: 0.2493 - accuracy: 0.9357\n",
            "Epoch 134/200\n",
            "3/3 [==============================] - 1s 407ms/step - loss: 0.3023 - accuracy: 0.8981\n",
            "Epoch 135/200\n",
            "3/3 [==============================] - 1s 405ms/step - loss: 0.2287 - accuracy: 0.9410\n",
            "Epoch 136/200\n",
            "3/3 [==============================] - 2s 582ms/step - loss: 0.2576 - accuracy: 0.9303\n",
            "Epoch 137/200\n",
            "3/3 [==============================] - 2s 719ms/step - loss: 0.2543 - accuracy: 0.9410\n",
            "Epoch 138/200\n",
            "3/3 [==============================] - 1s 426ms/step - loss: 0.2434 - accuracy: 0.9142\n",
            "Epoch 139/200\n",
            "3/3 [==============================] - 1s 392ms/step - loss: 0.2324 - accuracy: 0.9464\n",
            "Epoch 140/200\n",
            "3/3 [==============================] - 1s 437ms/step - loss: 0.2213 - accuracy: 0.9437\n",
            "Epoch 141/200\n",
            "3/3 [==============================] - 1s 423ms/step - loss: 0.2285 - accuracy: 0.9357\n",
            "Epoch 142/200\n",
            "3/3 [==============================] - 1s 390ms/step - loss: 0.2426 - accuracy: 0.9303\n",
            "Epoch 143/200\n",
            "3/3 [==============================] - 1s 403ms/step - loss: 0.2202 - accuracy: 0.9357\n",
            "Epoch 144/200\n",
            "3/3 [==============================] - 1s 401ms/step - loss: 0.1804 - accuracy: 0.9625\n",
            "Epoch 145/200\n",
            "3/3 [==============================] - 1s 397ms/step - loss: 0.1854 - accuracy: 0.9464\n",
            "Epoch 146/200\n",
            "3/3 [==============================] - 2s 744ms/step - loss: 0.1961 - accuracy: 0.9544\n",
            "Epoch 147/200\n",
            "3/3 [==============================] - 2s 509ms/step - loss: 0.1838 - accuracy: 0.9625\n",
            "Epoch 148/200\n",
            "3/3 [==============================] - 1s 397ms/step - loss: 0.2164 - accuracy: 0.9437\n",
            "Epoch 149/200\n",
            "3/3 [==============================] - 1s 394ms/step - loss: 0.1644 - accuracy: 0.9544\n",
            "Epoch 150/200\n",
            "3/3 [==============================] - 1s 413ms/step - loss: 0.1969 - accuracy: 0.9491\n",
            "Epoch 151/200\n",
            "3/3 [==============================] - 1s 421ms/step - loss: 0.1698 - accuracy: 0.9625\n",
            "Epoch 152/200\n",
            "3/3 [==============================] - 1s 423ms/step - loss: 0.1803 - accuracy: 0.9571\n",
            "Epoch 153/200\n",
            "3/3 [==============================] - 1s 431ms/step - loss: 0.1784 - accuracy: 0.9491\n",
            "Epoch 154/200\n",
            "3/3 [==============================] - 1s 420ms/step - loss: 0.1627 - accuracy: 0.9571\n",
            "Epoch 155/200\n",
            "3/3 [==============================] - 2s 665ms/step - loss: 0.1429 - accuracy: 0.9786\n",
            "Epoch 156/200\n",
            "3/3 [==============================] - 2s 648ms/step - loss: 0.1754 - accuracy: 0.9517\n",
            "Epoch 157/200\n",
            "3/3 [==============================] - 1s 414ms/step - loss: 0.1545 - accuracy: 0.9517\n",
            "Epoch 158/200\n",
            "3/3 [==============================] - 1s 401ms/step - loss: 0.1771 - accuracy: 0.9491\n",
            "Epoch 159/200\n",
            "3/3 [==============================] - 1s 405ms/step - loss: 0.1518 - accuracy: 0.9571\n",
            "Epoch 160/200\n",
            "3/3 [==============================] - 1s 430ms/step - loss: 0.1681 - accuracy: 0.9544\n",
            "Epoch 161/200\n",
            "3/3 [==============================] - 1s 423ms/step - loss: 0.1568 - accuracy: 0.9651\n",
            "Epoch 162/200\n",
            "3/3 [==============================] - 1s 420ms/step - loss: 0.1657 - accuracy: 0.9571\n",
            "Epoch 163/200\n",
            "3/3 [==============================] - 1s 407ms/step - loss: 0.1752 - accuracy: 0.9625\n",
            "Epoch 164/200\n",
            "3/3 [==============================] - 1s 472ms/step - loss: 0.1769 - accuracy: 0.9464\n",
            "Epoch 165/200\n",
            "3/3 [==============================] - 2s 758ms/step - loss: 0.1592 - accuracy: 0.9517\n",
            "Epoch 166/200\n",
            "3/3 [==============================] - 1s 405ms/step - loss: 0.1668 - accuracy: 0.9491\n",
            "Epoch 167/200\n",
            "3/3 [==============================] - 1s 443ms/step - loss: 0.1466 - accuracy: 0.9651\n",
            "Epoch 168/200\n",
            "3/3 [==============================] - 1s 425ms/step - loss: 0.1265 - accuracy: 0.9625\n",
            "Epoch 169/200\n",
            "3/3 [==============================] - 1s 428ms/step - loss: 0.1247 - accuracy: 0.9625\n",
            "Epoch 170/200\n",
            "3/3 [==============================] - 1s 409ms/step - loss: 0.1412 - accuracy: 0.9678\n",
            "Epoch 171/200\n",
            "3/3 [==============================] - 1s 455ms/step - loss: 0.1430 - accuracy: 0.9705\n",
            "Epoch 172/200\n",
            "3/3 [==============================] - 1s 429ms/step - loss: 0.0979 - accuracy: 0.9946\n",
            "Epoch 173/200\n",
            "3/3 [==============================] - 1s 428ms/step - loss: 0.1665 - accuracy: 0.9625\n",
            "Epoch 174/200\n",
            "3/3 [==============================] - 2s 726ms/step - loss: 0.1221 - accuracy: 0.9759\n",
            "Epoch 175/200\n",
            "3/3 [==============================] - 2s 438ms/step - loss: 0.1340 - accuracy: 0.9678\n",
            "Epoch 176/200\n",
            "3/3 [==============================] - 1s 425ms/step - loss: 0.1557 - accuracy: 0.9651\n",
            "Epoch 177/200\n",
            "3/3 [==============================] - 1s 394ms/step - loss: 0.1212 - accuracy: 0.9705\n",
            "Epoch 178/200\n",
            "3/3 [==============================] - 1s 432ms/step - loss: 0.1147 - accuracy: 0.9678\n",
            "Epoch 179/200\n",
            "3/3 [==============================] - 1s 433ms/step - loss: 0.1234 - accuracy: 0.9651\n",
            "Epoch 180/200\n",
            "3/3 [==============================] - 1s 431ms/step - loss: 0.1014 - accuracy: 0.9786\n",
            "Epoch 181/200\n",
            "3/3 [==============================] - 1s 424ms/step - loss: 0.1136 - accuracy: 0.9759\n",
            "Epoch 182/200\n",
            "3/3 [==============================] - 1s 440ms/step - loss: 0.1566 - accuracy: 0.9491\n",
            "Epoch 183/200\n",
            "3/3 [==============================] - 2s 645ms/step - loss: 0.0975 - accuracy: 0.9812\n",
            "Epoch 184/200\n",
            "3/3 [==============================] - 2s 575ms/step - loss: 0.0977 - accuracy: 0.9732\n",
            "Epoch 185/200\n",
            "3/3 [==============================] - 1s 431ms/step - loss: 0.0878 - accuracy: 0.9786\n",
            "Epoch 186/200\n",
            "3/3 [==============================] - 1s 431ms/step - loss: 0.0588 - accuracy: 0.9866\n",
            "Epoch 187/200\n",
            "3/3 [==============================] - 1s 420ms/step - loss: 0.1393 - accuracy: 0.9651\n",
            "Epoch 188/200\n",
            "3/3 [==============================] - 1s 441ms/step - loss: 0.0851 - accuracy: 0.9866\n",
            "Epoch 189/200\n",
            "3/3 [==============================] - 1s 432ms/step - loss: 0.0928 - accuracy: 0.9759\n",
            "Epoch 190/200\n",
            "3/3 [==============================] - 1s 416ms/step - loss: 0.0941 - accuracy: 0.9839\n",
            "Epoch 191/200\n",
            "3/3 [==============================] - 1s 407ms/step - loss: 0.0784 - accuracy: 0.9866\n",
            "Epoch 192/200\n",
            "3/3 [==============================] - 2s 568ms/step - loss: 0.1093 - accuracy: 0.9625\n",
            "Epoch 193/200\n",
            "3/3 [==============================] - 2s 733ms/step - loss: 0.0917 - accuracy: 0.9866\n",
            "Epoch 194/200\n",
            "3/3 [==============================] - 1s 411ms/step - loss: 0.0928 - accuracy: 0.9759\n",
            "Epoch 195/200\n",
            "3/3 [==============================] - 1s 416ms/step - loss: 0.1176 - accuracy: 0.9732\n",
            "Epoch 196/200\n",
            "3/3 [==============================] - 1s 404ms/step - loss: 0.1267 - accuracy: 0.9571\n",
            "Epoch 197/200\n",
            "3/3 [==============================] - 1s 424ms/step - loss: 0.1317 - accuracy: 0.9625\n",
            "Epoch 198/200\n",
            "3/3 [==============================] - 1s 426ms/step - loss: 0.1235 - accuracy: 0.9625\n",
            "Epoch 199/200\n",
            "3/3 [==============================] - 1s 397ms/step - loss: 0.1373 - accuracy: 0.9598\n",
            "Epoch 200/200\n",
            "3/3 [==============================] - 1s 419ms/step - loss: 0.1298 - accuracy: 0.9625\n"
          ]
        }
      ]
    },
    {
      "cell_type": "code",
      "source": [
        "# weighs = model.get_weights();\n",
        "# pickle.dump(weighs, open('model.pkl', 'wb'))"
      ],
      "metadata": {
        "id": "YBr6hjCW38P3"
      },
      "execution_count": null,
      "outputs": []
    },
    {
      "cell_type": "code",
      "source": [
        "model.save('model.h5', hist)"
      ],
      "metadata": {
        "id": "MFlc_XTuO8uL"
      },
      "execution_count": 30,
      "outputs": []
    },
    {
      "cell_type": "markdown",
      "source": [
        "## **Chatbot**"
      ],
      "metadata": {
        "id": "GKm5bBnlQIn2"
      }
    },
    {
      "cell_type": "code",
      "source": [
        "intents = json.loads(open('intents.json').read())"
      ],
      "metadata": {
        "id": "GrwmTT9NQEye"
      },
      "execution_count": 31,
      "outputs": []
    },
    {
      "cell_type": "code",
      "source": [
        "# load model\n",
        "model = load_model('model.h5')"
      ],
      "metadata": {
        "id": "Ge-Cp-044XzA"
      },
      "execution_count": 32,
      "outputs": []
    },
    {
      "cell_type": "code",
      "source": [
        "#loaded_model = pickle.load(open(\"model.pkl\", 'rb'))"
      ],
      "metadata": {
        "id": "EMs8ji705OM8"
      },
      "execution_count": 33,
      "outputs": []
    },
    {
      "cell_type": "code",
      "source": [
        "# load tokenizer\n",
        "with open('tokenizer.h5', 'rb') as f:\n",
        "    tokenizer = pickle.load(f)"
      ],
      "metadata": {
        "id": "j9prSU0DFVdn"
      },
      "execution_count": 34,
      "outputs": []
    },
    {
      "cell_type": "code",
      "source": [
        "def clean_up_sentence(sentence):\n",
        "    sentence_words = nltk.word_tokenize(sentence)\n",
        "    return sentence_words"
      ],
      "metadata": {
        "id": "TbSbI6eOQWJn"
      },
      "execution_count": 35,
      "outputs": []
    },
    {
      "cell_type": "code",
      "source": [
        "MAX_LENGTH = 40\n",
        "def prediction(text):\n",
        "  text_to_sequences = tokenizer.texts_to_sequences([text])\n",
        "  pad_text_to_sequences = pad_sequences(text_to_sequences, maxlen=MAX_LENGTH)\n",
        "  tag = model.predict(pad_text_to_sequences)[0]\n",
        "  tag_index = np.where(tag == max(tag))[0][0]\n",
        "  result = Y.columns[tag_index]\n",
        "  return result"
      ],
      "metadata": {
        "id": "zvc5ddvN_ms7"
      },
      "execution_count": 38,
      "outputs": []
    },
    {
      "cell_type": "code",
      "source": [
        "prediction('Can a student who has received a temporary certificate of completion be able to return to education')"
      ],
      "metadata": {
        "colab": {
          "base_uri": "https://localhost:8080/",
          "height": 54
        },
        "id": "4Rtth1Z5AZK_",
        "outputId": "7eae04fa-9534-4a4b-af9e-016f32e5f06b"
      },
      "execution_count": 44,
      "outputs": [
        {
          "output_type": "stream",
          "name": "stdout",
          "text": [
            "1/1 [==============================] - 0s 104ms/step\n"
          ]
        },
        {
          "output_type": "execute_result",
          "data": {
            "text/plain": [
              "'Can a student who has received a temporary certificate of completion be able to return to education?'"
            ],
            "application/vnd.google.colaboratory.intrinsic+json": {
              "type": "string"
            }
          },
          "metadata": {},
          "execution_count": 44
        }
      ]
    },
    {
      "cell_type": "code",
      "source": [
        "def get_response(text):\n",
        "  tag = prediction(text)\n",
        "  for data in intents['intents']:\n",
        "    if data['tag'] == tag:\n",
        "      result = random.choice(data['response'])\n",
        "      break\n",
        "  return result    "
      ],
      "metadata": {
        "id": "ekeROjfEBo7H"
      },
      "execution_count": 42,
      "outputs": []
    },
    {
      "cell_type": "code",
      "source": [
        "get_response('Can a student who has received a temporary certificate of completion be able to return to education')"
      ],
      "metadata": {
        "colab": {
          "base_uri": "https://localhost:8080/",
          "height": 54
        },
        "id": "YKoy6WpYCpld",
        "outputId": "72270fa4-2e0a-4661-bad7-c8c121878a09"
      },
      "execution_count": 45,
      "outputs": [
        {
          "output_type": "stream",
          "name": "stdout",
          "text": [
            "1/1 [==============================] - 0s 51ms/step\n"
          ]
        },
        {
          "output_type": "execute_result",
          "data": {
            "text/plain": [
              "'If he receives a temporary certificate, he cannot return to study.'"
            ],
            "application/vnd.google.colaboratory.intrinsic+json": {
              "type": "string"
            }
          },
          "metadata": {},
          "execution_count": 45
        }
      ]
    },
    {
      "cell_type": "code",
      "source": [
        "while True:\n",
        "\tmessage = input(\"Enter a message:\")\n",
        "\tres = get_response(message)\n",
        "\tprint(res)"
      ],
      "metadata": {
        "colab": {
          "base_uri": "https://localhost:8080/"
        },
        "id": "hNv8lFaCQjmV",
        "outputId": "c06c1140-6fa5-49ea-bea7-dd5b3bf389e6"
      },
      "execution_count": null,
      "outputs": [
        {
          "output_type": "stream",
          "name": "stdout",
          "text": [
            "Enter a message:Can a student who has received a temporary certificate of completion be able to return to education\n",
            "1/1 [==============================] - 0s 32ms/step\n",
            "If he receives a temporary certificate, he cannot return to study.\n",
            "Enter a message:What is in the temporary certificate of completion of education\n",
            "1/1 [==============================] - 0s 29ms/step\n",
            "Due to the free education in the above-mentioned study level, daily students have the obligation to serve for free education based on the admission of the entrance exam area, and all obligations must be settled when receiving the educational encyclopedia. (Complete description of settlement of obligations in the receiving section of the encyclopedia)\n"
          ]
        }
      ]
    },
    {
      "cell_type": "code",
      "source": [],
      "metadata": {
        "id": "4rp3kQQMQma_"
      },
      "execution_count": null,
      "outputs": []
    }
  ]
}