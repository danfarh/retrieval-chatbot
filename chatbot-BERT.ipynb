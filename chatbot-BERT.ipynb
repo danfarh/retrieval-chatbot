{
  "nbformat": 4,
  "nbformat_minor": 0,
  "metadata": {
    "colab": {
      "provenance": [],
      "collapsed_sections": []
    },
    "kernelspec": {
      "name": "python3",
      "display_name": "Python 3"
    },
    "language_info": {
      "name": "python"
    },
    "widgets": {
      "application/vnd.jupyter.widget-state+json": {
        "7e9128e715554a5db12b62892cdf0086": {
          "model_module": "@jupyter-widgets/controls",
          "model_name": "HBoxModel",
          "model_module_version": "1.5.0",
          "state": {
            "_dom_classes": [],
            "_model_module": "@jupyter-widgets/controls",
            "_model_module_version": "1.5.0",
            "_model_name": "HBoxModel",
            "_view_count": null,
            "_view_module": "@jupyter-widgets/controls",
            "_view_module_version": "1.5.0",
            "_view_name": "HBoxView",
            "box_style": "",
            "children": [
              "IPY_MODEL_c931e9e297444afeb75c78cdff510f2b",
              "IPY_MODEL_4d93c6ee6bed4ce6970de19044d2522c",
              "IPY_MODEL_89da0b527be44c22b3454f24ec1ec14d"
            ],
            "layout": "IPY_MODEL_94eb5512eb6640c1b13df57caaa157fc"
          }
        },
        "c931e9e297444afeb75c78cdff510f2b": {
          "model_module": "@jupyter-widgets/controls",
          "model_name": "HTMLModel",
          "model_module_version": "1.5.0",
          "state": {
            "_dom_classes": [],
            "_model_module": "@jupyter-widgets/controls",
            "_model_module_version": "1.5.0",
            "_model_name": "HTMLModel",
            "_view_count": null,
            "_view_module": "@jupyter-widgets/controls",
            "_view_module_version": "1.5.0",
            "_view_name": "HTMLView",
            "description": "",
            "description_tooltip": null,
            "layout": "IPY_MODEL_fe06d5e6813144c7a2967c8ba5545d70",
            "placeholder": "​",
            "style": "IPY_MODEL_edaa1dc6c0cc4dc6b72f66235786f810",
            "value": "Downloading: 100%"
          }
        },
        "4d93c6ee6bed4ce6970de19044d2522c": {
          "model_module": "@jupyter-widgets/controls",
          "model_name": "FloatProgressModel",
          "model_module_version": "1.5.0",
          "state": {
            "_dom_classes": [],
            "_model_module": "@jupyter-widgets/controls",
            "_model_module_version": "1.5.0",
            "_model_name": "FloatProgressModel",
            "_view_count": null,
            "_view_module": "@jupyter-widgets/controls",
            "_view_module_version": "1.5.0",
            "_view_name": "ProgressView",
            "bar_style": "success",
            "description": "",
            "description_tooltip": null,
            "layout": "IPY_MODEL_17b39174b5e141649098f61c952676c1",
            "max": 29,
            "min": 0,
            "orientation": "horizontal",
            "style": "IPY_MODEL_9597d0a441154e54bde02cf0c6bc94df",
            "value": 29
          }
        },
        "89da0b527be44c22b3454f24ec1ec14d": {
          "model_module": "@jupyter-widgets/controls",
          "model_name": "HTMLModel",
          "model_module_version": "1.5.0",
          "state": {
            "_dom_classes": [],
            "_model_module": "@jupyter-widgets/controls",
            "_model_module_version": "1.5.0",
            "_model_name": "HTMLModel",
            "_view_count": null,
            "_view_module": "@jupyter-widgets/controls",
            "_view_module_version": "1.5.0",
            "_view_name": "HTMLView",
            "description": "",
            "description_tooltip": null,
            "layout": "IPY_MODEL_f61ab123aea24bcea46378f538b46eed",
            "placeholder": "​",
            "style": "IPY_MODEL_49b6b0ae761c43febcfa1b3b9c322910",
            "value": " 29.0/29.0 [00:00&lt;00:00, 476B/s]"
          }
        },
        "94eb5512eb6640c1b13df57caaa157fc": {
          "model_module": "@jupyter-widgets/base",
          "model_name": "LayoutModel",
          "model_module_version": "1.2.0",
          "state": {
            "_model_module": "@jupyter-widgets/base",
            "_model_module_version": "1.2.0",
            "_model_name": "LayoutModel",
            "_view_count": null,
            "_view_module": "@jupyter-widgets/base",
            "_view_module_version": "1.2.0",
            "_view_name": "LayoutView",
            "align_content": null,
            "align_items": null,
            "align_self": null,
            "border": null,
            "bottom": null,
            "display": null,
            "flex": null,
            "flex_flow": null,
            "grid_area": null,
            "grid_auto_columns": null,
            "grid_auto_flow": null,
            "grid_auto_rows": null,
            "grid_column": null,
            "grid_gap": null,
            "grid_row": null,
            "grid_template_areas": null,
            "grid_template_columns": null,
            "grid_template_rows": null,
            "height": null,
            "justify_content": null,
            "justify_items": null,
            "left": null,
            "margin": null,
            "max_height": null,
            "max_width": null,
            "min_height": null,
            "min_width": null,
            "object_fit": null,
            "object_position": null,
            "order": null,
            "overflow": null,
            "overflow_x": null,
            "overflow_y": null,
            "padding": null,
            "right": null,
            "top": null,
            "visibility": null,
            "width": null
          }
        },
        "fe06d5e6813144c7a2967c8ba5545d70": {
          "model_module": "@jupyter-widgets/base",
          "model_name": "LayoutModel",
          "model_module_version": "1.2.0",
          "state": {
            "_model_module": "@jupyter-widgets/base",
            "_model_module_version": "1.2.0",
            "_model_name": "LayoutModel",
            "_view_count": null,
            "_view_module": "@jupyter-widgets/base",
            "_view_module_version": "1.2.0",
            "_view_name": "LayoutView",
            "align_content": null,
            "align_items": null,
            "align_self": null,
            "border": null,
            "bottom": null,
            "display": null,
            "flex": null,
            "flex_flow": null,
            "grid_area": null,
            "grid_auto_columns": null,
            "grid_auto_flow": null,
            "grid_auto_rows": null,
            "grid_column": null,
            "grid_gap": null,
            "grid_row": null,
            "grid_template_areas": null,
            "grid_template_columns": null,
            "grid_template_rows": null,
            "height": null,
            "justify_content": null,
            "justify_items": null,
            "left": null,
            "margin": null,
            "max_height": null,
            "max_width": null,
            "min_height": null,
            "min_width": null,
            "object_fit": null,
            "object_position": null,
            "order": null,
            "overflow": null,
            "overflow_x": null,
            "overflow_y": null,
            "padding": null,
            "right": null,
            "top": null,
            "visibility": null,
            "width": null
          }
        },
        "edaa1dc6c0cc4dc6b72f66235786f810": {
          "model_module": "@jupyter-widgets/controls",
          "model_name": "DescriptionStyleModel",
          "model_module_version": "1.5.0",
          "state": {
            "_model_module": "@jupyter-widgets/controls",
            "_model_module_version": "1.5.0",
            "_model_name": "DescriptionStyleModel",
            "_view_count": null,
            "_view_module": "@jupyter-widgets/base",
            "_view_module_version": "1.2.0",
            "_view_name": "StyleView",
            "description_width": ""
          }
        },
        "17b39174b5e141649098f61c952676c1": {
          "model_module": "@jupyter-widgets/base",
          "model_name": "LayoutModel",
          "model_module_version": "1.2.0",
          "state": {
            "_model_module": "@jupyter-widgets/base",
            "_model_module_version": "1.2.0",
            "_model_name": "LayoutModel",
            "_view_count": null,
            "_view_module": "@jupyter-widgets/base",
            "_view_module_version": "1.2.0",
            "_view_name": "LayoutView",
            "align_content": null,
            "align_items": null,
            "align_self": null,
            "border": null,
            "bottom": null,
            "display": null,
            "flex": null,
            "flex_flow": null,
            "grid_area": null,
            "grid_auto_columns": null,
            "grid_auto_flow": null,
            "grid_auto_rows": null,
            "grid_column": null,
            "grid_gap": null,
            "grid_row": null,
            "grid_template_areas": null,
            "grid_template_columns": null,
            "grid_template_rows": null,
            "height": null,
            "justify_content": null,
            "justify_items": null,
            "left": null,
            "margin": null,
            "max_height": null,
            "max_width": null,
            "min_height": null,
            "min_width": null,
            "object_fit": null,
            "object_position": null,
            "order": null,
            "overflow": null,
            "overflow_x": null,
            "overflow_y": null,
            "padding": null,
            "right": null,
            "top": null,
            "visibility": null,
            "width": null
          }
        },
        "9597d0a441154e54bde02cf0c6bc94df": {
          "model_module": "@jupyter-widgets/controls",
          "model_name": "ProgressStyleModel",
          "model_module_version": "1.5.0",
          "state": {
            "_model_module": "@jupyter-widgets/controls",
            "_model_module_version": "1.5.0",
            "_model_name": "ProgressStyleModel",
            "_view_count": null,
            "_view_module": "@jupyter-widgets/base",
            "_view_module_version": "1.2.0",
            "_view_name": "StyleView",
            "bar_color": null,
            "description_width": ""
          }
        },
        "f61ab123aea24bcea46378f538b46eed": {
          "model_module": "@jupyter-widgets/base",
          "model_name": "LayoutModel",
          "model_module_version": "1.2.0",
          "state": {
            "_model_module": "@jupyter-widgets/base",
            "_model_module_version": "1.2.0",
            "_model_name": "LayoutModel",
            "_view_count": null,
            "_view_module": "@jupyter-widgets/base",
            "_view_module_version": "1.2.0",
            "_view_name": "LayoutView",
            "align_content": null,
            "align_items": null,
            "align_self": null,
            "border": null,
            "bottom": null,
            "display": null,
            "flex": null,
            "flex_flow": null,
            "grid_area": null,
            "grid_auto_columns": null,
            "grid_auto_flow": null,
            "grid_auto_rows": null,
            "grid_column": null,
            "grid_gap": null,
            "grid_row": null,
            "grid_template_areas": null,
            "grid_template_columns": null,
            "grid_template_rows": null,
            "height": null,
            "justify_content": null,
            "justify_items": null,
            "left": null,
            "margin": null,
            "max_height": null,
            "max_width": null,
            "min_height": null,
            "min_width": null,
            "object_fit": null,
            "object_position": null,
            "order": null,
            "overflow": null,
            "overflow_x": null,
            "overflow_y": null,
            "padding": null,
            "right": null,
            "top": null,
            "visibility": null,
            "width": null
          }
        },
        "49b6b0ae761c43febcfa1b3b9c322910": {
          "model_module": "@jupyter-widgets/controls",
          "model_name": "DescriptionStyleModel",
          "model_module_version": "1.5.0",
          "state": {
            "_model_module": "@jupyter-widgets/controls",
            "_model_module_version": "1.5.0",
            "_model_name": "DescriptionStyleModel",
            "_view_count": null,
            "_view_module": "@jupyter-widgets/base",
            "_view_module_version": "1.2.0",
            "_view_name": "StyleView",
            "description_width": ""
          }
        },
        "2ba1bf215c4a4e238e03cb6bf132b560": {
          "model_module": "@jupyter-widgets/controls",
          "model_name": "HBoxModel",
          "model_module_version": "1.5.0",
          "state": {
            "_dom_classes": [],
            "_model_module": "@jupyter-widgets/controls",
            "_model_module_version": "1.5.0",
            "_model_name": "HBoxModel",
            "_view_count": null,
            "_view_module": "@jupyter-widgets/controls",
            "_view_module_version": "1.5.0",
            "_view_name": "HBoxView",
            "box_style": "",
            "children": [
              "IPY_MODEL_147e56877cd24242a1c71ee8392d6f52",
              "IPY_MODEL_b8aba6fdfd7c492c9e5097801cf4bb85",
              "IPY_MODEL_90ce48fd29024c2789f9382d5863d12e"
            ],
            "layout": "IPY_MODEL_069c5d739d484534b0232f0cba9d1741"
          }
        },
        "147e56877cd24242a1c71ee8392d6f52": {
          "model_module": "@jupyter-widgets/controls",
          "model_name": "HTMLModel",
          "model_module_version": "1.5.0",
          "state": {
            "_dom_classes": [],
            "_model_module": "@jupyter-widgets/controls",
            "_model_module_version": "1.5.0",
            "_model_name": "HTMLModel",
            "_view_count": null,
            "_view_module": "@jupyter-widgets/controls",
            "_view_module_version": "1.5.0",
            "_view_name": "HTMLView",
            "description": "",
            "description_tooltip": null,
            "layout": "IPY_MODEL_91c7e0eac25a441485903f7fa2fe66fa",
            "placeholder": "​",
            "style": "IPY_MODEL_465b1b708f1c4c6a938dce02294cb7b4",
            "value": "Downloading: 100%"
          }
        },
        "b8aba6fdfd7c492c9e5097801cf4bb85": {
          "model_module": "@jupyter-widgets/controls",
          "model_name": "FloatProgressModel",
          "model_module_version": "1.5.0",
          "state": {
            "_dom_classes": [],
            "_model_module": "@jupyter-widgets/controls",
            "_model_module_version": "1.5.0",
            "_model_name": "FloatProgressModel",
            "_view_count": null,
            "_view_module": "@jupyter-widgets/controls",
            "_view_module_version": "1.5.0",
            "_view_name": "ProgressView",
            "bar_style": "success",
            "description": "",
            "description_tooltip": null,
            "layout": "IPY_MODEL_82d92f176f7140b690ed257eb281d89d",
            "max": 570,
            "min": 0,
            "orientation": "horizontal",
            "style": "IPY_MODEL_30f69d1830274a81a9b94039ce42a4ce",
            "value": 570
          }
        },
        "90ce48fd29024c2789f9382d5863d12e": {
          "model_module": "@jupyter-widgets/controls",
          "model_name": "HTMLModel",
          "model_module_version": "1.5.0",
          "state": {
            "_dom_classes": [],
            "_model_module": "@jupyter-widgets/controls",
            "_model_module_version": "1.5.0",
            "_model_name": "HTMLModel",
            "_view_count": null,
            "_view_module": "@jupyter-widgets/controls",
            "_view_module_version": "1.5.0",
            "_view_name": "HTMLView",
            "description": "",
            "description_tooltip": null,
            "layout": "IPY_MODEL_178657a053ce4ecbad517edf17652dd4",
            "placeholder": "​",
            "style": "IPY_MODEL_87fa55da114b485e83381a549eb28ffd",
            "value": " 570/570 [00:00&lt;00:00, 12.0kB/s]"
          }
        },
        "069c5d739d484534b0232f0cba9d1741": {
          "model_module": "@jupyter-widgets/base",
          "model_name": "LayoutModel",
          "model_module_version": "1.2.0",
          "state": {
            "_model_module": "@jupyter-widgets/base",
            "_model_module_version": "1.2.0",
            "_model_name": "LayoutModel",
            "_view_count": null,
            "_view_module": "@jupyter-widgets/base",
            "_view_module_version": "1.2.0",
            "_view_name": "LayoutView",
            "align_content": null,
            "align_items": null,
            "align_self": null,
            "border": null,
            "bottom": null,
            "display": null,
            "flex": null,
            "flex_flow": null,
            "grid_area": null,
            "grid_auto_columns": null,
            "grid_auto_flow": null,
            "grid_auto_rows": null,
            "grid_column": null,
            "grid_gap": null,
            "grid_row": null,
            "grid_template_areas": null,
            "grid_template_columns": null,
            "grid_template_rows": null,
            "height": null,
            "justify_content": null,
            "justify_items": null,
            "left": null,
            "margin": null,
            "max_height": null,
            "max_width": null,
            "min_height": null,
            "min_width": null,
            "object_fit": null,
            "object_position": null,
            "order": null,
            "overflow": null,
            "overflow_x": null,
            "overflow_y": null,
            "padding": null,
            "right": null,
            "top": null,
            "visibility": null,
            "width": null
          }
        },
        "91c7e0eac25a441485903f7fa2fe66fa": {
          "model_module": "@jupyter-widgets/base",
          "model_name": "LayoutModel",
          "model_module_version": "1.2.0",
          "state": {
            "_model_module": "@jupyter-widgets/base",
            "_model_module_version": "1.2.0",
            "_model_name": "LayoutModel",
            "_view_count": null,
            "_view_module": "@jupyter-widgets/base",
            "_view_module_version": "1.2.0",
            "_view_name": "LayoutView",
            "align_content": null,
            "align_items": null,
            "align_self": null,
            "border": null,
            "bottom": null,
            "display": null,
            "flex": null,
            "flex_flow": null,
            "grid_area": null,
            "grid_auto_columns": null,
            "grid_auto_flow": null,
            "grid_auto_rows": null,
            "grid_column": null,
            "grid_gap": null,
            "grid_row": null,
            "grid_template_areas": null,
            "grid_template_columns": null,
            "grid_template_rows": null,
            "height": null,
            "justify_content": null,
            "justify_items": null,
            "left": null,
            "margin": null,
            "max_height": null,
            "max_width": null,
            "min_height": null,
            "min_width": null,
            "object_fit": null,
            "object_position": null,
            "order": null,
            "overflow": null,
            "overflow_x": null,
            "overflow_y": null,
            "padding": null,
            "right": null,
            "top": null,
            "visibility": null,
            "width": null
          }
        },
        "465b1b708f1c4c6a938dce02294cb7b4": {
          "model_module": "@jupyter-widgets/controls",
          "model_name": "DescriptionStyleModel",
          "model_module_version": "1.5.0",
          "state": {
            "_model_module": "@jupyter-widgets/controls",
            "_model_module_version": "1.5.0",
            "_model_name": "DescriptionStyleModel",
            "_view_count": null,
            "_view_module": "@jupyter-widgets/base",
            "_view_module_version": "1.2.0",
            "_view_name": "StyleView",
            "description_width": ""
          }
        },
        "82d92f176f7140b690ed257eb281d89d": {
          "model_module": "@jupyter-widgets/base",
          "model_name": "LayoutModel",
          "model_module_version": "1.2.0",
          "state": {
            "_model_module": "@jupyter-widgets/base",
            "_model_module_version": "1.2.0",
            "_model_name": "LayoutModel",
            "_view_count": null,
            "_view_module": "@jupyter-widgets/base",
            "_view_module_version": "1.2.0",
            "_view_name": "LayoutView",
            "align_content": null,
            "align_items": null,
            "align_self": null,
            "border": null,
            "bottom": null,
            "display": null,
            "flex": null,
            "flex_flow": null,
            "grid_area": null,
            "grid_auto_columns": null,
            "grid_auto_flow": null,
            "grid_auto_rows": null,
            "grid_column": null,
            "grid_gap": null,
            "grid_row": null,
            "grid_template_areas": null,
            "grid_template_columns": null,
            "grid_template_rows": null,
            "height": null,
            "justify_content": null,
            "justify_items": null,
            "left": null,
            "margin": null,
            "max_height": null,
            "max_width": null,
            "min_height": null,
            "min_width": null,
            "object_fit": null,
            "object_position": null,
            "order": null,
            "overflow": null,
            "overflow_x": null,
            "overflow_y": null,
            "padding": null,
            "right": null,
            "top": null,
            "visibility": null,
            "width": null
          }
        },
        "30f69d1830274a81a9b94039ce42a4ce": {
          "model_module": "@jupyter-widgets/controls",
          "model_name": "ProgressStyleModel",
          "model_module_version": "1.5.0",
          "state": {
            "_model_module": "@jupyter-widgets/controls",
            "_model_module_version": "1.5.0",
            "_model_name": "ProgressStyleModel",
            "_view_count": null,
            "_view_module": "@jupyter-widgets/base",
            "_view_module_version": "1.2.0",
            "_view_name": "StyleView",
            "bar_color": null,
            "description_width": ""
          }
        },
        "178657a053ce4ecbad517edf17652dd4": {
          "model_module": "@jupyter-widgets/base",
          "model_name": "LayoutModel",
          "model_module_version": "1.2.0",
          "state": {
            "_model_module": "@jupyter-widgets/base",
            "_model_module_version": "1.2.0",
            "_model_name": "LayoutModel",
            "_view_count": null,
            "_view_module": "@jupyter-widgets/base",
            "_view_module_version": "1.2.0",
            "_view_name": "LayoutView",
            "align_content": null,
            "align_items": null,
            "align_self": null,
            "border": null,
            "bottom": null,
            "display": null,
            "flex": null,
            "flex_flow": null,
            "grid_area": null,
            "grid_auto_columns": null,
            "grid_auto_flow": null,
            "grid_auto_rows": null,
            "grid_column": null,
            "grid_gap": null,
            "grid_row": null,
            "grid_template_areas": null,
            "grid_template_columns": null,
            "grid_template_rows": null,
            "height": null,
            "justify_content": null,
            "justify_items": null,
            "left": null,
            "margin": null,
            "max_height": null,
            "max_width": null,
            "min_height": null,
            "min_width": null,
            "object_fit": null,
            "object_position": null,
            "order": null,
            "overflow": null,
            "overflow_x": null,
            "overflow_y": null,
            "padding": null,
            "right": null,
            "top": null,
            "visibility": null,
            "width": null
          }
        },
        "87fa55da114b485e83381a549eb28ffd": {
          "model_module": "@jupyter-widgets/controls",
          "model_name": "DescriptionStyleModel",
          "model_module_version": "1.5.0",
          "state": {
            "_model_module": "@jupyter-widgets/controls",
            "_model_module_version": "1.5.0",
            "_model_name": "DescriptionStyleModel",
            "_view_count": null,
            "_view_module": "@jupyter-widgets/base",
            "_view_module_version": "1.2.0",
            "_view_name": "StyleView",
            "description_width": ""
          }
        },
        "3a6df996d4d748db84877b4bc69b2b82": {
          "model_module": "@jupyter-widgets/controls",
          "model_name": "HBoxModel",
          "model_module_version": "1.5.0",
          "state": {
            "_dom_classes": [],
            "_model_module": "@jupyter-widgets/controls",
            "_model_module_version": "1.5.0",
            "_model_name": "HBoxModel",
            "_view_count": null,
            "_view_module": "@jupyter-widgets/controls",
            "_view_module_version": "1.5.0",
            "_view_name": "HBoxView",
            "box_style": "",
            "children": [
              "IPY_MODEL_c077304b344b4b058d26930833e68818",
              "IPY_MODEL_c65caa224943441298bb49ae13566881",
              "IPY_MODEL_7d2d7bc981894728aedc668ea255bd52"
            ],
            "layout": "IPY_MODEL_c33c3c077dc84d63af01ef5b6b36bb75"
          }
        },
        "c077304b344b4b058d26930833e68818": {
          "model_module": "@jupyter-widgets/controls",
          "model_name": "HTMLModel",
          "model_module_version": "1.5.0",
          "state": {
            "_dom_classes": [],
            "_model_module": "@jupyter-widgets/controls",
            "_model_module_version": "1.5.0",
            "_model_name": "HTMLModel",
            "_view_count": null,
            "_view_module": "@jupyter-widgets/controls",
            "_view_module_version": "1.5.0",
            "_view_name": "HTMLView",
            "description": "",
            "description_tooltip": null,
            "layout": "IPY_MODEL_c42db039ff5f4def87e53a862db41dd3",
            "placeholder": "​",
            "style": "IPY_MODEL_6ec25d26048943dba74e334c51ef70d3",
            "value": "Downloading: 100%"
          }
        },
        "c65caa224943441298bb49ae13566881": {
          "model_module": "@jupyter-widgets/controls",
          "model_name": "FloatProgressModel",
          "model_module_version": "1.5.0",
          "state": {
            "_dom_classes": [],
            "_model_module": "@jupyter-widgets/controls",
            "_model_module_version": "1.5.0",
            "_model_name": "FloatProgressModel",
            "_view_count": null,
            "_view_module": "@jupyter-widgets/controls",
            "_view_module_version": "1.5.0",
            "_view_name": "ProgressView",
            "bar_style": "success",
            "description": "",
            "description_tooltip": null,
            "layout": "IPY_MODEL_21d21bdc58d845e88f6da9e5dbab7feb",
            "max": 213450,
            "min": 0,
            "orientation": "horizontal",
            "style": "IPY_MODEL_4d401a36168049608d98456b26b85a25",
            "value": 213450
          }
        },
        "7d2d7bc981894728aedc668ea255bd52": {
          "model_module": "@jupyter-widgets/controls",
          "model_name": "HTMLModel",
          "model_module_version": "1.5.0",
          "state": {
            "_dom_classes": [],
            "_model_module": "@jupyter-widgets/controls",
            "_model_module_version": "1.5.0",
            "_model_name": "HTMLModel",
            "_view_count": null,
            "_view_module": "@jupyter-widgets/controls",
            "_view_module_version": "1.5.0",
            "_view_name": "HTMLView",
            "description": "",
            "description_tooltip": null,
            "layout": "IPY_MODEL_bccc0327582f4640b82243630aeeb5f3",
            "placeholder": "​",
            "style": "IPY_MODEL_6b7a858a8fee4e8b87358d5ff79372d5",
            "value": " 213k/213k [00:00&lt;00:00, 1.72MB/s]"
          }
        },
        "c33c3c077dc84d63af01ef5b6b36bb75": {
          "model_module": "@jupyter-widgets/base",
          "model_name": "LayoutModel",
          "model_module_version": "1.2.0",
          "state": {
            "_model_module": "@jupyter-widgets/base",
            "_model_module_version": "1.2.0",
            "_model_name": "LayoutModel",
            "_view_count": null,
            "_view_module": "@jupyter-widgets/base",
            "_view_module_version": "1.2.0",
            "_view_name": "LayoutView",
            "align_content": null,
            "align_items": null,
            "align_self": null,
            "border": null,
            "bottom": null,
            "display": null,
            "flex": null,
            "flex_flow": null,
            "grid_area": null,
            "grid_auto_columns": null,
            "grid_auto_flow": null,
            "grid_auto_rows": null,
            "grid_column": null,
            "grid_gap": null,
            "grid_row": null,
            "grid_template_areas": null,
            "grid_template_columns": null,
            "grid_template_rows": null,
            "height": null,
            "justify_content": null,
            "justify_items": null,
            "left": null,
            "margin": null,
            "max_height": null,
            "max_width": null,
            "min_height": null,
            "min_width": null,
            "object_fit": null,
            "object_position": null,
            "order": null,
            "overflow": null,
            "overflow_x": null,
            "overflow_y": null,
            "padding": null,
            "right": null,
            "top": null,
            "visibility": null,
            "width": null
          }
        },
        "c42db039ff5f4def87e53a862db41dd3": {
          "model_module": "@jupyter-widgets/base",
          "model_name": "LayoutModel",
          "model_module_version": "1.2.0",
          "state": {
            "_model_module": "@jupyter-widgets/base",
            "_model_module_version": "1.2.0",
            "_model_name": "LayoutModel",
            "_view_count": null,
            "_view_module": "@jupyter-widgets/base",
            "_view_module_version": "1.2.0",
            "_view_name": "LayoutView",
            "align_content": null,
            "align_items": null,
            "align_self": null,
            "border": null,
            "bottom": null,
            "display": null,
            "flex": null,
            "flex_flow": null,
            "grid_area": null,
            "grid_auto_columns": null,
            "grid_auto_flow": null,
            "grid_auto_rows": null,
            "grid_column": null,
            "grid_gap": null,
            "grid_row": null,
            "grid_template_areas": null,
            "grid_template_columns": null,
            "grid_template_rows": null,
            "height": null,
            "justify_content": null,
            "justify_items": null,
            "left": null,
            "margin": null,
            "max_height": null,
            "max_width": null,
            "min_height": null,
            "min_width": null,
            "object_fit": null,
            "object_position": null,
            "order": null,
            "overflow": null,
            "overflow_x": null,
            "overflow_y": null,
            "padding": null,
            "right": null,
            "top": null,
            "visibility": null,
            "width": null
          }
        },
        "6ec25d26048943dba74e334c51ef70d3": {
          "model_module": "@jupyter-widgets/controls",
          "model_name": "DescriptionStyleModel",
          "model_module_version": "1.5.0",
          "state": {
            "_model_module": "@jupyter-widgets/controls",
            "_model_module_version": "1.5.0",
            "_model_name": "DescriptionStyleModel",
            "_view_count": null,
            "_view_module": "@jupyter-widgets/base",
            "_view_module_version": "1.2.0",
            "_view_name": "StyleView",
            "description_width": ""
          }
        },
        "21d21bdc58d845e88f6da9e5dbab7feb": {
          "model_module": "@jupyter-widgets/base",
          "model_name": "LayoutModel",
          "model_module_version": "1.2.0",
          "state": {
            "_model_module": "@jupyter-widgets/base",
            "_model_module_version": "1.2.0",
            "_model_name": "LayoutModel",
            "_view_count": null,
            "_view_module": "@jupyter-widgets/base",
            "_view_module_version": "1.2.0",
            "_view_name": "LayoutView",
            "align_content": null,
            "align_items": null,
            "align_self": null,
            "border": null,
            "bottom": null,
            "display": null,
            "flex": null,
            "flex_flow": null,
            "grid_area": null,
            "grid_auto_columns": null,
            "grid_auto_flow": null,
            "grid_auto_rows": null,
            "grid_column": null,
            "grid_gap": null,
            "grid_row": null,
            "grid_template_areas": null,
            "grid_template_columns": null,
            "grid_template_rows": null,
            "height": null,
            "justify_content": null,
            "justify_items": null,
            "left": null,
            "margin": null,
            "max_height": null,
            "max_width": null,
            "min_height": null,
            "min_width": null,
            "object_fit": null,
            "object_position": null,
            "order": null,
            "overflow": null,
            "overflow_x": null,
            "overflow_y": null,
            "padding": null,
            "right": null,
            "top": null,
            "visibility": null,
            "width": null
          }
        },
        "4d401a36168049608d98456b26b85a25": {
          "model_module": "@jupyter-widgets/controls",
          "model_name": "ProgressStyleModel",
          "model_module_version": "1.5.0",
          "state": {
            "_model_module": "@jupyter-widgets/controls",
            "_model_module_version": "1.5.0",
            "_model_name": "ProgressStyleModel",
            "_view_count": null,
            "_view_module": "@jupyter-widgets/base",
            "_view_module_version": "1.2.0",
            "_view_name": "StyleView",
            "bar_color": null,
            "description_width": ""
          }
        },
        "bccc0327582f4640b82243630aeeb5f3": {
          "model_module": "@jupyter-widgets/base",
          "model_name": "LayoutModel",
          "model_module_version": "1.2.0",
          "state": {
            "_model_module": "@jupyter-widgets/base",
            "_model_module_version": "1.2.0",
            "_model_name": "LayoutModel",
            "_view_count": null,
            "_view_module": "@jupyter-widgets/base",
            "_view_module_version": "1.2.0",
            "_view_name": "LayoutView",
            "align_content": null,
            "align_items": null,
            "align_self": null,
            "border": null,
            "bottom": null,
            "display": null,
            "flex": null,
            "flex_flow": null,
            "grid_area": null,
            "grid_auto_columns": null,
            "grid_auto_flow": null,
            "grid_auto_rows": null,
            "grid_column": null,
            "grid_gap": null,
            "grid_row": null,
            "grid_template_areas": null,
            "grid_template_columns": null,
            "grid_template_rows": null,
            "height": null,
            "justify_content": null,
            "justify_items": null,
            "left": null,
            "margin": null,
            "max_height": null,
            "max_width": null,
            "min_height": null,
            "min_width": null,
            "object_fit": null,
            "object_position": null,
            "order": null,
            "overflow": null,
            "overflow_x": null,
            "overflow_y": null,
            "padding": null,
            "right": null,
            "top": null,
            "visibility": null,
            "width": null
          }
        },
        "6b7a858a8fee4e8b87358d5ff79372d5": {
          "model_module": "@jupyter-widgets/controls",
          "model_name": "DescriptionStyleModel",
          "model_module_version": "1.5.0",
          "state": {
            "_model_module": "@jupyter-widgets/controls",
            "_model_module_version": "1.5.0",
            "_model_name": "DescriptionStyleModel",
            "_view_count": null,
            "_view_module": "@jupyter-widgets/base",
            "_view_module_version": "1.2.0",
            "_view_name": "StyleView",
            "description_width": ""
          }
        },
        "8e679fd85d574a31927b3df245e7af8a": {
          "model_module": "@jupyter-widgets/controls",
          "model_name": "HBoxModel",
          "model_module_version": "1.5.0",
          "state": {
            "_dom_classes": [],
            "_model_module": "@jupyter-widgets/controls",
            "_model_module_version": "1.5.0",
            "_model_name": "HBoxModel",
            "_view_count": null,
            "_view_module": "@jupyter-widgets/controls",
            "_view_module_version": "1.5.0",
            "_view_name": "HBoxView",
            "box_style": "",
            "children": [
              "IPY_MODEL_571d0d303599426ca668f1c3fe203e6c",
              "IPY_MODEL_e64864b08726451299549d75ba26dd89",
              "IPY_MODEL_3037b33fd3c54ab4bf5ab2e4b96dcfac"
            ],
            "layout": "IPY_MODEL_cf649993d9f84e19947da9626e194c68"
          }
        },
        "571d0d303599426ca668f1c3fe203e6c": {
          "model_module": "@jupyter-widgets/controls",
          "model_name": "HTMLModel",
          "model_module_version": "1.5.0",
          "state": {
            "_dom_classes": [],
            "_model_module": "@jupyter-widgets/controls",
            "_model_module_version": "1.5.0",
            "_model_name": "HTMLModel",
            "_view_count": null,
            "_view_module": "@jupyter-widgets/controls",
            "_view_module_version": "1.5.0",
            "_view_name": "HTMLView",
            "description": "",
            "description_tooltip": null,
            "layout": "IPY_MODEL_0ab0771c132e48149e7b6304c5ec4421",
            "placeholder": "​",
            "style": "IPY_MODEL_08de9ccafbde4da7b32f5c6eab9c270a",
            "value": "Downloading: 100%"
          }
        },
        "e64864b08726451299549d75ba26dd89": {
          "model_module": "@jupyter-widgets/controls",
          "model_name": "FloatProgressModel",
          "model_module_version": "1.5.0",
          "state": {
            "_dom_classes": [],
            "_model_module": "@jupyter-widgets/controls",
            "_model_module_version": "1.5.0",
            "_model_name": "FloatProgressModel",
            "_view_count": null,
            "_view_module": "@jupyter-widgets/controls",
            "_view_module_version": "1.5.0",
            "_view_name": "ProgressView",
            "bar_style": "success",
            "description": "",
            "description_tooltip": null,
            "layout": "IPY_MODEL_7c15eaf4735547d6979ae8216ca2c8b0",
            "max": 435797,
            "min": 0,
            "orientation": "horizontal",
            "style": "IPY_MODEL_cb66a81638894ad4804e403c268323ca",
            "value": 435797
          }
        },
        "3037b33fd3c54ab4bf5ab2e4b96dcfac": {
          "model_module": "@jupyter-widgets/controls",
          "model_name": "HTMLModel",
          "model_module_version": "1.5.0",
          "state": {
            "_dom_classes": [],
            "_model_module": "@jupyter-widgets/controls",
            "_model_module_version": "1.5.0",
            "_model_name": "HTMLModel",
            "_view_count": null,
            "_view_module": "@jupyter-widgets/controls",
            "_view_module_version": "1.5.0",
            "_view_name": "HTMLView",
            "description": "",
            "description_tooltip": null,
            "layout": "IPY_MODEL_393aeb3d57a540c28a5de42789cdedd9",
            "placeholder": "​",
            "style": "IPY_MODEL_d1017084e5e14b4bb8ddbeba544f7e1e",
            "value": " 436k/436k [00:00&lt;00:00, 2.73MB/s]"
          }
        },
        "cf649993d9f84e19947da9626e194c68": {
          "model_module": "@jupyter-widgets/base",
          "model_name": "LayoutModel",
          "model_module_version": "1.2.0",
          "state": {
            "_model_module": "@jupyter-widgets/base",
            "_model_module_version": "1.2.0",
            "_model_name": "LayoutModel",
            "_view_count": null,
            "_view_module": "@jupyter-widgets/base",
            "_view_module_version": "1.2.0",
            "_view_name": "LayoutView",
            "align_content": null,
            "align_items": null,
            "align_self": null,
            "border": null,
            "bottom": null,
            "display": null,
            "flex": null,
            "flex_flow": null,
            "grid_area": null,
            "grid_auto_columns": null,
            "grid_auto_flow": null,
            "grid_auto_rows": null,
            "grid_column": null,
            "grid_gap": null,
            "grid_row": null,
            "grid_template_areas": null,
            "grid_template_columns": null,
            "grid_template_rows": null,
            "height": null,
            "justify_content": null,
            "justify_items": null,
            "left": null,
            "margin": null,
            "max_height": null,
            "max_width": null,
            "min_height": null,
            "min_width": null,
            "object_fit": null,
            "object_position": null,
            "order": null,
            "overflow": null,
            "overflow_x": null,
            "overflow_y": null,
            "padding": null,
            "right": null,
            "top": null,
            "visibility": null,
            "width": null
          }
        },
        "0ab0771c132e48149e7b6304c5ec4421": {
          "model_module": "@jupyter-widgets/base",
          "model_name": "LayoutModel",
          "model_module_version": "1.2.0",
          "state": {
            "_model_module": "@jupyter-widgets/base",
            "_model_module_version": "1.2.0",
            "_model_name": "LayoutModel",
            "_view_count": null,
            "_view_module": "@jupyter-widgets/base",
            "_view_module_version": "1.2.0",
            "_view_name": "LayoutView",
            "align_content": null,
            "align_items": null,
            "align_self": null,
            "border": null,
            "bottom": null,
            "display": null,
            "flex": null,
            "flex_flow": null,
            "grid_area": null,
            "grid_auto_columns": null,
            "grid_auto_flow": null,
            "grid_auto_rows": null,
            "grid_column": null,
            "grid_gap": null,
            "grid_row": null,
            "grid_template_areas": null,
            "grid_template_columns": null,
            "grid_template_rows": null,
            "height": null,
            "justify_content": null,
            "justify_items": null,
            "left": null,
            "margin": null,
            "max_height": null,
            "max_width": null,
            "min_height": null,
            "min_width": null,
            "object_fit": null,
            "object_position": null,
            "order": null,
            "overflow": null,
            "overflow_x": null,
            "overflow_y": null,
            "padding": null,
            "right": null,
            "top": null,
            "visibility": null,
            "width": null
          }
        },
        "08de9ccafbde4da7b32f5c6eab9c270a": {
          "model_module": "@jupyter-widgets/controls",
          "model_name": "DescriptionStyleModel",
          "model_module_version": "1.5.0",
          "state": {
            "_model_module": "@jupyter-widgets/controls",
            "_model_module_version": "1.5.0",
            "_model_name": "DescriptionStyleModel",
            "_view_count": null,
            "_view_module": "@jupyter-widgets/base",
            "_view_module_version": "1.2.0",
            "_view_name": "StyleView",
            "description_width": ""
          }
        },
        "7c15eaf4735547d6979ae8216ca2c8b0": {
          "model_module": "@jupyter-widgets/base",
          "model_name": "LayoutModel",
          "model_module_version": "1.2.0",
          "state": {
            "_model_module": "@jupyter-widgets/base",
            "_model_module_version": "1.2.0",
            "_model_name": "LayoutModel",
            "_view_count": null,
            "_view_module": "@jupyter-widgets/base",
            "_view_module_version": "1.2.0",
            "_view_name": "LayoutView",
            "align_content": null,
            "align_items": null,
            "align_self": null,
            "border": null,
            "bottom": null,
            "display": null,
            "flex": null,
            "flex_flow": null,
            "grid_area": null,
            "grid_auto_columns": null,
            "grid_auto_flow": null,
            "grid_auto_rows": null,
            "grid_column": null,
            "grid_gap": null,
            "grid_row": null,
            "grid_template_areas": null,
            "grid_template_columns": null,
            "grid_template_rows": null,
            "height": null,
            "justify_content": null,
            "justify_items": null,
            "left": null,
            "margin": null,
            "max_height": null,
            "max_width": null,
            "min_height": null,
            "min_width": null,
            "object_fit": null,
            "object_position": null,
            "order": null,
            "overflow": null,
            "overflow_x": null,
            "overflow_y": null,
            "padding": null,
            "right": null,
            "top": null,
            "visibility": null,
            "width": null
          }
        },
        "cb66a81638894ad4804e403c268323ca": {
          "model_module": "@jupyter-widgets/controls",
          "model_name": "ProgressStyleModel",
          "model_module_version": "1.5.0",
          "state": {
            "_model_module": "@jupyter-widgets/controls",
            "_model_module_version": "1.5.0",
            "_model_name": "ProgressStyleModel",
            "_view_count": null,
            "_view_module": "@jupyter-widgets/base",
            "_view_module_version": "1.2.0",
            "_view_name": "StyleView",
            "bar_color": null,
            "description_width": ""
          }
        },
        "393aeb3d57a540c28a5de42789cdedd9": {
          "model_module": "@jupyter-widgets/base",
          "model_name": "LayoutModel",
          "model_module_version": "1.2.0",
          "state": {
            "_model_module": "@jupyter-widgets/base",
            "_model_module_version": "1.2.0",
            "_model_name": "LayoutModel",
            "_view_count": null,
            "_view_module": "@jupyter-widgets/base",
            "_view_module_version": "1.2.0",
            "_view_name": "LayoutView",
            "align_content": null,
            "align_items": null,
            "align_self": null,
            "border": null,
            "bottom": null,
            "display": null,
            "flex": null,
            "flex_flow": null,
            "grid_area": null,
            "grid_auto_columns": null,
            "grid_auto_flow": null,
            "grid_auto_rows": null,
            "grid_column": null,
            "grid_gap": null,
            "grid_row": null,
            "grid_template_areas": null,
            "grid_template_columns": null,
            "grid_template_rows": null,
            "height": null,
            "justify_content": null,
            "justify_items": null,
            "left": null,
            "margin": null,
            "max_height": null,
            "max_width": null,
            "min_height": null,
            "min_width": null,
            "object_fit": null,
            "object_position": null,
            "order": null,
            "overflow": null,
            "overflow_x": null,
            "overflow_y": null,
            "padding": null,
            "right": null,
            "top": null,
            "visibility": null,
            "width": null
          }
        },
        "d1017084e5e14b4bb8ddbeba544f7e1e": {
          "model_module": "@jupyter-widgets/controls",
          "model_name": "DescriptionStyleModel",
          "model_module_version": "1.5.0",
          "state": {
            "_model_module": "@jupyter-widgets/controls",
            "_model_module_version": "1.5.0",
            "_model_name": "DescriptionStyleModel",
            "_view_count": null,
            "_view_module": "@jupyter-widgets/base",
            "_view_module_version": "1.2.0",
            "_view_name": "StyleView",
            "description_width": ""
          }
        },
        "0f78e65aae914e38b3ec920c48942a32": {
          "model_module": "@jupyter-widgets/controls",
          "model_name": "HBoxModel",
          "model_module_version": "1.5.0",
          "state": {
            "_dom_classes": [],
            "_model_module": "@jupyter-widgets/controls",
            "_model_module_version": "1.5.0",
            "_model_name": "HBoxModel",
            "_view_count": null,
            "_view_module": "@jupyter-widgets/controls",
            "_view_module_version": "1.5.0",
            "_view_name": "HBoxView",
            "box_style": "",
            "children": [
              "IPY_MODEL_ad9f72ace574432badaef272560e1a6e",
              "IPY_MODEL_fed53c05bd464046bb28a67d6be5f933",
              "IPY_MODEL_f63351c056cd41e0b0b22e4c065e8aae"
            ],
            "layout": "IPY_MODEL_6d256658254f4c40822c2999aceaaca3"
          }
        },
        "ad9f72ace574432badaef272560e1a6e": {
          "model_module": "@jupyter-widgets/controls",
          "model_name": "HTMLModel",
          "model_module_version": "1.5.0",
          "state": {
            "_dom_classes": [],
            "_model_module": "@jupyter-widgets/controls",
            "_model_module_version": "1.5.0",
            "_model_name": "HTMLModel",
            "_view_count": null,
            "_view_module": "@jupyter-widgets/controls",
            "_view_module_version": "1.5.0",
            "_view_name": "HTMLView",
            "description": "",
            "description_tooltip": null,
            "layout": "IPY_MODEL_44f686ddf3fd450aa6f81fafa02d99bb",
            "placeholder": "​",
            "style": "IPY_MODEL_7f04263835704bd697a76d3ce97fb628",
            "value": "Downloading: 100%"
          }
        },
        "fed53c05bd464046bb28a67d6be5f933": {
          "model_module": "@jupyter-widgets/controls",
          "model_name": "FloatProgressModel",
          "model_module_version": "1.5.0",
          "state": {
            "_dom_classes": [],
            "_model_module": "@jupyter-widgets/controls",
            "_model_module_version": "1.5.0",
            "_model_name": "FloatProgressModel",
            "_view_count": null,
            "_view_module": "@jupyter-widgets/controls",
            "_view_module_version": "1.5.0",
            "_view_name": "ProgressView",
            "bar_style": "success",
            "description": "",
            "description_tooltip": null,
            "layout": "IPY_MODEL_707c99978ab140388867291058594e56",
            "max": 526681800,
            "min": 0,
            "orientation": "horizontal",
            "style": "IPY_MODEL_ea66ca635a834b008bf2e5e9ce1ca413",
            "value": 526681800
          }
        },
        "f63351c056cd41e0b0b22e4c065e8aae": {
          "model_module": "@jupyter-widgets/controls",
          "model_name": "HTMLModel",
          "model_module_version": "1.5.0",
          "state": {
            "_dom_classes": [],
            "_model_module": "@jupyter-widgets/controls",
            "_model_module_version": "1.5.0",
            "_model_name": "HTMLModel",
            "_view_count": null,
            "_view_module": "@jupyter-widgets/controls",
            "_view_module_version": "1.5.0",
            "_view_name": "HTMLView",
            "description": "",
            "description_tooltip": null,
            "layout": "IPY_MODEL_47cfe8e330b04a1990144c06d509f5dd",
            "placeholder": "​",
            "style": "IPY_MODEL_25bbb13763794c39b09972192475f01d",
            "value": " 527M/527M [00:19&lt;00:00, 21.5MB/s]"
          }
        },
        "6d256658254f4c40822c2999aceaaca3": {
          "model_module": "@jupyter-widgets/base",
          "model_name": "LayoutModel",
          "model_module_version": "1.2.0",
          "state": {
            "_model_module": "@jupyter-widgets/base",
            "_model_module_version": "1.2.0",
            "_model_name": "LayoutModel",
            "_view_count": null,
            "_view_module": "@jupyter-widgets/base",
            "_view_module_version": "1.2.0",
            "_view_name": "LayoutView",
            "align_content": null,
            "align_items": null,
            "align_self": null,
            "border": null,
            "bottom": null,
            "display": null,
            "flex": null,
            "flex_flow": null,
            "grid_area": null,
            "grid_auto_columns": null,
            "grid_auto_flow": null,
            "grid_auto_rows": null,
            "grid_column": null,
            "grid_gap": null,
            "grid_row": null,
            "grid_template_areas": null,
            "grid_template_columns": null,
            "grid_template_rows": null,
            "height": null,
            "justify_content": null,
            "justify_items": null,
            "left": null,
            "margin": null,
            "max_height": null,
            "max_width": null,
            "min_height": null,
            "min_width": null,
            "object_fit": null,
            "object_position": null,
            "order": null,
            "overflow": null,
            "overflow_x": null,
            "overflow_y": null,
            "padding": null,
            "right": null,
            "top": null,
            "visibility": null,
            "width": null
          }
        },
        "44f686ddf3fd450aa6f81fafa02d99bb": {
          "model_module": "@jupyter-widgets/base",
          "model_name": "LayoutModel",
          "model_module_version": "1.2.0",
          "state": {
            "_model_module": "@jupyter-widgets/base",
            "_model_module_version": "1.2.0",
            "_model_name": "LayoutModel",
            "_view_count": null,
            "_view_module": "@jupyter-widgets/base",
            "_view_module_version": "1.2.0",
            "_view_name": "LayoutView",
            "align_content": null,
            "align_items": null,
            "align_self": null,
            "border": null,
            "bottom": null,
            "display": null,
            "flex": null,
            "flex_flow": null,
            "grid_area": null,
            "grid_auto_columns": null,
            "grid_auto_flow": null,
            "grid_auto_rows": null,
            "grid_column": null,
            "grid_gap": null,
            "grid_row": null,
            "grid_template_areas": null,
            "grid_template_columns": null,
            "grid_template_rows": null,
            "height": null,
            "justify_content": null,
            "justify_items": null,
            "left": null,
            "margin": null,
            "max_height": null,
            "max_width": null,
            "min_height": null,
            "min_width": null,
            "object_fit": null,
            "object_position": null,
            "order": null,
            "overflow": null,
            "overflow_x": null,
            "overflow_y": null,
            "padding": null,
            "right": null,
            "top": null,
            "visibility": null,
            "width": null
          }
        },
        "7f04263835704bd697a76d3ce97fb628": {
          "model_module": "@jupyter-widgets/controls",
          "model_name": "DescriptionStyleModel",
          "model_module_version": "1.5.0",
          "state": {
            "_model_module": "@jupyter-widgets/controls",
            "_model_module_version": "1.5.0",
            "_model_name": "DescriptionStyleModel",
            "_view_count": null,
            "_view_module": "@jupyter-widgets/base",
            "_view_module_version": "1.2.0",
            "_view_name": "StyleView",
            "description_width": ""
          }
        },
        "707c99978ab140388867291058594e56": {
          "model_module": "@jupyter-widgets/base",
          "model_name": "LayoutModel",
          "model_module_version": "1.2.0",
          "state": {
            "_model_module": "@jupyter-widgets/base",
            "_model_module_version": "1.2.0",
            "_model_name": "LayoutModel",
            "_view_count": null,
            "_view_module": "@jupyter-widgets/base",
            "_view_module_version": "1.2.0",
            "_view_name": "LayoutView",
            "align_content": null,
            "align_items": null,
            "align_self": null,
            "border": null,
            "bottom": null,
            "display": null,
            "flex": null,
            "flex_flow": null,
            "grid_area": null,
            "grid_auto_columns": null,
            "grid_auto_flow": null,
            "grid_auto_rows": null,
            "grid_column": null,
            "grid_gap": null,
            "grid_row": null,
            "grid_template_areas": null,
            "grid_template_columns": null,
            "grid_template_rows": null,
            "height": null,
            "justify_content": null,
            "justify_items": null,
            "left": null,
            "margin": null,
            "max_height": null,
            "max_width": null,
            "min_height": null,
            "min_width": null,
            "object_fit": null,
            "object_position": null,
            "order": null,
            "overflow": null,
            "overflow_x": null,
            "overflow_y": null,
            "padding": null,
            "right": null,
            "top": null,
            "visibility": null,
            "width": null
          }
        },
        "ea66ca635a834b008bf2e5e9ce1ca413": {
          "model_module": "@jupyter-widgets/controls",
          "model_name": "ProgressStyleModel",
          "model_module_version": "1.5.0",
          "state": {
            "_model_module": "@jupyter-widgets/controls",
            "_model_module_version": "1.5.0",
            "_model_name": "ProgressStyleModel",
            "_view_count": null,
            "_view_module": "@jupyter-widgets/base",
            "_view_module_version": "1.2.0",
            "_view_name": "StyleView",
            "bar_color": null,
            "description_width": ""
          }
        },
        "47cfe8e330b04a1990144c06d509f5dd": {
          "model_module": "@jupyter-widgets/base",
          "model_name": "LayoutModel",
          "model_module_version": "1.2.0",
          "state": {
            "_model_module": "@jupyter-widgets/base",
            "_model_module_version": "1.2.0",
            "_model_name": "LayoutModel",
            "_view_count": null,
            "_view_module": "@jupyter-widgets/base",
            "_view_module_version": "1.2.0",
            "_view_name": "LayoutView",
            "align_content": null,
            "align_items": null,
            "align_self": null,
            "border": null,
            "bottom": null,
            "display": null,
            "flex": null,
            "flex_flow": null,
            "grid_area": null,
            "grid_auto_columns": null,
            "grid_auto_flow": null,
            "grid_auto_rows": null,
            "grid_column": null,
            "grid_gap": null,
            "grid_row": null,
            "grid_template_areas": null,
            "grid_template_columns": null,
            "grid_template_rows": null,
            "height": null,
            "justify_content": null,
            "justify_items": null,
            "left": null,
            "margin": null,
            "max_height": null,
            "max_width": null,
            "min_height": null,
            "min_width": null,
            "object_fit": null,
            "object_position": null,
            "order": null,
            "overflow": null,
            "overflow_x": null,
            "overflow_y": null,
            "padding": null,
            "right": null,
            "top": null,
            "visibility": null,
            "width": null
          }
        },
        "25bbb13763794c39b09972192475f01d": {
          "model_module": "@jupyter-widgets/controls",
          "model_name": "DescriptionStyleModel",
          "model_module_version": "1.5.0",
          "state": {
            "_model_module": "@jupyter-widgets/controls",
            "_model_module_version": "1.5.0",
            "_model_name": "DescriptionStyleModel",
            "_view_count": null,
            "_view_module": "@jupyter-widgets/base",
            "_view_module_version": "1.2.0",
            "_view_name": "StyleView",
            "description_width": ""
          }
        },
        "1d129039b0da436aa785c70202648b74": {
          "model_module": "@jupyter-widgets/controls",
          "model_name": "HBoxModel",
          "model_module_version": "1.5.0",
          "state": {
            "_dom_classes": [],
            "_model_module": "@jupyter-widgets/controls",
            "_model_module_version": "1.5.0",
            "_model_name": "HBoxModel",
            "_view_count": null,
            "_view_module": "@jupyter-widgets/controls",
            "_view_module_version": "1.5.0",
            "_view_name": "HBoxView",
            "box_style": "",
            "children": [
              "IPY_MODEL_7bae8dc1b0394bdf92d35e6d2292d63f",
              "IPY_MODEL_7d619e257209426aaa80280a741e33f3",
              "IPY_MODEL_a8e1df356aa744688208e22aeab7df06"
            ],
            "layout": "IPY_MODEL_35d6c34d818f434189caefd31e0013be"
          }
        },
        "7bae8dc1b0394bdf92d35e6d2292d63f": {
          "model_module": "@jupyter-widgets/controls",
          "model_name": "HTMLModel",
          "model_module_version": "1.5.0",
          "state": {
            "_dom_classes": [],
            "_model_module": "@jupyter-widgets/controls",
            "_model_module_version": "1.5.0",
            "_model_name": "HTMLModel",
            "_view_count": null,
            "_view_module": "@jupyter-widgets/controls",
            "_view_module_version": "1.5.0",
            "_view_name": "HTMLView",
            "description": "",
            "description_tooltip": null,
            "layout": "IPY_MODEL_b044d379917248e29d18a7b80bbff59f",
            "placeholder": "​",
            "style": "IPY_MODEL_7c81b93771f34614aab66e7227ebca9b",
            "value": ""
          }
        },
        "7d619e257209426aaa80280a741e33f3": {
          "model_module": "@jupyter-widgets/controls",
          "model_name": "FloatProgressModel",
          "model_module_version": "1.5.0",
          "state": {
            "_dom_classes": [],
            "_model_module": "@jupyter-widgets/controls",
            "_model_module_version": "1.5.0",
            "_model_name": "FloatProgressModel",
            "_view_count": null,
            "_view_module": "@jupyter-widgets/controls",
            "_view_module_version": "1.5.0",
            "_view_name": "ProgressView",
            "bar_style": "success",
            "description": "",
            "description_tooltip": null,
            "layout": "IPY_MODEL_19a9bcffcc8f4af8a353eec050a544be",
            "max": 1,
            "min": 0,
            "orientation": "horizontal",
            "style": "IPY_MODEL_c6624862c92f412cbfb3c02c9591044a",
            "value": 0
          }
        },
        "a8e1df356aa744688208e22aeab7df06": {
          "model_module": "@jupyter-widgets/controls",
          "model_name": "HTMLModel",
          "model_module_version": "1.5.0",
          "state": {
            "_dom_classes": [],
            "_model_module": "@jupyter-widgets/controls",
            "_model_module_version": "1.5.0",
            "_model_name": "HTMLModel",
            "_view_count": null,
            "_view_module": "@jupyter-widgets/controls",
            "_view_module_version": "1.5.0",
            "_view_name": "HTMLView",
            "description": "",
            "description_tooltip": null,
            "layout": "IPY_MODEL_c1b9ab6dc6ab4926b1095d5c3fb69009",
            "placeholder": "​",
            "style": "IPY_MODEL_4afda520baf14b7d886738fdfc60f6ed",
            "value": " 0/0 [00:00&lt;?, ?it/s]"
          }
        },
        "35d6c34d818f434189caefd31e0013be": {
          "model_module": "@jupyter-widgets/base",
          "model_name": "LayoutModel",
          "model_module_version": "1.2.0",
          "state": {
            "_model_module": "@jupyter-widgets/base",
            "_model_module_version": "1.2.0",
            "_model_name": "LayoutModel",
            "_view_count": null,
            "_view_module": "@jupyter-widgets/base",
            "_view_module_version": "1.2.0",
            "_view_name": "LayoutView",
            "align_content": null,
            "align_items": null,
            "align_self": null,
            "border": null,
            "bottom": null,
            "display": null,
            "flex": null,
            "flex_flow": null,
            "grid_area": null,
            "grid_auto_columns": null,
            "grid_auto_flow": null,
            "grid_auto_rows": null,
            "grid_column": null,
            "grid_gap": null,
            "grid_row": null,
            "grid_template_areas": null,
            "grid_template_columns": null,
            "grid_template_rows": null,
            "height": null,
            "justify_content": null,
            "justify_items": null,
            "left": null,
            "margin": null,
            "max_height": null,
            "max_width": null,
            "min_height": null,
            "min_width": null,
            "object_fit": null,
            "object_position": null,
            "order": null,
            "overflow": null,
            "overflow_x": null,
            "overflow_y": null,
            "padding": null,
            "right": null,
            "top": null,
            "visibility": null,
            "width": null
          }
        },
        "b044d379917248e29d18a7b80bbff59f": {
          "model_module": "@jupyter-widgets/base",
          "model_name": "LayoutModel",
          "model_module_version": "1.2.0",
          "state": {
            "_model_module": "@jupyter-widgets/base",
            "_model_module_version": "1.2.0",
            "_model_name": "LayoutModel",
            "_view_count": null,
            "_view_module": "@jupyter-widgets/base",
            "_view_module_version": "1.2.0",
            "_view_name": "LayoutView",
            "align_content": null,
            "align_items": null,
            "align_self": null,
            "border": null,
            "bottom": null,
            "display": null,
            "flex": null,
            "flex_flow": null,
            "grid_area": null,
            "grid_auto_columns": null,
            "grid_auto_flow": null,
            "grid_auto_rows": null,
            "grid_column": null,
            "grid_gap": null,
            "grid_row": null,
            "grid_template_areas": null,
            "grid_template_columns": null,
            "grid_template_rows": null,
            "height": null,
            "justify_content": null,
            "justify_items": null,
            "left": null,
            "margin": null,
            "max_height": null,
            "max_width": null,
            "min_height": null,
            "min_width": null,
            "object_fit": null,
            "object_position": null,
            "order": null,
            "overflow": null,
            "overflow_x": null,
            "overflow_y": null,
            "padding": null,
            "right": null,
            "top": null,
            "visibility": null,
            "width": null
          }
        },
        "7c81b93771f34614aab66e7227ebca9b": {
          "model_module": "@jupyter-widgets/controls",
          "model_name": "DescriptionStyleModel",
          "model_module_version": "1.5.0",
          "state": {
            "_model_module": "@jupyter-widgets/controls",
            "_model_module_version": "1.5.0",
            "_model_name": "DescriptionStyleModel",
            "_view_count": null,
            "_view_module": "@jupyter-widgets/base",
            "_view_module_version": "1.2.0",
            "_view_name": "StyleView",
            "description_width": ""
          }
        },
        "19a9bcffcc8f4af8a353eec050a544be": {
          "model_module": "@jupyter-widgets/base",
          "model_name": "LayoutModel",
          "model_module_version": "1.2.0",
          "state": {
            "_model_module": "@jupyter-widgets/base",
            "_model_module_version": "1.2.0",
            "_model_name": "LayoutModel",
            "_view_count": null,
            "_view_module": "@jupyter-widgets/base",
            "_view_module_version": "1.2.0",
            "_view_name": "LayoutView",
            "align_content": null,
            "align_items": null,
            "align_self": null,
            "border": null,
            "bottom": null,
            "display": null,
            "flex": null,
            "flex_flow": null,
            "grid_area": null,
            "grid_auto_columns": null,
            "grid_auto_flow": null,
            "grid_auto_rows": null,
            "grid_column": null,
            "grid_gap": null,
            "grid_row": null,
            "grid_template_areas": null,
            "grid_template_columns": null,
            "grid_template_rows": null,
            "height": null,
            "justify_content": null,
            "justify_items": null,
            "left": null,
            "margin": null,
            "max_height": null,
            "max_width": null,
            "min_height": null,
            "min_width": null,
            "object_fit": null,
            "object_position": null,
            "order": null,
            "overflow": null,
            "overflow_x": null,
            "overflow_y": null,
            "padding": null,
            "right": null,
            "top": null,
            "visibility": null,
            "width": "20px"
          }
        },
        "c6624862c92f412cbfb3c02c9591044a": {
          "model_module": "@jupyter-widgets/controls",
          "model_name": "ProgressStyleModel",
          "model_module_version": "1.5.0",
          "state": {
            "_model_module": "@jupyter-widgets/controls",
            "_model_module_version": "1.5.0",
            "_model_name": "ProgressStyleModel",
            "_view_count": null,
            "_view_module": "@jupyter-widgets/base",
            "_view_module_version": "1.2.0",
            "_view_name": "StyleView",
            "bar_color": null,
            "description_width": ""
          }
        },
        "c1b9ab6dc6ab4926b1095d5c3fb69009": {
          "model_module": "@jupyter-widgets/base",
          "model_name": "LayoutModel",
          "model_module_version": "1.2.0",
          "state": {
            "_model_module": "@jupyter-widgets/base",
            "_model_module_version": "1.2.0",
            "_model_name": "LayoutModel",
            "_view_count": null,
            "_view_module": "@jupyter-widgets/base",
            "_view_module_version": "1.2.0",
            "_view_name": "LayoutView",
            "align_content": null,
            "align_items": null,
            "align_self": null,
            "border": null,
            "bottom": null,
            "display": null,
            "flex": null,
            "flex_flow": null,
            "grid_area": null,
            "grid_auto_columns": null,
            "grid_auto_flow": null,
            "grid_auto_rows": null,
            "grid_column": null,
            "grid_gap": null,
            "grid_row": null,
            "grid_template_areas": null,
            "grid_template_columns": null,
            "grid_template_rows": null,
            "height": null,
            "justify_content": null,
            "justify_items": null,
            "left": null,
            "margin": null,
            "max_height": null,
            "max_width": null,
            "min_height": null,
            "min_width": null,
            "object_fit": null,
            "object_position": null,
            "order": null,
            "overflow": null,
            "overflow_x": null,
            "overflow_y": null,
            "padding": null,
            "right": null,
            "top": null,
            "visibility": null,
            "width": null
          }
        },
        "4afda520baf14b7d886738fdfc60f6ed": {
          "model_module": "@jupyter-widgets/controls",
          "model_name": "DescriptionStyleModel",
          "model_module_version": "1.5.0",
          "state": {
            "_model_module": "@jupyter-widgets/controls",
            "_model_module_version": "1.5.0",
            "_model_name": "DescriptionStyleModel",
            "_view_count": null,
            "_view_module": "@jupyter-widgets/base",
            "_view_module_version": "1.2.0",
            "_view_name": "StyleView",
            "description_width": ""
          }
        }
      }
    }
  },
  "cells": [
    {
      "cell_type": "code",
      "execution_count": 3,
      "metadata": {
        "id": "yzQ4wLTONaE3"
      },
      "outputs": [],
      "source": [
        "import random\n",
        "import json\n",
        "import pickle\n",
        "import numpy as np\n",
        "import pandas as pd\n",
        "import tensorflow as tf\n",
        "import keras\n",
        "import nltk "
      ]
    },
    {
      "cell_type": "code",
      "source": [
        "nltk.download('punkt')"
      ],
      "metadata": {
        "colab": {
          "base_uri": "https://localhost:8080/"
        },
        "id": "mdvevYpIOGxy",
        "outputId": "f388f023-3658-467c-95b0-ff04676c34b7"
      },
      "execution_count": 13,
      "outputs": [
        {
          "output_type": "stream",
          "name": "stderr",
          "text": [
            "[nltk_data] Downloading package punkt to /root/nltk_data...\n",
            "[nltk_data]   Package punkt is already up-to-date!\n"
          ]
        },
        {
          "output_type": "execute_result",
          "data": {
            "text/plain": [
              "True"
            ]
          },
          "metadata": {},
          "execution_count": 13
        }
      ]
    },
    {
      "cell_type": "code",
      "source": [
        "intents = json.loads(open('intents.json').read())"
      ],
      "metadata": {
        "id": "1iHvB3T9NoBE"
      },
      "execution_count": 14,
      "outputs": []
    },
    {
      "cell_type": "code",
      "source": [
        "words = []\n",
        "classes = []\n",
        "documents = []\n",
        "ignore_letters = ['?', '!', '.', ',']\n",
        "\n",
        "for intent in intents['intents']:\n",
        "    for pattern in intent['patterns']:\n",
        "        word_list = nltk.word_tokenize(pattern)\n",
        "        words.extend(word_list)\n",
        "        documents.append((word_list, intent['tag']))\n",
        "        if intent['tag'] not in classes:\n",
        "            classes.append(intent['tag'])"
      ],
      "metadata": {
        "id": "ovsWTyfsN7q-"
      },
      "execution_count": 15,
      "outputs": []
    },
    {
      "cell_type": "code",
      "source": [
        "words = [word for word in words if word not in ignore_letters]\n",
        "words = sorted(set(words))\n",
        "classes = sorted(set(classes))"
      ],
      "metadata": {
        "id": "Z44kMlr6N-up"
      },
      "execution_count": 16,
      "outputs": []
    },
    {
      "cell_type": "markdown",
      "source": [
        "### **Calculate X**"
      ],
      "metadata": {
        "id": "kivdetWj9Kmz"
      }
    },
    {
      "cell_type": "code",
      "source": [
        "question = []\n",
        "for doc in intents['intents']:\n",
        "  question.append(doc['patterns'])"
      ],
      "metadata": {
        "id": "qJUeBaAJvNkW"
      },
      "execution_count": 17,
      "outputs": []
    },
    {
      "cell_type": "code",
      "source": [
        "question_list = []\n",
        "arr = [[question_list.append(x) for x in q] for q in question]"
      ],
      "metadata": {
        "id": "uN-OnVdxx9pL"
      },
      "execution_count": 18,
      "outputs": []
    },
    {
      "cell_type": "code",
      "source": [
        "question_list"
      ],
      "metadata": {
        "colab": {
          "base_uri": "https://localhost:8080/"
        },
        "id": "jQkLNc-n6hZR",
        "outputId": "7f8f6ece-839c-4340-a0aa-704bc63c2c1b"
      },
      "execution_count": 19,
      "outputs": [
        {
          "output_type": "execute_result",
          "data": {
            "text/plain": [
              "['Hi there',\n",
              " 'How are you',\n",
              " 'How are you?',\n",
              " 'Is anyone there?',\n",
              " 'Hey',\n",
              " 'Hola',\n",
              " 'Hello',\n",
              " 'Good day',\n",
              " 'Bye',\n",
              " 'See you later',\n",
              " 'Goodbye',\n",
              " 'Nice chatting to you, bye',\n",
              " 'Till next time',\n",
              " 'Thanks',\n",
              " 'Thank you',\n",
              " \"That's helpful\",\n",
              " 'Awesome, thanks',\n",
              " 'Thanks for helping me',\n",
              " 'what is your name',\n",
              " 'what should I call you',\n",
              " 'whats your name?',\n",
              " 'who are you?',\n",
              " 'how old',\n",
              " 'old',\n",
              " 'how old is florian',\n",
              " 'what is your age',\n",
              " 'old are you',\n",
              " 'age?',\n",
              " 'How you could help me?',\n",
              " 'What you can do?',\n",
              " 'What help you provide?',\n",
              " 'How you can be helpful?',\n",
              " 'What support is offered',\n",
              " 'How to check Adverse drug reaction?',\n",
              " 'Open adverse drugs module',\n",
              " 'Give me a list of drugs causing adverse behavior',\n",
              " 'List all drugs suitable for patient with adverse reaction',\n",
              " 'Which drugs dont have adverse reaction?',\n",
              " 'Open blood pressure module',\n",
              " 'Task related to blood pressure',\n",
              " 'Blood pressure data entry',\n",
              " 'I want to log blood pressure results',\n",
              " 'Blood pressure data management',\n",
              " 'I want to search for blood pressure result history',\n",
              " 'Blood pressure for patient',\n",
              " 'Load patient blood pressure result',\n",
              " 'Show blood pressure results for patient',\n",
              " 'Find blood pressure results by ID',\n",
              " 'Find me a pharmacy',\n",
              " 'Find pharmacy',\n",
              " 'List of pharmacies nearby',\n",
              " 'Locate pharmacy',\n",
              " 'Search pharmacy',\n",
              " 'Lookup for hospital',\n",
              " 'Searching for hospital to transfer patient',\n",
              " 'I want to search hospital data',\n",
              " 'Hospital lookup for patient',\n",
              " 'Looking up hospital details']"
            ]
          },
          "metadata": {},
          "execution_count": 19
        }
      ]
    },
    {
      "cell_type": "markdown",
      "source": [
        "### **Calculate Y**"
      ],
      "metadata": {
        "id": "Ir-dD3l49SJO"
      }
    },
    {
      "cell_type": "code",
      "source": [
        "tag = []\n",
        "for doc in documents:\n",
        "  tag.append(doc[1])"
      ],
      "metadata": {
        "id": "9oVdreh59VhB"
      },
      "execution_count": 20,
      "outputs": []
    },
    {
      "cell_type": "code",
      "source": [
        "Y = pd.get_dummies(tag)"
      ],
      "metadata": {
        "id": "xsw1XnGA9cG0"
      },
      "execution_count": 21,
      "outputs": []
    },
    {
      "cell_type": "code",
      "source": [
        "num_unique_tags = len(Y.nunique())"
      ],
      "metadata": {
        "id": "VnSFXahB-TOl"
      },
      "execution_count": 22,
      "outputs": []
    },
    {
      "cell_type": "code",
      "source": [
        "num_unique_tags"
      ],
      "metadata": {
        "colab": {
          "base_uri": "https://localhost:8080/"
        },
        "id": "_GewrS-U-b4H",
        "outputId": "a7593fff-43e6-446a-e1cd-c8a5a0b3d56d"
      },
      "execution_count": 23,
      "outputs": [
        {
          "output_type": "execute_result",
          "data": {
            "text/plain": [
              "11"
            ]
          },
          "metadata": {},
          "execution_count": 23
        }
      ]
    },
    {
      "cell_type": "markdown",
      "source": [
        "### **X and Y**"
      ],
      "metadata": {
        "id": "3ni9YRQR9sfJ"
      }
    },
    {
      "cell_type": "code",
      "source": [
        "X_train = np.array(question_list)[0:50]\n",
        "y_train = np.array(Y)[0:50]\n",
        "X_test = np.array(question_list)[50:]\n",
        "y_test = np.array(Y)[50:]"
      ],
      "metadata": {
        "id": "3YR73qG0Olgz"
      },
      "execution_count": 24,
      "outputs": []
    },
    {
      "cell_type": "code",
      "source": [
        "print(len(X_train))\n",
        "print(len(y_train))\n",
        "print(len(X_test))\n",
        "print(len(y_test))"
      ],
      "metadata": {
        "colab": {
          "base_uri": "https://localhost:8080/"
        },
        "id": "aMN-I86Nrpv7",
        "outputId": "ec2e8827-15b3-497a-d279-a7463f08b209"
      },
      "execution_count": 25,
      "outputs": [
        {
          "output_type": "stream",
          "name": "stdout",
          "text": [
            "50\n",
            "50\n",
            "8\n",
            "8\n"
          ]
        }
      ]
    },
    {
      "cell_type": "markdown",
      "source": [
        "### **Fine Tune on BERT**"
      ],
      "metadata": {
        "id": "zX_TRgfi9IHr"
      }
    },
    {
      "cell_type": "code",
      "source": [
        "!pip install -q transformers"
      ],
      "metadata": {
        "id": "Oa6ZBOEy9N0q",
        "colab": {
          "base_uri": "https://localhost:8080/"
        },
        "outputId": "a67416ec-5e89-46f8-896c-260a8fcfc401"
      },
      "execution_count": 16,
      "outputs": [
        {
          "output_type": "stream",
          "name": "stdout",
          "text": [
            "\u001b[K     |████████████████████████████████| 4.9 MB 5.0 MB/s \n",
            "\u001b[K     |████████████████████████████████| 6.6 MB 39.1 MB/s \n",
            "\u001b[K     |████████████████████████████████| 163 kB 72.8 MB/s \n",
            "\u001b[?25h"
          ]
        }
      ]
    },
    {
      "cell_type": "code",
      "source": [
        "from transformers import AutoTokenizer, TFBertModel\n",
        "tokenizer = AutoTokenizer.from_pretrained('bert-base-cased')\n",
        "bert = TFBertModel.from_pretrained('bert-base-cased')"
      ],
      "metadata": {
        "colab": {
          "base_uri": "https://localhost:8080/",
          "height": 288,
          "referenced_widgets": [
            "7e9128e715554a5db12b62892cdf0086",
            "c931e9e297444afeb75c78cdff510f2b",
            "4d93c6ee6bed4ce6970de19044d2522c",
            "89da0b527be44c22b3454f24ec1ec14d",
            "94eb5512eb6640c1b13df57caaa157fc",
            "fe06d5e6813144c7a2967c8ba5545d70",
            "edaa1dc6c0cc4dc6b72f66235786f810",
            "17b39174b5e141649098f61c952676c1",
            "9597d0a441154e54bde02cf0c6bc94df",
            "f61ab123aea24bcea46378f538b46eed",
            "49b6b0ae761c43febcfa1b3b9c322910",
            "2ba1bf215c4a4e238e03cb6bf132b560",
            "147e56877cd24242a1c71ee8392d6f52",
            "b8aba6fdfd7c492c9e5097801cf4bb85",
            "90ce48fd29024c2789f9382d5863d12e",
            "069c5d739d484534b0232f0cba9d1741",
            "91c7e0eac25a441485903f7fa2fe66fa",
            "465b1b708f1c4c6a938dce02294cb7b4",
            "82d92f176f7140b690ed257eb281d89d",
            "30f69d1830274a81a9b94039ce42a4ce",
            "178657a053ce4ecbad517edf17652dd4",
            "87fa55da114b485e83381a549eb28ffd",
            "3a6df996d4d748db84877b4bc69b2b82",
            "c077304b344b4b058d26930833e68818",
            "c65caa224943441298bb49ae13566881",
            "7d2d7bc981894728aedc668ea255bd52",
            "c33c3c077dc84d63af01ef5b6b36bb75",
            "c42db039ff5f4def87e53a862db41dd3",
            "6ec25d26048943dba74e334c51ef70d3",
            "21d21bdc58d845e88f6da9e5dbab7feb",
            "4d401a36168049608d98456b26b85a25",
            "bccc0327582f4640b82243630aeeb5f3",
            "6b7a858a8fee4e8b87358d5ff79372d5",
            "8e679fd85d574a31927b3df245e7af8a",
            "571d0d303599426ca668f1c3fe203e6c",
            "e64864b08726451299549d75ba26dd89",
            "3037b33fd3c54ab4bf5ab2e4b96dcfac",
            "cf649993d9f84e19947da9626e194c68",
            "0ab0771c132e48149e7b6304c5ec4421",
            "08de9ccafbde4da7b32f5c6eab9c270a",
            "7c15eaf4735547d6979ae8216ca2c8b0",
            "cb66a81638894ad4804e403c268323ca",
            "393aeb3d57a540c28a5de42789cdedd9",
            "d1017084e5e14b4bb8ddbeba544f7e1e",
            "0f78e65aae914e38b3ec920c48942a32",
            "ad9f72ace574432badaef272560e1a6e",
            "fed53c05bd464046bb28a67d6be5f933",
            "f63351c056cd41e0b0b22e4c065e8aae",
            "6d256658254f4c40822c2999aceaaca3",
            "44f686ddf3fd450aa6f81fafa02d99bb",
            "7f04263835704bd697a76d3ce97fb628",
            "707c99978ab140388867291058594e56",
            "ea66ca635a834b008bf2e5e9ce1ca413",
            "47cfe8e330b04a1990144c06d509f5dd",
            "25bbb13763794c39b09972192475f01d"
          ]
        },
        "id": "6UtCeLXVHvhP",
        "outputId": "7faeff14-793f-4e7d-9276-151892062f35"
      },
      "execution_count": 17,
      "outputs": [
        {
          "output_type": "display_data",
          "data": {
            "text/plain": [
              "Downloading:   0%|          | 0.00/29.0 [00:00<?, ?B/s]"
            ],
            "application/vnd.jupyter.widget-view+json": {
              "version_major": 2,
              "version_minor": 0,
              "model_id": "7e9128e715554a5db12b62892cdf0086"
            }
          },
          "metadata": {}
        },
        {
          "output_type": "display_data",
          "data": {
            "text/plain": [
              "Downloading:   0%|          | 0.00/570 [00:00<?, ?B/s]"
            ],
            "application/vnd.jupyter.widget-view+json": {
              "version_major": 2,
              "version_minor": 0,
              "model_id": "2ba1bf215c4a4e238e03cb6bf132b560"
            }
          },
          "metadata": {}
        },
        {
          "output_type": "display_data",
          "data": {
            "text/plain": [
              "Downloading:   0%|          | 0.00/213k [00:00<?, ?B/s]"
            ],
            "application/vnd.jupyter.widget-view+json": {
              "version_major": 2,
              "version_minor": 0,
              "model_id": "3a6df996d4d748db84877b4bc69b2b82"
            }
          },
          "metadata": {}
        },
        {
          "output_type": "display_data",
          "data": {
            "text/plain": [
              "Downloading:   0%|          | 0.00/436k [00:00<?, ?B/s]"
            ],
            "application/vnd.jupyter.widget-view+json": {
              "version_major": 2,
              "version_minor": 0,
              "model_id": "8e679fd85d574a31927b3df245e7af8a"
            }
          },
          "metadata": {}
        },
        {
          "output_type": "display_data",
          "data": {
            "text/plain": [
              "Downloading:   0%|          | 0.00/527M [00:00<?, ?B/s]"
            ],
            "application/vnd.jupyter.widget-view+json": {
              "version_major": 2,
              "version_minor": 0,
              "model_id": "0f78e65aae914e38b3ec920c48942a32"
            }
          },
          "metadata": {}
        },
        {
          "output_type": "stream",
          "name": "stderr",
          "text": [
            "Some layers from the model checkpoint at bert-base-cased were not used when initializing TFBertModel: ['nsp___cls', 'mlm___cls']\n",
            "- This IS expected if you are initializing TFBertModel from the checkpoint of a model trained on another task or with another architecture (e.g. initializing a BertForSequenceClassification model from a BertForPreTraining model).\n",
            "- This IS NOT expected if you are initializing TFBertModel from the checkpoint of a model that you expect to be exactly identical (initializing a BertForSequenceClassification model from a BertForSequenceClassification model).\n",
            "All the layers of TFBertModel were initialized from the model checkpoint at bert-base-cased.\n",
            "If your task is similar to the task the model of the checkpoint was trained on, you can already use TFBertModel for predictions without further training.\n"
          ]
        }
      ]
    },
    {
      "cell_type": "code",
      "source": [
        "train_encodings = tokenizer(\n",
        "    text=X_train.tolist(),\n",
        "    add_special_tokens=True,\n",
        "    max_length=9,\n",
        "    truncation=True,\n",
        "    padding=True, \n",
        "    return_tensors='tf',\n",
        "    return_token_type_ids = False,\n",
        "    return_attention_mask = True,\n",
        "    verbose = True)\n",
        "\n",
        "test_encodings = tokenizer(\n",
        "    text=X_test.tolist(),\n",
        "    add_special_tokens=True,\n",
        "    max_length=9,\n",
        "    truncation=True,\n",
        "    padding=True, \n",
        "    return_tensors='tf',\n",
        "    return_token_type_ids = False,\n",
        "    return_attention_mask = True,\n",
        "    verbose = True)"
      ],
      "metadata": {
        "id": "ZDzUrYzCH1aw"
      },
      "execution_count": 18,
      "outputs": []
    },
    {
      "cell_type": "code",
      "source": [
        "train_encodings"
      ],
      "metadata": {
        "colab": {
          "base_uri": "https://localhost:8080/"
        },
        "id": "L3-xowM7KKy3",
        "outputId": "89c0f592-6c4a-4a7e-ef05-87a769652b52"
      },
      "execution_count": 19,
      "outputs": [
        {
          "output_type": "execute_result",
          "data": {
            "text/plain": [
              "{'input_ids': <tf.Tensor: shape=(50, 9), dtype=int32, numpy=\n",
              "array([[  101,  8790,  1175,   102,     0,     0,     0,     0,     0],\n",
              "       [  101,  1731,  1132,  1128,   102,     0,     0,     0,     0],\n",
              "       [  101,  1731,  1132,  1128,   136,   102,     0,     0,     0],\n",
              "       [  101,  2181,  2256,  1175,   136,   102,     0,     0,     0],\n",
              "       [  101,  4403,   102,     0,     0,     0,     0,     0,     0],\n",
              "       [  101,  9800,  1742,   102,     0,     0,     0,     0,     0],\n",
              "       [  101,  8667,   102,     0,     0,     0,     0,     0,     0],\n",
              "       [  101,  2750,  1285,   102,     0,     0,     0,     0,     0],\n",
              "       [  101, 17774,   102,     0,     0,     0,     0,     0,     0],\n",
              "       [  101,  3969,  1128,  1224,   102,     0,     0,     0,     0],\n",
              "       [  101, 15938,   102,     0,     0,     0,     0,     0,     0],\n",
              "       [  101,  8835, 25132,  1106,  1128,   117, 11901,   102,     0],\n",
              "       [  101, 22430,  1397,  1159,   102,     0,     0,     0,     0],\n",
              "       [  101,  5749,   102,     0,     0,     0,     0,     0,     0],\n",
              "       [  101,  4514,  1128,   102,     0,     0,     0,     0,     0],\n",
              "       [  101,  1337,   112,   188, 14739,   102,     0,     0,     0],\n",
              "       [  101,   138, 14291,  6758,   117,  5438,   102,     0,     0],\n",
              "       [  101,  5749,  1111,  4395,  1143,   102,     0,     0,     0],\n",
              "       [  101,  1184,  1110,  1240,  1271,   102,     0,     0,     0],\n",
              "       [  101,  1184,  1431,   146,  1840,  1128,   102,     0,     0],\n",
              "       [  101,  1184,  1116,  1240,  1271,   136,   102,     0,     0],\n",
              "       [  101,  1150,  1132,  1128,   136,   102,     0,     0,     0],\n",
              "       [  101,  1293,  1385,   102,     0,     0,     0,     0,     0],\n",
              "       [  101,  1385,   102,     0,     0,     0,     0,     0,     0],\n",
              "       [  101,  1293,  1385,  1110, 22593, 16420,  1179,   102,     0],\n",
              "       [  101,  1184,  1110,  1240,  1425,   102,     0,     0,     0],\n",
              "       [  101,  1385,  1132,  1128,   102,     0,     0,     0,     0],\n",
              "       [  101,  1425,   136,   102,     0,     0,     0,     0,     0],\n",
              "       [  101,  1731,  1128,  1180,  1494,  1143,   136,   102,     0],\n",
              "       [  101,  1327,  1128,  1169,  1202,   136,   102,     0,     0],\n",
              "       [  101,  1327,  1494,  1128,  2194,   136,   102,     0,     0],\n",
              "       [  101,  1731,  1128,  1169,  1129, 14739,   136,   102,     0],\n",
              "       [  101,  1327,  1619,  1110,  2356,   102,     0,     0,     0],\n",
              "       [  101,  1731,  1106,  4031, 24930, 10840,  3850,  3943,   102],\n",
              "       [  101,  3353, 16798,  5557, 13196,   102,     0,     0,     0],\n",
              "       [  101,  7193,  1143,   170,  2190,  1104,  5557,  3989,   102],\n",
              "       [  101,  5619,  1155,  5557,  6736,  1111,  5351,  1114,   102],\n",
              "       [  101,  5979,  5557,  1274,  1204,  1138, 16798,  3943,   102],\n",
              "       [  101,  3353,  1892,  2997, 13196,   102,     0,     0,     0],\n",
              "       [  101, 11513,  2272,  1106,  1892,  2997,   102,     0,     0],\n",
              "       [  101,  5657,  2997,  2233,  3990,   102,     0,     0,     0],\n",
              "       [  101,   146,  1328,  1106,  9366,  1892,  2997,  2686,   102],\n",
              "       [  101,  5657,  2997,  2233,  2635,   102,     0,     0,     0],\n",
              "       [  101,   146,  1328,  1106,  3403,  1111,  1892,  2997,   102],\n",
              "       [  101,  5657,  2997,  1111,  5351,   102,     0,     0,     0],\n",
              "       [  101, 10605,  3556,  5351,  1892,  2997,  1871,   102,     0],\n",
              "       [  101,  3237,  1892,  2997,  2686,  1111,  5351,   102,     0],\n",
              "       [  101, 15944,  1892,  2997,  2686,  1118, 10999,   102,     0],\n",
              "       [  101, 15944,  1143,   170, 22759,   102,     0,     0,     0],\n",
              "       [  101, 15944, 22759,   102,     0,     0,     0,     0,     0]],\n",
              "      dtype=int32)>, 'attention_mask': <tf.Tensor: shape=(50, 9), dtype=int32, numpy=\n",
              "array([[1, 1, 1, 1, 0, 0, 0, 0, 0],\n",
              "       [1, 1, 1, 1, 1, 0, 0, 0, 0],\n",
              "       [1, 1, 1, 1, 1, 1, 0, 0, 0],\n",
              "       [1, 1, 1, 1, 1, 1, 0, 0, 0],\n",
              "       [1, 1, 1, 0, 0, 0, 0, 0, 0],\n",
              "       [1, 1, 1, 1, 0, 0, 0, 0, 0],\n",
              "       [1, 1, 1, 0, 0, 0, 0, 0, 0],\n",
              "       [1, 1, 1, 1, 0, 0, 0, 0, 0],\n",
              "       [1, 1, 1, 0, 0, 0, 0, 0, 0],\n",
              "       [1, 1, 1, 1, 1, 0, 0, 0, 0],\n",
              "       [1, 1, 1, 0, 0, 0, 0, 0, 0],\n",
              "       [1, 1, 1, 1, 1, 1, 1, 1, 0],\n",
              "       [1, 1, 1, 1, 1, 0, 0, 0, 0],\n",
              "       [1, 1, 1, 0, 0, 0, 0, 0, 0],\n",
              "       [1, 1, 1, 1, 0, 0, 0, 0, 0],\n",
              "       [1, 1, 1, 1, 1, 1, 0, 0, 0],\n",
              "       [1, 1, 1, 1, 1, 1, 1, 0, 0],\n",
              "       [1, 1, 1, 1, 1, 1, 0, 0, 0],\n",
              "       [1, 1, 1, 1, 1, 1, 0, 0, 0],\n",
              "       [1, 1, 1, 1, 1, 1, 1, 0, 0],\n",
              "       [1, 1, 1, 1, 1, 1, 1, 0, 0],\n",
              "       [1, 1, 1, 1, 1, 1, 0, 0, 0],\n",
              "       [1, 1, 1, 1, 0, 0, 0, 0, 0],\n",
              "       [1, 1, 1, 0, 0, 0, 0, 0, 0],\n",
              "       [1, 1, 1, 1, 1, 1, 1, 1, 0],\n",
              "       [1, 1, 1, 1, 1, 1, 0, 0, 0],\n",
              "       [1, 1, 1, 1, 1, 0, 0, 0, 0],\n",
              "       [1, 1, 1, 1, 0, 0, 0, 0, 0],\n",
              "       [1, 1, 1, 1, 1, 1, 1, 1, 0],\n",
              "       [1, 1, 1, 1, 1, 1, 1, 0, 0],\n",
              "       [1, 1, 1, 1, 1, 1, 1, 0, 0],\n",
              "       [1, 1, 1, 1, 1, 1, 1, 1, 0],\n",
              "       [1, 1, 1, 1, 1, 1, 0, 0, 0],\n",
              "       [1, 1, 1, 1, 1, 1, 1, 1, 1],\n",
              "       [1, 1, 1, 1, 1, 1, 0, 0, 0],\n",
              "       [1, 1, 1, 1, 1, 1, 1, 1, 1],\n",
              "       [1, 1, 1, 1, 1, 1, 1, 1, 1],\n",
              "       [1, 1, 1, 1, 1, 1, 1, 1, 1],\n",
              "       [1, 1, 1, 1, 1, 1, 0, 0, 0],\n",
              "       [1, 1, 1, 1, 1, 1, 1, 0, 0],\n",
              "       [1, 1, 1, 1, 1, 1, 0, 0, 0],\n",
              "       [1, 1, 1, 1, 1, 1, 1, 1, 1],\n",
              "       [1, 1, 1, 1, 1, 1, 0, 0, 0],\n",
              "       [1, 1, 1, 1, 1, 1, 1, 1, 1],\n",
              "       [1, 1, 1, 1, 1, 1, 0, 0, 0],\n",
              "       [1, 1, 1, 1, 1, 1, 1, 1, 0],\n",
              "       [1, 1, 1, 1, 1, 1, 1, 1, 0],\n",
              "       [1, 1, 1, 1, 1, 1, 1, 1, 0],\n",
              "       [1, 1, 1, 1, 1, 1, 0, 0, 0],\n",
              "       [1, 1, 1, 1, 0, 0, 0, 0, 0]], dtype=int32)>}"
            ]
          },
          "metadata": {},
          "execution_count": 19
        }
      ]
    },
    {
      "cell_type": "code",
      "source": [
        "y_train[0:10]"
      ],
      "metadata": {
        "colab": {
          "base_uri": "https://localhost:8080/"
        },
        "id": "Oq4CJ-n6Izo_",
        "outputId": "ebdaad93-739a-4484-a2ca-fbbeb7f603ae"
      },
      "execution_count": 20,
      "outputs": [
        {
          "output_type": "execute_result",
          "data": {
            "text/plain": [
              "array([[0, 0, 0, 0, 0, 1, 0, 0, 0, 0, 0],\n",
              "       [0, 0, 0, 0, 0, 1, 0, 0, 0, 0, 0],\n",
              "       [0, 0, 0, 0, 0, 1, 0, 0, 0, 0, 0],\n",
              "       [0, 0, 0, 0, 0, 1, 0, 0, 0, 0, 0],\n",
              "       [0, 0, 0, 0, 0, 1, 0, 0, 0, 0, 0],\n",
              "       [0, 0, 0, 0, 0, 1, 0, 0, 0, 0, 0],\n",
              "       [0, 0, 0, 0, 0, 1, 0, 0, 0, 0, 0],\n",
              "       [0, 0, 0, 0, 0, 1, 0, 0, 0, 0, 0],\n",
              "       [0, 0, 0, 0, 1, 0, 0, 0, 0, 0, 0],\n",
              "       [0, 0, 0, 0, 1, 0, 0, 0, 0, 0, 0]], dtype=uint8)"
            ]
          },
          "metadata": {},
          "execution_count": 20
        }
      ]
    },
    {
      "cell_type": "code",
      "source": [
        "print(len(train_encodings['input_ids']))\n",
        "print(len(y_train))"
      ],
      "metadata": {
        "colab": {
          "base_uri": "https://localhost:8080/"
        },
        "id": "79T7uteMKsVh",
        "outputId": "63785849-c2c6-49e6-ae25-41d3a18e9494"
      },
      "execution_count": 21,
      "outputs": [
        {
          "output_type": "stream",
          "name": "stdout",
          "text": [
            "50\n",
            "50\n"
          ]
        }
      ]
    },
    {
      "cell_type": "code",
      "source": [
        "input_ids = train_encodings['input_ids']\n",
        "attention_mask = train_encodings['attention_mask']"
      ],
      "metadata": {
        "id": "AvPmzCGE5vqx"
      },
      "execution_count": 22,
      "outputs": []
    },
    {
      "cell_type": "markdown",
      "source": [
        "### **Model Building**"
      ],
      "metadata": {
        "id": "YTMiZ1l9F10v"
      }
    },
    {
      "cell_type": "code",
      "source": [
        "import tensorflow as tf\n",
        "from tensorflow.keras.optimizers import Adam\n",
        "from tensorflow.keras.callbacks import EarlyStopping\n",
        "from tensorflow.keras.initializers import TruncatedNormal\n",
        "from tensorflow.keras.losses import CategoricalCrossentropy\n",
        "from tensorflow.keras.metrics import CategoricalAccuracy\n",
        "from tensorflow.keras.utils import to_categorical\n",
        "from tensorflow.keras.layers import Input, Dense"
      ],
      "metadata": {
        "id": "n7QwpghcF68o"
      },
      "execution_count": 23,
      "outputs": []
    },
    {
      "cell_type": "code",
      "source": [
        "max_len = 9\n",
        "input_ids = Input(shape=(max_len,), dtype=tf.int32, name=\"input_ids\")\n",
        "input_mask = Input(shape=(max_len,), dtype=tf.int32, name=\"attention_mask\")\n",
        "embeddings = bert(input_ids, attention_mask=input_mask)[0] \n",
        "out = tf.keras.layers.GlobalMaxPool1D()(embeddings)\n",
        "out = Dense(128, activation='relu')(out)\n",
        "out = tf.keras.layers.Dropout(0.1)(out)\n",
        "out = Dense(32, activation = 'relu')(out)\n",
        "y = Dense(num_unique_tags, activation='sigmoid')(out)\n",
        "model = tf.keras.Model(inputs=[input_ids, input_mask], outputs=y)\n",
        "model.layers[2].trainable = True"
      ],
      "metadata": {
        "id": "AKr1JYihF-1f"
      },
      "execution_count": 24,
      "outputs": []
    },
    {
      "cell_type": "code",
      "source": [
        "optimizer = Adam(learning_rate=5e-05, epsilon=1e-08, decay=0.01, clipnorm=1.0)\n",
        "loss =CategoricalCrossentropy(from_logits=True)\n",
        "metric = CategoricalAccuracy('balanced_accuracy'),\n",
        "# Compile the model\n",
        "model.compile(optimizer=optimizer, loss=loss, metrics=metric)"
      ],
      "metadata": {
        "id": "XOeu7cK4GNeh"
      },
      "execution_count": 25,
      "outputs": []
    },
    {
      "cell_type": "code",
      "source": [
        "model.summary()"
      ],
      "metadata": {
        "colab": {
          "base_uri": "https://localhost:8080/"
        },
        "id": "AGfVyQNWHLR5",
        "outputId": "9f382b7f-834b-41aa-ff13-cd60ec38e5c2"
      },
      "execution_count": 26,
      "outputs": [
        {
          "output_type": "stream",
          "name": "stdout",
          "text": [
            "Model: \"model\"\n",
            "__________________________________________________________________________________________________\n",
            " Layer (type)                   Output Shape         Param #     Connected to                     \n",
            "==================================================================================================\n",
            " input_ids (InputLayer)         [(None, 9)]          0           []                               \n",
            "                                                                                                  \n",
            " attention_mask (InputLayer)    [(None, 9)]          0           []                               \n",
            "                                                                                                  \n",
            " tf_bert_model (TFBertModel)    TFBaseModelOutputWi  108310272   ['input_ids[0][0]',              \n",
            "                                thPoolingAndCrossAt               'attention_mask[0][0]']         \n",
            "                                tentions(last_hidde                                               \n",
            "                                n_state=(None, 9, 7                                               \n",
            "                                68),                                                              \n",
            "                                 pooler_output=(Non                                               \n",
            "                                e, 768),                                                          \n",
            "                                 past_key_values=No                                               \n",
            "                                ne, hidden_states=N                                               \n",
            "                                one, attentions=Non                                               \n",
            "                                e, cross_attentions                                               \n",
            "                                =None)                                                            \n",
            "                                                                                                  \n",
            " global_max_pooling1d (GlobalMa  (None, 768)         0           ['tf_bert_model[0][0]']          \n",
            " xPooling1D)                                                                                      \n",
            "                                                                                                  \n",
            " dense (Dense)                  (None, 128)          98432       ['global_max_pooling1d[0][0]']   \n",
            "                                                                                                  \n",
            " dropout_37 (Dropout)           (None, 128)          0           ['dense[0][0]']                  \n",
            "                                                                                                  \n",
            " dense_1 (Dense)                (None, 32)           4128        ['dropout_37[0][0]']             \n",
            "                                                                                                  \n",
            " dense_2 (Dense)                (None, 11)           363         ['dense_1[0][0]']                \n",
            "                                                                                                  \n",
            "==================================================================================================\n",
            "Total params: 108,413,195\n",
            "Trainable params: 108,413,195\n",
            "Non-trainable params: 0\n",
            "__________________________________________________________________________________________________\n"
          ]
        }
      ]
    },
    {
      "cell_type": "code",
      "source": [
        "train_history = model.fit(\n",
        "    x = {'input_ids':train_encodings['input_ids'],'attention_mask':train_encodings['attention_mask']},\n",
        "    y = y_train,\n",
        "    validation_data = (\n",
        "    {'input_ids': test_encodings['input_ids'], 'attention_mask': test_encodings['attention_mask']}, y_test\n",
        "    ),\n",
        "    epochs=30,\n",
        "    batch_size=36\n",
        ")"
      ],
      "metadata": {
        "colab": {
          "base_uri": "https://localhost:8080/"
        },
        "id": "4PDiq1wtGeLL",
        "outputId": "85709ccb-7836-44f4-a57f-b35f47757528"
      },
      "execution_count": 27,
      "outputs": [
        {
          "output_type": "stream",
          "name": "stdout",
          "text": [
            "Epoch 1/30\n"
          ]
        },
        {
          "output_type": "stream",
          "name": "stderr",
          "text": [
            "/usr/local/lib/python3.7/dist-packages/tensorflow/python/util/dispatch.py:1082: UserWarning: \"`categorical_crossentropy` received `from_logits=True`, but the `output` argument was produced by a sigmoid or softmax activation and thus does not represent logits. Was this intended?\"\n",
            "  return dispatch_target(*args, **kwargs)\n",
            "WARNING:tensorflow:Gradients do not exist for variables ['tf_bert_model/bert/pooler/dense/kernel:0', 'tf_bert_model/bert/pooler/dense/bias:0'] when minimizing the loss. If you're using `model.compile()`, did you forget to provide a `loss`argument?\n",
            "WARNING:tensorflow:Gradients do not exist for variables ['tf_bert_model/bert/pooler/dense/kernel:0', 'tf_bert_model/bert/pooler/dense/bias:0'] when minimizing the loss. If you're using `model.compile()`, did you forget to provide a `loss`argument?\n"
          ]
        },
        {
          "output_type": "stream",
          "name": "stdout",
          "text": [
            "2/2 [==============================] - 51s 7s/step - loss: 2.5750 - balanced_accuracy: 0.0800 - val_loss: 2.6667 - val_balanced_accuracy: 0.0000e+00\n",
            "Epoch 2/30\n",
            "2/2 [==============================] - 7s 3s/step - loss: 2.2066 - balanced_accuracy: 0.2600 - val_loss: 2.7052 - val_balanced_accuracy: 0.0000e+00\n",
            "Epoch 3/30\n",
            "2/2 [==============================] - 7s 3s/step - loss: 1.9764 - balanced_accuracy: 0.4000 - val_loss: 2.6459 - val_balanced_accuracy: 0.0000e+00\n",
            "Epoch 4/30\n",
            "2/2 [==============================] - 7s 3s/step - loss: 1.7498 - balanced_accuracy: 0.5200 - val_loss: 2.6427 - val_balanced_accuracy: 0.0000e+00\n",
            "Epoch 5/30\n",
            "2/2 [==============================] - 7s 3s/step - loss: 1.5459 - balanced_accuracy: 0.5200 - val_loss: 2.5378 - val_balanced_accuracy: 0.0000e+00\n",
            "Epoch 6/30\n",
            "2/2 [==============================] - 7s 3s/step - loss: 1.3649 - balanced_accuracy: 0.6200 - val_loss: 2.4830 - val_balanced_accuracy: 0.0000e+00\n",
            "Epoch 7/30\n",
            "2/2 [==============================] - 7s 3s/step - loss: 1.3175 - balanced_accuracy: 0.6200 - val_loss: 2.4774 - val_balanced_accuracy: 0.0000e+00\n",
            "Epoch 8/30\n",
            "2/2 [==============================] - 7s 3s/step - loss: 1.0666 - balanced_accuracy: 0.7400 - val_loss: 2.4662 - val_balanced_accuracy: 0.0000e+00\n",
            "Epoch 9/30\n",
            "2/2 [==============================] - 7s 3s/step - loss: 0.9403 - balanced_accuracy: 0.7800 - val_loss: 2.5021 - val_balanced_accuracy: 0.0000e+00\n",
            "Epoch 10/30\n",
            "2/2 [==============================] - 7s 3s/step - loss: 0.8090 - balanced_accuracy: 0.8200 - val_loss: 2.5807 - val_balanced_accuracy: 0.0000e+00\n",
            "Epoch 11/30\n",
            "2/2 [==============================] - 7s 3s/step - loss: 0.7324 - balanced_accuracy: 0.8400 - val_loss: 2.5686 - val_balanced_accuracy: 0.0000e+00\n",
            "Epoch 12/30\n",
            "2/2 [==============================] - 9s 5s/step - loss: 0.6387 - balanced_accuracy: 0.9200 - val_loss: 2.5682 - val_balanced_accuracy: 0.1250\n",
            "Epoch 13/30\n",
            "2/2 [==============================] - 7s 3s/step - loss: 0.6069 - balanced_accuracy: 0.9000 - val_loss: 2.5428 - val_balanced_accuracy: 0.1250\n",
            "Epoch 14/30\n",
            "2/2 [==============================] - 7s 3s/step - loss: 0.5000 - balanced_accuracy: 0.9400 - val_loss: 2.4863 - val_balanced_accuracy: 0.1250\n",
            "Epoch 15/30\n",
            "2/2 [==============================] - 7s 3s/step - loss: 0.3957 - balanced_accuracy: 1.0000 - val_loss: 2.4565 - val_balanced_accuracy: 0.1250\n",
            "Epoch 16/30\n",
            "2/2 [==============================] - 7s 3s/step - loss: 0.3456 - balanced_accuracy: 1.0000 - val_loss: 2.4572 - val_balanced_accuracy: 0.1250\n",
            "Epoch 17/30\n",
            "2/2 [==============================] - 7s 3s/step - loss: 0.2910 - balanced_accuracy: 1.0000 - val_loss: 2.5411 - val_balanced_accuracy: 0.1250\n",
            "Epoch 18/30\n",
            "2/2 [==============================] - 7s 3s/step - loss: 0.2458 - balanced_accuracy: 1.0000 - val_loss: 2.6548 - val_balanced_accuracy: 0.1250\n",
            "Epoch 19/30\n",
            "2/2 [==============================] - 7s 3s/step - loss: 0.1927 - balanced_accuracy: 1.0000 - val_loss: 2.7807 - val_balanced_accuracy: 0.1250\n",
            "Epoch 20/30\n",
            "2/2 [==============================] - 7s 3s/step - loss: 0.1819 - balanced_accuracy: 1.0000 - val_loss: 2.9800 - val_balanced_accuracy: 0.1250\n",
            "Epoch 21/30\n",
            "2/2 [==============================] - 7s 3s/step - loss: 0.1628 - balanced_accuracy: 1.0000 - val_loss: 3.1669 - val_balanced_accuracy: 0.1250\n",
            "Epoch 22/30\n",
            "2/2 [==============================] - 7s 3s/step - loss: 0.1205 - balanced_accuracy: 1.0000 - val_loss: 3.2990 - val_balanced_accuracy: 0.1250\n",
            "Epoch 23/30\n",
            "2/2 [==============================] - 7s 3s/step - loss: 0.0981 - balanced_accuracy: 1.0000 - val_loss: 3.3748 - val_balanced_accuracy: 0.1250\n",
            "Epoch 24/30\n",
            "2/2 [==============================] - 6s 2s/step - loss: 0.1002 - balanced_accuracy: 1.0000 - val_loss: 3.4114 - val_balanced_accuracy: 0.1250\n",
            "Epoch 25/30\n",
            "2/2 [==============================] - 7s 2s/step - loss: 0.0793 - balanced_accuracy: 1.0000 - val_loss: 3.4306 - val_balanced_accuracy: 0.1250\n",
            "Epoch 26/30\n",
            "2/2 [==============================] - 7s 3s/step - loss: 0.0694 - balanced_accuracy: 1.0000 - val_loss: 3.4105 - val_balanced_accuracy: 0.1250\n",
            "Epoch 27/30\n",
            "2/2 [==============================] - 7s 3s/step - loss: 0.0571 - balanced_accuracy: 1.0000 - val_loss: 3.4046 - val_balanced_accuracy: 0.1250\n",
            "Epoch 28/30\n",
            "2/2 [==============================] - 8s 3s/step - loss: 0.0479 - balanced_accuracy: 1.0000 - val_loss: 3.3944 - val_balanced_accuracy: 0.2500\n",
            "Epoch 29/30\n",
            "2/2 [==============================] - 8s 3s/step - loss: 0.0463 - balanced_accuracy: 1.0000 - val_loss: 3.4032 - val_balanced_accuracy: 0.2500\n",
            "Epoch 30/30\n",
            "2/2 [==============================] - 7s 3s/step - loss: 0.0549 - balanced_accuracy: 1.0000 - val_loss: 3.4189 - val_balanced_accuracy: 0.2500\n"
          ]
        }
      ]
    },
    {
      "cell_type": "code",
      "source": [
        "model.save('chatbot_BERT_model.h5')"
      ],
      "metadata": {
        "id": "qB6sKPJq2JTX"
      },
      "execution_count": 43,
      "outputs": []
    },
    {
      "cell_type": "markdown",
      "source": [
        "### **Model Evaluation**"
      ],
      "metadata": {
        "id": "EsS3ZY14z09t"
      }
    },
    {
      "cell_type": "code",
      "source": [
        "predicted_raw = model.predict({'input_ids': test_encodings['input_ids'], 'attention_mask': test_encodings['attention_mask']})\n",
        "predicted_raw[0]"
      ],
      "metadata": {
        "colab": {
          "base_uri": "https://localhost:8080/"
        },
        "id": "SEs_hdFHz4yq",
        "outputId": "78d677da-e869-4c91-d432-231fb3eddf4d"
      },
      "execution_count": 29,
      "outputs": [
        {
          "output_type": "execute_result",
          "data": {
            "text/plain": [
              "array([0.5725007 , 0.01528618, 0.04648018, 0.8230653 , 0.14540422,\n",
              "       0.06456128, 0.13001108, 0.49097577, 0.57712996, 0.04708493,\n",
              "       0.07117614], dtype=float32)"
            ]
          },
          "metadata": {},
          "execution_count": 29
        }
      ]
    },
    {
      "cell_type": "code",
      "source": [
        "y_predicted = np.argmax(predicted_raw, axis=1)\n",
        "y_true = [y.tolist().index(1) for y in y_test]"
      ],
      "metadata": {
        "id": "W3G-kZ_L0TvD"
      },
      "execution_count": 30,
      "outputs": []
    },
    {
      "cell_type": "code",
      "source": [
        "y_predicted"
      ],
      "metadata": {
        "colab": {
          "base_uri": "https://localhost:8080/"
        },
        "id": "PkrhDqF2043a",
        "outputId": "408b9860-6a24-49ab-fc0d-65db2fa577d8"
      },
      "execution_count": 31,
      "outputs": [
        {
          "output_type": "execute_result",
          "data": {
            "text/plain": [
              "array([3, 9, 9, 9, 3, 2, 3, 2])"
            ]
          },
          "metadata": {},
          "execution_count": 31
        }
      ]
    },
    {
      "cell_type": "code",
      "source": [
        "y_true"
      ],
      "metadata": {
        "colab": {
          "base_uri": "https://localhost:8080/"
        },
        "id": "Jdehx77S09pb",
        "outputId": "c78fe53b-a450-4fbb-a8be-9d4e3543e629"
      },
      "execution_count": 32,
      "outputs": [
        {
          "output_type": "execute_result",
          "data": {
            "text/plain": [
              "[9, 9, 9, 6, 6, 6, 6, 6]"
            ]
          },
          "metadata": {},
          "execution_count": 32
        }
      ]
    },
    {
      "cell_type": "code",
      "source": [
        "print(len(y_predicted))\n",
        "print(len(y_true))"
      ],
      "metadata": {
        "colab": {
          "base_uri": "https://localhost:8080/"
        },
        "id": "P74Oi6y20lIr",
        "outputId": "ab5910e4-327e-470e-e266-a22261c1c211"
      },
      "execution_count": 33,
      "outputs": [
        {
          "output_type": "stream",
          "name": "stdout",
          "text": [
            "8\n",
            "8\n"
          ]
        }
      ]
    },
    {
      "cell_type": "code",
      "source": [
        "from sklearn.metrics import classification_report\n",
        "print(classification_report(y_true, y_predicted))"
      ],
      "metadata": {
        "colab": {
          "base_uri": "https://localhost:8080/"
        },
        "id": "rByZpBdM0wWX",
        "outputId": "735ab371-d1ea-4f1f-8c2f-a3453a4fa29a"
      },
      "execution_count": 34,
      "outputs": [
        {
          "output_type": "stream",
          "name": "stdout",
          "text": [
            "              precision    recall  f1-score   support\n",
            "\n",
            "           2       0.00      0.00      0.00         0\n",
            "           3       0.00      0.00      0.00         0\n",
            "           6       0.00      0.00      0.00         5\n",
            "           9       0.67      0.67      0.67         3\n",
            "\n",
            "    accuracy                           0.25         8\n",
            "   macro avg       0.17      0.17      0.17         8\n",
            "weighted avg       0.25      0.25      0.25         8\n",
            "\n"
          ]
        },
        {
          "output_type": "stream",
          "name": "stderr",
          "text": [
            "/usr/local/lib/python3.7/dist-packages/sklearn/metrics/_classification.py:1318: UndefinedMetricWarning: Precision and F-score are ill-defined and being set to 0.0 in labels with no predicted samples. Use `zero_division` parameter to control this behavior.\n",
            "  _warn_prf(average, modifier, msg_start, len(result))\n",
            "/usr/local/lib/python3.7/dist-packages/sklearn/metrics/_classification.py:1318: UndefinedMetricWarning: Recall and F-score are ill-defined and being set to 0.0 in labels with no true samples. Use `zero_division` parameter to control this behavior.\n",
            "  _warn_prf(average, modifier, msg_start, len(result))\n",
            "/usr/local/lib/python3.7/dist-packages/sklearn/metrics/_classification.py:1318: UndefinedMetricWarning: Precision and F-score are ill-defined and being set to 0.0 in labels with no predicted samples. Use `zero_division` parameter to control this behavior.\n",
            "  _warn_prf(average, modifier, msg_start, len(result))\n",
            "/usr/local/lib/python3.7/dist-packages/sklearn/metrics/_classification.py:1318: UndefinedMetricWarning: Recall and F-score are ill-defined and being set to 0.0 in labels with no true samples. Use `zero_division` parameter to control this behavior.\n",
            "  _warn_prf(average, modifier, msg_start, len(result))\n",
            "/usr/local/lib/python3.7/dist-packages/sklearn/metrics/_classification.py:1318: UndefinedMetricWarning: Precision and F-score are ill-defined and being set to 0.0 in labels with no predicted samples. Use `zero_division` parameter to control this behavior.\n",
            "  _warn_prf(average, modifier, msg_start, len(result))\n",
            "/usr/local/lib/python3.7/dist-packages/sklearn/metrics/_classification.py:1318: UndefinedMetricWarning: Recall and F-score are ill-defined and being set to 0.0 in labels with no true samples. Use `zero_division` parameter to control this behavior.\n",
            "  _warn_prf(average, modifier, msg_start, len(result))\n"
          ]
        }
      ]
    },
    {
      "cell_type": "markdown",
      "source": [
        "### **Prediction**"
      ],
      "metadata": {
        "id": "2TD37YeP2daj"
      }
    },
    {
      "cell_type": "code",
      "source": [
        "import pickle"
      ],
      "metadata": {
        "id": "8SB9cGdy39k5"
      },
      "execution_count": 1,
      "outputs": []
    },
    {
      "cell_type": "code",
      "source": [
        "intents = json.loads(open('intents.json').read())"
      ],
      "metadata": {
        "id": "nLxot2Vk6LRV"
      },
      "execution_count": 4,
      "outputs": []
    },
    {
      "cell_type": "code",
      "source": [
        "from keras.models import load_model\n",
        "from transformers import AutoTokenizer, TFBertModel\n",
        "# load model\n",
        "model = load_model('chatbot_BERT_model.h5', custom_objects={'TFBertModel': TFBertModel})"
      ],
      "metadata": {
        "colab": {
          "base_uri": "https://localhost:8080/",
          "height": 123,
          "referenced_widgets": [
            "1d129039b0da436aa785c70202648b74",
            "7bae8dc1b0394bdf92d35e6d2292d63f",
            "7d619e257209426aaa80280a741e33f3",
            "a8e1df356aa744688208e22aeab7df06",
            "35d6c34d818f434189caefd31e0013be",
            "b044d379917248e29d18a7b80bbff59f",
            "7c81b93771f34614aab66e7227ebca9b",
            "19a9bcffcc8f4af8a353eec050a544be",
            "c6624862c92f412cbfb3c02c9591044a",
            "c1b9ab6dc6ab4926b1095d5c3fb69009",
            "4afda520baf14b7d886738fdfc60f6ed"
          ]
        },
        "id": "Qot_sfnxjTkU",
        "outputId": "e8a0e227-1b29-4f0a-c494-82c2a8f90827"
      },
      "execution_count": 6,
      "outputs": [
        {
          "output_type": "stream",
          "name": "stderr",
          "text": [
            "The cache for model files in Transformers v4.22.0 has been updated. Migrating your old cache. This is a one-time only operation. You can interrupt this and resume the migration later on by calling `transformers.utils.move_cache()`.\n"
          ]
        },
        {
          "output_type": "stream",
          "name": "stdout",
          "text": [
            "Moving 0 files to the new cache system\n"
          ]
        },
        {
          "output_type": "display_data",
          "data": {
            "text/plain": [
              "0it [00:00, ?it/s]"
            ],
            "application/vnd.jupyter.widget-view+json": {
              "version_major": 2,
              "version_minor": 0,
              "model_id": "1d129039b0da436aa785c70202648b74"
            }
          },
          "metadata": {}
        },
        {
          "output_type": "stream",
          "name": "stderr",
          "text": [
            "WARNING:tensorflow:Error in loading the saved optimizer state. As a result, your model is starting with a freshly initialized optimizer.\n"
          ]
        }
      ]
    },
    {
      "cell_type": "code",
      "source": [
        "model"
      ],
      "metadata": {
        "colab": {
          "base_uri": "https://localhost:8080/"
        },
        "id": "up0Xeq9KkSOO",
        "outputId": "309a027f-574f-4add-e0c7-c2d9bf0e46e9"
      },
      "execution_count": 7,
      "outputs": [
        {
          "output_type": "execute_result",
          "data": {
            "text/plain": [
              "<keras.engine.functional.Functional at 0x7f839ff06f50>"
            ]
          },
          "metadata": {},
          "execution_count": 7
        }
      ]
    },
    {
      "cell_type": "code",
      "source": [
        "def prediction(text):\n",
        "  x_val = tokenizer(\n",
        "    text=text,\n",
        "    add_special_tokens=True,\n",
        "    max_length=9,\n",
        "    truncation=True,\n",
        "    padding='max_length', \n",
        "    return_tensors='tf',\n",
        "    return_token_type_ids = False,\n",
        "    return_attention_mask = True,\n",
        "    verbose = True) \n",
        "  \n",
        "  validation = model.predict({'input_ids': x_val['input_ids'], 'attention_mask': x_val['attention_mask']})\n",
        "  tag_index = np.where(validation[0] == max(validation[0]))[0][0]\n",
        "  result = Y.columns[tag_index]\n",
        "  return result"
      ],
      "metadata": {
        "id": "KPjR2aji4sAw"
      },
      "execution_count": 26,
      "outputs": []
    },
    {
      "cell_type": "code",
      "source": [
        "prediction('how are you?')"
      ],
      "metadata": {
        "colab": {
          "base_uri": "https://localhost:8080/",
          "height": 36
        },
        "id": "S03TgoEg2sqM",
        "outputId": "3409b3e6-2b58-414d-c97a-e54c0444f699"
      },
      "execution_count": 27,
      "outputs": [
        {
          "output_type": "execute_result",
          "data": {
            "text/plain": [
              "'greeting'"
            ],
            "application/vnd.google.colaboratory.intrinsic+json": {
              "type": "string"
            }
          },
          "metadata": {},
          "execution_count": 27
        }
      ]
    },
    {
      "cell_type": "code",
      "source": [
        "def get_response(text):\n",
        "  tag = prediction(text)\n",
        "  for data in intents['intents']:\n",
        "    if data['tag'] == tag:\n",
        "      result = random.choice(data['responses'])\n",
        "      break\n",
        "  return result"
      ],
      "metadata": {
        "id": "4rp3kQQMQma_"
      },
      "execution_count": 28,
      "outputs": []
    },
    {
      "cell_type": "code",
      "source": [
        "get_response('hi')"
      ],
      "metadata": {
        "colab": {
          "base_uri": "https://localhost:8080/",
          "height": 36
        },
        "id": "YZz6Lb-q6OvM",
        "outputId": "b4b9ee4e-803d-46b1-dbc8-ce44b0b1914d"
      },
      "execution_count": 29,
      "outputs": [
        {
          "output_type": "execute_result",
          "data": {
            "text/plain": [
              "'Hello, thanks for asking'"
            ],
            "application/vnd.google.colaboratory.intrinsic+json": {
              "type": "string"
            }
          },
          "metadata": {},
          "execution_count": 29
        }
      ]
    },
    {
      "cell_type": "code",
      "source": [
        "while True:\n",
        "\tmessage = input(\"Enter a message:\")\n",
        "\tres = get_response(message)\n",
        "\tprint(res)"
      ],
      "metadata": {
        "id": "IlTyOtqy6Rcm",
        "colab": {
          "base_uri": "https://localhost:8080/"
        },
        "outputId": "4488fa5a-8d3c-4465-b4a2-c9a44e70003b"
      },
      "execution_count": null,
      "outputs": [
        {
          "output_type": "stream",
          "name": "stdout",
          "text": [
            "Enter a message:hi\n",
            "Hello, thanks for asking\n",
            "Enter a message:what is your name\n",
            "you can Call me Neural!\n",
            "Enter a message:how are you\n",
            "Good to see you again\n",
            "Enter a message:how old are you\n",
            "21 years!\n",
            "Enter a message:ok\n",
            "Hi there, how can I help?\n",
            "Enter a message:what can you do for me?\n",
            "Offering support for Adverse drug reaction, Blood pressure, Hospitals and Pharmacies\n",
            "Enter a message:thanks\n",
            "Any time!\n",
            "Enter a message:bye\n",
            "Bye! Come back again soon.\n"
          ]
        }
      ]
    },
    {
      "cell_type": "code",
      "source": [],
      "metadata": {
        "id": "-73IAOUol7UY"
      },
      "execution_count": null,
      "outputs": []
    }
  ]
}