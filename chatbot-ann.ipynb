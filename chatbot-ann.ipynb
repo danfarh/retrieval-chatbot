{
  "nbformat": 4,
  "nbformat_minor": 0,
  "metadata": {
    "colab": {
      "provenance": []
    },
    "kernelspec": {
      "name": "python3",
      "display_name": "Python 3"
    },
    "language_info": {
      "name": "python"
    }
  },
  "cells": [
    {
      "cell_type": "code",
      "execution_count": 1,
      "metadata": {
        "id": "yzQ4wLTONaE3"
      },
      "outputs": [],
      "source": [
        "import random\n",
        "import json\n",
        "import pickle\n",
        "import numpy as np\n",
        "import tensorflow \n",
        "import keras\n",
        "import nltk \n",
        "#nltk.download()\n",
        "\n",
        "from tensorflow.keras.models import Sequential\n",
        "from tensorflow.keras.layers import Dense, Activation, Dropout\n",
        "from tensorflow.keras.optimizers import SGD\n",
        "from tensorflow.keras.models import load_model"
      ]
    },
    {
      "cell_type": "code",
      "source": [
        "nltk.download('punkt')"
      ],
      "metadata": {
        "colab": {
          "base_uri": "https://localhost:8080/"
        },
        "id": "mdvevYpIOGxy",
        "outputId": "e01e9900-063a-413d-c4d5-4dec09d5a608"
      },
      "execution_count": 2,
      "outputs": [
        {
          "output_type": "stream",
          "name": "stderr",
          "text": [
            "[nltk_data] Downloading package punkt to /root/nltk_data...\n",
            "[nltk_data]   Unzipping tokenizers/punkt.zip.\n"
          ]
        },
        {
          "output_type": "execute_result",
          "data": {
            "text/plain": [
              "True"
            ]
          },
          "metadata": {},
          "execution_count": 2
        }
      ]
    },
    {
      "cell_type": "code",
      "source": [
        "intents = json.loads(open('intents.json').read())"
      ],
      "metadata": {
        "id": "1iHvB3T9NoBE"
      },
      "execution_count": 3,
      "outputs": []
    },
    {
      "cell_type": "code",
      "source": [
        "for sample in intents['intents']:\n",
        "  print(sample)\n",
        "  break"
      ],
      "metadata": {
        "colab": {
          "base_uri": "https://localhost:8080/"
        },
        "id": "Wd8J7lG_nVnu",
        "outputId": "870895a3-d7db-445f-8c3e-add6d20baed5"
      },
      "execution_count": 19,
      "outputs": [
        {
          "output_type": "stream",
          "name": "stdout",
          "text": [
            "{'tag': 'Can a student who has received a temporary certificate of completion be able to return to education?', 'patterns': ['Can a student who has received a temporary certificate of completion be able to return to education?', 'Can a graduate student who has a temporary certificate return to study?', 'Can a graduate associate who has a temporary certificate return to study?'], 'response': ['If he receives a temporary certificate, he cannot return to study.']}\n"
          ]
        }
      ]
    },
    {
      "cell_type": "code",
      "source": [
        "words = []\n",
        "classes = []\n",
        "documents = []\n",
        "ignore_letters = ['?', '!', '.', ',']\n",
        "\n",
        "for intent in intents['intents']:\n",
        "    for pattern in intent['patterns']:\n",
        "        word_list = nltk.word_tokenize(pattern)\n",
        "        words.extend(word_list)\n",
        "        documents.append((word_list, intent['tag']))\n",
        "        if intent['tag'] not in classes:\n",
        "            classes.append(intent['tag'])"
      ],
      "metadata": {
        "id": "ovsWTyfsN7q-"
      },
      "execution_count": 4,
      "outputs": []
    },
    {
      "cell_type": "code",
      "source": [
        "words = [word for word in words if word not in ignore_letters]\n",
        "words = sorted(set(words))\n",
        "classes = sorted(set(classes))"
      ],
      "metadata": {
        "id": "Z44kMlr6N-up"
      },
      "execution_count": 5,
      "outputs": []
    },
    {
      "cell_type": "code",
      "source": [
        "pickle.dump(words, open('words.pkl', 'wb'))\n",
        "pickle.dump(classes, open('classes.pkl', 'wb'))"
      ],
      "metadata": {
        "id": "BxArAdrmOPlI"
      },
      "execution_count": 6,
      "outputs": []
    },
    {
      "cell_type": "code",
      "source": [
        "training = []\n",
        "output_empty = [0] * len(classes)\n",
        "\n",
        "for document in documents:\n",
        "    bag = []\n",
        "    word_patterns = document[0]\n",
        "    for word in words:\n",
        "        bag.append(1) if word in word_patterns else bag.append(0)\n",
        "\n",
        "    output_row = list(output_empty)\n",
        "    output_row[classes.index(document[1])] = 1\n",
        "    training.append([bag, output_row])"
      ],
      "metadata": {
        "id": "tK_g5ggZObXy"
      },
      "execution_count": 7,
      "outputs": []
    },
    {
      "cell_type": "code",
      "source": [
        "random.shuffle(training)\n",
        "training = np.array(training)"
      ],
      "metadata": {
        "colab": {
          "base_uri": "https://localhost:8080/"
        },
        "id": "PhhRpYk-Ofnj",
        "outputId": "c3270dd8-30ef-4739-d9b5-0322216e4896"
      },
      "execution_count": 8,
      "outputs": [
        {
          "output_type": "stream",
          "name": "stderr",
          "text": [
            "<ipython-input-8-cc0bc1dae1db>:2: VisibleDeprecationWarning: Creating an ndarray from ragged nested sequences (which is a list-or-tuple of lists-or-tuples-or ndarrays with different lengths or shapes) is deprecated. If you meant to do this, you must specify 'dtype=object' when creating the ndarray.\n",
            "  training = np.array(training)\n"
          ]
        }
      ]
    },
    {
      "cell_type": "code",
      "source": [
        "train_x = list(training[:, 0])\n",
        "train_y = list(training[:, 1])"
      ],
      "metadata": {
        "id": "3YR73qG0Olgz"
      },
      "execution_count": 9,
      "outputs": []
    },
    {
      "cell_type": "code",
      "source": [
        "model = Sequential()\n",
        "model.add(Dense(128, input_shape=(len(train_x[0]),),activation='relu'))\n",
        "model.add(Dropout(0.5))\n",
        "model.add(Dense(64, activation='relu'))\n",
        "model.add(Dropout(0.5))\n",
        "model.add(Dense(len(train_y[0]), activation='softmax'))"
      ],
      "metadata": {
        "id": "MS2s3DkKOo2B"
      },
      "execution_count": 10,
      "outputs": []
    },
    {
      "cell_type": "code",
      "source": [
        "model.compile(loss='categorical_crossentropy', optimizer='adam', metrics=['accuracy'])"
      ],
      "metadata": {
        "id": "aY2vguuWOtDq"
      },
      "execution_count": 13,
      "outputs": []
    },
    {
      "cell_type": "code",
      "source": [
        "hist = model.fit(np.array(train_x), np.array(train_y), epochs=200, batch_size=5, verbose=1)"
      ],
      "metadata": {
        "colab": {
          "base_uri": "https://localhost:8080/"
        },
        "id": "qT781s0PO5qs",
        "outputId": "65617c5c-3f39-4795-b7c4-8b0e4793caf5"
      },
      "execution_count": 14,
      "outputs": [
        {
          "output_type": "stream",
          "name": "stdout",
          "text": [
            "Epoch 1/200\n",
            "75/75 [==============================] - 1s 2ms/step - loss: 4.8466 - accuracy: 0.0107\n",
            "Epoch 2/200\n",
            "75/75 [==============================] - 0s 2ms/step - loss: 4.7431 - accuracy: 0.0375\n",
            "Epoch 3/200\n",
            "75/75 [==============================] - 0s 2ms/step - loss: 4.5573 - accuracy: 0.0670\n",
            "Epoch 4/200\n",
            "75/75 [==============================] - 0s 2ms/step - loss: 4.2779 - accuracy: 0.1126\n",
            "Epoch 5/200\n",
            "75/75 [==============================] - 0s 2ms/step - loss: 3.9136 - accuracy: 0.1582\n",
            "Epoch 6/200\n",
            "75/75 [==============================] - 0s 2ms/step - loss: 3.5802 - accuracy: 0.2172\n",
            "Epoch 7/200\n",
            "75/75 [==============================] - 0s 2ms/step - loss: 3.2040 - accuracy: 0.2949\n",
            "Epoch 8/200\n",
            "75/75 [==============================] - 0s 2ms/step - loss: 2.9542 - accuracy: 0.3190\n",
            "Epoch 9/200\n",
            "75/75 [==============================] - 0s 2ms/step - loss: 2.5896 - accuracy: 0.4102\n",
            "Epoch 10/200\n",
            "75/75 [==============================] - 0s 2ms/step - loss: 2.3394 - accuracy: 0.4531\n",
            "Epoch 11/200\n",
            "75/75 [==============================] - 0s 2ms/step - loss: 2.2093 - accuracy: 0.4665\n",
            "Epoch 12/200\n",
            "75/75 [==============================] - 0s 2ms/step - loss: 2.0715 - accuracy: 0.5013\n",
            "Epoch 13/200\n",
            "75/75 [==============================] - 0s 2ms/step - loss: 1.9730 - accuracy: 0.4853\n",
            "Epoch 14/200\n",
            "75/75 [==============================] - 0s 2ms/step - loss: 1.7538 - accuracy: 0.5496\n",
            "Epoch 15/200\n",
            "75/75 [==============================] - 0s 2ms/step - loss: 1.6005 - accuracy: 0.6086\n",
            "Epoch 16/200\n",
            "75/75 [==============================] - 0s 2ms/step - loss: 1.4990 - accuracy: 0.6086\n",
            "Epoch 17/200\n",
            "75/75 [==============================] - 0s 2ms/step - loss: 1.3882 - accuracy: 0.6488\n",
            "Epoch 18/200\n",
            "75/75 [==============================] - 0s 2ms/step - loss: 1.3715 - accuracy: 0.6595\n",
            "Epoch 19/200\n",
            "75/75 [==============================] - 0s 2ms/step - loss: 1.3243 - accuracy: 0.6729\n",
            "Epoch 20/200\n",
            "75/75 [==============================] - 0s 2ms/step - loss: 1.2746 - accuracy: 0.6488\n",
            "Epoch 21/200\n",
            "75/75 [==============================] - 0s 2ms/step - loss: 1.1042 - accuracy: 0.7185\n",
            "Epoch 22/200\n",
            "75/75 [==============================] - 0s 2ms/step - loss: 1.0409 - accuracy: 0.7453\n",
            "Epoch 23/200\n",
            "75/75 [==============================] - 0s 2ms/step - loss: 1.1545 - accuracy: 0.6622\n",
            "Epoch 24/200\n",
            "75/75 [==============================] - 0s 2ms/step - loss: 1.1834 - accuracy: 0.6595\n",
            "Epoch 25/200\n",
            "75/75 [==============================] - 0s 2ms/step - loss: 1.0620 - accuracy: 0.7105\n",
            "Epoch 26/200\n",
            "75/75 [==============================] - 0s 2ms/step - loss: 0.9495 - accuracy: 0.7239\n",
            "Epoch 27/200\n",
            "75/75 [==============================] - 0s 2ms/step - loss: 1.0269 - accuracy: 0.7212\n",
            "Epoch 28/200\n",
            "75/75 [==============================] - 0s 2ms/step - loss: 0.9806 - accuracy: 0.7319\n",
            "Epoch 29/200\n",
            "75/75 [==============================] - 0s 2ms/step - loss: 0.9623 - accuracy: 0.7105\n",
            "Epoch 30/200\n",
            "75/75 [==============================] - 0s 2ms/step - loss: 0.7969 - accuracy: 0.7480\n",
            "Epoch 31/200\n",
            "75/75 [==============================] - 0s 2ms/step - loss: 0.9129 - accuracy: 0.7346\n",
            "Epoch 32/200\n",
            "75/75 [==============================] - 0s 2ms/step - loss: 0.8600 - accuracy: 0.7480\n",
            "Epoch 33/200\n",
            "75/75 [==============================] - 0s 2ms/step - loss: 0.7744 - accuracy: 0.8016\n",
            "Epoch 34/200\n",
            "75/75 [==============================] - 0s 3ms/step - loss: 0.8000 - accuracy: 0.7936\n",
            "Epoch 35/200\n",
            "75/75 [==============================] - 0s 3ms/step - loss: 0.7976 - accuracy: 0.7560\n",
            "Epoch 36/200\n",
            "75/75 [==============================] - 0s 3ms/step - loss: 0.7530 - accuracy: 0.7909\n",
            "Epoch 37/200\n",
            "75/75 [==============================] - 0s 3ms/step - loss: 0.7415 - accuracy: 0.7802\n",
            "Epoch 38/200\n",
            "75/75 [==============================] - 0s 3ms/step - loss: 0.7699 - accuracy: 0.7802\n",
            "Epoch 39/200\n",
            "75/75 [==============================] - 0s 3ms/step - loss: 0.7007 - accuracy: 0.8177\n",
            "Epoch 40/200\n",
            "75/75 [==============================] - 0s 3ms/step - loss: 0.6997 - accuracy: 0.7828\n",
            "Epoch 41/200\n",
            "75/75 [==============================] - 0s 3ms/step - loss: 0.6798 - accuracy: 0.8177\n",
            "Epoch 42/200\n",
            "75/75 [==============================] - 0s 3ms/step - loss: 0.6541 - accuracy: 0.7936\n",
            "Epoch 43/200\n",
            "75/75 [==============================] - 0s 3ms/step - loss: 0.6507 - accuracy: 0.8016\n",
            "Epoch 44/200\n",
            "75/75 [==============================] - 0s 2ms/step - loss: 0.5612 - accuracy: 0.8338\n",
            "Epoch 45/200\n",
            "75/75 [==============================] - 0s 2ms/step - loss: 0.6579 - accuracy: 0.8097\n",
            "Epoch 46/200\n",
            "75/75 [==============================] - 0s 2ms/step - loss: 0.5737 - accuracy: 0.8311\n",
            "Epoch 47/200\n",
            "75/75 [==============================] - 0s 2ms/step - loss: 0.6068 - accuracy: 0.8338\n",
            "Epoch 48/200\n",
            "75/75 [==============================] - 0s 2ms/step - loss: 0.6237 - accuracy: 0.8070\n",
            "Epoch 49/200\n",
            "75/75 [==============================] - 0s 2ms/step - loss: 0.6685 - accuracy: 0.7989\n",
            "Epoch 50/200\n",
            "75/75 [==============================] - 0s 2ms/step - loss: 0.5716 - accuracy: 0.8231\n",
            "Epoch 51/200\n",
            "75/75 [==============================] - 0s 2ms/step - loss: 0.5466 - accuracy: 0.8257\n",
            "Epoch 52/200\n",
            "75/75 [==============================] - 0s 2ms/step - loss: 0.6180 - accuracy: 0.8284\n",
            "Epoch 53/200\n",
            "75/75 [==============================] - 0s 2ms/step - loss: 0.5915 - accuracy: 0.8070\n",
            "Epoch 54/200\n",
            "75/75 [==============================] - 0s 2ms/step - loss: 0.5660 - accuracy: 0.8231\n",
            "Epoch 55/200\n",
            "75/75 [==============================] - 0s 2ms/step - loss: 0.5930 - accuracy: 0.8311\n",
            "Epoch 56/200\n",
            "75/75 [==============================] - 0s 2ms/step - loss: 0.5567 - accuracy: 0.8311\n",
            "Epoch 57/200\n",
            "75/75 [==============================] - 0s 2ms/step - loss: 0.5213 - accuracy: 0.8338\n",
            "Epoch 58/200\n",
            "75/75 [==============================] - 0s 2ms/step - loss: 0.5795 - accuracy: 0.8177\n",
            "Epoch 59/200\n",
            "75/75 [==============================] - 0s 2ms/step - loss: 0.6198 - accuracy: 0.8284\n",
            "Epoch 60/200\n",
            "75/75 [==============================] - 0s 2ms/step - loss: 0.5323 - accuracy: 0.8231\n",
            "Epoch 61/200\n",
            "75/75 [==============================] - 0s 2ms/step - loss: 0.5463 - accuracy: 0.8391\n",
            "Epoch 62/200\n",
            "75/75 [==============================] - 0s 2ms/step - loss: 0.5722 - accuracy: 0.8284\n",
            "Epoch 63/200\n",
            "75/75 [==============================] - 0s 2ms/step - loss: 0.4500 - accuracy: 0.8606\n",
            "Epoch 64/200\n",
            "75/75 [==============================] - 0s 2ms/step - loss: 0.5530 - accuracy: 0.8150\n",
            "Epoch 65/200\n",
            "75/75 [==============================] - 0s 2ms/step - loss: 0.5496 - accuracy: 0.8204\n",
            "Epoch 66/200\n",
            "75/75 [==============================] - 0s 2ms/step - loss: 0.4715 - accuracy: 0.8525\n",
            "Epoch 67/200\n",
            "75/75 [==============================] - 0s 2ms/step - loss: 0.4817 - accuracy: 0.8525\n",
            "Epoch 68/200\n",
            "75/75 [==============================] - 0s 2ms/step - loss: 0.4965 - accuracy: 0.8499\n",
            "Epoch 69/200\n",
            "75/75 [==============================] - 0s 2ms/step - loss: 0.4337 - accuracy: 0.8606\n",
            "Epoch 70/200\n",
            "75/75 [==============================] - 0s 2ms/step - loss: 0.4707 - accuracy: 0.8633\n",
            "Epoch 71/200\n",
            "75/75 [==============================] - 0s 2ms/step - loss: 0.5405 - accuracy: 0.8338\n",
            "Epoch 72/200\n",
            "75/75 [==============================] - 0s 2ms/step - loss: 0.5386 - accuracy: 0.8257\n",
            "Epoch 73/200\n",
            "75/75 [==============================] - 0s 2ms/step - loss: 0.4816 - accuracy: 0.8767\n",
            "Epoch 74/200\n",
            "75/75 [==============================] - 0s 2ms/step - loss: 0.4496 - accuracy: 0.8713\n",
            "Epoch 75/200\n",
            "75/75 [==============================] - 0s 2ms/step - loss: 0.3511 - accuracy: 0.8847\n",
            "Epoch 76/200\n",
            "75/75 [==============================] - 0s 2ms/step - loss: 0.3647 - accuracy: 0.8928\n",
            "Epoch 77/200\n",
            "75/75 [==============================] - 0s 2ms/step - loss: 0.4259 - accuracy: 0.8713\n",
            "Epoch 78/200\n",
            "75/75 [==============================] - 0s 2ms/step - loss: 0.4868 - accuracy: 0.8472\n",
            "Epoch 79/200\n",
            "75/75 [==============================] - 0s 2ms/step - loss: 0.4950 - accuracy: 0.8418\n",
            "Epoch 80/200\n",
            "75/75 [==============================] - 0s 2ms/step - loss: 0.3847 - accuracy: 0.8794\n",
            "Epoch 81/200\n",
            "75/75 [==============================] - 0s 2ms/step - loss: 0.4440 - accuracy: 0.8740\n",
            "Epoch 82/200\n",
            "75/75 [==============================] - 0s 2ms/step - loss: 0.4226 - accuracy: 0.8820\n",
            "Epoch 83/200\n",
            "75/75 [==============================] - 0s 2ms/step - loss: 0.4193 - accuracy: 0.8552\n",
            "Epoch 84/200\n",
            "75/75 [==============================] - 0s 2ms/step - loss: 0.3927 - accuracy: 0.8901\n",
            "Epoch 85/200\n",
            "75/75 [==============================] - 0s 2ms/step - loss: 0.4281 - accuracy: 0.8633\n",
            "Epoch 86/200\n",
            "75/75 [==============================] - 0s 2ms/step - loss: 0.4015 - accuracy: 0.8820\n",
            "Epoch 87/200\n",
            "75/75 [==============================] - 0s 2ms/step - loss: 0.5145 - accuracy: 0.8445\n",
            "Epoch 88/200\n",
            "75/75 [==============================] - 0s 2ms/step - loss: 0.3714 - accuracy: 0.8928\n",
            "Epoch 89/200\n",
            "75/75 [==============================] - 0s 2ms/step - loss: 0.4224 - accuracy: 0.8767\n",
            "Epoch 90/200\n",
            "75/75 [==============================] - 0s 2ms/step - loss: 0.4578 - accuracy: 0.8579\n",
            "Epoch 91/200\n",
            "75/75 [==============================] - 0s 2ms/step - loss: 0.3714 - accuracy: 0.8794\n",
            "Epoch 92/200\n",
            "75/75 [==============================] - 0s 2ms/step - loss: 0.5100 - accuracy: 0.8525\n",
            "Epoch 93/200\n",
            "75/75 [==============================] - 0s 2ms/step - loss: 0.3665 - accuracy: 0.8928\n",
            "Epoch 94/200\n",
            "75/75 [==============================] - 0s 2ms/step - loss: 0.3556 - accuracy: 0.8767\n",
            "Epoch 95/200\n",
            "75/75 [==============================] - 0s 2ms/step - loss: 0.4054 - accuracy: 0.8740\n",
            "Epoch 96/200\n",
            "75/75 [==============================] - 0s 2ms/step - loss: 0.4490 - accuracy: 0.8525\n",
            "Epoch 97/200\n",
            "75/75 [==============================] - 0s 2ms/step - loss: 0.4106 - accuracy: 0.8794\n",
            "Epoch 98/200\n",
            "75/75 [==============================] - 0s 2ms/step - loss: 0.3760 - accuracy: 0.8660\n",
            "Epoch 99/200\n",
            "75/75 [==============================] - 0s 2ms/step - loss: 0.4109 - accuracy: 0.8633\n",
            "Epoch 100/200\n",
            "75/75 [==============================] - 0s 2ms/step - loss: 0.3771 - accuracy: 0.8820\n",
            "Epoch 101/200\n",
            "75/75 [==============================] - 0s 2ms/step - loss: 0.3577 - accuracy: 0.8928\n",
            "Epoch 102/200\n",
            "75/75 [==============================] - 0s 2ms/step - loss: 0.3480 - accuracy: 0.8820\n",
            "Epoch 103/200\n",
            "75/75 [==============================] - 0s 4ms/step - loss: 0.4245 - accuracy: 0.8713\n",
            "Epoch 104/200\n",
            "75/75 [==============================] - 0s 3ms/step - loss: 0.3036 - accuracy: 0.8981\n",
            "Epoch 105/200\n",
            "75/75 [==============================] - 0s 3ms/step - loss: 0.3760 - accuracy: 0.8874\n",
            "Epoch 106/200\n",
            "75/75 [==============================] - 0s 3ms/step - loss: 0.3851 - accuracy: 0.8686\n",
            "Epoch 107/200\n",
            "75/75 [==============================] - 0s 3ms/step - loss: 0.4641 - accuracy: 0.8418\n",
            "Epoch 108/200\n",
            "75/75 [==============================] - 0s 3ms/step - loss: 0.3444 - accuracy: 0.9062\n",
            "Epoch 109/200\n",
            "75/75 [==============================] - 0s 4ms/step - loss: 0.3760 - accuracy: 0.8660\n",
            "Epoch 110/200\n",
            "75/75 [==============================] - 0s 3ms/step - loss: 0.3666 - accuracy: 0.8928\n",
            "Epoch 111/200\n",
            "75/75 [==============================] - 0s 3ms/step - loss: 0.3479 - accuracy: 0.8874\n",
            "Epoch 112/200\n",
            "75/75 [==============================] - 0s 2ms/step - loss: 0.3810 - accuracy: 0.8928\n",
            "Epoch 113/200\n",
            "75/75 [==============================] - 0s 2ms/step - loss: 0.3393 - accuracy: 0.8847\n",
            "Epoch 114/200\n",
            "75/75 [==============================] - 0s 2ms/step - loss: 0.3336 - accuracy: 0.8928\n",
            "Epoch 115/200\n",
            "75/75 [==============================] - 0s 2ms/step - loss: 0.3868 - accuracy: 0.8847\n",
            "Epoch 116/200\n",
            "75/75 [==============================] - 0s 2ms/step - loss: 0.3474 - accuracy: 0.8928\n",
            "Epoch 117/200\n",
            "75/75 [==============================] - 0s 2ms/step - loss: 0.3108 - accuracy: 0.9035\n",
            "Epoch 118/200\n",
            "75/75 [==============================] - 0s 2ms/step - loss: 0.3444 - accuracy: 0.8901\n",
            "Epoch 119/200\n",
            "75/75 [==============================] - 0s 2ms/step - loss: 0.2983 - accuracy: 0.9062\n",
            "Epoch 120/200\n",
            "75/75 [==============================] - 0s 2ms/step - loss: 0.3435 - accuracy: 0.8847\n",
            "Epoch 121/200\n",
            "75/75 [==============================] - 0s 2ms/step - loss: 0.4099 - accuracy: 0.8686\n",
            "Epoch 122/200\n",
            "75/75 [==============================] - 0s 2ms/step - loss: 0.3508 - accuracy: 0.8820\n",
            "Epoch 123/200\n",
            "75/75 [==============================] - 0s 2ms/step - loss: 0.2536 - accuracy: 0.9276\n",
            "Epoch 124/200\n",
            "75/75 [==============================] - 0s 2ms/step - loss: 0.3703 - accuracy: 0.8686\n",
            "Epoch 125/200\n",
            "75/75 [==============================] - 0s 2ms/step - loss: 0.3809 - accuracy: 0.8820\n",
            "Epoch 126/200\n",
            "75/75 [==============================] - 0s 2ms/step - loss: 0.4048 - accuracy: 0.8794\n",
            "Epoch 127/200\n",
            "75/75 [==============================] - 0s 2ms/step - loss: 0.3358 - accuracy: 0.8874\n",
            "Epoch 128/200\n",
            "75/75 [==============================] - 0s 2ms/step - loss: 0.3389 - accuracy: 0.8794\n",
            "Epoch 129/200\n",
            "75/75 [==============================] - 0s 2ms/step - loss: 0.3306 - accuracy: 0.9035\n",
            "Epoch 130/200\n",
            "75/75 [==============================] - 0s 2ms/step - loss: 0.3116 - accuracy: 0.9088\n",
            "Epoch 131/200\n",
            "75/75 [==============================] - 0s 2ms/step - loss: 0.3482 - accuracy: 0.9035\n",
            "Epoch 132/200\n",
            "75/75 [==============================] - 0s 2ms/step - loss: 0.2749 - accuracy: 0.9169\n",
            "Epoch 133/200\n",
            "75/75 [==============================] - 0s 2ms/step - loss: 0.3108 - accuracy: 0.8928\n",
            "Epoch 134/200\n",
            "75/75 [==============================] - 0s 2ms/step - loss: 0.2578 - accuracy: 0.9196\n",
            "Epoch 135/200\n",
            "75/75 [==============================] - 0s 2ms/step - loss: 0.3197 - accuracy: 0.8981\n",
            "Epoch 136/200\n",
            "75/75 [==============================] - 0s 2ms/step - loss: 0.3884 - accuracy: 0.8874\n",
            "Epoch 137/200\n",
            "75/75 [==============================] - 0s 2ms/step - loss: 0.2900 - accuracy: 0.9035\n",
            "Epoch 138/200\n",
            "75/75 [==============================] - 0s 2ms/step - loss: 0.4255 - accuracy: 0.8633\n",
            "Epoch 139/200\n",
            "75/75 [==============================] - 0s 3ms/step - loss: 0.3866 - accuracy: 0.9008\n",
            "Epoch 140/200\n",
            "75/75 [==============================] - 0s 2ms/step - loss: 0.3432 - accuracy: 0.8794\n",
            "Epoch 141/200\n",
            "75/75 [==============================] - 0s 2ms/step - loss: 0.3066 - accuracy: 0.9035\n",
            "Epoch 142/200\n",
            "75/75 [==============================] - 0s 2ms/step - loss: 0.3405 - accuracy: 0.9035\n",
            "Epoch 143/200\n",
            "75/75 [==============================] - 0s 2ms/step - loss: 0.4015 - accuracy: 0.8633\n",
            "Epoch 144/200\n",
            "75/75 [==============================] - 0s 2ms/step - loss: 0.3957 - accuracy: 0.8686\n",
            "Epoch 145/200\n",
            "75/75 [==============================] - 0s 2ms/step - loss: 0.3434 - accuracy: 0.8928\n",
            "Epoch 146/200\n",
            "75/75 [==============================] - 0s 2ms/step - loss: 0.3528 - accuracy: 0.8928\n",
            "Epoch 147/200\n",
            "75/75 [==============================] - 0s 2ms/step - loss: 0.2356 - accuracy: 0.9276\n",
            "Epoch 148/200\n",
            "75/75 [==============================] - 0s 2ms/step - loss: 0.3170 - accuracy: 0.9062\n",
            "Epoch 149/200\n",
            "75/75 [==============================] - 0s 2ms/step - loss: 0.2875 - accuracy: 0.9249\n",
            "Epoch 150/200\n",
            "75/75 [==============================] - 0s 2ms/step - loss: 0.3216 - accuracy: 0.8954\n",
            "Epoch 151/200\n",
            "75/75 [==============================] - 0s 2ms/step - loss: 0.3712 - accuracy: 0.8686\n",
            "Epoch 152/200\n",
            "75/75 [==============================] - 0s 3ms/step - loss: 0.2669 - accuracy: 0.9008\n",
            "Epoch 153/200\n",
            "75/75 [==============================] - 0s 2ms/step - loss: 0.3242 - accuracy: 0.9088\n",
            "Epoch 154/200\n",
            "75/75 [==============================] - 0s 2ms/step - loss: 0.2593 - accuracy: 0.9115\n",
            "Epoch 155/200\n",
            "75/75 [==============================] - 0s 2ms/step - loss: 0.2867 - accuracy: 0.9035\n",
            "Epoch 156/200\n",
            "75/75 [==============================] - 0s 3ms/step - loss: 0.2873 - accuracy: 0.9088\n",
            "Epoch 157/200\n",
            "75/75 [==============================] - 0s 2ms/step - loss: 0.3321 - accuracy: 0.8874\n",
            "Epoch 158/200\n",
            "75/75 [==============================] - 0s 2ms/step - loss: 0.2827 - accuracy: 0.9008\n",
            "Epoch 159/200\n",
            "75/75 [==============================] - 0s 2ms/step - loss: 0.3360 - accuracy: 0.8981\n",
            "Epoch 160/200\n",
            "75/75 [==============================] - 0s 2ms/step - loss: 0.2818 - accuracy: 0.9088\n",
            "Epoch 161/200\n",
            "75/75 [==============================] - 0s 2ms/step - loss: 0.3053 - accuracy: 0.8954\n",
            "Epoch 162/200\n",
            "75/75 [==============================] - 0s 2ms/step - loss: 0.3248 - accuracy: 0.8874\n",
            "Epoch 163/200\n",
            "75/75 [==============================] - 0s 2ms/step - loss: 0.3205 - accuracy: 0.9088\n",
            "Epoch 164/200\n",
            "75/75 [==============================] - 0s 2ms/step - loss: 0.2653 - accuracy: 0.9008\n",
            "Epoch 165/200\n",
            "75/75 [==============================] - 0s 2ms/step - loss: 0.2541 - accuracy: 0.9142\n",
            "Epoch 166/200\n",
            "75/75 [==============================] - 0s 2ms/step - loss: 0.3239 - accuracy: 0.8981\n",
            "Epoch 167/200\n",
            "75/75 [==============================] - 0s 2ms/step - loss: 0.2631 - accuracy: 0.9169\n",
            "Epoch 168/200\n",
            "75/75 [==============================] - 0s 2ms/step - loss: 0.3218 - accuracy: 0.9008\n",
            "Epoch 169/200\n",
            "75/75 [==============================] - 0s 3ms/step - loss: 0.3385 - accuracy: 0.9035\n",
            "Epoch 170/200\n",
            "75/75 [==============================] - 0s 3ms/step - loss: 0.2939 - accuracy: 0.8981\n",
            "Epoch 171/200\n",
            "75/75 [==============================] - 0s 3ms/step - loss: 0.3272 - accuracy: 0.8954\n",
            "Epoch 172/200\n",
            "75/75 [==============================] - 0s 3ms/step - loss: 0.3141 - accuracy: 0.9035\n",
            "Epoch 173/200\n",
            "75/75 [==============================] - 0s 3ms/step - loss: 0.3085 - accuracy: 0.8767\n",
            "Epoch 174/200\n",
            "75/75 [==============================] - 0s 3ms/step - loss: 0.3288 - accuracy: 0.8820\n",
            "Epoch 175/200\n",
            "75/75 [==============================] - 0s 4ms/step - loss: 0.3248 - accuracy: 0.9088\n",
            "Epoch 176/200\n",
            "75/75 [==============================] - 1s 8ms/step - loss: 0.3765 - accuracy: 0.8767\n",
            "Epoch 177/200\n",
            "75/75 [==============================] - 0s 4ms/step - loss: 0.3361 - accuracy: 0.9115\n",
            "Epoch 178/200\n",
            "75/75 [==============================] - 0s 2ms/step - loss: 0.3667 - accuracy: 0.8740\n",
            "Epoch 179/200\n",
            "75/75 [==============================] - 0s 2ms/step - loss: 0.3204 - accuracy: 0.9169\n",
            "Epoch 180/200\n",
            "75/75 [==============================] - 0s 2ms/step - loss: 0.2296 - accuracy: 0.9196\n",
            "Epoch 181/200\n",
            "75/75 [==============================] - 0s 2ms/step - loss: 0.3210 - accuracy: 0.9115\n",
            "Epoch 182/200\n",
            "75/75 [==============================] - 0s 2ms/step - loss: 0.2118 - accuracy: 0.9383\n",
            "Epoch 183/200\n",
            "75/75 [==============================] - 0s 2ms/step - loss: 0.2974 - accuracy: 0.9062\n",
            "Epoch 184/200\n",
            "75/75 [==============================] - 0s 2ms/step - loss: 0.3148 - accuracy: 0.9062\n",
            "Epoch 185/200\n",
            "75/75 [==============================] - 0s 2ms/step - loss: 0.2305 - accuracy: 0.9115\n",
            "Epoch 186/200\n",
            "75/75 [==============================] - 0s 2ms/step - loss: 0.2539 - accuracy: 0.9088\n",
            "Epoch 187/200\n",
            "75/75 [==============================] - 0s 2ms/step - loss: 0.3213 - accuracy: 0.8928\n",
            "Epoch 188/200\n",
            "75/75 [==============================] - 0s 2ms/step - loss: 0.2062 - accuracy: 0.9383\n",
            "Epoch 189/200\n",
            "75/75 [==============================] - 0s 2ms/step - loss: 0.2963 - accuracy: 0.8954\n",
            "Epoch 190/200\n",
            "75/75 [==============================] - 0s 2ms/step - loss: 0.2879 - accuracy: 0.9142\n",
            "Epoch 191/200\n",
            "75/75 [==============================] - 0s 4ms/step - loss: 0.3386 - accuracy: 0.8954\n",
            "Epoch 192/200\n",
            "75/75 [==============================] - 0s 3ms/step - loss: 0.2915 - accuracy: 0.8981\n",
            "Epoch 193/200\n",
            "75/75 [==============================] - 0s 4ms/step - loss: 0.2438 - accuracy: 0.9330\n",
            "Epoch 194/200\n",
            "75/75 [==============================] - 0s 4ms/step - loss: 0.3161 - accuracy: 0.9035\n",
            "Epoch 195/200\n",
            "75/75 [==============================] - 0s 4ms/step - loss: 0.2617 - accuracy: 0.9223\n",
            "Epoch 196/200\n",
            "75/75 [==============================] - 0s 4ms/step - loss: 0.2223 - accuracy: 0.9249\n",
            "Epoch 197/200\n",
            "75/75 [==============================] - 0s 4ms/step - loss: 0.4042 - accuracy: 0.8525\n",
            "Epoch 198/200\n",
            "75/75 [==============================] - 0s 5ms/step - loss: 0.3411 - accuracy: 0.8954\n",
            "Epoch 199/200\n",
            "75/75 [==============================] - 0s 4ms/step - loss: 0.2295 - accuracy: 0.9330\n",
            "Epoch 200/200\n",
            "75/75 [==============================] - 0s 5ms/step - loss: 0.1838 - accuracy: 0.9410\n"
          ]
        }
      ]
    },
    {
      "cell_type": "code",
      "source": [
        "model.save('chatbotmodel.h5', hist)"
      ],
      "metadata": {
        "id": "MFlc_XTuO8uL"
      },
      "execution_count": 20,
      "outputs": []
    },
    {
      "cell_type": "markdown",
      "source": [
        "## **Chatbot**"
      ],
      "metadata": {
        "id": "GKm5bBnlQIn2"
      }
    },
    {
      "cell_type": "code",
      "source": [
        "intents = json.loads(open('intents.json').read())\n",
        "\n",
        "words = pickle.load(open('words.pkl', 'rb'))\n",
        "classes = pickle.load(open('classes.pkl', 'rb'))\n",
        "model = load_model('chatbotmodel.h5')"
      ],
      "metadata": {
        "id": "GrwmTT9NQEye"
      },
      "execution_count": 21,
      "outputs": []
    },
    {
      "cell_type": "code",
      "source": [
        "def clean_up_sentence(sentence):\n",
        "\tsentence_words = nltk.word_tokenize(sentence)\n",
        "\treturn sentence_words"
      ],
      "metadata": {
        "id": "TbSbI6eOQWJn"
      },
      "execution_count": 22,
      "outputs": []
    },
    {
      "cell_type": "code",
      "source": [
        "def bag_of_words(sentence):\n",
        "\tsentence_words = clean_up_sentence(sentence)\n",
        "\tbag = [0] * len(words)\n",
        "\tfor w in sentence_words:\n",
        "\t\tfor i, word in enumerate(words):\n",
        "\t\t\tif word == w:\n",
        "\t\t\t\tbag[i] = 1\n",
        "\treturn np.array(bag)"
      ],
      "metadata": {
        "id": "OO3IM9epQYeJ"
      },
      "execution_count": 23,
      "outputs": []
    },
    {
      "cell_type": "code",
      "source": [
        "def predict_class(sentence):\n",
        "\tbow = bag_of_words(sentence)\n",
        "\tres = model.predict(np.array([bow]))[0]\n",
        "\tERROR_THRESHOLD = 0.25\n",
        "\tresults = [[i, r] for i, r in enumerate(res) if r > ERROR_THRESHOLD]\n",
        "\n",
        "\tresults.sort(key=lambda x: x[1], reverse=True)\n",
        "\treturn_list = []\n",
        "\tfor r in results:\n",
        "\t\treturn_list.append({'intent': classes[r[0]], 'probability': str(r[1])})\n",
        "\treturn return_list"
      ],
      "metadata": {
        "id": "PYWLIo1jQcuR"
      },
      "execution_count": 24,
      "outputs": []
    },
    {
      "cell_type": "code",
      "source": [
        "def get_response(intents_list, intents_json):\n",
        "\ttag = intents_list[0]['intent']\n",
        "\tlist_of_intents = intents_json['intents']\n",
        "\tfor i in list_of_intents:\n",
        "\t\tif i['tag'] == tag:\n",
        "\t\t\tresult = random.choice(i['response'])\n",
        "\t\t\tbreak\n",
        "\treturn result"
      ],
      "metadata": {
        "id": "CoB-364XQf2M"
      },
      "execution_count": 27,
      "outputs": []
    },
    {
      "cell_type": "code",
      "source": [
        "while True:\n",
        "\tmessage = input(\"Enter a message:\")\n",
        "\tints = predict_class(message)\n",
        "\tres = get_response(ints, intents)\n",
        "\tprint(res)"
      ],
      "metadata": {
        "colab": {
          "base_uri": "https://localhost:8080/"
        },
        "id": "hNv8lFaCQjmV",
        "outputId": "19942090-c2ff-4868-8ec1-dba35374d0e5"
      },
      "execution_count": null,
      "outputs": [
        {
          "output_type": "stream",
          "name": "stdout",
          "text": [
            "Enter a message:Can a student who has received a temporary certificate of completion be able to return to education?\n",
            "1/1 [==============================] - 0s 127ms/step\n",
            "If he receives a temporary certificate, he cannot return to study.\n",
            "Enter a message:Is the passage of time included in the cancellation of the obligation of free education?\n",
            "1/1 [==============================] - 0s 33ms/step\n",
            "no\n"
          ]
        }
      ]
    },
    {
      "cell_type": "code",
      "source": [],
      "metadata": {
        "id": "4rp3kQQMQma_"
      },
      "execution_count": null,
      "outputs": []
    }
  ]
}