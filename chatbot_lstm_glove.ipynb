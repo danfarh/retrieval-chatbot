{
  "nbformat": 4,
  "nbformat_minor": 0,
  "metadata": {
    "colab": {
      "provenance": []
    },
    "kernelspec": {
      "name": "python3",
      "display_name": "Python 3"
    },
    "language_info": {
      "name": "python"
    }
  },
  "cells": [
    {
      "cell_type": "code",
      "execution_count": 1,
      "metadata": {
        "id": "yzQ4wLTONaE3"
      },
      "outputs": [],
      "source": [
        "import random\n",
        "import json\n",
        "import pickle\n",
        "import numpy as np\n",
        "import pandas as pd\n",
        "import tensorflow\n",
        "import keras\n",
        "import nltk\n",
        "#nltk.download()\n",
        "\n",
        "from tensorflow.keras.models import Sequential\n",
        "from tensorflow.keras.layers import Dense, Embedding, Conv1D, Activation, GlobalMaxPooling1D, Dropout, Bidirectional, LSTM\n",
        "from tensorflow.keras.optimizers import SGD\n",
        "from tensorflow.keras.models import load_model\n",
        "from tensorflow.keras.preprocessing.text import Tokenizer\n",
        "from tensorflow.keras.preprocessing.sequence import pad_sequences"
      ]
    },
    {
      "cell_type": "code",
      "source": [
        "nltk.download('punkt')"
      ],
      "metadata": {
        "colab": {
          "base_uri": "https://localhost:8080/"
        },
        "id": "mdvevYpIOGxy",
        "outputId": "b6cc5ba0-c11d-4b69-c233-b935c4b0c213"
      },
      "execution_count": 2,
      "outputs": [
        {
          "output_type": "stream",
          "name": "stderr",
          "text": [
            "[nltk_data] Downloading package punkt to /root/nltk_data...\n",
            "[nltk_data]   Unzipping tokenizers/punkt.zip.\n"
          ]
        },
        {
          "output_type": "execute_result",
          "data": {
            "text/plain": [
              "True"
            ]
          },
          "metadata": {},
          "execution_count": 2
        }
      ]
    },
    {
      "cell_type": "code",
      "source": [
        "intents = json.loads(open('intents.json').read())"
      ],
      "metadata": {
        "id": "1iHvB3T9NoBE"
      },
      "execution_count": 4,
      "outputs": []
    },
    {
      "cell_type": "code",
      "source": [
        "words = []\n",
        "classes = []\n",
        "documents = []\n",
        "ignore_letters = ['?', '!', '.', ',']\n",
        "\n",
        "for intent in intents['intents']:\n",
        "    for pattern in intent['patterns']:\n",
        "        word_list = nltk.word_tokenize(pattern)\n",
        "        words.extend(word_list)\n",
        "        documents.append((word_list, intent['tag']))\n",
        "        if intent['tag'] not in classes:\n",
        "            classes.append(intent['tag'])"
      ],
      "metadata": {
        "id": "ovsWTyfsN7q-"
      },
      "execution_count": 5,
      "outputs": []
    },
    {
      "cell_type": "code",
      "source": [
        "words = [word for word in words if word not in ignore_letters]\n",
        "words = sorted(set(words))\n",
        "classes = sorted(set(classes))"
      ],
      "metadata": {
        "id": "Z44kMlr6N-up"
      },
      "execution_count": 6,
      "outputs": []
    },
    {
      "cell_type": "markdown",
      "source": [
        "### **Calculate X**"
      ],
      "metadata": {
        "id": "kivdetWj9Kmz"
      }
    },
    {
      "cell_type": "code",
      "source": [
        "question = []\n",
        "for doc in intents['intents']:\n",
        "  question.append(doc['patterns'])"
      ],
      "metadata": {
        "id": "qJUeBaAJvNkW"
      },
      "execution_count": 7,
      "outputs": []
    },
    {
      "cell_type": "code",
      "source": [
        "question_list = []\n",
        "arr = [[question_list.append(x) for x in q] for q in question]"
      ],
      "metadata": {
        "id": "uN-OnVdxx9pL"
      },
      "execution_count": 8,
      "outputs": []
    },
    {
      "cell_type": "code",
      "source": [
        "question_list"
      ],
      "metadata": {
        "colab": {
          "base_uri": "https://localhost:8080/"
        },
        "id": "jQkLNc-n6hZR",
        "outputId": "c172c398-590e-4dfa-e632-feecc976173e"
      },
      "execution_count": 9,
      "outputs": [
        {
          "output_type": "execute_result",
          "data": {
            "text/plain": [
              "['Hi there',\n",
              " 'How are you',\n",
              " 'How are you?',\n",
              " 'Is anyone there?',\n",
              " 'Hey',\n",
              " 'Hola',\n",
              " 'Hello',\n",
              " 'Good day',\n",
              " 'Bye',\n",
              " 'See you later',\n",
              " 'Goodbye',\n",
              " 'Nice chatting to you, bye',\n",
              " 'Till next time',\n",
              " 'Thanks',\n",
              " 'Thank you',\n",
              " \"That's helpful\",\n",
              " 'Awesome, thanks',\n",
              " 'Thanks for helping me',\n",
              " 'what is your name',\n",
              " 'what should I call you',\n",
              " 'whats your name?',\n",
              " 'who are you?',\n",
              " 'how old',\n",
              " 'old',\n",
              " 'how old is florian',\n",
              " 'what is your age',\n",
              " 'old are you',\n",
              " 'age?',\n",
              " 'How you could help me?',\n",
              " 'What you can do?',\n",
              " 'What help you provide?',\n",
              " 'How you can be helpful?',\n",
              " 'What support is offered',\n",
              " 'Can a student who has received a temporary certificate of completion be able to return to education?',\n",
              " 'Can a graduate student who has a temporary certificate return to study?',\n",
              " 'Can a graduate associate who has a temporary certificate return to study?',\n",
              " \"What is the email address of the university's educational administration?\",\n",
              " \"What is the university's educational management email?\",\n",
              " 'Educational management email',\n",
              " 'University educational management email',\n",
              " 'How can scholarship graduates of the Ministry of Science receive a temporary certificate?',\n",
              " 'How to get the temporary certificate of scholarship graduates of the Ministry of Science',\n",
              " 'How can graduates of the scholarship of the Ministry of Science receive a temporary certificate?',\n",
              " 'What is in the temporary certificate of completion of education?',\n",
              " 'Obligations of temporary certificate of completion of education',\n",
              " 'What are the obligations included in the temporary certificate of graduation?',\n",
              " 'What are the obligations mentioned in the temporary certificate of graduation?',\n",
              " 'What are the obligations raised in the temporary certificate of graduation?',\n",
              " 'How long is the validity of the temporary certificate of graduation?',\n",
              " 'Validity of temporary certificate of completion of education',\n",
              " 'Temporary certificate validity',\n",
              " 'The validity of the temporary certificate of completion of education',\n",
              " 'How valid is the temporary certificate of graduation?',\n",
              " 'How can we get a degree if we have a loan after graduation?',\n",
              " 'How can we get a degree if we still have loans after graduation?',\n",
              " 'How can we get a degree if our student loan continues after graduation?',\n",
              " 'Can those committed to serving the bodies, organizations, especially education, receive their degrees?',\n",
              " 'Can those committed to serving organizations receive their certificates?',\n",
              " 'Can those committed to serving the departments receive their certificates?',\n",
              " 'Can a person who has an obligation to serve the departments receive her certificate?',\n",
              " 'Can a person who has an obligation to serve the departments receive his certificate?',\n",
              " 'What kind of degree do graduates who are committed to serving education receive after graduation?',\n",
              " 'What kind of degree do graduates committed to education receive after graduation?',\n",
              " 'What is the degree of graduates committed to education?',\n",
              " 'What is the type of degree of graduates committed to serving education',\n",
              " 'can the students receive educational approval for their degree of education ?',\n",
              " 'Can graduates get academic approval for their degree?',\n",
              " 'Do graduates receive academic approval for their degree?',\n",
              " 'What are the conditions for obtaining a temporary associate degree certificate?',\n",
              " 'Conditions for obtaining a temporary associate certificate',\n",
              " 'Conditions for obtaining a temporary certificate of inter-sectional associate degree',\n",
              " 'What are the conditions for obtaining a duplicate temporary certificate in case of missing temporary certificate',\n",
              " 'Conditions for obtaining a duplicate temporary certificate',\n",
              " 'Duplicate temporary certificate',\n",
              " 'How to get a duplicate temporary certificate',\n",
              " 'Although the temporary certificate is lost, how to get a duplicate temporary certificate',\n",
              " 'If the temporary certificate is lost, how to get a duplicate temporary certificate',\n",
              " 'How to get a temporary certificate of graduation?',\n",
              " 'How to get a temporary certificate',\n",
              " 'How to get a temporary certificate of completion of education',\n",
              " 'Can people other than the educated person receive his degree',\n",
              " \"Can someone else receive the student's degree?\",\n",
              " \"Can any of the student's relatives receive the degree?\",\n",
              " 'Except for a private student, she can receive her degree',\n",
              " 'Except for a private student, he can receive his degree',\n",
              " 'What are the conditions for obtaining a temporary certificate for male graduates',\n",
              " 'What are the conditions for receiving a temporary certificate for male graduates?',\n",
              " 'Conditions for receiving temporary certificate for male students',\n",
              " 'What degree is given to a graduate subject to the conscription system after graduation',\n",
              " 'What degree is given to the graduates subject to the conscription system after graduation?',\n",
              " 'What degree is given to eligible graduates after graduation?',\n",
              " 'What actions should be taken to receive a temporary certificate of graduation',\n",
              " 'What should be done to get a temporary certificate of graduation?',\n",
              " 'Necessary measures to obtain a temporary certificate of completion of education',\n",
              " 'Procedures for obtaining a temporary certificate of completion of education',\n",
              " 'What are the necessary documents to receive a copy of the encyclopedia?',\n",
              " 'Necessary documents of Duplicate Encyclopedia',\n",
              " 'Documents required for a copy of the encyclopedia',\n",
              " 'Necessary documents of a copy of the encyclopedia',\n",
              " 'How can male graduates receive their academic encyclopedias and transcripts?',\n",
              " 'Under what conditions can male graduates receive their academic encyclopedia and transcripts?',\n",
              " 'What are the documents required to issue academic certificates and certified transcripts?',\n",
              " 'What documents are needed to issue an educational encyclopedia?',\n",
              " 'What documents are needed to issue approved transcripts?',\n",
              " 'What is academic encyclopedia?',\n",
              " 'About academic encyclopedia',\n",
              " 'Educational encyclopedia',\n",
              " 'Can the committed people of the executive bodies or the scholarship use the provided service history to cancel the obligation of the scholarship to fulfill the obligations of providing free education?',\n",
              " 'Can people who are committed to executive bodies or scholarships use the service history provided to cancel the commitment of the scholarship to fulfill the obligations of free education service?',\n",
              " 'Can the committed people of the executive bodies use the provided service history to cancel the obligation of the exchange to fulfill the obligations of providing free education?',\n",
              " 'What documents should scholarship students submit to release their degree?',\n",
              " 'Required documents to release the degree of scholarship students?',\n",
              " 'What documents must scholarship students provide to be able to release their degree?',\n",
              " 'What are the conditions for canceling the commitment of free education for scholarship students?',\n",
              " 'Canceling the obligation of free education for scholarship students',\n",
              " 'Name the methods of canceling the obligation of free education?',\n",
              " 'What are the conditions for canceling the obligation of free education?',\n",
              " 'People who have studied at several levels of education should apply from which level in order to fulfill their service obligation?',\n",
              " 'People who have graduated from several levels should apply from which level to commit to their service?',\n",
              " 'A person who has graduated from several courses should apply from which course to commit to her service?',\n",
              " 'A person who has graduated from several courses should apply from which course to commit to his service?',\n",
              " 'Graduates should contact which unit for guidance and information about the semesters and units taken and passed for the cancellation process of the Sajjad system?',\n",
              " 'For guidance and information about the semesters and units taken and passed for the cancellation process of the Sajjad system, where should the students follow up with?',\n",
              " 'How to register in Sajjad system?',\n",
              " 'What should we do to register in the Sajjad system?',\n",
              " 'Registration guide in Sajjad system',\n",
              " 'Is the passage of time included in the cancellation of the obligation of free education?',\n",
              " 'Will the commitment of free education be canceled over time?',\n",
              " 'What is the cancellation of the obligation of free education?',\n",
              " 'Cancellation of the obligation of free education',\n",
              " 'Explain the cancellation of the free education obligation',\n",
              " 'How long is the free education commitment period?',\n",
              " 'Free education service commitment time',\n",
              " 'What is the commitment time for free education service?',\n",
              " 'How much is the free education service commitment?',\n",
              " 'For which group of accepted students, the amount of commitment is calculated as one time of the study period?',\n",
              " 'For which group, the obligation is calculated equal to the study period?',\n",
              " 'For which group of admitted students, the amount of commitment is calculated as double the duration of education?',\n",
              " 'Commitment is calculated as double the study period for which group?',\n",
              " 'For which group of admitted students, the amount of commitment is calculated as three times the study period?',\n",
              " 'The commitment is calculated as three times the study period for which group?',\n",
              " 'In which case, the quota graduates of regions 2, 3, 4, and 5 and tribes and governorates can benefit from the privilege of region 1?',\n",
              " 'How can the graduates of regions 2, 3, 4, and 5 and tribes and governorates benefit from the privilege of region 1?',\n",
              " 'How can the graduates of regions 2, 3, 4, and 5 and tribes and governorates benefit from the points of region 1?',\n",
              " 'Can withdrawn and expelled students who are eligible to receive an interdisciplinary associate certificate benefit from this privilege if they meet the requirements of Region 1?',\n",
              " 'Can withdrawn and expelled students eligible to receive an associate certificate if they meet the requirements of Region 1 benefit from this privilege?',\n",
              " 'What semesters are not included in the obligation to serve free education?',\n",
              " 'Which semesters are not included in the obligation to serve free education?',\n",
              " 'What are the semesters that are not included in the obligation to serve free education?',\n",
              " 'How is the commitment period of introduction courses to the professor calculated?',\n",
              " 'How is the commitment time of introduction courses to the professor calculated?',\n",
              " 'How to calculate the commitment time of introduction courses to the professor',\n",
              " 'Are the removed semesters for emergency, medical, etc. calculated during the commitment period of free education service?',\n",
              " 'Are the removed semesters counted in the commitment period of free education service?',\n",
              " 'Are the removed semesters calculated as an emergency during the commitment period of the free education service?',\n",
              " 'Are the removed semesters medically calculated during the commitment period of free education service?',\n",
              " \"How is the obligation to serve the thesis unit in the master's degree calculated?\",\n",
              " \"Obligation to serve the thesis unit in the master's degree\",\n",
              " \"Obligation to serve the thesis in the master's degree\",\n",
              " 'How is the obligation to serve the dissertation unit in the specialized doctorate level calculated?',\n",
              " 'Obligation to serve the dissertation unit in the specialized doctorate level',\n",
              " 'Obligation to serve the thesis in the specialized doctoral level',\n",
              " 'Are the semesters in which doctoral students are busy preparing the thesis (proposal) and the comprehensive exam calculated in the repayment amount of the free education service obligation?',\n",
              " 'Are the semesters in which doctoral students are busy preparing proposals and comprehensive exams counted in the repayment amount of the free education service obligation?',\n",
              " 'Are semesters and units of prerequisite courses counted as part of the free education service obligation?',\n",
              " 'Are semesters and prerequisite courses counted as part of the obligation to provide free education?',\n",
              " 'Are semesters and prerequisite courses considered part of the free education service commitment?',\n",
              " 'Canceling the obligation of free education includes who?',\n",
              " 'Who is included in canceling the commitment of free education?',\n",
              " 'Who does the cancellation of the obligation of free education include?',\n",
              " 'How to cancel the obligation of free education (students of the daily course)?',\n",
              " 'How to cancel the obligation of free education for graduates of the daily course?',\n",
              " 'How to cancel the obligation of free education for daily graduates?',\n",
              " 'Are the graduates and those accepted at night, Payam Noor, non-profit and virtual also obliged to cancel the obligation of education service?',\n",
              " 'Are evening, Payam Noor, non-profit and virtual graduates also obliged to cancel the obligation of education?',\n",
              " 'Are night graduates also obliged to cancel the obligation of education service?',\n",
              " 'Are the graduates of Payam Noor also obliged to cancel the commitment of education service?',\n",
              " 'Are non-profit graduates obliged to cancel the education service obligation?',\n",
              " 'Are evening and virtual graduates also obliged to cancel the obligation of education service?',\n",
              " 'What group of graduates are exempt from the obligation to serve free education?',\n",
              " 'Which graduates are exempt from the obligation to serve free education?',\n",
              " 'The equivalent amount is distributed for which group of students and for how long?',\n",
              " 'For which group of students and until when will the amount equivalent to the commitment be distributed?',\n",
              " 'The amount equivalent to the commitment will be paid in installments for which group of students and for how long',\n",
              " 'What is the way to cancel the commitment by paying the fee?',\n",
              " 'How to cancel the commitment by paying the fee?',\n",
              " 'How to cancel the commitment with a fee?',\n",
              " 'what factors influence the cost of graduates to cancel their commitment with the documents ?( to pay the amount and provide the certificate of doing the work )',\n",
              " 'Factors influencing the cost of graduates to cancel the commitment along with the documents of doing the work',\n",
              " 'How is the cost of canceling the free education obligation calculated?',\n",
              " 'How to calculate the cost of canceling the free education commitment',\n",
              " 'How to calculate the cost of canceling the obligation of free education',\n",
              " 'How can we get certified social security insurance work records (12-digit barcode) from the social security website?',\n",
              " 'How to get verified work records of social security insurance (12-digit barcode) from the social security website',\n",
              " 'Is the period of military service counted as part of the effective function to cancel the obligation?',\n",
              " 'Is the military period counted as part of the effective function to cancel the obligation?',\n",
              " 'Is the military period counted as part of the work to cancel the obligation?',\n",
              " 'In what way is the certificate of completion of work while studying at a higher level accepted for lower levels?',\n",
              " 'The conditions for accepting the certificate of doing work while studying at a higher level for lower levels?',\n",
              " 'Was the simultaneous work experience accepted at the same place for a service commitment?',\n",
              " 'Has the work experience in several places been accepted for service commitment?',\n",
              " 'Is work experience in several places accepted for service commitment?',\n",
              " 'Were the certificates of the work provided to fulfill the service commitment at one point?',\n",
              " 'Are the certificates of work done to fulfill the obligation of service at one stage acceptable for other stages?',\n",
              " 'Have the work certificates for the commitment of service at one stage been acceptable for other stages?',\n",
              " 'When is the time to provide a certificate for each point?',\n",
              " 'The time to submit the work completion certificate for each section',\n",
              " 'Can the graduate pay the lower level commitment and provide the certificate of doing their job for higher levels?',\n",
              " 'Can the student pay the commitment amount of the lower levels and provide a certificate of completion of her work for the higher level?',\n",
              " '',\n",
              " 'What activities have not included insurance records and are acceptable as a trustee to fulfill the obligation?',\n",
              " 'Activities that do not include providing insurance records and are acceptable as valid work to fulfill the obligation?',\n",
              " 'Is it possible to act as a valid task to cancel the obligation if an insurance experience without an insurance history?',\n",
              " 'Did he act to cancel the commitment in case of activity without record as valid work?',\n",
              " 'Is the experience of working on a daily basis for the cancellation of a free training commitment?',\n",
              " 'Is working with studying at the same time during the day course considered to cancel the obligation of free education?',\n",
              " 'What is the way to release an academic degree by presenting a valid work certificate?',\n",
              " 'How can the release of the academic degree be done by presenting a valid work certificate?',\n",
              " 'Release of educational qualification through the presentation of a valid work certificate',\n",
              " 'How to release a degree by presenting a valid work certificate',\n",
              " 'What kind of employment is considered valid for fulfilling the obligation of free education service?',\n",
              " 'What are the valid tasks to fulfill the obligation of free education service?',\n",
              " 'What works are valid for free education service commitment',\n",
              " 'Works that serve the commitment of free education',\n",
              " 'In what way is it possible to cancel the obligation of free education for those committed to serving education?',\n",
              " 'The conditions for canceling the obligation of free education for those committed to serving education',\n",
              " 'What are the conditions for canceling the obligation of free education for those committed to serving education?',\n",
              " 'What are the conditions for canceling the obligation of free education for those committed to serving education?',\n",
              " 'Can graduates who studied in two fields at the same time use the certificate of lack of employment to cancel the obligation of free education service?',\n",
              " 'Can graduates who have studied in two fields at the same time use the certificate of non-employment to cancel the obligation of free education service?',\n",
              " 'When will students who have a higher education level in the daily withdrawal period register for employment for the previous level (graduate)?',\n",
              " 'Please tell me the registration time of students who have a higher education level during the daily withdrawal period and are dismissed for the previous level (graduate) in job search.',\n",
              " 'The time of registration in job search for students who have a higher education level during the daily withdrawal period, are dismissed for the previous level (graduate)',\n",
              " 'When can the graduates benefiting from study opportunities during their studies register in employment agencies?',\n",
              " 'When can graduates who benefit from study opportunities during their studies register in employment agencies?',\n",
              " 'When can graduates benefit from study opportunities during their studies to register in employment institutions?',\n",
              " 'If you have an insurance history, can you apply for the release of the certificate through a letter of non-employment?',\n",
              " 'If we have a history of insurance, can we apply for the release of the certificate through a letter of non-employment?',\n",
              " \"Can full-time master's students apply to release their bachelor's degree through the method of obtaining a letter of non-employment?\",\n",
              " \"Can daily graduate students apply to release their bachelor's degree by getting a letter of non-employment at the same time as they study?\",\n",
              " 'Can the students who are studying in all the courses of the higher levels of the day course present a certificate of non-employment during their studies to cancel the obligation of the free education service of the previous level?',\n",
              " 'Can the students who are studying in all the courses of the higher levels provide a certificate of non-employment during their studies to cancel the commitment of the free education service of the previous level?',\n",
              " 'How can scholarship graduates or those committed to institutions use the certificate of lack of employment?',\n",
              " 'How can scholarship graduates use the certificate of lack of employment?',\n",
              " 'How can the graduates committed to the devices use the certificate of lack of employment?',\n",
              " 'If a student studies in a different field at a higher level, how is the use of lack of employment?',\n",
              " 'If the student studies in another field at a higher level, what is the use of not finding a job?',\n",
              " 'How can you use job placement search if you graduate at a higher level?',\n",
              " 'If we graduate in higher grades, how can we use job search?',\n",
              " 'How is the cancellation of the commitment through the employment letter calculated for those who are subject to the conscription system?',\n",
              " 'How is it calculated for those who are under the conscription system, canceling the commitment using the employment letter?',\n",
              " 'What documents are required to register in employment agencies?',\n",
              " 'Documents required for registration in employment agencies',\n",
              " \"Is the letter of non-employment issued at the same time as the student's application in the employment offices?\",\n",
              " \"Is the letter of non-employment issued at the same time as the student's application in the relevant offices?\",\n",
              " 'What should be the time to go to the employment offices?',\n",
              " 'Necessary tips when visiting employment offices',\n",
              " 'Points to pay attention to when visiting employment offices',\n",
              " 'Important points when visiting employment offices',\n",
              " 'Should the time limit of 6 months after graduation be observed in order to refer to employment offices?',\n",
              " 'Should the time of 6 months after graduation be observed to refer to employment offices?',\n",
              " 'Do you have to wait 6 months after graduation to go to employment offices?',\n",
              " 'What are the conditions for canceling the obligation through retirement?',\n",
              " 'Conditions for canceling the obligation with the retirement order',\n",
              " 'Is it possible to send an academic confirmation for undergraduate students who are accepted again in the same degree and medical degree?',\n",
              " 'Is it possible to send an academic confirmation for undergraduate students who are accepted again in the same medical degree?',\n",
              " 'What are the conditions for canceling the obligation through disability?',\n",
              " 'Conditions for canceling the disability obligation',\n",
              " 'How long are the years of friendship and how should you act?',\n",
              " 'How long is the duration of friendship and how can it be done?',\n",
              " 'What is the duration of the years of friendship and how can it be done?',\n",
              " 'What is the time of the Arafaqi years and how is it?',\n",
              " 'Can the educational exemption of the previous level (student or student) that has not yet expired be used for the next levels?',\n",
              " 'Can the academic exemption of the previous level that has not yet expired be used for the next levels?',\n",
              " 'Is it possible to use the educational exemption of the previous level for the following levels?',\n",
              " 'Is it possible to use the educational exemption from the previous level (student or student) for the following levels?',\n",
              " \"Is the student's academic exemption valid in case of disconnection from the university (dismissal, withdrawal or failure to return)?\",\n",
              " \"Is the student's academic exemption valid in case of disconnection from the university?\",\n",
              " 'What are the procedures for obtaining an educational exemption?',\n",
              " 'Guide to receiving educational exemption',\n",
              " 'Steps to get educational exemption',\n",
              " 'What is the maximum period of issuing permission to leave the country for each level of education?',\n",
              " 'How long does it take to issue a permission to leave the country at each level of education?',\n",
              " 'How long does it take to issue a permit to leave the country at each level of education?',\n",
              " 'If you have a study leave, will you be allowed to leave the country?',\n",
              " 'If we have a study leave, permission to leave the country will be issued',\n",
              " 'What are the procedures for obtaining permission to leave the country?',\n",
              " 'Procedures for obtaining permission to leave the country',\n",
              " 'What are the steps to get permission to leave the country?',\n",
              " 'When is the date of sending the letter to the conscription system and announcing the withdrawal from education (cancellation of academic exemption) of the eligible students?',\n",
              " 'When is the date of sending the letter to the conscription system and announcing the graduation of the students?',\n",
              " 'When is the date of sending the letter to the conscription system for eligible students?',\n",
              " 'When is the date of sending the letter to the conscription system for graduate students?',\n",
              " 'How long can a student get a permit to leave the country and is it possible to get a permit to leave the country after graduation?',\n",
              " 'How long can a student get permission to leave the country?',\n",
              " 'Is it possible to get permission to leave the country after graduation?',\n",
              " 'Can a student get permission to leave the country after graduation?',\n",
              " 'What are the examples and issues of issuing permission to leave the country? And how many times can you get permission to leave the country?',\n",
              " 'What are the examples and issues of issuing permission to leave the country?',\n",
              " 'How many times can you get permission to leave the country?',\n",
              " 'What are the examples of issuing permission to leave the country? And how many times can you get an exit permit?',\n",
              " 'Is studying at the same time as public service allowed?',\n",
              " 'Is studying and military service allowed at the same time?',\n",
              " 'Is education and military service allowed at the same time?',\n",
              " 'How long is the academic exemption period?',\n",
              " 'What is the duration of using the educational exemption?',\n",
              " 'The duration of using the academic exemption',\n",
              " 'Is it possible to study in two fields or two universities at the same time?',\n",
              " 'Is it possible to study in two fields at the same time?',\n",
              " 'Is it possible to study in two universities at the same time?',\n",
              " 'What is the deadline after completing the studies in each of the study levels?',\n",
              " 'What is the time after the end of education at each level?',\n",
              " 'How can the soldiers who are sent to serve and continue their education?',\n",
              " 'How can serving soldiers continue their education?',\n",
              " 'How can active duty soldiers continue their education?',\n",
              " 'How can soldiers who are being deployed continue their education?',\n",
              " 'What is the process of discharging soldiers?',\n",
              " 'Discharge process of soldiers',\n",
              " 'Procedures for the discharge of soldiers',\n",
              " 'How should I proceed to obtain sponsorship exemption, special and Olympic cases?',\n",
              " 'What should be done to get a sponsorship exemption?',\n",
              " 'What should be done to get exemption for special cases?',\n",
              " 'How should I proceed to get an Olympic exemption?',\n",
              " 'Can withdrawn and expelled students use the academic exemption again?',\n",
              " 'Can withdrawn students use the study exemption again?',\n",
              " 'Can withdrawn students use the academic exemption again?',\n",
              " 'Can expelled students use the study exemption again?',\n",
              " 'Can expelled students use the academic exemption again?',\n",
              " 'What is the deadline for students to be introduced to public duty?',\n",
              " 'How long does it take for students to be introduced to public duty?',\n",
              " 'How much time does it take for students to be introduced to the military?',\n",
              " 'How much time does it take for students to be introduced to public duty?',\n",
              " 'When is the registration period for guest and transfer?',\n",
              " 'When is the application time for the guest and transfer?',\n",
              " 'What are the initial conditions for changing majors?',\n",
              " 'Conditions for changing majors',\n",
              " 'If you withdraw from your studies, can you return to your studies?',\n",
              " 'If the student withdraws, she can return to study',\n",
              " 'If the student withdraws, he can return to study',\n",
              " 'A student who withdraws can return to study',\n",
              " 'What is the maximum time allowed to submit and approve the research plan?',\n",
              " 'What is the maximum time for submitting and approving the research plan?',\n",
              " 'What is the maximum time to submit a proposal?',\n",
              " 'What is the maximum time for submitting and approving the proposal?',\n",
              " \"Is the teaching method possible without doing and defending the thesis in the master's course for graduation?\",\n",
              " 'Is it possible to graduate without defending the thesis in the senior course?',\n",
              " \"The master's degree is done without a thesis\",\n",
              " 'Is it possible to change the title of the thesis or the thesis committee (adding or removing the second supervisor or consultant professor) after the approval of the research plan?',\n",
              " 'Is it possible to change the thesis title after the approval of the research plan?',\n",
              " 'Is it possible to change the second supervisor or consultant professor after the approval of the research plan?',\n",
              " 'Is it possible to change the second supervisor or consultant professor after the approval of the proposal?',\n",
              " 'If the student is applying for an incentive grade for the essay after defending the thesis, should she approve the amendments and finalize the plan in research plan 3?',\n",
              " 'If the student requests more marks for the article after the thesis defense, should she approve the amendments and finalize the plan in research plan 3?',\n",
              " 'If the student requests more marks for the article after the thesis defense, should he approve the amendments and finalize the plan in research plan 3?',\n",
              " 'After defending the thesis, is it possible to submit an article to get an incentive score?',\n",
              " 'Is it possible to submit an essay after the defense of the thesis to increase the grade?',\n",
              " \"If, after passing all the educational units (courses), the student's grade point average is less than 14, is it possible to defend the thesis?\",\n",
              " \"If the student's GPA is less than 14, is it possible to defend the thesis?\",\n",
              " \"If the student's GPA is less than 14, can she defend her thesis?\",\n",
              " \"If the student's GPA is less than 14, can he defend his thesis?\",\n",
              " 'In case of two conditional semesters, is it possible to continue studying?',\n",
              " 'If we are suspended for two semesters, it is possible to continue studying',\n",
              " 'Should the thesis defense sufficiency condition for the defense permit be published in the form of the final version in paper form or electronically (online)?',\n",
              " 'Is it possible to change the thesis title or the thesis committee (adding or removing the second supervisor or consultant professor) after defending the research project?',\n",
              " 'Is it possible to change the thesis title after defending the research plan?',\n",
              " 'Is it possible to change the second supervisor or advisor after defending the research project?',\n",
              " 'Is it possible to change the second supervisor or advisor after defending the proposal?',\n",
              " 'When is the maximum time allowed to send internal and external study opportunities?',\n",
              " 'What is the time allowed for sending study opportunities inside and outside?',\n",
              " 'Allowed time to send study opportunities inside and outside',\n",
              " 'If the student is applying to get an incentive score for the essay (essays) after the thesis defense, should she approve the amendments and finalize the plan in research plan 3?',\n",
              " 'If the student wants an extra grade for the essay after defending the thesis, she must approve the amendments and complete the plan in research plan 3.',\n",
              " 'If the student wants an extra grade for the essay after defending the thesis, he must approve the amendments and complete the plan in research plan 3.',\n",
              " 'If I request to increase the grade of the article after defending the thesis, I have to do 3 things to approve the amendments and complete the plan in the research plan.',\n",
              " 'After defending the dissertation, is it possible to submit an essay to get an incentive score?',\n",
              " 'After the defense of the dissertation, additional marks can be obtained by submitting an essay',\n",
              " 'Should the names of all the members of the thesis committee (the first and second supervisors, the advisors) be mentioned in the essay, or can someone else be added as an author?',\n",
              " 'Should the names of all the members of the thesis committee be mentioned in the article, or can another person be added as an author?',\n",
              " 'Should the names of all committee members be included in the article, or can another person be added as an author?',\n",
              " 'Who is the responsible author of the essay on the condition of sufficiency of thesis defense?',\n",
              " 'Who is the author of the article?',\n",
              " 'What is the maximum number of articles to be submitted for the sufficiency condition of thesis defense for the defense license?',\n",
              " 'How many times is a student allowed to participate in the comprehensive exam and get a passing grade?',\n",
              " 'How many times is a student allowed to participate in the exam to get a passing grade?',\n",
              " 'What is the maximum time allowed to obtain a license to hold a comprehensive evaluation?',\n",
              " 'Allowed time to obtain permission to conduct a comprehensive assessment',\n",
              " 'How many times a year is the comprehensive exam held in Birjand University?',\n",
              " 'How many times is the comprehensive exam held in Birjand University?',\n",
              " 'When is the deadline for defending the research plan?',\n",
              " 'The deadline for defending the research plan',\n",
              " 'When is the deadline for submitting the English proficiency score?',\n",
              " 'The deadline for submitting the English proficiency score',\n",
              " 'What is the formula for calculating the tuition fee for a thesis or dissertation in terms of days?',\n",
              " 'The formula for calculating the tuition fee of a thesis or dissertation in days',\n",
              " 'How to calculate the tuition fee of thesis or thesis in daily basis',\n",
              " \"For what courses should daily master's and doctorate students pay tuition?\",\n",
              " 'Courses for which full-time graduate and doctoral students must pay tuition',\n",
              " \"For what courses do master's and doctorate students have to pay tuition fees?\",\n",
              " 'If a student has a credit in her financial record at the end of her studies, what action should she take to refund the excess deposit?',\n",
              " 'If a student has a credit in her financial record at the end of her studies, what should she do to return the excess deposit?',\n",
              " 'If a student has a credit in his financial record at the end of his studies, what should he do to return the excess deposit?',\n",
              " 'How is the tuition payment method in the dynamic system?',\n",
              " 'How is tuition payment done in the dynamic system',\n",
              " 'How to pay the tuition through the dynamic system',\n",
              " 'From which semester do students pay daily tuition fees?',\n",
              " 'Students pay tuition daily from the second semester']"
            ]
          },
          "metadata": {},
          "execution_count": 9
        }
      ]
    },
    {
      "cell_type": "code",
      "source": [
        "tokenizer = Tokenizer()\n",
        "tokenizer.fit_on_texts(question_list)"
      ],
      "metadata": {
        "id": "MSaaUi2r1q2k"
      },
      "execution_count": 10,
      "outputs": []
    },
    {
      "cell_type": "code",
      "source": [
        "with open('tokenizer.h5', 'wb') as f:\n",
        "    pickle.dump(tokenizer, f)"
      ],
      "metadata": {
        "id": "IyMVRoY261KR"
      },
      "execution_count": 11,
      "outputs": []
    },
    {
      "cell_type": "code",
      "source": [
        "vocab_size = len(tokenizer.word_index)+1"
      ],
      "metadata": {
        "id": "wxdtTOLn64hE"
      },
      "execution_count": 12,
      "outputs": []
    },
    {
      "cell_type": "code",
      "source": [
        "vocab_size"
      ],
      "metadata": {
        "colab": {
          "base_uri": "https://localhost:8080/"
        },
        "id": "-tRcpPty65zV",
        "outputId": "ed00856e-35b1-4f51-eefc-0a6c01b8d460"
      },
      "execution_count": 13,
      "outputs": [
        {
          "output_type": "execute_result",
          "data": {
            "text/plain": [
              "570"
            ]
          },
          "metadata": {},
          "execution_count": 13
        }
      ]
    },
    {
      "cell_type": "code",
      "source": [
        "def max_length(tensor):\n",
        "    return max(len(t) for t in tensor)"
      ],
      "metadata": {
        "id": "eJexUvgI7ETq"
      },
      "execution_count": 14,
      "outputs": []
    },
    {
      "cell_type": "code",
      "source": [
        "data_to_sequences = tokenizer.texts_to_sequences(question_list)\n",
        "maxlen = max_length(data_to_sequences)"
      ],
      "metadata": {
        "id": "qIdY_4Fr6_ZX"
      },
      "execution_count": 15,
      "outputs": []
    },
    {
      "cell_type": "code",
      "source": [
        "maxlen"
      ],
      "metadata": {
        "colab": {
          "base_uri": "https://localhost:8080/"
        },
        "id": "Mgh9AXvY7Gef",
        "outputId": "9087b940-e65a-4a25-ca71-0801299d9966"
      },
      "execution_count": 16,
      "outputs": [
        {
          "output_type": "execute_result",
          "data": {
            "text/plain": [
              "40"
            ]
          },
          "metadata": {},
          "execution_count": 16
        }
      ]
    },
    {
      "cell_type": "code",
      "source": [
        "pad_data_to_sequences = pad_sequences(data_to_sequences, maxlen=maxlen)"
      ],
      "metadata": {
        "id": "NVwwEFTW7g8L"
      },
      "execution_count": 17,
      "outputs": []
    },
    {
      "cell_type": "code",
      "source": [
        "pad_data_to_sequences"
      ],
      "metadata": {
        "colab": {
          "base_uri": "https://localhost:8080/"
        },
        "id": "058MDUso7jv1",
        "outputId": "6d86d1ad-2b7e-4420-fa8e-c2c56126bdde"
      },
      "execution_count": 18,
      "outputs": [
        {
          "output_type": "execute_result",
          "data": {
            "text/plain": [
              "array([[  0,   0,   0, ...,   0, 424, 313],\n",
              "       [  0,   0,   0, ...,  10,  13,  40],\n",
              "       [  0,   0,   0, ...,  10,  13,  40],\n",
              "       ...,\n",
              "       [  0,   0,   0, ...,   1, 312,  64],\n",
              "       [  0,   0,   0, ...,  82,  91, 421],\n",
              "       [  0,   0,   0, ...,   1, 125, 423]], dtype=int32)"
            ]
          },
          "metadata": {},
          "execution_count": 18
        }
      ]
    },
    {
      "cell_type": "code",
      "source": [
        "training = []\n",
        "output_empty = [0] * len(classes)\n",
        "\n",
        "for document in documents:\n",
        "    bag = []\n",
        "    word_patterns = document[0]\n",
        "    for word in words:\n",
        "        bag.append(1) if word in word_patterns else bag.append(0)\n",
        "\n",
        "    output_row = list(output_empty)\n",
        "    output_row[classes.index(document[1])] = 1\n",
        "    training.append([bag, output_row])"
      ],
      "metadata": {
        "id": "tK_g5ggZObXy"
      },
      "execution_count": 19,
      "outputs": []
    },
    {
      "cell_type": "code",
      "source": [
        "random.shuffle(training)\n",
        "training = np.array(training)"
      ],
      "metadata": {
        "colab": {
          "base_uri": "https://localhost:8080/"
        },
        "id": "PhhRpYk-Ofnj",
        "outputId": "bc0499be-8003-4703-e2b0-4d6f8843a6e8"
      },
      "execution_count": 20,
      "outputs": [
        {
          "output_type": "stream",
          "name": "stderr",
          "text": [
            "<ipython-input-20-cc0bc1dae1db>:2: VisibleDeprecationWarning: Creating an ndarray from ragged nested sequences (which is a list-or-tuple of lists-or-tuples-or ndarrays with different lengths or shapes) is deprecated. If you meant to do this, you must specify 'dtype=object' when creating the ndarray.\n",
            "  training = np.array(training)\n"
          ]
        }
      ]
    },
    {
      "cell_type": "markdown",
      "source": [
        "### **Calculate Y**"
      ],
      "metadata": {
        "id": "Ir-dD3l49SJO"
      }
    },
    {
      "cell_type": "code",
      "source": [
        "tag = []\n",
        "for doc in documents:\n",
        "  tag.append(doc[1])"
      ],
      "metadata": {
        "id": "9oVdreh59VhB"
      },
      "execution_count": 21,
      "outputs": []
    },
    {
      "cell_type": "code",
      "source": [
        "Y = pd.get_dummies(tag)"
      ],
      "metadata": {
        "id": "xsw1XnGA9cG0"
      },
      "execution_count": 22,
      "outputs": []
    },
    {
      "cell_type": "code",
      "source": [
        "num_unique_tags = len(Y.nunique())"
      ],
      "metadata": {
        "id": "VnSFXahB-TOl"
      },
      "execution_count": 23,
      "outputs": []
    },
    {
      "cell_type": "code",
      "source": [
        "num_unique_tags"
      ],
      "metadata": {
        "colab": {
          "base_uri": "https://localhost:8080/"
        },
        "id": "_GewrS-U-b4H",
        "outputId": "fcb7136d-1170-45d4-afd3-a6c1b42c489a"
      },
      "execution_count": 24,
      "outputs": [
        {
          "output_type": "execute_result",
          "data": {
            "text/plain": [
              "133"
            ]
          },
          "metadata": {},
          "execution_count": 24
        }
      ]
    },
    {
      "cell_type": "markdown",
      "source": [
        "### **X and Y**"
      ],
      "metadata": {
        "id": "3ni9YRQR9sfJ"
      }
    },
    {
      "cell_type": "code",
      "source": [
        "train_x = pad_data_to_sequences\n",
        "train_y = np.array(Y)"
      ],
      "metadata": {
        "id": "3YR73qG0Olgz"
      },
      "execution_count": 25,
      "outputs": []
    },
    {
      "cell_type": "markdown",
      "source": [
        "### **Word Embedding Glove**"
      ],
      "metadata": {
        "id": "vcEIViFhzg17"
      }
    },
    {
      "cell_type": "code",
      "source": [
        "!wget https://nlp.stanford.edu/data/glove.840B.300d.zip"
      ],
      "metadata": {
        "colab": {
          "base_uri": "https://localhost:8080/"
        },
        "id": "KYkflI6_zmna",
        "outputId": "e6585013-cf4d-442f-82b8-bf25655f9741"
      },
      "execution_count": 28,
      "outputs": [
        {
          "output_type": "stream",
          "name": "stdout",
          "text": [
            "--2023-07-30 17:25:16--  https://nlp.stanford.edu/data/glove.840B.300d.zip\n",
            "Resolving nlp.stanford.edu (nlp.stanford.edu)... 171.64.67.140\n",
            "Connecting to nlp.stanford.edu (nlp.stanford.edu)|171.64.67.140|:443... connected.\n",
            "HTTP request sent, awaiting response... 301 Moved Permanently\n",
            "Location: https://downloads.cs.stanford.edu/nlp/data/glove.840B.300d.zip [following]\n",
            "--2023-07-30 17:25:17--  https://downloads.cs.stanford.edu/nlp/data/glove.840B.300d.zip\n",
            "Resolving downloads.cs.stanford.edu (downloads.cs.stanford.edu)... 171.64.64.22\n",
            "Connecting to downloads.cs.stanford.edu (downloads.cs.stanford.edu)|171.64.64.22|:443... connected.\n",
            "HTTP request sent, awaiting response... 200 OK\n",
            "Length: 2176768927 (2.0G) [application/zip]\n",
            "Saving to: ‘glove.840B.300d.zip’\n",
            "\n",
            "glove.840B.300d.zip 100%[===================>]   2.03G  5.02MB/s    in 6m 50s  \n",
            "\n",
            "2023-07-30 17:32:07 (5.07 MB/s) - ‘glove.840B.300d.zip’ saved [2176768927/2176768927]\n",
            "\n"
          ]
        }
      ]
    },
    {
      "cell_type": "code",
      "source": [
        "!unzip glove.840B.300d.zip"
      ],
      "metadata": {
        "colab": {
          "base_uri": "https://localhost:8080/"
        },
        "id": "L9zNsDkm1V7a",
        "outputId": "24c0212a-2829-4aa3-e1b2-f99359615ca9"
      },
      "execution_count": 29,
      "outputs": [
        {
          "output_type": "stream",
          "name": "stdout",
          "text": [
            "Archive:  glove.840B.300d.zip\n",
            "  inflating: glove.840B.300d.txt     \n"
          ]
        }
      ]
    },
    {
      "cell_type": "markdown",
      "source": [
        "**Load GloVe Word Embeddings in Memory**"
      ],
      "metadata": {
        "id": "HQf4f_111uYC"
      }
    },
    {
      "cell_type": "code",
      "source": [
        "%%time\n",
        "\n",
        "import numpy as np\n",
        "\n",
        "glove_embeddings = {}\n",
        "with open(\"glove.840B.300d.txt\") as f:\n",
        "    for line in f:\n",
        "        try:\n",
        "            line = line.split()\n",
        "            glove_embeddings[line[0]] = np.array(line[1:], dtype=np.float32)\n",
        "        except:\n",
        "            continue"
      ],
      "metadata": {
        "colab": {
          "base_uri": "https://localhost:8080/"
        },
        "id": "A4xNHyQk1bi_",
        "outputId": "00989954-ccdb-4e83-99c6-2ad32f8f810d"
      },
      "execution_count": 30,
      "outputs": [
        {
          "output_type": "stream",
          "name": "stdout",
          "text": [
            "CPU times: user 2min 49s, sys: 8.31 s, total: 2min 57s\n",
            "Wall time: 3min 8s\n"
          ]
        }
      ]
    },
    {
      "cell_type": "markdown",
      "source": [
        "**Create Matrix Of GloVe Embeddings for Vocabulary Tokens**"
      ],
      "metadata": {
        "id": "7iguzzfp3-3q"
      }
    },
    {
      "cell_type": "code",
      "source": [
        "%%time\n",
        "\n",
        "embedding_dim = 300\n",
        "\n",
        "word_embeddings = np.zeros((len(tokenizer.index_word)+1, embedding_dim))\n",
        "\n",
        "for idx, word in tokenizer.index_word.items():\n",
        "    word_embeddings[idx] = glove_embeddings.get(word, np.zeros(embedding_dim))"
      ],
      "metadata": {
        "colab": {
          "base_uri": "https://localhost:8080/"
        },
        "id": "tz3YaWKy1xFy",
        "outputId": "4b5d7e85-6d80-4b0c-fb57-6446a9a50a05"
      },
      "execution_count": 32,
      "outputs": [
        {
          "output_type": "stream",
          "name": "stdout",
          "text": [
            "CPU times: user 6.46 ms, sys: 996 µs, total: 7.46 ms\n",
            "Wall time: 20.7 ms\n"
          ]
        }
      ]
    },
    {
      "cell_type": "markdown",
      "source": [
        "### **Network**"
      ],
      "metadata": {
        "id": "gHiPmTP9-D2V"
      }
    },
    {
      "cell_type": "code",
      "source": [
        "model = Sequential()\n",
        "model.add(Embedding(input_dim=len(tokenizer.index_word)+1, output_dim=embedding_dim,\n",
        "                              input_length=maxlen, trainable=False, weights=[word_embeddings]),)\n",
        "model.add(Bidirectional(LSTM(200, return_sequences=True)))\n",
        "model.add(GlobalMaxPooling1D())\n",
        "model.add(Dropout(0.3))\n",
        "model.add(Dense(200, activation='relu'))\n",
        "model.add(Dropout(0.5))\n",
        "model.add(Dense(num_unique_tags, activation='softmax'))"
      ],
      "metadata": {
        "id": "MS2s3DkKOo2B"
      },
      "execution_count": 34,
      "outputs": []
    },
    {
      "cell_type": "code",
      "source": [
        "model.compile(loss='categorical_crossentropy', optimizer='adam', metrics=['accuracy'])"
      ],
      "metadata": {
        "id": "aY2vguuWOtDq"
      },
      "execution_count": 35,
      "outputs": []
    },
    {
      "cell_type": "code",
      "source": [
        "model.summary()"
      ],
      "metadata": {
        "colab": {
          "base_uri": "https://localhost:8080/"
        },
        "id": "7yvwONnw-tYN",
        "outputId": "9a9f41d0-1fca-4f52-9582-0f6d296081ef"
      },
      "execution_count": 36,
      "outputs": [
        {
          "output_type": "stream",
          "name": "stdout",
          "text": [
            "Model: \"sequential_1\"\n",
            "_________________________________________________________________\n",
            " Layer (type)                Output Shape              Param #   \n",
            "=================================================================\n",
            " embedding (Embedding)       (None, 40, 300)           171000    \n",
            "                                                                 \n",
            " bidirectional (Bidirectiona  (None, 40, 400)          801600    \n",
            " l)                                                              \n",
            "                                                                 \n",
            " global_max_pooling1d (Globa  (None, 400)              0         \n",
            " lMaxPooling1D)                                                  \n",
            "                                                                 \n",
            " dropout (Dropout)           (None, 400)               0         \n",
            "                                                                 \n",
            " dense (Dense)               (None, 200)               80200     \n",
            "                                                                 \n",
            " dropout_1 (Dropout)         (None, 200)               0         \n",
            "                                                                 \n",
            " dense_1 (Dense)             (None, 133)               26733     \n",
            "                                                                 \n",
            "=================================================================\n",
            "Total params: 1,079,533\n",
            "Trainable params: 908,533\n",
            "Non-trainable params: 171,000\n",
            "_________________________________________________________________\n"
          ]
        }
      ]
    },
    {
      "cell_type": "code",
      "source": [
        "hist = model.fit(train_x, train_y, epochs=200, batch_size=128, verbose=1)"
      ],
      "metadata": {
        "colab": {
          "base_uri": "https://localhost:8080/"
        },
        "id": "qT781s0PO5qs",
        "outputId": "1e34b275-20d6-4082-fa20-5c94b86805f4"
      },
      "execution_count": 37,
      "outputs": [
        {
          "output_type": "stream",
          "name": "stdout",
          "text": [
            "Epoch 1/200\n",
            "4/4 [==============================] - 8s 423ms/step - loss: 4.9123 - accuracy: 0.0049\n",
            "Epoch 2/200\n",
            "4/4 [==============================] - 2s 408ms/step - loss: 4.8383 - accuracy: 0.0246\n",
            "Epoch 3/200\n",
            "4/4 [==============================] - 2s 635ms/step - loss: 4.7997 - accuracy: 0.0222\n",
            "Epoch 4/200\n",
            "4/4 [==============================] - 2s 481ms/step - loss: 4.7508 - accuracy: 0.0394\n",
            "Epoch 5/200\n",
            "4/4 [==============================] - 2s 400ms/step - loss: 4.6809 - accuracy: 0.0714\n",
            "Epoch 6/200\n",
            "4/4 [==============================] - 2s 422ms/step - loss: 4.6217 - accuracy: 0.0887\n",
            "Epoch 7/200\n",
            "4/4 [==============================] - 2s 412ms/step - loss: 4.5479 - accuracy: 0.1207\n",
            "Epoch 8/200\n",
            "4/4 [==============================] - 2s 402ms/step - loss: 4.4463 - accuracy: 0.1158\n",
            "Epoch 9/200\n",
            "4/4 [==============================] - 2s 404ms/step - loss: 4.2783 - accuracy: 0.1872\n",
            "Epoch 10/200\n",
            "4/4 [==============================] - 3s 740ms/step - loss: 4.1453 - accuracy: 0.1773\n",
            "Epoch 11/200\n",
            "4/4 [==============================] - 2s 395ms/step - loss: 3.9738 - accuracy: 0.2365\n",
            "Epoch 12/200\n",
            "4/4 [==============================] - 2s 404ms/step - loss: 3.7369 - accuracy: 0.2685\n",
            "Epoch 13/200\n",
            "4/4 [==============================] - 2s 399ms/step - loss: 3.5943 - accuracy: 0.2857\n",
            "Epoch 14/200\n",
            "4/4 [==============================] - 2s 407ms/step - loss: 3.3381 - accuracy: 0.3276\n",
            "Epoch 15/200\n",
            "4/4 [==============================] - 2s 417ms/step - loss: 3.1830 - accuracy: 0.3645\n",
            "Epoch 16/200\n",
            "4/4 [==============================] - 2s 434ms/step - loss: 2.8753 - accuracy: 0.4089\n",
            "Epoch 17/200\n",
            "4/4 [==============================] - 3s 713ms/step - loss: 2.7438 - accuracy: 0.4335\n",
            "Epoch 18/200\n",
            "4/4 [==============================] - 2s 395ms/step - loss: 2.4337 - accuracy: 0.5222\n",
            "Epoch 19/200\n",
            "4/4 [==============================] - 2s 405ms/step - loss: 2.2450 - accuracy: 0.5493\n",
            "Epoch 20/200\n",
            "4/4 [==============================] - 2s 397ms/step - loss: 2.0731 - accuracy: 0.5567\n",
            "Epoch 21/200\n",
            "4/4 [==============================] - 2s 396ms/step - loss: 1.8335 - accuracy: 0.6034\n",
            "Epoch 22/200\n",
            "4/4 [==============================] - 2s 402ms/step - loss: 1.7085 - accuracy: 0.6478\n",
            "Epoch 23/200\n",
            "4/4 [==============================] - 2s 537ms/step - loss: 1.5032 - accuracy: 0.6970\n",
            "Epoch 24/200\n",
            "4/4 [==============================] - 3s 581ms/step - loss: 1.3958 - accuracy: 0.7414\n",
            "Epoch 25/200\n",
            "4/4 [==============================] - 2s 406ms/step - loss: 1.3126 - accuracy: 0.7266\n",
            "Epoch 26/200\n",
            "4/4 [==============================] - 2s 397ms/step - loss: 1.2349 - accuracy: 0.7315\n",
            "Epoch 27/200\n",
            "4/4 [==============================] - 2s 408ms/step - loss: 1.0502 - accuracy: 0.7857\n",
            "Epoch 28/200\n",
            "4/4 [==============================] - 2s 412ms/step - loss: 1.0038 - accuracy: 0.7660\n",
            "Epoch 29/200\n",
            "4/4 [==============================] - 2s 401ms/step - loss: 0.9040 - accuracy: 0.8153\n",
            "Epoch 30/200\n",
            "4/4 [==============================] - 3s 727ms/step - loss: 0.7792 - accuracy: 0.8399\n",
            "Epoch 31/200\n",
            "4/4 [==============================] - 2s 415ms/step - loss: 0.7958 - accuracy: 0.8276\n",
            "Epoch 32/200\n",
            "4/4 [==============================] - 2s 400ms/step - loss: 0.6792 - accuracy: 0.8645\n",
            "Epoch 33/200\n",
            "4/4 [==============================] - 2s 405ms/step - loss: 0.6596 - accuracy: 0.8473\n",
            "Epoch 34/200\n",
            "4/4 [==============================] - 2s 416ms/step - loss: 0.6142 - accuracy: 0.8744\n",
            "Epoch 35/200\n",
            "4/4 [==============================] - 2s 408ms/step - loss: 0.5398 - accuracy: 0.8916\n",
            "Epoch 36/200\n",
            "4/4 [==============================] - 2s 418ms/step - loss: 0.5229 - accuracy: 0.8916\n",
            "Epoch 37/200\n",
            "4/4 [==============================] - 3s 761ms/step - loss: 0.5166 - accuracy: 0.8916\n",
            "Epoch 38/200\n",
            "4/4 [==============================] - 2s 404ms/step - loss: 0.4974 - accuracy: 0.8892\n",
            "Epoch 39/200\n",
            "4/4 [==============================] - 2s 398ms/step - loss: 0.4427 - accuracy: 0.9163\n",
            "Epoch 40/200\n",
            "4/4 [==============================] - 2s 412ms/step - loss: 0.4695 - accuracy: 0.8941\n",
            "Epoch 41/200\n",
            "4/4 [==============================] - 2s 405ms/step - loss: 0.4096 - accuracy: 0.9187\n",
            "Epoch 42/200\n",
            "4/4 [==============================] - 2s 402ms/step - loss: 0.3666 - accuracy: 0.9163\n",
            "Epoch 43/200\n",
            "4/4 [==============================] - 2s 485ms/step - loss: 0.4012 - accuracy: 0.9039\n",
            "Epoch 44/200\n",
            "4/4 [==============================] - 3s 640ms/step - loss: 0.4073 - accuracy: 0.9138\n",
            "Epoch 45/200\n",
            "4/4 [==============================] - 2s 408ms/step - loss: 0.4019 - accuracy: 0.9310\n",
            "Epoch 46/200\n",
            "4/4 [==============================] - 2s 516ms/step - loss: 0.3653 - accuracy: 0.9163\n",
            "Epoch 47/200\n",
            "4/4 [==============================] - 2s 420ms/step - loss: 0.3436 - accuracy: 0.9163\n",
            "Epoch 48/200\n",
            "4/4 [==============================] - 2s 407ms/step - loss: 0.3240 - accuracy: 0.9236\n",
            "Epoch 49/200\n",
            "4/4 [==============================] - 2s 406ms/step - loss: 0.2865 - accuracy: 0.9458\n",
            "Epoch 50/200\n",
            "4/4 [==============================] - 3s 754ms/step - loss: 0.3236 - accuracy: 0.9286\n",
            "Epoch 51/200\n",
            "4/4 [==============================] - 2s 524ms/step - loss: 0.2796 - accuracy: 0.9483\n",
            "Epoch 52/200\n",
            "4/4 [==============================] - 2s 486ms/step - loss: 0.2564 - accuracy: 0.9532\n",
            "Epoch 53/200\n",
            "4/4 [==============================] - 2s 435ms/step - loss: 0.2445 - accuracy: 0.9507\n",
            "Epoch 54/200\n",
            "4/4 [==============================] - 2s 455ms/step - loss: 0.2580 - accuracy: 0.9581\n",
            "Epoch 55/200\n",
            "4/4 [==============================] - 2s 416ms/step - loss: 0.2439 - accuracy: 0.9532\n",
            "Epoch 56/200\n",
            "4/4 [==============================] - 3s 792ms/step - loss: 0.2208 - accuracy: 0.9680\n",
            "Epoch 57/200\n",
            "4/4 [==============================] - 3s 563ms/step - loss: 0.2407 - accuracy: 0.9458\n",
            "Epoch 58/200\n",
            "4/4 [==============================] - 2s 455ms/step - loss: 0.2489 - accuracy: 0.9507\n",
            "Epoch 59/200\n",
            "4/4 [==============================] - 2s 447ms/step - loss: 0.2293 - accuracy: 0.9532\n",
            "Epoch 60/200\n",
            "4/4 [==============================] - 2s 446ms/step - loss: 0.1948 - accuracy: 0.9680\n",
            "Epoch 61/200\n",
            "4/4 [==============================] - 2s 469ms/step - loss: 0.1645 - accuracy: 0.9754\n",
            "Epoch 62/200\n",
            "4/4 [==============================] - 3s 854ms/step - loss: 0.1670 - accuracy: 0.9754\n",
            "Epoch 63/200\n",
            "4/4 [==============================] - 2s 428ms/step - loss: 0.1762 - accuracy: 0.9581\n",
            "Epoch 64/200\n",
            "4/4 [==============================] - 2s 419ms/step - loss: 0.1801 - accuracy: 0.9729\n",
            "Epoch 65/200\n",
            "4/4 [==============================] - 2s 433ms/step - loss: 0.1371 - accuracy: 0.9754\n",
            "Epoch 66/200\n",
            "4/4 [==============================] - 2s 449ms/step - loss: 0.1782 - accuracy: 0.9606\n",
            "Epoch 67/200\n",
            "4/4 [==============================] - 2s 456ms/step - loss: 0.1558 - accuracy: 0.9754\n",
            "Epoch 68/200\n",
            "4/4 [==============================] - 3s 713ms/step - loss: 0.1337 - accuracy: 0.9803\n",
            "Epoch 69/200\n",
            "4/4 [==============================] - 3s 525ms/step - loss: 0.1220 - accuracy: 0.9754\n",
            "Epoch 70/200\n",
            "4/4 [==============================] - 2s 436ms/step - loss: 0.1398 - accuracy: 0.9680\n",
            "Epoch 71/200\n",
            "4/4 [==============================] - 2s 433ms/step - loss: 0.1262 - accuracy: 0.9803\n",
            "Epoch 72/200\n",
            "4/4 [==============================] - 2s 460ms/step - loss: 0.1505 - accuracy: 0.9704\n",
            "Epoch 73/200\n",
            "4/4 [==============================] - 2s 454ms/step - loss: 0.1690 - accuracy: 0.9680\n",
            "Epoch 74/200\n",
            "4/4 [==============================] - 3s 660ms/step - loss: 0.1212 - accuracy: 0.9803\n",
            "Epoch 75/200\n",
            "4/4 [==============================] - 3s 613ms/step - loss: 0.1424 - accuracy: 0.9704\n",
            "Epoch 76/200\n",
            "4/4 [==============================] - 2s 443ms/step - loss: 0.1161 - accuracy: 0.9754\n",
            "Epoch 77/200\n",
            "4/4 [==============================] - 2s 460ms/step - loss: 0.1000 - accuracy: 0.9926\n",
            "Epoch 78/200\n",
            "4/4 [==============================] - 2s 473ms/step - loss: 0.0956 - accuracy: 0.9951\n",
            "Epoch 79/200\n",
            "4/4 [==============================] - 2s 468ms/step - loss: 0.1084 - accuracy: 0.9852\n",
            "Epoch 80/200\n",
            "4/4 [==============================] - 3s 640ms/step - loss: 0.1029 - accuracy: 0.9778\n",
            "Epoch 81/200\n",
            "4/4 [==============================] - 3s 632ms/step - loss: 0.1050 - accuracy: 0.9729\n",
            "Epoch 82/200\n",
            "4/4 [==============================] - 2s 467ms/step - loss: 0.1011 - accuracy: 0.9778\n",
            "Epoch 83/200\n",
            "4/4 [==============================] - 2s 407ms/step - loss: 0.0937 - accuracy: 0.9828\n",
            "Epoch 84/200\n",
            "4/4 [==============================] - 2s 401ms/step - loss: 0.1002 - accuracy: 0.9828\n",
            "Epoch 85/200\n",
            "4/4 [==============================] - 2s 399ms/step - loss: 0.0968 - accuracy: 0.9828\n",
            "Epoch 86/200\n",
            "4/4 [==============================] - 2s 408ms/step - loss: 0.0860 - accuracy: 0.9901\n",
            "Epoch 87/200\n",
            "4/4 [==============================] - 3s 768ms/step - loss: 0.0789 - accuracy: 0.9926\n",
            "Epoch 88/200\n",
            "4/4 [==============================] - 2s 417ms/step - loss: 0.1008 - accuracy: 0.9828\n",
            "Epoch 89/200\n",
            "4/4 [==============================] - 2s 419ms/step - loss: 0.0847 - accuracy: 0.9778\n",
            "Epoch 90/200\n",
            "4/4 [==============================] - 2s 417ms/step - loss: 0.0885 - accuracy: 0.9852\n",
            "Epoch 91/200\n",
            "4/4 [==============================] - 2s 411ms/step - loss: 0.0854 - accuracy: 0.9852\n",
            "Epoch 92/200\n",
            "4/4 [==============================] - 2s 416ms/step - loss: 0.0844 - accuracy: 0.9803\n",
            "Epoch 93/200\n",
            "4/4 [==============================] - 2s 534ms/step - loss: 0.0708 - accuracy: 0.9877\n",
            "Epoch 94/200\n",
            "4/4 [==============================] - 3s 586ms/step - loss: 0.0656 - accuracy: 0.9975\n",
            "Epoch 95/200\n",
            "4/4 [==============================] - 2s 415ms/step - loss: 0.0747 - accuracy: 0.9901\n",
            "Epoch 96/200\n",
            "4/4 [==============================] - 2s 425ms/step - loss: 0.0657 - accuracy: 0.9951\n",
            "Epoch 97/200\n",
            "4/4 [==============================] - 2s 414ms/step - loss: 0.0661 - accuracy: 0.9926\n",
            "Epoch 98/200\n",
            "4/4 [==============================] - 2s 416ms/step - loss: 0.0629 - accuracy: 0.9926\n",
            "Epoch 99/200\n",
            "4/4 [==============================] - 2s 423ms/step - loss: 0.0618 - accuracy: 0.9975\n",
            "Epoch 100/200\n",
            "4/4 [==============================] - 3s 743ms/step - loss: 0.0512 - accuracy: 0.9951\n",
            "Epoch 101/200\n",
            "4/4 [==============================] - 2s 409ms/step - loss: 0.0798 - accuracy: 0.9852\n",
            "Epoch 102/200\n",
            "4/4 [==============================] - 2s 409ms/step - loss: 0.0669 - accuracy: 0.9926\n",
            "Epoch 103/200\n",
            "4/4 [==============================] - 2s 410ms/step - loss: 0.0646 - accuracy: 0.9877\n",
            "Epoch 104/200\n",
            "4/4 [==============================] - 2s 397ms/step - loss: 0.0718 - accuracy: 0.9852\n",
            "Epoch 105/200\n",
            "4/4 [==============================] - 2s 400ms/step - loss: 0.0573 - accuracy: 0.9926\n",
            "Epoch 106/200\n",
            "4/4 [==============================] - 2s 395ms/step - loss: 0.0661 - accuracy: 0.9877\n",
            "Epoch 107/200\n",
            "4/4 [==============================] - 3s 729ms/step - loss: 0.0844 - accuracy: 0.9852\n",
            "Epoch 108/200\n",
            "4/4 [==============================] - 2s 408ms/step - loss: 0.0687 - accuracy: 0.9877\n",
            "Epoch 109/200\n",
            "4/4 [==============================] - 2s 400ms/step - loss: 0.1037 - accuracy: 0.9754\n",
            "Epoch 110/200\n",
            "4/4 [==============================] - 2s 414ms/step - loss: 0.0933 - accuracy: 0.9852\n",
            "Epoch 111/200\n",
            "4/4 [==============================] - 2s 401ms/step - loss: 0.0675 - accuracy: 0.9901\n",
            "Epoch 112/200\n",
            "4/4 [==============================] - 2s 399ms/step - loss: 0.0798 - accuracy: 0.9852\n",
            "Epoch 113/200\n",
            "4/4 [==============================] - 2s 493ms/step - loss: 0.0563 - accuracy: 0.9926\n",
            "Epoch 114/200\n",
            "4/4 [==============================] - 3s 618ms/step - loss: 0.0649 - accuracy: 0.9901\n",
            "Epoch 115/200\n",
            "4/4 [==============================] - 2s 407ms/step - loss: 0.0423 - accuracy: 0.9926\n",
            "Epoch 116/200\n",
            "4/4 [==============================] - 2s 407ms/step - loss: 0.0598 - accuracy: 0.9901\n",
            "Epoch 117/200\n",
            "4/4 [==============================] - 2s 410ms/step - loss: 0.0495 - accuracy: 0.9901\n",
            "Epoch 118/200\n",
            "4/4 [==============================] - 2s 399ms/step - loss: 0.0599 - accuracy: 0.9852\n",
            "Epoch 119/200\n",
            "4/4 [==============================] - 2s 410ms/step - loss: 0.0929 - accuracy: 0.9828\n",
            "Epoch 120/200\n",
            "4/4 [==============================] - 2s 623ms/step - loss: 0.0615 - accuracy: 0.9877\n",
            "Epoch 121/200\n",
            "4/4 [==============================] - 2s 488ms/step - loss: 0.0537 - accuracy: 0.9926\n",
            "Epoch 122/200\n",
            "4/4 [==============================] - 2s 395ms/step - loss: 0.0571 - accuracy: 0.9828\n",
            "Epoch 123/200\n",
            "4/4 [==============================] - 2s 392ms/step - loss: 0.0464 - accuracy: 0.9975\n",
            "Epoch 124/200\n",
            "4/4 [==============================] - 2s 405ms/step - loss: 0.0557 - accuracy: 0.9901\n",
            "Epoch 125/200\n",
            "4/4 [==============================] - 2s 399ms/step - loss: 0.0586 - accuracy: 0.9852\n",
            "Epoch 126/200\n",
            "4/4 [==============================] - 2s 398ms/step - loss: 0.0509 - accuracy: 0.9951\n",
            "Epoch 127/200\n",
            "4/4 [==============================] - 3s 716ms/step - loss: 0.0508 - accuracy: 0.9926\n",
            "Epoch 128/200\n",
            "4/4 [==============================] - 2s 405ms/step - loss: 0.0569 - accuracy: 0.9926\n",
            "Epoch 129/200\n",
            "4/4 [==============================] - 2s 409ms/step - loss: 0.0396 - accuracy: 1.0000\n",
            "Epoch 130/200\n",
            "4/4 [==============================] - 2s 414ms/step - loss: 0.0809 - accuracy: 0.9803\n",
            "Epoch 131/200\n",
            "4/4 [==============================] - 2s 404ms/step - loss: 0.0563 - accuracy: 0.9901\n",
            "Epoch 132/200\n",
            "4/4 [==============================] - 2s 400ms/step - loss: 0.0944 - accuracy: 0.9778\n",
            "Epoch 133/200\n",
            "4/4 [==============================] - 2s 415ms/step - loss: 0.0719 - accuracy: 0.9877\n",
            "Epoch 134/200\n",
            "4/4 [==============================] - 3s 747ms/step - loss: 0.0673 - accuracy: 0.9926\n",
            "Epoch 135/200\n",
            "4/4 [==============================] - 2s 415ms/step - loss: 0.0684 - accuracy: 0.9803\n",
            "Epoch 136/200\n",
            "4/4 [==============================] - 2s 402ms/step - loss: 0.0578 - accuracy: 0.9951\n",
            "Epoch 137/200\n",
            "4/4 [==============================] - 2s 396ms/step - loss: 0.0486 - accuracy: 0.9926\n",
            "Epoch 138/200\n",
            "4/4 [==============================] - 2s 406ms/step - loss: 0.0523 - accuracy: 0.9951\n",
            "Epoch 139/200\n",
            "4/4 [==============================] - 2s 397ms/step - loss: 0.0549 - accuracy: 0.9951\n",
            "Epoch 140/200\n",
            "4/4 [==============================] - 2s 434ms/step - loss: 0.0485 - accuracy: 0.9975\n",
            "Epoch 141/200\n",
            "4/4 [==============================] - 3s 684ms/step - loss: 0.0495 - accuracy: 0.9951\n",
            "Epoch 142/200\n",
            "4/4 [==============================] - 2s 400ms/step - loss: 0.0450 - accuracy: 0.9975\n",
            "Epoch 143/200\n",
            "4/4 [==============================] - 2s 416ms/step - loss: 0.0396 - accuracy: 0.9975\n",
            "Epoch 144/200\n",
            "4/4 [==============================] - 2s 402ms/step - loss: 0.0356 - accuracy: 0.9951\n",
            "Epoch 145/200\n",
            "4/4 [==============================] - 2s 397ms/step - loss: 0.0416 - accuracy: 0.9901\n",
            "Epoch 146/200\n",
            "4/4 [==============================] - 2s 395ms/step - loss: 0.0352 - accuracy: 0.9951\n",
            "Epoch 147/200\n",
            "4/4 [==============================] - 2s 543ms/step - loss: 0.0444 - accuracy: 0.9951\n",
            "Epoch 148/200\n",
            "4/4 [==============================] - 3s 572ms/step - loss: 0.0376 - accuracy: 0.9926\n",
            "Epoch 149/200\n",
            "4/4 [==============================] - 2s 408ms/step - loss: 0.0330 - accuracy: 0.9926\n",
            "Epoch 150/200\n",
            "4/4 [==============================] - 2s 405ms/step - loss: 0.0372 - accuracy: 0.9926\n",
            "Epoch 151/200\n",
            "4/4 [==============================] - 2s 404ms/step - loss: 0.0337 - accuracy: 0.9951\n",
            "Epoch 152/200\n",
            "4/4 [==============================] - 2s 400ms/step - loss: 0.0304 - accuracy: 1.0000\n",
            "Epoch 153/200\n",
            "4/4 [==============================] - 2s 390ms/step - loss: 0.0262 - accuracy: 1.0000\n",
            "Epoch 154/200\n",
            "4/4 [==============================] - 2s 629ms/step - loss: 0.0342 - accuracy: 0.9901\n",
            "Epoch 155/200\n",
            "4/4 [==============================] - 2s 493ms/step - loss: 0.0369 - accuracy: 0.9975\n",
            "Epoch 156/200\n",
            "4/4 [==============================] - 2s 410ms/step - loss: 0.0328 - accuracy: 0.9975\n",
            "Epoch 157/200\n",
            "4/4 [==============================] - 2s 408ms/step - loss: 0.0304 - accuracy: 0.9951\n",
            "Epoch 158/200\n",
            "4/4 [==============================] - 2s 396ms/step - loss: 0.0264 - accuracy: 0.9975\n",
            "Epoch 159/200\n",
            "4/4 [==============================] - 2s 397ms/step - loss: 0.0248 - accuracy: 1.0000\n",
            "Epoch 160/200\n",
            "4/4 [==============================] - 2s 399ms/step - loss: 0.0224 - accuracy: 1.0000\n",
            "Epoch 161/200\n",
            "4/4 [==============================] - 3s 729ms/step - loss: 0.0299 - accuracy: 0.9975\n",
            "Epoch 162/200\n",
            "4/4 [==============================] - 2s 413ms/step - loss: 0.0175 - accuracy: 1.0000\n",
            "Epoch 163/200\n",
            "4/4 [==============================] - 2s 408ms/step - loss: 0.0217 - accuracy: 1.0000\n",
            "Epoch 164/200\n",
            "4/4 [==============================] - 2s 406ms/step - loss: 0.0243 - accuracy: 1.0000\n",
            "Epoch 165/200\n",
            "4/4 [==============================] - 2s 407ms/step - loss: 0.0277 - accuracy: 0.9951\n",
            "Epoch 166/200\n",
            "4/4 [==============================] - 2s 403ms/step - loss: 0.0114 - accuracy: 1.0000\n",
            "Epoch 167/200\n",
            "4/4 [==============================] - 2s 399ms/step - loss: 0.0213 - accuracy: 0.9951\n",
            "Epoch 168/200\n",
            "4/4 [==============================] - 3s 749ms/step - loss: 0.0197 - accuracy: 1.0000\n",
            "Epoch 169/200\n",
            "4/4 [==============================] - 2s 416ms/step - loss: 0.0276 - accuracy: 0.9975\n",
            "Epoch 170/200\n",
            "4/4 [==============================] - 2s 428ms/step - loss: 0.0168 - accuracy: 1.0000\n",
            "Epoch 171/200\n",
            "4/4 [==============================] - 2s 393ms/step - loss: 0.0202 - accuracy: 1.0000\n",
            "Epoch 172/200\n",
            "4/4 [==============================] - 2s 405ms/step - loss: 0.0251 - accuracy: 0.9926\n",
            "Epoch 173/200\n",
            "4/4 [==============================] - 2s 397ms/step - loss: 0.0283 - accuracy: 0.9975\n",
            "Epoch 174/200\n",
            "4/4 [==============================] - 2s 493ms/step - loss: 0.0252 - accuracy: 0.9951\n",
            "Epoch 175/200\n",
            "4/4 [==============================] - 3s 639ms/step - loss: 0.0216 - accuracy: 0.9975\n",
            "Epoch 176/200\n",
            "4/4 [==============================] - 2s 395ms/step - loss: 0.0210 - accuracy: 0.9975\n",
            "Epoch 177/200\n",
            "4/4 [==============================] - 2s 400ms/step - loss: 0.0251 - accuracy: 1.0000\n",
            "Epoch 178/200\n",
            "4/4 [==============================] - 2s 407ms/step - loss: 0.0158 - accuracy: 1.0000\n",
            "Epoch 179/200\n",
            "4/4 [==============================] - 2s 405ms/step - loss: 0.0217 - accuracy: 0.9975\n",
            "Epoch 180/200\n",
            "4/4 [==============================] - 2s 418ms/step - loss: 0.0211 - accuracy: 1.0000\n",
            "Epoch 181/200\n",
            "4/4 [==============================] - 2s 651ms/step - loss: 0.0296 - accuracy: 0.9975\n",
            "Epoch 182/200\n",
            "4/4 [==============================] - 2s 474ms/step - loss: 0.0250 - accuracy: 0.9975\n",
            "Epoch 183/200\n",
            "4/4 [==============================] - 2s 405ms/step - loss: 0.0304 - accuracy: 0.9975\n",
            "Epoch 184/200\n",
            "4/4 [==============================] - 2s 397ms/step - loss: 0.0309 - accuracy: 0.9926\n",
            "Epoch 185/200\n",
            "4/4 [==============================] - 2s 398ms/step - loss: 0.0221 - accuracy: 0.9975\n",
            "Epoch 186/200\n",
            "4/4 [==============================] - 2s 409ms/step - loss: 0.0263 - accuracy: 0.9951\n",
            "Epoch 187/200\n",
            "4/4 [==============================] - 2s 403ms/step - loss: 0.0243 - accuracy: 0.9975\n",
            "Epoch 188/200\n",
            "4/4 [==============================] - 3s 716ms/step - loss: 0.0225 - accuracy: 0.9975\n",
            "Epoch 189/200\n",
            "4/4 [==============================] - 2s 408ms/step - loss: 0.0232 - accuracy: 1.0000\n",
            "Epoch 190/200\n",
            "4/4 [==============================] - 2s 414ms/step - loss: 0.0239 - accuracy: 0.9951\n",
            "Epoch 191/200\n",
            "4/4 [==============================] - 2s 418ms/step - loss: 0.0176 - accuracy: 0.9975\n",
            "Epoch 192/200\n",
            "4/4 [==============================] - 2s 396ms/step - loss: 0.0184 - accuracy: 0.9975\n",
            "Epoch 193/200\n",
            "4/4 [==============================] - 2s 405ms/step - loss: 0.0182 - accuracy: 0.9975\n",
            "Epoch 194/200\n",
            "4/4 [==============================] - 2s 403ms/step - loss: 0.0222 - accuracy: 1.0000\n",
            "Epoch 195/200\n",
            "4/4 [==============================] - 3s 746ms/step - loss: 0.0285 - accuracy: 0.9951\n",
            "Epoch 196/200\n",
            "4/4 [==============================] - 2s 419ms/step - loss: 0.0197 - accuracy: 0.9975\n",
            "Epoch 197/200\n",
            "4/4 [==============================] - 2s 408ms/step - loss: 0.0241 - accuracy: 0.9951\n",
            "Epoch 198/200\n",
            "4/4 [==============================] - 2s 408ms/step - loss: 0.0181 - accuracy: 1.0000\n",
            "Epoch 199/200\n",
            "4/4 [==============================] - 2s 403ms/step - loss: 0.0199 - accuracy: 0.9975\n",
            "Epoch 200/200\n",
            "4/4 [==============================] - 2s 404ms/step - loss: 0.0222 - accuracy: 0.9951\n"
          ]
        }
      ]
    },
    {
      "cell_type": "code",
      "source": [
        "model.save('model.h5', hist)"
      ],
      "metadata": {
        "id": "MFlc_XTuO8uL"
      },
      "execution_count": 38,
      "outputs": []
    },
    {
      "cell_type": "markdown",
      "source": [
        "## **Chatbot**"
      ],
      "metadata": {
        "id": "GKm5bBnlQIn2"
      }
    },
    {
      "cell_type": "code",
      "source": [
        "intents = json.loads(open('intents.json').read())"
      ],
      "metadata": {
        "id": "GrwmTT9NQEye"
      },
      "execution_count": 39,
      "outputs": []
    },
    {
      "cell_type": "code",
      "source": [
        "# load model\n",
        "model = load_model('model.h5')"
      ],
      "metadata": {
        "id": "Ge-Cp-044XzA"
      },
      "execution_count": 40,
      "outputs": []
    },
    {
      "cell_type": "code",
      "source": [
        "# load tokenizer\n",
        "with open('tokenizer.h5', 'rb') as f:\n",
        "    tokenizer = pickle.load(f)"
      ],
      "metadata": {
        "id": "j9prSU0DFVdn"
      },
      "execution_count": 44,
      "outputs": []
    },
    {
      "cell_type": "code",
      "source": [
        "def clean_up_sentence(sentence):\n",
        "    sentence_words = nltk.word_tokenize(sentence)\n",
        "    return sentence_words"
      ],
      "metadata": {
        "id": "TbSbI6eOQWJn"
      },
      "execution_count": 45,
      "outputs": []
    },
    {
      "cell_type": "code",
      "source": [
        "MAX_LENGTH = 40\n",
        "def prediction(text):\n",
        "  text_to_sequences = tokenizer.texts_to_sequences([text])\n",
        "  pad_text_to_sequences = pad_sequences(text_to_sequences, maxlen=MAX_LENGTH)\n",
        "  tag = model.predict(pad_text_to_sequences)[0]\n",
        "  tag_index = np.where(tag == max(tag))[0][0]\n",
        "  result = Y.columns[tag_index]\n",
        "  return result"
      ],
      "metadata": {
        "id": "zvc5ddvN_ms7"
      },
      "execution_count": 46,
      "outputs": []
    },
    {
      "cell_type": "code",
      "source": [
        "prediction('Can a student who has received a temporary certificate of completion be able to return to education')"
      ],
      "metadata": {
        "colab": {
          "base_uri": "https://localhost:8080/",
          "height": 54
        },
        "id": "4Rtth1Z5AZK_",
        "outputId": "eaef4d98-5a1f-4469-e744-dad3564ffdf6"
      },
      "execution_count": 47,
      "outputs": [
        {
          "output_type": "stream",
          "name": "stdout",
          "text": [
            "1/1 [==============================] - 1s 907ms/step\n"
          ]
        },
        {
          "output_type": "execute_result",
          "data": {
            "text/plain": [
              "'Can a student who has received a temporary certificate of completion be able to return to education?'"
            ],
            "application/vnd.google.colaboratory.intrinsic+json": {
              "type": "string"
            }
          },
          "metadata": {},
          "execution_count": 47
        }
      ]
    },
    {
      "cell_type": "code",
      "source": [
        "def get_response(text):\n",
        "  tag = prediction(text)\n",
        "  for data in intents['intents']:\n",
        "    if data['tag'] == tag:\n",
        "      result = random.choice(data['response'])\n",
        "      break\n",
        "  return result"
      ],
      "metadata": {
        "id": "ekeROjfEBo7H"
      },
      "execution_count": 48,
      "outputs": []
    },
    {
      "cell_type": "code",
      "source": [
        "get_response('Can a student who has received a temporary certificate of completion be able to return to education')"
      ],
      "metadata": {
        "colab": {
          "base_uri": "https://localhost:8080/",
          "height": 54
        },
        "id": "YKoy6WpYCpld",
        "outputId": "5056f249-c7e6-47a4-97c7-047b6ee024c7"
      },
      "execution_count": 49,
      "outputs": [
        {
          "output_type": "stream",
          "name": "stdout",
          "text": [
            "1/1 [==============================] - 0s 34ms/step\n"
          ]
        },
        {
          "output_type": "execute_result",
          "data": {
            "text/plain": [
              "'If he receives a temporary certificate, he cannot return to study.'"
            ],
            "application/vnd.google.colaboratory.intrinsic+json": {
              "type": "string"
            }
          },
          "metadata": {},
          "execution_count": 49
        }
      ]
    },
    {
      "cell_type": "code",
      "source": [
        "while True:\n",
        "\tmessage = input(\"Enter a message:\")\n",
        "\tres = get_response(message)\n",
        "\tprint(res)"
      ],
      "metadata": {
        "colab": {
          "base_uri": "https://localhost:8080/"
        },
        "id": "hNv8lFaCQjmV",
        "outputId": "44f2d4f9-c513-4bb5-ba3d-1a1469e1eca2"
      },
      "execution_count": null,
      "outputs": [
        {
          "output_type": "stream",
          "name": "stdout",
          "text": [
            "Enter a message:Can a student who has received a temporary certificate of completion be able to return to education?\n",
            "1/1 [==============================] - 0s 36ms/step\n",
            "If he receives a temporary certificate, he cannot return to study.\n",
            "Enter a message:What is in the temporary certificate of completion of education?\n",
            "1/1 [==============================] - 0s 36ms/step\n",
            "Due to the free education in the above-mentioned study level, daily students have the obligation to serve for free education based on the admission of the entrance exam area, and all obligations must be settled when receiving the educational encyclopedia. (Complete description of settlement of obligations in the receiving section of the encyclopedia)\n"
          ]
        }
      ]
    },
    {
      "cell_type": "code",
      "source": [],
      "metadata": {
        "id": "4rp3kQQMQma_"
      },
      "execution_count": null,
      "outputs": []
    }
  ]
}