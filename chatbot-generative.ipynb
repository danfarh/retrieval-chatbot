{
  "nbformat": 4,
  "nbformat_minor": 0,
  "metadata": {
    "colab": {
      "provenance": [],
      "toc_visible": true
    },
    "kernelspec": {
      "name": "python3",
      "display_name": "Python 3"
    },
    "language_info": {
      "name": "python"
    },
    "widgets": {
      "application/vnd.jupyter.widget-state+json": {
        "5e51880025c44fc3bf33f99283046bba": {
          "model_module": "@jupyter-widgets/controls",
          "model_name": "HBoxModel",
          "model_module_version": "1.5.0",
          "state": {
            "_dom_classes": [],
            "_model_module": "@jupyter-widgets/controls",
            "_model_module_version": "1.5.0",
            "_model_name": "HBoxModel",
            "_view_count": null,
            "_view_module": "@jupyter-widgets/controls",
            "_view_module_version": "1.5.0",
            "_view_name": "HBoxView",
            "box_style": "",
            "children": [
              "IPY_MODEL_0218fb1752fa45b3931f4e31a12b27a4",
              "IPY_MODEL_25ac9c90d0b347259ffea88b44ccaf1e",
              "IPY_MODEL_b903c265ae5c4a43a964b62b2da80e93"
            ],
            "layout": "IPY_MODEL_f295916274fc4f058828aa3fb7f9f5bf"
          }
        },
        "0218fb1752fa45b3931f4e31a12b27a4": {
          "model_module": "@jupyter-widgets/controls",
          "model_name": "HTMLModel",
          "model_module_version": "1.5.0",
          "state": {
            "_dom_classes": [],
            "_model_module": "@jupyter-widgets/controls",
            "_model_module_version": "1.5.0",
            "_model_name": "HTMLModel",
            "_view_count": null,
            "_view_module": "@jupyter-widgets/controls",
            "_view_module_version": "1.5.0",
            "_view_name": "HTMLView",
            "description": "",
            "description_tooltip": null,
            "layout": "IPY_MODEL_adaeee95cafb4ed9a9f174280b00bf28",
            "placeholder": "​",
            "style": "IPY_MODEL_32e6b12085b84dfa91e76ffdaf94937b",
            "value": "Downloading (…)okenizer_config.json: 100%"
          }
        },
        "25ac9c90d0b347259ffea88b44ccaf1e": {
          "model_module": "@jupyter-widgets/controls",
          "model_name": "FloatProgressModel",
          "model_module_version": "1.5.0",
          "state": {
            "_dom_classes": [],
            "_model_module": "@jupyter-widgets/controls",
            "_model_module_version": "1.5.0",
            "_model_name": "FloatProgressModel",
            "_view_count": null,
            "_view_module": "@jupyter-widgets/controls",
            "_view_module_version": "1.5.0",
            "_view_name": "ProgressView",
            "bar_style": "success",
            "description": "",
            "description_tooltip": null,
            "layout": "IPY_MODEL_8f0e48cba72f43dba1bdcd6b25de49d4",
            "max": 29,
            "min": 0,
            "orientation": "horizontal",
            "style": "IPY_MODEL_59a8bd8877e4440bbc440d21c64d56ff",
            "value": 29
          }
        },
        "b903c265ae5c4a43a964b62b2da80e93": {
          "model_module": "@jupyter-widgets/controls",
          "model_name": "HTMLModel",
          "model_module_version": "1.5.0",
          "state": {
            "_dom_classes": [],
            "_model_module": "@jupyter-widgets/controls",
            "_model_module_version": "1.5.0",
            "_model_name": "HTMLModel",
            "_view_count": null,
            "_view_module": "@jupyter-widgets/controls",
            "_view_module_version": "1.5.0",
            "_view_name": "HTMLView",
            "description": "",
            "description_tooltip": null,
            "layout": "IPY_MODEL_a447cec2c4ab422c81aeb31f074eb4c1",
            "placeholder": "​",
            "style": "IPY_MODEL_dacbd20c92a24d2c979459141c3d4878",
            "value": " 29.0/29.0 [00:00&lt;00:00, 1.46kB/s]"
          }
        },
        "f295916274fc4f058828aa3fb7f9f5bf": {
          "model_module": "@jupyter-widgets/base",
          "model_name": "LayoutModel",
          "model_module_version": "1.2.0",
          "state": {
            "_model_module": "@jupyter-widgets/base",
            "_model_module_version": "1.2.0",
            "_model_name": "LayoutModel",
            "_view_count": null,
            "_view_module": "@jupyter-widgets/base",
            "_view_module_version": "1.2.0",
            "_view_name": "LayoutView",
            "align_content": null,
            "align_items": null,
            "align_self": null,
            "border": null,
            "bottom": null,
            "display": null,
            "flex": null,
            "flex_flow": null,
            "grid_area": null,
            "grid_auto_columns": null,
            "grid_auto_flow": null,
            "grid_auto_rows": null,
            "grid_column": null,
            "grid_gap": null,
            "grid_row": null,
            "grid_template_areas": null,
            "grid_template_columns": null,
            "grid_template_rows": null,
            "height": null,
            "justify_content": null,
            "justify_items": null,
            "left": null,
            "margin": null,
            "max_height": null,
            "max_width": null,
            "min_height": null,
            "min_width": null,
            "object_fit": null,
            "object_position": null,
            "order": null,
            "overflow": null,
            "overflow_x": null,
            "overflow_y": null,
            "padding": null,
            "right": null,
            "top": null,
            "visibility": null,
            "width": null
          }
        },
        "adaeee95cafb4ed9a9f174280b00bf28": {
          "model_module": "@jupyter-widgets/base",
          "model_name": "LayoutModel",
          "model_module_version": "1.2.0",
          "state": {
            "_model_module": "@jupyter-widgets/base",
            "_model_module_version": "1.2.0",
            "_model_name": "LayoutModel",
            "_view_count": null,
            "_view_module": "@jupyter-widgets/base",
            "_view_module_version": "1.2.0",
            "_view_name": "LayoutView",
            "align_content": null,
            "align_items": null,
            "align_self": null,
            "border": null,
            "bottom": null,
            "display": null,
            "flex": null,
            "flex_flow": null,
            "grid_area": null,
            "grid_auto_columns": null,
            "grid_auto_flow": null,
            "grid_auto_rows": null,
            "grid_column": null,
            "grid_gap": null,
            "grid_row": null,
            "grid_template_areas": null,
            "grid_template_columns": null,
            "grid_template_rows": null,
            "height": null,
            "justify_content": null,
            "justify_items": null,
            "left": null,
            "margin": null,
            "max_height": null,
            "max_width": null,
            "min_height": null,
            "min_width": null,
            "object_fit": null,
            "object_position": null,
            "order": null,
            "overflow": null,
            "overflow_x": null,
            "overflow_y": null,
            "padding": null,
            "right": null,
            "top": null,
            "visibility": null,
            "width": null
          }
        },
        "32e6b12085b84dfa91e76ffdaf94937b": {
          "model_module": "@jupyter-widgets/controls",
          "model_name": "DescriptionStyleModel",
          "model_module_version": "1.5.0",
          "state": {
            "_model_module": "@jupyter-widgets/controls",
            "_model_module_version": "1.5.0",
            "_model_name": "DescriptionStyleModel",
            "_view_count": null,
            "_view_module": "@jupyter-widgets/base",
            "_view_module_version": "1.2.0",
            "_view_name": "StyleView",
            "description_width": ""
          }
        },
        "8f0e48cba72f43dba1bdcd6b25de49d4": {
          "model_module": "@jupyter-widgets/base",
          "model_name": "LayoutModel",
          "model_module_version": "1.2.0",
          "state": {
            "_model_module": "@jupyter-widgets/base",
            "_model_module_version": "1.2.0",
            "_model_name": "LayoutModel",
            "_view_count": null,
            "_view_module": "@jupyter-widgets/base",
            "_view_module_version": "1.2.0",
            "_view_name": "LayoutView",
            "align_content": null,
            "align_items": null,
            "align_self": null,
            "border": null,
            "bottom": null,
            "display": null,
            "flex": null,
            "flex_flow": null,
            "grid_area": null,
            "grid_auto_columns": null,
            "grid_auto_flow": null,
            "grid_auto_rows": null,
            "grid_column": null,
            "grid_gap": null,
            "grid_row": null,
            "grid_template_areas": null,
            "grid_template_columns": null,
            "grid_template_rows": null,
            "height": null,
            "justify_content": null,
            "justify_items": null,
            "left": null,
            "margin": null,
            "max_height": null,
            "max_width": null,
            "min_height": null,
            "min_width": null,
            "object_fit": null,
            "object_position": null,
            "order": null,
            "overflow": null,
            "overflow_x": null,
            "overflow_y": null,
            "padding": null,
            "right": null,
            "top": null,
            "visibility": null,
            "width": null
          }
        },
        "59a8bd8877e4440bbc440d21c64d56ff": {
          "model_module": "@jupyter-widgets/controls",
          "model_name": "ProgressStyleModel",
          "model_module_version": "1.5.0",
          "state": {
            "_model_module": "@jupyter-widgets/controls",
            "_model_module_version": "1.5.0",
            "_model_name": "ProgressStyleModel",
            "_view_count": null,
            "_view_module": "@jupyter-widgets/base",
            "_view_module_version": "1.2.0",
            "_view_name": "StyleView",
            "bar_color": null,
            "description_width": ""
          }
        },
        "a447cec2c4ab422c81aeb31f074eb4c1": {
          "model_module": "@jupyter-widgets/base",
          "model_name": "LayoutModel",
          "model_module_version": "1.2.0",
          "state": {
            "_model_module": "@jupyter-widgets/base",
            "_model_module_version": "1.2.0",
            "_model_name": "LayoutModel",
            "_view_count": null,
            "_view_module": "@jupyter-widgets/base",
            "_view_module_version": "1.2.0",
            "_view_name": "LayoutView",
            "align_content": null,
            "align_items": null,
            "align_self": null,
            "border": null,
            "bottom": null,
            "display": null,
            "flex": null,
            "flex_flow": null,
            "grid_area": null,
            "grid_auto_columns": null,
            "grid_auto_flow": null,
            "grid_auto_rows": null,
            "grid_column": null,
            "grid_gap": null,
            "grid_row": null,
            "grid_template_areas": null,
            "grid_template_columns": null,
            "grid_template_rows": null,
            "height": null,
            "justify_content": null,
            "justify_items": null,
            "left": null,
            "margin": null,
            "max_height": null,
            "max_width": null,
            "min_height": null,
            "min_width": null,
            "object_fit": null,
            "object_position": null,
            "order": null,
            "overflow": null,
            "overflow_x": null,
            "overflow_y": null,
            "padding": null,
            "right": null,
            "top": null,
            "visibility": null,
            "width": null
          }
        },
        "dacbd20c92a24d2c979459141c3d4878": {
          "model_module": "@jupyter-widgets/controls",
          "model_name": "DescriptionStyleModel",
          "model_module_version": "1.5.0",
          "state": {
            "_model_module": "@jupyter-widgets/controls",
            "_model_module_version": "1.5.0",
            "_model_name": "DescriptionStyleModel",
            "_view_count": null,
            "_view_module": "@jupyter-widgets/base",
            "_view_module_version": "1.2.0",
            "_view_name": "StyleView",
            "description_width": ""
          }
        },
        "c7166d6562464c93b8faaf701045feca": {
          "model_module": "@jupyter-widgets/controls",
          "model_name": "HBoxModel",
          "model_module_version": "1.5.0",
          "state": {
            "_dom_classes": [],
            "_model_module": "@jupyter-widgets/controls",
            "_model_module_version": "1.5.0",
            "_model_name": "HBoxModel",
            "_view_count": null,
            "_view_module": "@jupyter-widgets/controls",
            "_view_module_version": "1.5.0",
            "_view_name": "HBoxView",
            "box_style": "",
            "children": [
              "IPY_MODEL_2b2b8b4d67f84eb3a8bd5edcdef55c2c",
              "IPY_MODEL_2e8aa6151efd4f56bb99196f39d728cd",
              "IPY_MODEL_74146705c3e342e281dae142eb4bdb47"
            ],
            "layout": "IPY_MODEL_b5b14fc388474ccaa9cd96e7fe08bb54"
          }
        },
        "2b2b8b4d67f84eb3a8bd5edcdef55c2c": {
          "model_module": "@jupyter-widgets/controls",
          "model_name": "HTMLModel",
          "model_module_version": "1.5.0",
          "state": {
            "_dom_classes": [],
            "_model_module": "@jupyter-widgets/controls",
            "_model_module_version": "1.5.0",
            "_model_name": "HTMLModel",
            "_view_count": null,
            "_view_module": "@jupyter-widgets/controls",
            "_view_module_version": "1.5.0",
            "_view_name": "HTMLView",
            "description": "",
            "description_tooltip": null,
            "layout": "IPY_MODEL_9983b5eeb2df4de0840adc02eedc680e",
            "placeholder": "​",
            "style": "IPY_MODEL_90d124170b2646fab31b6c1fb95e3e0b",
            "value": "Downloading (…)lve/main/config.json: 100%"
          }
        },
        "2e8aa6151efd4f56bb99196f39d728cd": {
          "model_module": "@jupyter-widgets/controls",
          "model_name": "FloatProgressModel",
          "model_module_version": "1.5.0",
          "state": {
            "_dom_classes": [],
            "_model_module": "@jupyter-widgets/controls",
            "_model_module_version": "1.5.0",
            "_model_name": "FloatProgressModel",
            "_view_count": null,
            "_view_module": "@jupyter-widgets/controls",
            "_view_module_version": "1.5.0",
            "_view_name": "ProgressView",
            "bar_style": "success",
            "description": "",
            "description_tooltip": null,
            "layout": "IPY_MODEL_b61470aed8a04bc6a9d81f7f6db78b61",
            "max": 570,
            "min": 0,
            "orientation": "horizontal",
            "style": "IPY_MODEL_0a6216b76f7d45ea9c8b7f68b038af1b",
            "value": 570
          }
        },
        "74146705c3e342e281dae142eb4bdb47": {
          "model_module": "@jupyter-widgets/controls",
          "model_name": "HTMLModel",
          "model_module_version": "1.5.0",
          "state": {
            "_dom_classes": [],
            "_model_module": "@jupyter-widgets/controls",
            "_model_module_version": "1.5.0",
            "_model_name": "HTMLModel",
            "_view_count": null,
            "_view_module": "@jupyter-widgets/controls",
            "_view_module_version": "1.5.0",
            "_view_name": "HTMLView",
            "description": "",
            "description_tooltip": null,
            "layout": "IPY_MODEL_5836d95bc6b543d9b9e2f67078b3ea48",
            "placeholder": "​",
            "style": "IPY_MODEL_22c3c99a45914f26b7de5e2acb99cb2f",
            "value": " 570/570 [00:00&lt;00:00, 20.8kB/s]"
          }
        },
        "b5b14fc388474ccaa9cd96e7fe08bb54": {
          "model_module": "@jupyter-widgets/base",
          "model_name": "LayoutModel",
          "model_module_version": "1.2.0",
          "state": {
            "_model_module": "@jupyter-widgets/base",
            "_model_module_version": "1.2.0",
            "_model_name": "LayoutModel",
            "_view_count": null,
            "_view_module": "@jupyter-widgets/base",
            "_view_module_version": "1.2.0",
            "_view_name": "LayoutView",
            "align_content": null,
            "align_items": null,
            "align_self": null,
            "border": null,
            "bottom": null,
            "display": null,
            "flex": null,
            "flex_flow": null,
            "grid_area": null,
            "grid_auto_columns": null,
            "grid_auto_flow": null,
            "grid_auto_rows": null,
            "grid_column": null,
            "grid_gap": null,
            "grid_row": null,
            "grid_template_areas": null,
            "grid_template_columns": null,
            "grid_template_rows": null,
            "height": null,
            "justify_content": null,
            "justify_items": null,
            "left": null,
            "margin": null,
            "max_height": null,
            "max_width": null,
            "min_height": null,
            "min_width": null,
            "object_fit": null,
            "object_position": null,
            "order": null,
            "overflow": null,
            "overflow_x": null,
            "overflow_y": null,
            "padding": null,
            "right": null,
            "top": null,
            "visibility": null,
            "width": null
          }
        },
        "9983b5eeb2df4de0840adc02eedc680e": {
          "model_module": "@jupyter-widgets/base",
          "model_name": "LayoutModel",
          "model_module_version": "1.2.0",
          "state": {
            "_model_module": "@jupyter-widgets/base",
            "_model_module_version": "1.2.0",
            "_model_name": "LayoutModel",
            "_view_count": null,
            "_view_module": "@jupyter-widgets/base",
            "_view_module_version": "1.2.0",
            "_view_name": "LayoutView",
            "align_content": null,
            "align_items": null,
            "align_self": null,
            "border": null,
            "bottom": null,
            "display": null,
            "flex": null,
            "flex_flow": null,
            "grid_area": null,
            "grid_auto_columns": null,
            "grid_auto_flow": null,
            "grid_auto_rows": null,
            "grid_column": null,
            "grid_gap": null,
            "grid_row": null,
            "grid_template_areas": null,
            "grid_template_columns": null,
            "grid_template_rows": null,
            "height": null,
            "justify_content": null,
            "justify_items": null,
            "left": null,
            "margin": null,
            "max_height": null,
            "max_width": null,
            "min_height": null,
            "min_width": null,
            "object_fit": null,
            "object_position": null,
            "order": null,
            "overflow": null,
            "overflow_x": null,
            "overflow_y": null,
            "padding": null,
            "right": null,
            "top": null,
            "visibility": null,
            "width": null
          }
        },
        "90d124170b2646fab31b6c1fb95e3e0b": {
          "model_module": "@jupyter-widgets/controls",
          "model_name": "DescriptionStyleModel",
          "model_module_version": "1.5.0",
          "state": {
            "_model_module": "@jupyter-widgets/controls",
            "_model_module_version": "1.5.0",
            "_model_name": "DescriptionStyleModel",
            "_view_count": null,
            "_view_module": "@jupyter-widgets/base",
            "_view_module_version": "1.2.0",
            "_view_name": "StyleView",
            "description_width": ""
          }
        },
        "b61470aed8a04bc6a9d81f7f6db78b61": {
          "model_module": "@jupyter-widgets/base",
          "model_name": "LayoutModel",
          "model_module_version": "1.2.0",
          "state": {
            "_model_module": "@jupyter-widgets/base",
            "_model_module_version": "1.2.0",
            "_model_name": "LayoutModel",
            "_view_count": null,
            "_view_module": "@jupyter-widgets/base",
            "_view_module_version": "1.2.0",
            "_view_name": "LayoutView",
            "align_content": null,
            "align_items": null,
            "align_self": null,
            "border": null,
            "bottom": null,
            "display": null,
            "flex": null,
            "flex_flow": null,
            "grid_area": null,
            "grid_auto_columns": null,
            "grid_auto_flow": null,
            "grid_auto_rows": null,
            "grid_column": null,
            "grid_gap": null,
            "grid_row": null,
            "grid_template_areas": null,
            "grid_template_columns": null,
            "grid_template_rows": null,
            "height": null,
            "justify_content": null,
            "justify_items": null,
            "left": null,
            "margin": null,
            "max_height": null,
            "max_width": null,
            "min_height": null,
            "min_width": null,
            "object_fit": null,
            "object_position": null,
            "order": null,
            "overflow": null,
            "overflow_x": null,
            "overflow_y": null,
            "padding": null,
            "right": null,
            "top": null,
            "visibility": null,
            "width": null
          }
        },
        "0a6216b76f7d45ea9c8b7f68b038af1b": {
          "model_module": "@jupyter-widgets/controls",
          "model_name": "ProgressStyleModel",
          "model_module_version": "1.5.0",
          "state": {
            "_model_module": "@jupyter-widgets/controls",
            "_model_module_version": "1.5.0",
            "_model_name": "ProgressStyleModel",
            "_view_count": null,
            "_view_module": "@jupyter-widgets/base",
            "_view_module_version": "1.2.0",
            "_view_name": "StyleView",
            "bar_color": null,
            "description_width": ""
          }
        },
        "5836d95bc6b543d9b9e2f67078b3ea48": {
          "model_module": "@jupyter-widgets/base",
          "model_name": "LayoutModel",
          "model_module_version": "1.2.0",
          "state": {
            "_model_module": "@jupyter-widgets/base",
            "_model_module_version": "1.2.0",
            "_model_name": "LayoutModel",
            "_view_count": null,
            "_view_module": "@jupyter-widgets/base",
            "_view_module_version": "1.2.0",
            "_view_name": "LayoutView",
            "align_content": null,
            "align_items": null,
            "align_self": null,
            "border": null,
            "bottom": null,
            "display": null,
            "flex": null,
            "flex_flow": null,
            "grid_area": null,
            "grid_auto_columns": null,
            "grid_auto_flow": null,
            "grid_auto_rows": null,
            "grid_column": null,
            "grid_gap": null,
            "grid_row": null,
            "grid_template_areas": null,
            "grid_template_columns": null,
            "grid_template_rows": null,
            "height": null,
            "justify_content": null,
            "justify_items": null,
            "left": null,
            "margin": null,
            "max_height": null,
            "max_width": null,
            "min_height": null,
            "min_width": null,
            "object_fit": null,
            "object_position": null,
            "order": null,
            "overflow": null,
            "overflow_x": null,
            "overflow_y": null,
            "padding": null,
            "right": null,
            "top": null,
            "visibility": null,
            "width": null
          }
        },
        "22c3c99a45914f26b7de5e2acb99cb2f": {
          "model_module": "@jupyter-widgets/controls",
          "model_name": "DescriptionStyleModel",
          "model_module_version": "1.5.0",
          "state": {
            "_model_module": "@jupyter-widgets/controls",
            "_model_module_version": "1.5.0",
            "_model_name": "DescriptionStyleModel",
            "_view_count": null,
            "_view_module": "@jupyter-widgets/base",
            "_view_module_version": "1.2.0",
            "_view_name": "StyleView",
            "description_width": ""
          }
        },
        "7e44233943ab410695e038c6985c656a": {
          "model_module": "@jupyter-widgets/controls",
          "model_name": "HBoxModel",
          "model_module_version": "1.5.0",
          "state": {
            "_dom_classes": [],
            "_model_module": "@jupyter-widgets/controls",
            "_model_module_version": "1.5.0",
            "_model_name": "HBoxModel",
            "_view_count": null,
            "_view_module": "@jupyter-widgets/controls",
            "_view_module_version": "1.5.0",
            "_view_name": "HBoxView",
            "box_style": "",
            "children": [
              "IPY_MODEL_19fae7d8cae5489d8dfd2c3bd701967c",
              "IPY_MODEL_03a73722776a494e950532708ea725df",
              "IPY_MODEL_e4db0ad851a946b99b941c06e58217bf"
            ],
            "layout": "IPY_MODEL_c0e8150b972145039b7022be0d466395"
          }
        },
        "19fae7d8cae5489d8dfd2c3bd701967c": {
          "model_module": "@jupyter-widgets/controls",
          "model_name": "HTMLModel",
          "model_module_version": "1.5.0",
          "state": {
            "_dom_classes": [],
            "_model_module": "@jupyter-widgets/controls",
            "_model_module_version": "1.5.0",
            "_model_name": "HTMLModel",
            "_view_count": null,
            "_view_module": "@jupyter-widgets/controls",
            "_view_module_version": "1.5.0",
            "_view_name": "HTMLView",
            "description": "",
            "description_tooltip": null,
            "layout": "IPY_MODEL_2274cb20e2934d36a487d791a0b78404",
            "placeholder": "​",
            "style": "IPY_MODEL_d1a7ef68e9294805a48250719aa079b6",
            "value": "Downloading (…)solve/main/vocab.txt: 100%"
          }
        },
        "03a73722776a494e950532708ea725df": {
          "model_module": "@jupyter-widgets/controls",
          "model_name": "FloatProgressModel",
          "model_module_version": "1.5.0",
          "state": {
            "_dom_classes": [],
            "_model_module": "@jupyter-widgets/controls",
            "_model_module_version": "1.5.0",
            "_model_name": "FloatProgressModel",
            "_view_count": null,
            "_view_module": "@jupyter-widgets/controls",
            "_view_module_version": "1.5.0",
            "_view_name": "ProgressView",
            "bar_style": "success",
            "description": "",
            "description_tooltip": null,
            "layout": "IPY_MODEL_e3653de8fd604ccf982349f6f6554f5b",
            "max": 213450,
            "min": 0,
            "orientation": "horizontal",
            "style": "IPY_MODEL_d5a88135af214b84bcb6754a47ab0769",
            "value": 213450
          }
        },
        "e4db0ad851a946b99b941c06e58217bf": {
          "model_module": "@jupyter-widgets/controls",
          "model_name": "HTMLModel",
          "model_module_version": "1.5.0",
          "state": {
            "_dom_classes": [],
            "_model_module": "@jupyter-widgets/controls",
            "_model_module_version": "1.5.0",
            "_model_name": "HTMLModel",
            "_view_count": null,
            "_view_module": "@jupyter-widgets/controls",
            "_view_module_version": "1.5.0",
            "_view_name": "HTMLView",
            "description": "",
            "description_tooltip": null,
            "layout": "IPY_MODEL_cba8ee2c68164b09be2135392e9902e8",
            "placeholder": "​",
            "style": "IPY_MODEL_b129eab9a9f84e238bf8a254e642e3c4",
            "value": " 213k/213k [00:00&lt;00:00, 758kB/s]"
          }
        },
        "c0e8150b972145039b7022be0d466395": {
          "model_module": "@jupyter-widgets/base",
          "model_name": "LayoutModel",
          "model_module_version": "1.2.0",
          "state": {
            "_model_module": "@jupyter-widgets/base",
            "_model_module_version": "1.2.0",
            "_model_name": "LayoutModel",
            "_view_count": null,
            "_view_module": "@jupyter-widgets/base",
            "_view_module_version": "1.2.0",
            "_view_name": "LayoutView",
            "align_content": null,
            "align_items": null,
            "align_self": null,
            "border": null,
            "bottom": null,
            "display": null,
            "flex": null,
            "flex_flow": null,
            "grid_area": null,
            "grid_auto_columns": null,
            "grid_auto_flow": null,
            "grid_auto_rows": null,
            "grid_column": null,
            "grid_gap": null,
            "grid_row": null,
            "grid_template_areas": null,
            "grid_template_columns": null,
            "grid_template_rows": null,
            "height": null,
            "justify_content": null,
            "justify_items": null,
            "left": null,
            "margin": null,
            "max_height": null,
            "max_width": null,
            "min_height": null,
            "min_width": null,
            "object_fit": null,
            "object_position": null,
            "order": null,
            "overflow": null,
            "overflow_x": null,
            "overflow_y": null,
            "padding": null,
            "right": null,
            "top": null,
            "visibility": null,
            "width": null
          }
        },
        "2274cb20e2934d36a487d791a0b78404": {
          "model_module": "@jupyter-widgets/base",
          "model_name": "LayoutModel",
          "model_module_version": "1.2.0",
          "state": {
            "_model_module": "@jupyter-widgets/base",
            "_model_module_version": "1.2.0",
            "_model_name": "LayoutModel",
            "_view_count": null,
            "_view_module": "@jupyter-widgets/base",
            "_view_module_version": "1.2.0",
            "_view_name": "LayoutView",
            "align_content": null,
            "align_items": null,
            "align_self": null,
            "border": null,
            "bottom": null,
            "display": null,
            "flex": null,
            "flex_flow": null,
            "grid_area": null,
            "grid_auto_columns": null,
            "grid_auto_flow": null,
            "grid_auto_rows": null,
            "grid_column": null,
            "grid_gap": null,
            "grid_row": null,
            "grid_template_areas": null,
            "grid_template_columns": null,
            "grid_template_rows": null,
            "height": null,
            "justify_content": null,
            "justify_items": null,
            "left": null,
            "margin": null,
            "max_height": null,
            "max_width": null,
            "min_height": null,
            "min_width": null,
            "object_fit": null,
            "object_position": null,
            "order": null,
            "overflow": null,
            "overflow_x": null,
            "overflow_y": null,
            "padding": null,
            "right": null,
            "top": null,
            "visibility": null,
            "width": null
          }
        },
        "d1a7ef68e9294805a48250719aa079b6": {
          "model_module": "@jupyter-widgets/controls",
          "model_name": "DescriptionStyleModel",
          "model_module_version": "1.5.0",
          "state": {
            "_model_module": "@jupyter-widgets/controls",
            "_model_module_version": "1.5.0",
            "_model_name": "DescriptionStyleModel",
            "_view_count": null,
            "_view_module": "@jupyter-widgets/base",
            "_view_module_version": "1.2.0",
            "_view_name": "StyleView",
            "description_width": ""
          }
        },
        "e3653de8fd604ccf982349f6f6554f5b": {
          "model_module": "@jupyter-widgets/base",
          "model_name": "LayoutModel",
          "model_module_version": "1.2.0",
          "state": {
            "_model_module": "@jupyter-widgets/base",
            "_model_module_version": "1.2.0",
            "_model_name": "LayoutModel",
            "_view_count": null,
            "_view_module": "@jupyter-widgets/base",
            "_view_module_version": "1.2.0",
            "_view_name": "LayoutView",
            "align_content": null,
            "align_items": null,
            "align_self": null,
            "border": null,
            "bottom": null,
            "display": null,
            "flex": null,
            "flex_flow": null,
            "grid_area": null,
            "grid_auto_columns": null,
            "grid_auto_flow": null,
            "grid_auto_rows": null,
            "grid_column": null,
            "grid_gap": null,
            "grid_row": null,
            "grid_template_areas": null,
            "grid_template_columns": null,
            "grid_template_rows": null,
            "height": null,
            "justify_content": null,
            "justify_items": null,
            "left": null,
            "margin": null,
            "max_height": null,
            "max_width": null,
            "min_height": null,
            "min_width": null,
            "object_fit": null,
            "object_position": null,
            "order": null,
            "overflow": null,
            "overflow_x": null,
            "overflow_y": null,
            "padding": null,
            "right": null,
            "top": null,
            "visibility": null,
            "width": null
          }
        },
        "d5a88135af214b84bcb6754a47ab0769": {
          "model_module": "@jupyter-widgets/controls",
          "model_name": "ProgressStyleModel",
          "model_module_version": "1.5.0",
          "state": {
            "_model_module": "@jupyter-widgets/controls",
            "_model_module_version": "1.5.0",
            "_model_name": "ProgressStyleModel",
            "_view_count": null,
            "_view_module": "@jupyter-widgets/base",
            "_view_module_version": "1.2.0",
            "_view_name": "StyleView",
            "bar_color": null,
            "description_width": ""
          }
        },
        "cba8ee2c68164b09be2135392e9902e8": {
          "model_module": "@jupyter-widgets/base",
          "model_name": "LayoutModel",
          "model_module_version": "1.2.0",
          "state": {
            "_model_module": "@jupyter-widgets/base",
            "_model_module_version": "1.2.0",
            "_model_name": "LayoutModel",
            "_view_count": null,
            "_view_module": "@jupyter-widgets/base",
            "_view_module_version": "1.2.0",
            "_view_name": "LayoutView",
            "align_content": null,
            "align_items": null,
            "align_self": null,
            "border": null,
            "bottom": null,
            "display": null,
            "flex": null,
            "flex_flow": null,
            "grid_area": null,
            "grid_auto_columns": null,
            "grid_auto_flow": null,
            "grid_auto_rows": null,
            "grid_column": null,
            "grid_gap": null,
            "grid_row": null,
            "grid_template_areas": null,
            "grid_template_columns": null,
            "grid_template_rows": null,
            "height": null,
            "justify_content": null,
            "justify_items": null,
            "left": null,
            "margin": null,
            "max_height": null,
            "max_width": null,
            "min_height": null,
            "min_width": null,
            "object_fit": null,
            "object_position": null,
            "order": null,
            "overflow": null,
            "overflow_x": null,
            "overflow_y": null,
            "padding": null,
            "right": null,
            "top": null,
            "visibility": null,
            "width": null
          }
        },
        "b129eab9a9f84e238bf8a254e642e3c4": {
          "model_module": "@jupyter-widgets/controls",
          "model_name": "DescriptionStyleModel",
          "model_module_version": "1.5.0",
          "state": {
            "_model_module": "@jupyter-widgets/controls",
            "_model_module_version": "1.5.0",
            "_model_name": "DescriptionStyleModel",
            "_view_count": null,
            "_view_module": "@jupyter-widgets/base",
            "_view_module_version": "1.2.0",
            "_view_name": "StyleView",
            "description_width": ""
          }
        },
        "2a612a0785894f67949e3017d2b38ba9": {
          "model_module": "@jupyter-widgets/controls",
          "model_name": "HBoxModel",
          "model_module_version": "1.5.0",
          "state": {
            "_dom_classes": [],
            "_model_module": "@jupyter-widgets/controls",
            "_model_module_version": "1.5.0",
            "_model_name": "HBoxModel",
            "_view_count": null,
            "_view_module": "@jupyter-widgets/controls",
            "_view_module_version": "1.5.0",
            "_view_name": "HBoxView",
            "box_style": "",
            "children": [
              "IPY_MODEL_eb2b01884b884ea4971c43df581fe1da",
              "IPY_MODEL_2633f2b145f44812a467e848d944972b",
              "IPY_MODEL_3ff13675a9fb4d088b3de0875f96271a"
            ],
            "layout": "IPY_MODEL_0c69527330714bf3ab90a1a22a81d8b4"
          }
        },
        "eb2b01884b884ea4971c43df581fe1da": {
          "model_module": "@jupyter-widgets/controls",
          "model_name": "HTMLModel",
          "model_module_version": "1.5.0",
          "state": {
            "_dom_classes": [],
            "_model_module": "@jupyter-widgets/controls",
            "_model_module_version": "1.5.0",
            "_model_name": "HTMLModel",
            "_view_count": null,
            "_view_module": "@jupyter-widgets/controls",
            "_view_module_version": "1.5.0",
            "_view_name": "HTMLView",
            "description": "",
            "description_tooltip": null,
            "layout": "IPY_MODEL_5f71d8a6bab84a299ea9932432d5384a",
            "placeholder": "​",
            "style": "IPY_MODEL_88952a1794b143c38dadf05cb8530e87",
            "value": "Downloading (…)/main/tokenizer.json: 100%"
          }
        },
        "2633f2b145f44812a467e848d944972b": {
          "model_module": "@jupyter-widgets/controls",
          "model_name": "FloatProgressModel",
          "model_module_version": "1.5.0",
          "state": {
            "_dom_classes": [],
            "_model_module": "@jupyter-widgets/controls",
            "_model_module_version": "1.5.0",
            "_model_name": "FloatProgressModel",
            "_view_count": null,
            "_view_module": "@jupyter-widgets/controls",
            "_view_module_version": "1.5.0",
            "_view_name": "ProgressView",
            "bar_style": "success",
            "description": "",
            "description_tooltip": null,
            "layout": "IPY_MODEL_07af2fb2553347219be1bb7d4ea13b96",
            "max": 435797,
            "min": 0,
            "orientation": "horizontal",
            "style": "IPY_MODEL_fd455b08839c4492a8e2962f99235363",
            "value": 435797
          }
        },
        "3ff13675a9fb4d088b3de0875f96271a": {
          "model_module": "@jupyter-widgets/controls",
          "model_name": "HTMLModel",
          "model_module_version": "1.5.0",
          "state": {
            "_dom_classes": [],
            "_model_module": "@jupyter-widgets/controls",
            "_model_module_version": "1.5.0",
            "_model_name": "HTMLModel",
            "_view_count": null,
            "_view_module": "@jupyter-widgets/controls",
            "_view_module_version": "1.5.0",
            "_view_name": "HTMLView",
            "description": "",
            "description_tooltip": null,
            "layout": "IPY_MODEL_b48f3e6965f24b48a63ea8944c1f28cd",
            "placeholder": "​",
            "style": "IPY_MODEL_f2cc73e41dd04b2da3ceecfc17447ced",
            "value": " 436k/436k [00:00&lt;00:00, 1.25MB/s]"
          }
        },
        "0c69527330714bf3ab90a1a22a81d8b4": {
          "model_module": "@jupyter-widgets/base",
          "model_name": "LayoutModel",
          "model_module_version": "1.2.0",
          "state": {
            "_model_module": "@jupyter-widgets/base",
            "_model_module_version": "1.2.0",
            "_model_name": "LayoutModel",
            "_view_count": null,
            "_view_module": "@jupyter-widgets/base",
            "_view_module_version": "1.2.0",
            "_view_name": "LayoutView",
            "align_content": null,
            "align_items": null,
            "align_self": null,
            "border": null,
            "bottom": null,
            "display": null,
            "flex": null,
            "flex_flow": null,
            "grid_area": null,
            "grid_auto_columns": null,
            "grid_auto_flow": null,
            "grid_auto_rows": null,
            "grid_column": null,
            "grid_gap": null,
            "grid_row": null,
            "grid_template_areas": null,
            "grid_template_columns": null,
            "grid_template_rows": null,
            "height": null,
            "justify_content": null,
            "justify_items": null,
            "left": null,
            "margin": null,
            "max_height": null,
            "max_width": null,
            "min_height": null,
            "min_width": null,
            "object_fit": null,
            "object_position": null,
            "order": null,
            "overflow": null,
            "overflow_x": null,
            "overflow_y": null,
            "padding": null,
            "right": null,
            "top": null,
            "visibility": null,
            "width": null
          }
        },
        "5f71d8a6bab84a299ea9932432d5384a": {
          "model_module": "@jupyter-widgets/base",
          "model_name": "LayoutModel",
          "model_module_version": "1.2.0",
          "state": {
            "_model_module": "@jupyter-widgets/base",
            "_model_module_version": "1.2.0",
            "_model_name": "LayoutModel",
            "_view_count": null,
            "_view_module": "@jupyter-widgets/base",
            "_view_module_version": "1.2.0",
            "_view_name": "LayoutView",
            "align_content": null,
            "align_items": null,
            "align_self": null,
            "border": null,
            "bottom": null,
            "display": null,
            "flex": null,
            "flex_flow": null,
            "grid_area": null,
            "grid_auto_columns": null,
            "grid_auto_flow": null,
            "grid_auto_rows": null,
            "grid_column": null,
            "grid_gap": null,
            "grid_row": null,
            "grid_template_areas": null,
            "grid_template_columns": null,
            "grid_template_rows": null,
            "height": null,
            "justify_content": null,
            "justify_items": null,
            "left": null,
            "margin": null,
            "max_height": null,
            "max_width": null,
            "min_height": null,
            "min_width": null,
            "object_fit": null,
            "object_position": null,
            "order": null,
            "overflow": null,
            "overflow_x": null,
            "overflow_y": null,
            "padding": null,
            "right": null,
            "top": null,
            "visibility": null,
            "width": null
          }
        },
        "88952a1794b143c38dadf05cb8530e87": {
          "model_module": "@jupyter-widgets/controls",
          "model_name": "DescriptionStyleModel",
          "model_module_version": "1.5.0",
          "state": {
            "_model_module": "@jupyter-widgets/controls",
            "_model_module_version": "1.5.0",
            "_model_name": "DescriptionStyleModel",
            "_view_count": null,
            "_view_module": "@jupyter-widgets/base",
            "_view_module_version": "1.2.0",
            "_view_name": "StyleView",
            "description_width": ""
          }
        },
        "07af2fb2553347219be1bb7d4ea13b96": {
          "model_module": "@jupyter-widgets/base",
          "model_name": "LayoutModel",
          "model_module_version": "1.2.0",
          "state": {
            "_model_module": "@jupyter-widgets/base",
            "_model_module_version": "1.2.0",
            "_model_name": "LayoutModel",
            "_view_count": null,
            "_view_module": "@jupyter-widgets/base",
            "_view_module_version": "1.2.0",
            "_view_name": "LayoutView",
            "align_content": null,
            "align_items": null,
            "align_self": null,
            "border": null,
            "bottom": null,
            "display": null,
            "flex": null,
            "flex_flow": null,
            "grid_area": null,
            "grid_auto_columns": null,
            "grid_auto_flow": null,
            "grid_auto_rows": null,
            "grid_column": null,
            "grid_gap": null,
            "grid_row": null,
            "grid_template_areas": null,
            "grid_template_columns": null,
            "grid_template_rows": null,
            "height": null,
            "justify_content": null,
            "justify_items": null,
            "left": null,
            "margin": null,
            "max_height": null,
            "max_width": null,
            "min_height": null,
            "min_width": null,
            "object_fit": null,
            "object_position": null,
            "order": null,
            "overflow": null,
            "overflow_x": null,
            "overflow_y": null,
            "padding": null,
            "right": null,
            "top": null,
            "visibility": null,
            "width": null
          }
        },
        "fd455b08839c4492a8e2962f99235363": {
          "model_module": "@jupyter-widgets/controls",
          "model_name": "ProgressStyleModel",
          "model_module_version": "1.5.0",
          "state": {
            "_model_module": "@jupyter-widgets/controls",
            "_model_module_version": "1.5.0",
            "_model_name": "ProgressStyleModel",
            "_view_count": null,
            "_view_module": "@jupyter-widgets/base",
            "_view_module_version": "1.2.0",
            "_view_name": "StyleView",
            "bar_color": null,
            "description_width": ""
          }
        },
        "b48f3e6965f24b48a63ea8944c1f28cd": {
          "model_module": "@jupyter-widgets/base",
          "model_name": "LayoutModel",
          "model_module_version": "1.2.0",
          "state": {
            "_model_module": "@jupyter-widgets/base",
            "_model_module_version": "1.2.0",
            "_model_name": "LayoutModel",
            "_view_count": null,
            "_view_module": "@jupyter-widgets/base",
            "_view_module_version": "1.2.0",
            "_view_name": "LayoutView",
            "align_content": null,
            "align_items": null,
            "align_self": null,
            "border": null,
            "bottom": null,
            "display": null,
            "flex": null,
            "flex_flow": null,
            "grid_area": null,
            "grid_auto_columns": null,
            "grid_auto_flow": null,
            "grid_auto_rows": null,
            "grid_column": null,
            "grid_gap": null,
            "grid_row": null,
            "grid_template_areas": null,
            "grid_template_columns": null,
            "grid_template_rows": null,
            "height": null,
            "justify_content": null,
            "justify_items": null,
            "left": null,
            "margin": null,
            "max_height": null,
            "max_width": null,
            "min_height": null,
            "min_width": null,
            "object_fit": null,
            "object_position": null,
            "order": null,
            "overflow": null,
            "overflow_x": null,
            "overflow_y": null,
            "padding": null,
            "right": null,
            "top": null,
            "visibility": null,
            "width": null
          }
        },
        "f2cc73e41dd04b2da3ceecfc17447ced": {
          "model_module": "@jupyter-widgets/controls",
          "model_name": "DescriptionStyleModel",
          "model_module_version": "1.5.0",
          "state": {
            "_model_module": "@jupyter-widgets/controls",
            "_model_module_version": "1.5.0",
            "_model_name": "DescriptionStyleModel",
            "_view_count": null,
            "_view_module": "@jupyter-widgets/base",
            "_view_module_version": "1.2.0",
            "_view_name": "StyleView",
            "description_width": ""
          }
        },
        "bca26ecf7f434b7d9a13fba68415bddf": {
          "model_module": "@jupyter-widgets/controls",
          "model_name": "HBoxModel",
          "model_module_version": "1.5.0",
          "state": {
            "_dom_classes": [],
            "_model_module": "@jupyter-widgets/controls",
            "_model_module_version": "1.5.0",
            "_model_name": "HBoxModel",
            "_view_count": null,
            "_view_module": "@jupyter-widgets/controls",
            "_view_module_version": "1.5.0",
            "_view_name": "HBoxView",
            "box_style": "",
            "children": [
              "IPY_MODEL_84a0b80ca52943b686ac46815d5f6c9e",
              "IPY_MODEL_e3ea9c4e38d84c518febddc446be9e11",
              "IPY_MODEL_bf4297a1567241509e35571610fb7ded"
            ],
            "layout": "IPY_MODEL_a6476fe3ad4149bb946f67278274e37d"
          }
        },
        "84a0b80ca52943b686ac46815d5f6c9e": {
          "model_module": "@jupyter-widgets/controls",
          "model_name": "HTMLModel",
          "model_module_version": "1.5.0",
          "state": {
            "_dom_classes": [],
            "_model_module": "@jupyter-widgets/controls",
            "_model_module_version": "1.5.0",
            "_model_name": "HTMLModel",
            "_view_count": null,
            "_view_module": "@jupyter-widgets/controls",
            "_view_module_version": "1.5.0",
            "_view_name": "HTMLView",
            "description": "",
            "description_tooltip": null,
            "layout": "IPY_MODEL_548b490f27af48278994e69ad7ddc986",
            "placeholder": "​",
            "style": "IPY_MODEL_d5bef49480ab477c9d083b159a5c0bdb",
            "value": "Downloading tf_model.h5: 100%"
          }
        },
        "e3ea9c4e38d84c518febddc446be9e11": {
          "model_module": "@jupyter-widgets/controls",
          "model_name": "FloatProgressModel",
          "model_module_version": "1.5.0",
          "state": {
            "_dom_classes": [],
            "_model_module": "@jupyter-widgets/controls",
            "_model_module_version": "1.5.0",
            "_model_name": "FloatProgressModel",
            "_view_count": null,
            "_view_module": "@jupyter-widgets/controls",
            "_view_module_version": "1.5.0",
            "_view_name": "ProgressView",
            "bar_style": "success",
            "description": "",
            "description_tooltip": null,
            "layout": "IPY_MODEL_84e041a62f274cf58e62099a466313a6",
            "max": 526681800,
            "min": 0,
            "orientation": "horizontal",
            "style": "IPY_MODEL_846d7e9a57c442a4bb20980ff169e259",
            "value": 526681800
          }
        },
        "bf4297a1567241509e35571610fb7ded": {
          "model_module": "@jupyter-widgets/controls",
          "model_name": "HTMLModel",
          "model_module_version": "1.5.0",
          "state": {
            "_dom_classes": [],
            "_model_module": "@jupyter-widgets/controls",
            "_model_module_version": "1.5.0",
            "_model_name": "HTMLModel",
            "_view_count": null,
            "_view_module": "@jupyter-widgets/controls",
            "_view_module_version": "1.5.0",
            "_view_name": "HTMLView",
            "description": "",
            "description_tooltip": null,
            "layout": "IPY_MODEL_8e6caa15ef4943afaad4677ebd21ba10",
            "placeholder": "​",
            "style": "IPY_MODEL_3c2cd40686e741a8a33c01934961da49",
            "value": " 527M/527M [00:02&lt;00:00, 222MB/s]"
          }
        },
        "a6476fe3ad4149bb946f67278274e37d": {
          "model_module": "@jupyter-widgets/base",
          "model_name": "LayoutModel",
          "model_module_version": "1.2.0",
          "state": {
            "_model_module": "@jupyter-widgets/base",
            "_model_module_version": "1.2.0",
            "_model_name": "LayoutModel",
            "_view_count": null,
            "_view_module": "@jupyter-widgets/base",
            "_view_module_version": "1.2.0",
            "_view_name": "LayoutView",
            "align_content": null,
            "align_items": null,
            "align_self": null,
            "border": null,
            "bottom": null,
            "display": null,
            "flex": null,
            "flex_flow": null,
            "grid_area": null,
            "grid_auto_columns": null,
            "grid_auto_flow": null,
            "grid_auto_rows": null,
            "grid_column": null,
            "grid_gap": null,
            "grid_row": null,
            "grid_template_areas": null,
            "grid_template_columns": null,
            "grid_template_rows": null,
            "height": null,
            "justify_content": null,
            "justify_items": null,
            "left": null,
            "margin": null,
            "max_height": null,
            "max_width": null,
            "min_height": null,
            "min_width": null,
            "object_fit": null,
            "object_position": null,
            "order": null,
            "overflow": null,
            "overflow_x": null,
            "overflow_y": null,
            "padding": null,
            "right": null,
            "top": null,
            "visibility": null,
            "width": null
          }
        },
        "548b490f27af48278994e69ad7ddc986": {
          "model_module": "@jupyter-widgets/base",
          "model_name": "LayoutModel",
          "model_module_version": "1.2.0",
          "state": {
            "_model_module": "@jupyter-widgets/base",
            "_model_module_version": "1.2.0",
            "_model_name": "LayoutModel",
            "_view_count": null,
            "_view_module": "@jupyter-widgets/base",
            "_view_module_version": "1.2.0",
            "_view_name": "LayoutView",
            "align_content": null,
            "align_items": null,
            "align_self": null,
            "border": null,
            "bottom": null,
            "display": null,
            "flex": null,
            "flex_flow": null,
            "grid_area": null,
            "grid_auto_columns": null,
            "grid_auto_flow": null,
            "grid_auto_rows": null,
            "grid_column": null,
            "grid_gap": null,
            "grid_row": null,
            "grid_template_areas": null,
            "grid_template_columns": null,
            "grid_template_rows": null,
            "height": null,
            "justify_content": null,
            "justify_items": null,
            "left": null,
            "margin": null,
            "max_height": null,
            "max_width": null,
            "min_height": null,
            "min_width": null,
            "object_fit": null,
            "object_position": null,
            "order": null,
            "overflow": null,
            "overflow_x": null,
            "overflow_y": null,
            "padding": null,
            "right": null,
            "top": null,
            "visibility": null,
            "width": null
          }
        },
        "d5bef49480ab477c9d083b159a5c0bdb": {
          "model_module": "@jupyter-widgets/controls",
          "model_name": "DescriptionStyleModel",
          "model_module_version": "1.5.0",
          "state": {
            "_model_module": "@jupyter-widgets/controls",
            "_model_module_version": "1.5.0",
            "_model_name": "DescriptionStyleModel",
            "_view_count": null,
            "_view_module": "@jupyter-widgets/base",
            "_view_module_version": "1.2.0",
            "_view_name": "StyleView",
            "description_width": ""
          }
        },
        "84e041a62f274cf58e62099a466313a6": {
          "model_module": "@jupyter-widgets/base",
          "model_name": "LayoutModel",
          "model_module_version": "1.2.0",
          "state": {
            "_model_module": "@jupyter-widgets/base",
            "_model_module_version": "1.2.0",
            "_model_name": "LayoutModel",
            "_view_count": null,
            "_view_module": "@jupyter-widgets/base",
            "_view_module_version": "1.2.0",
            "_view_name": "LayoutView",
            "align_content": null,
            "align_items": null,
            "align_self": null,
            "border": null,
            "bottom": null,
            "display": null,
            "flex": null,
            "flex_flow": null,
            "grid_area": null,
            "grid_auto_columns": null,
            "grid_auto_flow": null,
            "grid_auto_rows": null,
            "grid_column": null,
            "grid_gap": null,
            "grid_row": null,
            "grid_template_areas": null,
            "grid_template_columns": null,
            "grid_template_rows": null,
            "height": null,
            "justify_content": null,
            "justify_items": null,
            "left": null,
            "margin": null,
            "max_height": null,
            "max_width": null,
            "min_height": null,
            "min_width": null,
            "object_fit": null,
            "object_position": null,
            "order": null,
            "overflow": null,
            "overflow_x": null,
            "overflow_y": null,
            "padding": null,
            "right": null,
            "top": null,
            "visibility": null,
            "width": null
          }
        },
        "846d7e9a57c442a4bb20980ff169e259": {
          "model_module": "@jupyter-widgets/controls",
          "model_name": "ProgressStyleModel",
          "model_module_version": "1.5.0",
          "state": {
            "_model_module": "@jupyter-widgets/controls",
            "_model_module_version": "1.5.0",
            "_model_name": "ProgressStyleModel",
            "_view_count": null,
            "_view_module": "@jupyter-widgets/base",
            "_view_module_version": "1.2.0",
            "_view_name": "StyleView",
            "bar_color": null,
            "description_width": ""
          }
        },
        "8e6caa15ef4943afaad4677ebd21ba10": {
          "model_module": "@jupyter-widgets/base",
          "model_name": "LayoutModel",
          "model_module_version": "1.2.0",
          "state": {
            "_model_module": "@jupyter-widgets/base",
            "_model_module_version": "1.2.0",
            "_model_name": "LayoutModel",
            "_view_count": null,
            "_view_module": "@jupyter-widgets/base",
            "_view_module_version": "1.2.0",
            "_view_name": "LayoutView",
            "align_content": null,
            "align_items": null,
            "align_self": null,
            "border": null,
            "bottom": null,
            "display": null,
            "flex": null,
            "flex_flow": null,
            "grid_area": null,
            "grid_auto_columns": null,
            "grid_auto_flow": null,
            "grid_auto_rows": null,
            "grid_column": null,
            "grid_gap": null,
            "grid_row": null,
            "grid_template_areas": null,
            "grid_template_columns": null,
            "grid_template_rows": null,
            "height": null,
            "justify_content": null,
            "justify_items": null,
            "left": null,
            "margin": null,
            "max_height": null,
            "max_width": null,
            "min_height": null,
            "min_width": null,
            "object_fit": null,
            "object_position": null,
            "order": null,
            "overflow": null,
            "overflow_x": null,
            "overflow_y": null,
            "padding": null,
            "right": null,
            "top": null,
            "visibility": null,
            "width": null
          }
        },
        "3c2cd40686e741a8a33c01934961da49": {
          "model_module": "@jupyter-widgets/controls",
          "model_name": "DescriptionStyleModel",
          "model_module_version": "1.5.0",
          "state": {
            "_model_module": "@jupyter-widgets/controls",
            "_model_module_version": "1.5.0",
            "_model_name": "DescriptionStyleModel",
            "_view_count": null,
            "_view_module": "@jupyter-widgets/base",
            "_view_module_version": "1.2.0",
            "_view_name": "StyleView",
            "description_width": ""
          }
        },
        "f55a72dedbc14f51bf09a1645ae85c02": {
          "model_module": "@jupyter-widgets/controls",
          "model_name": "HBoxModel",
          "model_module_version": "1.5.0",
          "state": {
            "_dom_classes": [],
            "_model_module": "@jupyter-widgets/controls",
            "_model_module_version": "1.5.0",
            "_model_name": "HBoxModel",
            "_view_count": null,
            "_view_module": "@jupyter-widgets/controls",
            "_view_module_version": "1.5.0",
            "_view_name": "HBoxView",
            "box_style": "",
            "children": [
              "IPY_MODEL_81b76903587c4f4cbca85d34d98f4b69",
              "IPY_MODEL_1384af12ebdd4153bacc0e7c1405661a",
              "IPY_MODEL_0a513b7282fa4313beda43cdc9a320f3"
            ],
            "layout": "IPY_MODEL_d5369d4c5bad46d885a179b46da625cd"
          }
        },
        "81b76903587c4f4cbca85d34d98f4b69": {
          "model_module": "@jupyter-widgets/controls",
          "model_name": "HTMLModel",
          "model_module_version": "1.5.0",
          "state": {
            "_dom_classes": [],
            "_model_module": "@jupyter-widgets/controls",
            "_model_module_version": "1.5.0",
            "_model_name": "HTMLModel",
            "_view_count": null,
            "_view_module": "@jupyter-widgets/controls",
            "_view_module_version": "1.5.0",
            "_view_name": "HTMLView",
            "description": "",
            "description_tooltip": null,
            "layout": "IPY_MODEL_b6debf4e85fe48a6a138280f3e6df5fd",
            "placeholder": "​",
            "style": "IPY_MODEL_0719b648ec2a4e0c994f8fd16ec6aec0",
            "value": "Downloading (…)lve/main/config.json: 100%"
          }
        },
        "1384af12ebdd4153bacc0e7c1405661a": {
          "model_module": "@jupyter-widgets/controls",
          "model_name": "FloatProgressModel",
          "model_module_version": "1.5.0",
          "state": {
            "_dom_classes": [],
            "_model_module": "@jupyter-widgets/controls",
            "_model_module_version": "1.5.0",
            "_model_name": "FloatProgressModel",
            "_view_count": null,
            "_view_module": "@jupyter-widgets/controls",
            "_view_module_version": "1.5.0",
            "_view_name": "ProgressView",
            "bar_style": "success",
            "description": "",
            "description_tooltip": null,
            "layout": "IPY_MODEL_a78a067a202f4a9bbda9a441231cae76",
            "max": 702,
            "min": 0,
            "orientation": "horizontal",
            "style": "IPY_MODEL_c2d4970de60d439196bfc30236a62a9d",
            "value": 702
          }
        },
        "0a513b7282fa4313beda43cdc9a320f3": {
          "model_module": "@jupyter-widgets/controls",
          "model_name": "HTMLModel",
          "model_module_version": "1.5.0",
          "state": {
            "_dom_classes": [],
            "_model_module": "@jupyter-widgets/controls",
            "_model_module_version": "1.5.0",
            "_model_name": "HTMLModel",
            "_view_count": null,
            "_view_module": "@jupyter-widgets/controls",
            "_view_module_version": "1.5.0",
            "_view_name": "HTMLView",
            "description": "",
            "description_tooltip": null,
            "layout": "IPY_MODEL_55b6a2d92ae74aab931ce74c52ee2e52",
            "placeholder": "​",
            "style": "IPY_MODEL_2bd90f7777c34120b544890dea74b06c",
            "value": " 702/702 [00:00&lt;00:00, 8.18kB/s]"
          }
        },
        "d5369d4c5bad46d885a179b46da625cd": {
          "model_module": "@jupyter-widgets/base",
          "model_name": "LayoutModel",
          "model_module_version": "1.2.0",
          "state": {
            "_model_module": "@jupyter-widgets/base",
            "_model_module_version": "1.2.0",
            "_model_name": "LayoutModel",
            "_view_count": null,
            "_view_module": "@jupyter-widgets/base",
            "_view_module_version": "1.2.0",
            "_view_name": "LayoutView",
            "align_content": null,
            "align_items": null,
            "align_self": null,
            "border": null,
            "bottom": null,
            "display": null,
            "flex": null,
            "flex_flow": null,
            "grid_area": null,
            "grid_auto_columns": null,
            "grid_auto_flow": null,
            "grid_auto_rows": null,
            "grid_column": null,
            "grid_gap": null,
            "grid_row": null,
            "grid_template_areas": null,
            "grid_template_columns": null,
            "grid_template_rows": null,
            "height": null,
            "justify_content": null,
            "justify_items": null,
            "left": null,
            "margin": null,
            "max_height": null,
            "max_width": null,
            "min_height": null,
            "min_width": null,
            "object_fit": null,
            "object_position": null,
            "order": null,
            "overflow": null,
            "overflow_x": null,
            "overflow_y": null,
            "padding": null,
            "right": null,
            "top": null,
            "visibility": null,
            "width": null
          }
        },
        "b6debf4e85fe48a6a138280f3e6df5fd": {
          "model_module": "@jupyter-widgets/base",
          "model_name": "LayoutModel",
          "model_module_version": "1.2.0",
          "state": {
            "_model_module": "@jupyter-widgets/base",
            "_model_module_version": "1.2.0",
            "_model_name": "LayoutModel",
            "_view_count": null,
            "_view_module": "@jupyter-widgets/base",
            "_view_module_version": "1.2.0",
            "_view_name": "LayoutView",
            "align_content": null,
            "align_items": null,
            "align_self": null,
            "border": null,
            "bottom": null,
            "display": null,
            "flex": null,
            "flex_flow": null,
            "grid_area": null,
            "grid_auto_columns": null,
            "grid_auto_flow": null,
            "grid_auto_rows": null,
            "grid_column": null,
            "grid_gap": null,
            "grid_row": null,
            "grid_template_areas": null,
            "grid_template_columns": null,
            "grid_template_rows": null,
            "height": null,
            "justify_content": null,
            "justify_items": null,
            "left": null,
            "margin": null,
            "max_height": null,
            "max_width": null,
            "min_height": null,
            "min_width": null,
            "object_fit": null,
            "object_position": null,
            "order": null,
            "overflow": null,
            "overflow_x": null,
            "overflow_y": null,
            "padding": null,
            "right": null,
            "top": null,
            "visibility": null,
            "width": null
          }
        },
        "0719b648ec2a4e0c994f8fd16ec6aec0": {
          "model_module": "@jupyter-widgets/controls",
          "model_name": "DescriptionStyleModel",
          "model_module_version": "1.5.0",
          "state": {
            "_model_module": "@jupyter-widgets/controls",
            "_model_module_version": "1.5.0",
            "_model_name": "DescriptionStyleModel",
            "_view_count": null,
            "_view_module": "@jupyter-widgets/base",
            "_view_module_version": "1.2.0",
            "_view_name": "StyleView",
            "description_width": ""
          }
        },
        "a78a067a202f4a9bbda9a441231cae76": {
          "model_module": "@jupyter-widgets/base",
          "model_name": "LayoutModel",
          "model_module_version": "1.2.0",
          "state": {
            "_model_module": "@jupyter-widgets/base",
            "_model_module_version": "1.2.0",
            "_model_name": "LayoutModel",
            "_view_count": null,
            "_view_module": "@jupyter-widgets/base",
            "_view_module_version": "1.2.0",
            "_view_name": "LayoutView",
            "align_content": null,
            "align_items": null,
            "align_self": null,
            "border": null,
            "bottom": null,
            "display": null,
            "flex": null,
            "flex_flow": null,
            "grid_area": null,
            "grid_auto_columns": null,
            "grid_auto_flow": null,
            "grid_auto_rows": null,
            "grid_column": null,
            "grid_gap": null,
            "grid_row": null,
            "grid_template_areas": null,
            "grid_template_columns": null,
            "grid_template_rows": null,
            "height": null,
            "justify_content": null,
            "justify_items": null,
            "left": null,
            "margin": null,
            "max_height": null,
            "max_width": null,
            "min_height": null,
            "min_width": null,
            "object_fit": null,
            "object_position": null,
            "order": null,
            "overflow": null,
            "overflow_x": null,
            "overflow_y": null,
            "padding": null,
            "right": null,
            "top": null,
            "visibility": null,
            "width": null
          }
        },
        "c2d4970de60d439196bfc30236a62a9d": {
          "model_module": "@jupyter-widgets/controls",
          "model_name": "ProgressStyleModel",
          "model_module_version": "1.5.0",
          "state": {
            "_model_module": "@jupyter-widgets/controls",
            "_model_module_version": "1.5.0",
            "_model_name": "ProgressStyleModel",
            "_view_count": null,
            "_view_module": "@jupyter-widgets/base",
            "_view_module_version": "1.2.0",
            "_view_name": "StyleView",
            "bar_color": null,
            "description_width": ""
          }
        },
        "55b6a2d92ae74aab931ce74c52ee2e52": {
          "model_module": "@jupyter-widgets/base",
          "model_name": "LayoutModel",
          "model_module_version": "1.2.0",
          "state": {
            "_model_module": "@jupyter-widgets/base",
            "_model_module_version": "1.2.0",
            "_model_name": "LayoutModel",
            "_view_count": null,
            "_view_module": "@jupyter-widgets/base",
            "_view_module_version": "1.2.0",
            "_view_name": "LayoutView",
            "align_content": null,
            "align_items": null,
            "align_self": null,
            "border": null,
            "bottom": null,
            "display": null,
            "flex": null,
            "flex_flow": null,
            "grid_area": null,
            "grid_auto_columns": null,
            "grid_auto_flow": null,
            "grid_auto_rows": null,
            "grid_column": null,
            "grid_gap": null,
            "grid_row": null,
            "grid_template_areas": null,
            "grid_template_columns": null,
            "grid_template_rows": null,
            "height": null,
            "justify_content": null,
            "justify_items": null,
            "left": null,
            "margin": null,
            "max_height": null,
            "max_width": null,
            "min_height": null,
            "min_width": null,
            "object_fit": null,
            "object_position": null,
            "order": null,
            "overflow": null,
            "overflow_x": null,
            "overflow_y": null,
            "padding": null,
            "right": null,
            "top": null,
            "visibility": null,
            "width": null
          }
        },
        "2bd90f7777c34120b544890dea74b06c": {
          "model_module": "@jupyter-widgets/controls",
          "model_name": "DescriptionStyleModel",
          "model_module_version": "1.5.0",
          "state": {
            "_model_module": "@jupyter-widgets/controls",
            "_model_module_version": "1.5.0",
            "_model_name": "DescriptionStyleModel",
            "_view_count": null,
            "_view_module": "@jupyter-widgets/base",
            "_view_module_version": "1.2.0",
            "_view_name": "StyleView",
            "description_width": ""
          }
        },
        "35b8c77268704070839951334f3bf58c": {
          "model_module": "@jupyter-widgets/controls",
          "model_name": "HBoxModel",
          "model_module_version": "1.5.0",
          "state": {
            "_dom_classes": [],
            "_model_module": "@jupyter-widgets/controls",
            "_model_module_version": "1.5.0",
            "_model_name": "HBoxModel",
            "_view_count": null,
            "_view_module": "@jupyter-widgets/controls",
            "_view_module_version": "1.5.0",
            "_view_name": "HBoxView",
            "box_style": "",
            "children": [
              "IPY_MODEL_fe640d2ca7dd4bff82a52fafedb30c00",
              "IPY_MODEL_b5dbd76cb0fe48b289edd817e9c5d4e9",
              "IPY_MODEL_cc7653e5d1e94c059f503f64ba7d4659"
            ],
            "layout": "IPY_MODEL_242b3760d5b940b586ae12fa0de72382"
          }
        },
        "fe640d2ca7dd4bff82a52fafedb30c00": {
          "model_module": "@jupyter-widgets/controls",
          "model_name": "HTMLModel",
          "model_module_version": "1.5.0",
          "state": {
            "_dom_classes": [],
            "_model_module": "@jupyter-widgets/controls",
            "_model_module_version": "1.5.0",
            "_model_name": "HTMLModel",
            "_view_count": null,
            "_view_module": "@jupyter-widgets/controls",
            "_view_module_version": "1.5.0",
            "_view_name": "HTMLView",
            "description": "",
            "description_tooltip": null,
            "layout": "IPY_MODEL_d4f6e2dcfe0647e09363f92bfe47c164",
            "placeholder": "​",
            "style": "IPY_MODEL_08910e508f3342edaecd5a59d53e8e71",
            "value": "Downloading pytorch_model.bin: 100%"
          }
        },
        "b5dbd76cb0fe48b289edd817e9c5d4e9": {
          "model_module": "@jupyter-widgets/controls",
          "model_name": "FloatProgressModel",
          "model_module_version": "1.5.0",
          "state": {
            "_dom_classes": [],
            "_model_module": "@jupyter-widgets/controls",
            "_model_module_version": "1.5.0",
            "_model_name": "FloatProgressModel",
            "_view_count": null,
            "_view_module": "@jupyter-widgets/controls",
            "_view_module_version": "1.5.0",
            "_view_name": "ProgressView",
            "bar_style": "success",
            "description": "",
            "description_tooltip": null,
            "layout": "IPY_MODEL_b10e2d6f55fb4cfe9300d3324868c39e",
            "max": 2329735129,
            "min": 0,
            "orientation": "horizontal",
            "style": "IPY_MODEL_b682d2344a464d0abde6d34785ba6419",
            "value": 2329735129
          }
        },
        "cc7653e5d1e94c059f503f64ba7d4659": {
          "model_module": "@jupyter-widgets/controls",
          "model_name": "HTMLModel",
          "model_module_version": "1.5.0",
          "state": {
            "_dom_classes": [],
            "_model_module": "@jupyter-widgets/controls",
            "_model_module_version": "1.5.0",
            "_model_name": "HTMLModel",
            "_view_count": null,
            "_view_module": "@jupyter-widgets/controls",
            "_view_module_version": "1.5.0",
            "_view_name": "HTMLView",
            "description": "",
            "description_tooltip": null,
            "layout": "IPY_MODEL_cd00d7282cbd4f6e8e9d8e5211046b98",
            "placeholder": "​",
            "style": "IPY_MODEL_5a1176a369584e4e802406eb213a0dd5",
            "value": " 2.33G/2.33G [00:13&lt;00:00, 235MB/s]"
          }
        },
        "242b3760d5b940b586ae12fa0de72382": {
          "model_module": "@jupyter-widgets/base",
          "model_name": "LayoutModel",
          "model_module_version": "1.2.0",
          "state": {
            "_model_module": "@jupyter-widgets/base",
            "_model_module_version": "1.2.0",
            "_model_name": "LayoutModel",
            "_view_count": null,
            "_view_module": "@jupyter-widgets/base",
            "_view_module_version": "1.2.0",
            "_view_name": "LayoutView",
            "align_content": null,
            "align_items": null,
            "align_self": null,
            "border": null,
            "bottom": null,
            "display": null,
            "flex": null,
            "flex_flow": null,
            "grid_area": null,
            "grid_auto_columns": null,
            "grid_auto_flow": null,
            "grid_auto_rows": null,
            "grid_column": null,
            "grid_gap": null,
            "grid_row": null,
            "grid_template_areas": null,
            "grid_template_columns": null,
            "grid_template_rows": null,
            "height": null,
            "justify_content": null,
            "justify_items": null,
            "left": null,
            "margin": null,
            "max_height": null,
            "max_width": null,
            "min_height": null,
            "min_width": null,
            "object_fit": null,
            "object_position": null,
            "order": null,
            "overflow": null,
            "overflow_x": null,
            "overflow_y": null,
            "padding": null,
            "right": null,
            "top": null,
            "visibility": null,
            "width": null
          }
        },
        "d4f6e2dcfe0647e09363f92bfe47c164": {
          "model_module": "@jupyter-widgets/base",
          "model_name": "LayoutModel",
          "model_module_version": "1.2.0",
          "state": {
            "_model_module": "@jupyter-widgets/base",
            "_model_module_version": "1.2.0",
            "_model_name": "LayoutModel",
            "_view_count": null,
            "_view_module": "@jupyter-widgets/base",
            "_view_module_version": "1.2.0",
            "_view_name": "LayoutView",
            "align_content": null,
            "align_items": null,
            "align_self": null,
            "border": null,
            "bottom": null,
            "display": null,
            "flex": null,
            "flex_flow": null,
            "grid_area": null,
            "grid_auto_columns": null,
            "grid_auto_flow": null,
            "grid_auto_rows": null,
            "grid_column": null,
            "grid_gap": null,
            "grid_row": null,
            "grid_template_areas": null,
            "grid_template_columns": null,
            "grid_template_rows": null,
            "height": null,
            "justify_content": null,
            "justify_items": null,
            "left": null,
            "margin": null,
            "max_height": null,
            "max_width": null,
            "min_height": null,
            "min_width": null,
            "object_fit": null,
            "object_position": null,
            "order": null,
            "overflow": null,
            "overflow_x": null,
            "overflow_y": null,
            "padding": null,
            "right": null,
            "top": null,
            "visibility": null,
            "width": null
          }
        },
        "08910e508f3342edaecd5a59d53e8e71": {
          "model_module": "@jupyter-widgets/controls",
          "model_name": "DescriptionStyleModel",
          "model_module_version": "1.5.0",
          "state": {
            "_model_module": "@jupyter-widgets/controls",
            "_model_module_version": "1.5.0",
            "_model_name": "DescriptionStyleModel",
            "_view_count": null,
            "_view_module": "@jupyter-widgets/base",
            "_view_module_version": "1.2.0",
            "_view_name": "StyleView",
            "description_width": ""
          }
        },
        "b10e2d6f55fb4cfe9300d3324868c39e": {
          "model_module": "@jupyter-widgets/base",
          "model_name": "LayoutModel",
          "model_module_version": "1.2.0",
          "state": {
            "_model_module": "@jupyter-widgets/base",
            "_model_module_version": "1.2.0",
            "_model_name": "LayoutModel",
            "_view_count": null,
            "_view_module": "@jupyter-widgets/base",
            "_view_module_version": "1.2.0",
            "_view_name": "LayoutView",
            "align_content": null,
            "align_items": null,
            "align_self": null,
            "border": null,
            "bottom": null,
            "display": null,
            "flex": null,
            "flex_flow": null,
            "grid_area": null,
            "grid_auto_columns": null,
            "grid_auto_flow": null,
            "grid_auto_rows": null,
            "grid_column": null,
            "grid_gap": null,
            "grid_row": null,
            "grid_template_areas": null,
            "grid_template_columns": null,
            "grid_template_rows": null,
            "height": null,
            "justify_content": null,
            "justify_items": null,
            "left": null,
            "margin": null,
            "max_height": null,
            "max_width": null,
            "min_height": null,
            "min_width": null,
            "object_fit": null,
            "object_position": null,
            "order": null,
            "overflow": null,
            "overflow_x": null,
            "overflow_y": null,
            "padding": null,
            "right": null,
            "top": null,
            "visibility": null,
            "width": null
          }
        },
        "b682d2344a464d0abde6d34785ba6419": {
          "model_module": "@jupyter-widgets/controls",
          "model_name": "ProgressStyleModel",
          "model_module_version": "1.5.0",
          "state": {
            "_model_module": "@jupyter-widgets/controls",
            "_model_module_version": "1.5.0",
            "_model_name": "ProgressStyleModel",
            "_view_count": null,
            "_view_module": "@jupyter-widgets/base",
            "_view_module_version": "1.2.0",
            "_view_name": "StyleView",
            "bar_color": null,
            "description_width": ""
          }
        },
        "cd00d7282cbd4f6e8e9d8e5211046b98": {
          "model_module": "@jupyter-widgets/base",
          "model_name": "LayoutModel",
          "model_module_version": "1.2.0",
          "state": {
            "_model_module": "@jupyter-widgets/base",
            "_model_module_version": "1.2.0",
            "_model_name": "LayoutModel",
            "_view_count": null,
            "_view_module": "@jupyter-widgets/base",
            "_view_module_version": "1.2.0",
            "_view_name": "LayoutView",
            "align_content": null,
            "align_items": null,
            "align_self": null,
            "border": null,
            "bottom": null,
            "display": null,
            "flex": null,
            "flex_flow": null,
            "grid_area": null,
            "grid_auto_columns": null,
            "grid_auto_flow": null,
            "grid_auto_rows": null,
            "grid_column": null,
            "grid_gap": null,
            "grid_row": null,
            "grid_template_areas": null,
            "grid_template_columns": null,
            "grid_template_rows": null,
            "height": null,
            "justify_content": null,
            "justify_items": null,
            "left": null,
            "margin": null,
            "max_height": null,
            "max_width": null,
            "min_height": null,
            "min_width": null,
            "object_fit": null,
            "object_position": null,
            "order": null,
            "overflow": null,
            "overflow_x": null,
            "overflow_y": null,
            "padding": null,
            "right": null,
            "top": null,
            "visibility": null,
            "width": null
          }
        },
        "5a1176a369584e4e802406eb213a0dd5": {
          "model_module": "@jupyter-widgets/controls",
          "model_name": "DescriptionStyleModel",
          "model_module_version": "1.5.0",
          "state": {
            "_model_module": "@jupyter-widgets/controls",
            "_model_module_version": "1.5.0",
            "_model_name": "DescriptionStyleModel",
            "_view_count": null,
            "_view_module": "@jupyter-widgets/base",
            "_view_module_version": "1.2.0",
            "_view_name": "StyleView",
            "description_width": ""
          }
        },
        "38b43d17c0d143b4a8a89f3b48f3321a": {
          "model_module": "@jupyter-widgets/controls",
          "model_name": "HBoxModel",
          "model_module_version": "1.5.0",
          "state": {
            "_dom_classes": [],
            "_model_module": "@jupyter-widgets/controls",
            "_model_module_version": "1.5.0",
            "_model_name": "HBoxModel",
            "_view_count": null,
            "_view_module": "@jupyter-widgets/controls",
            "_view_module_version": "1.5.0",
            "_view_name": "HBoxView",
            "box_style": "",
            "children": [
              "IPY_MODEL_88369abc54824af1a3041e223abda284",
              "IPY_MODEL_dac53c30f4664fc1871fbb29cb5ff77f",
              "IPY_MODEL_2e1d9884190b40dda804ef8bd73a9656"
            ],
            "layout": "IPY_MODEL_f6b5a3aeb4cb448e99d72060e153cca3"
          }
        },
        "88369abc54824af1a3041e223abda284": {
          "model_module": "@jupyter-widgets/controls",
          "model_name": "HTMLModel",
          "model_module_version": "1.5.0",
          "state": {
            "_dom_classes": [],
            "_model_module": "@jupyter-widgets/controls",
            "_model_module_version": "1.5.0",
            "_model_name": "HTMLModel",
            "_view_count": null,
            "_view_module": "@jupyter-widgets/controls",
            "_view_module_version": "1.5.0",
            "_view_name": "HTMLView",
            "description": "",
            "description_tooltip": null,
            "layout": "IPY_MODEL_29a8e097721d4fbca111e642f7492c72",
            "placeholder": "​",
            "style": "IPY_MODEL_9235331c39854719ae454f8f366cad95",
            "value": "Downloading (…)neration_config.json: 100%"
          }
        },
        "dac53c30f4664fc1871fbb29cb5ff77f": {
          "model_module": "@jupyter-widgets/controls",
          "model_name": "FloatProgressModel",
          "model_module_version": "1.5.0",
          "state": {
            "_dom_classes": [],
            "_model_module": "@jupyter-widgets/controls",
            "_model_module_version": "1.5.0",
            "_model_name": "FloatProgressModel",
            "_view_count": null,
            "_view_module": "@jupyter-widgets/controls",
            "_view_module_version": "1.5.0",
            "_view_name": "ProgressView",
            "bar_style": "success",
            "description": "",
            "description_tooltip": null,
            "layout": "IPY_MODEL_0f2c27aa2265494ebd684686755957d2",
            "max": 147,
            "min": 0,
            "orientation": "horizontal",
            "style": "IPY_MODEL_6542f341eb4d4972b5f9aaf349244389",
            "value": 147
          }
        },
        "2e1d9884190b40dda804ef8bd73a9656": {
          "model_module": "@jupyter-widgets/controls",
          "model_name": "HTMLModel",
          "model_module_version": "1.5.0",
          "state": {
            "_dom_classes": [],
            "_model_module": "@jupyter-widgets/controls",
            "_model_module_version": "1.5.0",
            "_model_name": "HTMLModel",
            "_view_count": null,
            "_view_module": "@jupyter-widgets/controls",
            "_view_module_version": "1.5.0",
            "_view_name": "HTMLView",
            "description": "",
            "description_tooltip": null,
            "layout": "IPY_MODEL_907c3020744c4863b6cd39eee249e5ae",
            "placeholder": "​",
            "style": "IPY_MODEL_f09ce1b1d0324e63b9d46eb9bdbbe910",
            "value": " 147/147 [00:00&lt;00:00, 5.97kB/s]"
          }
        },
        "f6b5a3aeb4cb448e99d72060e153cca3": {
          "model_module": "@jupyter-widgets/base",
          "model_name": "LayoutModel",
          "model_module_version": "1.2.0",
          "state": {
            "_model_module": "@jupyter-widgets/base",
            "_model_module_version": "1.2.0",
            "_model_name": "LayoutModel",
            "_view_count": null,
            "_view_module": "@jupyter-widgets/base",
            "_view_module_version": "1.2.0",
            "_view_name": "LayoutView",
            "align_content": null,
            "align_items": null,
            "align_self": null,
            "border": null,
            "bottom": null,
            "display": null,
            "flex": null,
            "flex_flow": null,
            "grid_area": null,
            "grid_auto_columns": null,
            "grid_auto_flow": null,
            "grid_auto_rows": null,
            "grid_column": null,
            "grid_gap": null,
            "grid_row": null,
            "grid_template_areas": null,
            "grid_template_columns": null,
            "grid_template_rows": null,
            "height": null,
            "justify_content": null,
            "justify_items": null,
            "left": null,
            "margin": null,
            "max_height": null,
            "max_width": null,
            "min_height": null,
            "min_width": null,
            "object_fit": null,
            "object_position": null,
            "order": null,
            "overflow": null,
            "overflow_x": null,
            "overflow_y": null,
            "padding": null,
            "right": null,
            "top": null,
            "visibility": null,
            "width": null
          }
        },
        "29a8e097721d4fbca111e642f7492c72": {
          "model_module": "@jupyter-widgets/base",
          "model_name": "LayoutModel",
          "model_module_version": "1.2.0",
          "state": {
            "_model_module": "@jupyter-widgets/base",
            "_model_module_version": "1.2.0",
            "_model_name": "LayoutModel",
            "_view_count": null,
            "_view_module": "@jupyter-widgets/base",
            "_view_module_version": "1.2.0",
            "_view_name": "LayoutView",
            "align_content": null,
            "align_items": null,
            "align_self": null,
            "border": null,
            "bottom": null,
            "display": null,
            "flex": null,
            "flex_flow": null,
            "grid_area": null,
            "grid_auto_columns": null,
            "grid_auto_flow": null,
            "grid_auto_rows": null,
            "grid_column": null,
            "grid_gap": null,
            "grid_row": null,
            "grid_template_areas": null,
            "grid_template_columns": null,
            "grid_template_rows": null,
            "height": null,
            "justify_content": null,
            "justify_items": null,
            "left": null,
            "margin": null,
            "max_height": null,
            "max_width": null,
            "min_height": null,
            "min_width": null,
            "object_fit": null,
            "object_position": null,
            "order": null,
            "overflow": null,
            "overflow_x": null,
            "overflow_y": null,
            "padding": null,
            "right": null,
            "top": null,
            "visibility": null,
            "width": null
          }
        },
        "9235331c39854719ae454f8f366cad95": {
          "model_module": "@jupyter-widgets/controls",
          "model_name": "DescriptionStyleModel",
          "model_module_version": "1.5.0",
          "state": {
            "_model_module": "@jupyter-widgets/controls",
            "_model_module_version": "1.5.0",
            "_model_name": "DescriptionStyleModel",
            "_view_count": null,
            "_view_module": "@jupyter-widgets/base",
            "_view_module_version": "1.2.0",
            "_view_name": "StyleView",
            "description_width": ""
          }
        },
        "0f2c27aa2265494ebd684686755957d2": {
          "model_module": "@jupyter-widgets/base",
          "model_name": "LayoutModel",
          "model_module_version": "1.2.0",
          "state": {
            "_model_module": "@jupyter-widgets/base",
            "_model_module_version": "1.2.0",
            "_model_name": "LayoutModel",
            "_view_count": null,
            "_view_module": "@jupyter-widgets/base",
            "_view_module_version": "1.2.0",
            "_view_name": "LayoutView",
            "align_content": null,
            "align_items": null,
            "align_self": null,
            "border": null,
            "bottom": null,
            "display": null,
            "flex": null,
            "flex_flow": null,
            "grid_area": null,
            "grid_auto_columns": null,
            "grid_auto_flow": null,
            "grid_auto_rows": null,
            "grid_column": null,
            "grid_gap": null,
            "grid_row": null,
            "grid_template_areas": null,
            "grid_template_columns": null,
            "grid_template_rows": null,
            "height": null,
            "justify_content": null,
            "justify_items": null,
            "left": null,
            "margin": null,
            "max_height": null,
            "max_width": null,
            "min_height": null,
            "min_width": null,
            "object_fit": null,
            "object_position": null,
            "order": null,
            "overflow": null,
            "overflow_x": null,
            "overflow_y": null,
            "padding": null,
            "right": null,
            "top": null,
            "visibility": null,
            "width": null
          }
        },
        "6542f341eb4d4972b5f9aaf349244389": {
          "model_module": "@jupyter-widgets/controls",
          "model_name": "ProgressStyleModel",
          "model_module_version": "1.5.0",
          "state": {
            "_model_module": "@jupyter-widgets/controls",
            "_model_module_version": "1.5.0",
            "_model_name": "ProgressStyleModel",
            "_view_count": null,
            "_view_module": "@jupyter-widgets/base",
            "_view_module_version": "1.2.0",
            "_view_name": "StyleView",
            "bar_color": null,
            "description_width": ""
          }
        },
        "907c3020744c4863b6cd39eee249e5ae": {
          "model_module": "@jupyter-widgets/base",
          "model_name": "LayoutModel",
          "model_module_version": "1.2.0",
          "state": {
            "_model_module": "@jupyter-widgets/base",
            "_model_module_version": "1.2.0",
            "_model_name": "LayoutModel",
            "_view_count": null,
            "_view_module": "@jupyter-widgets/base",
            "_view_module_version": "1.2.0",
            "_view_name": "LayoutView",
            "align_content": null,
            "align_items": null,
            "align_self": null,
            "border": null,
            "bottom": null,
            "display": null,
            "flex": null,
            "flex_flow": null,
            "grid_area": null,
            "grid_auto_columns": null,
            "grid_auto_flow": null,
            "grid_auto_rows": null,
            "grid_column": null,
            "grid_gap": null,
            "grid_row": null,
            "grid_template_areas": null,
            "grid_template_columns": null,
            "grid_template_rows": null,
            "height": null,
            "justify_content": null,
            "justify_items": null,
            "left": null,
            "margin": null,
            "max_height": null,
            "max_width": null,
            "min_height": null,
            "min_width": null,
            "object_fit": null,
            "object_position": null,
            "order": null,
            "overflow": null,
            "overflow_x": null,
            "overflow_y": null,
            "padding": null,
            "right": null,
            "top": null,
            "visibility": null,
            "width": null
          }
        },
        "f09ce1b1d0324e63b9d46eb9bdbbe910": {
          "model_module": "@jupyter-widgets/controls",
          "model_name": "DescriptionStyleModel",
          "model_module_version": "1.5.0",
          "state": {
            "_model_module": "@jupyter-widgets/controls",
            "_model_module_version": "1.5.0",
            "_model_name": "DescriptionStyleModel",
            "_view_count": null,
            "_view_module": "@jupyter-widgets/base",
            "_view_module_version": "1.2.0",
            "_view_name": "StyleView",
            "description_width": ""
          }
        }
      }
    }
  },
  "cells": [
    {
      "cell_type": "code",
      "execution_count": 1,
      "metadata": {
        "id": "yzQ4wLTONaE3"
      },
      "outputs": [],
      "source": [
        "import random\n",
        "import json\n",
        "import pickle\n",
        "import numpy as np\n",
        "import pandas as pd\n",
        "import tensorflow as tf\n",
        "import keras\n",
        "import nltk "
      ]
    },
    {
      "cell_type": "code",
      "source": [
        "nltk.download('punkt')"
      ],
      "metadata": {
        "colab": {
          "base_uri": "https://localhost:8080/"
        },
        "id": "mdvevYpIOGxy",
        "outputId": "32437ebf-72bf-48c8-c565-5d3415e8b63b"
      },
      "execution_count": 2,
      "outputs": [
        {
          "output_type": "stream",
          "name": "stderr",
          "text": [
            "[nltk_data] Downloading package punkt to /root/nltk_data...\n",
            "[nltk_data]   Unzipping tokenizers/punkt.zip.\n"
          ]
        },
        {
          "output_type": "execute_result",
          "data": {
            "text/plain": [
              "True"
            ]
          },
          "metadata": {},
          "execution_count": 2
        }
      ]
    },
    {
      "cell_type": "code",
      "source": [
        "intents = json.loads(open('intents.json').read())"
      ],
      "metadata": {
        "id": "1iHvB3T9NoBE"
      },
      "execution_count": 3,
      "outputs": []
    },
    {
      "cell_type": "code",
      "source": [
        "words = []\n",
        "classes = []\n",
        "documents = []\n",
        "ignore_letters = ['?', '!', '.', ',']\n",
        "\n",
        "for intent in intents['intents']:\n",
        "    for pattern in intent['patterns']:\n",
        "        word_list = nltk.word_tokenize(pattern)\n",
        "        words.extend(word_list)\n",
        "        documents.append((word_list, intent['tag']))\n",
        "        if intent['tag'] not in classes:\n",
        "            classes.append(intent['tag'])"
      ],
      "metadata": {
        "id": "ovsWTyfsN7q-"
      },
      "execution_count": 4,
      "outputs": []
    },
    {
      "cell_type": "code",
      "source": [
        "words = [word for word in words if word not in ignore_letters]\n",
        "words = sorted(set(words))\n",
        "classes = sorted(set(classes))"
      ],
      "metadata": {
        "id": "Z44kMlr6N-up"
      },
      "execution_count": 5,
      "outputs": []
    },
    {
      "cell_type": "markdown",
      "source": [
        "### **Calculate X**"
      ],
      "metadata": {
        "id": "kivdetWj9Kmz"
      }
    },
    {
      "cell_type": "code",
      "source": [
        "question = []\n",
        "for doc in intents['intents']:\n",
        "  question.append(doc['patterns'])"
      ],
      "metadata": {
        "id": "qJUeBaAJvNkW"
      },
      "execution_count": 6,
      "outputs": []
    },
    {
      "cell_type": "code",
      "source": [
        "question_list = []\n",
        "arr = [[question_list.append(x) for x in q] for q in question]"
      ],
      "metadata": {
        "id": "uN-OnVdxx9pL"
      },
      "execution_count": 7,
      "outputs": []
    },
    {
      "cell_type": "code",
      "source": [
        "question_list"
      ],
      "metadata": {
        "colab": {
          "base_uri": "https://localhost:8080/"
        },
        "id": "jQkLNc-n6hZR",
        "outputId": "a88081cd-6eef-454e-c6b5-6c958d2d6b28"
      },
      "execution_count": 8,
      "outputs": [
        {
          "output_type": "execute_result",
          "data": {
            "text/plain": [
              "['Hi there',\n",
              " 'How are you',\n",
              " 'How are you?',\n",
              " 'Is anyone there?',\n",
              " 'Hey',\n",
              " 'Hola',\n",
              " 'Hello',\n",
              " 'Good day',\n",
              " 'Bye',\n",
              " 'See you later',\n",
              " 'Goodbye',\n",
              " 'Nice chatting to you, bye',\n",
              " 'Till next time',\n",
              " 'Thanks',\n",
              " 'Thank you',\n",
              " \"That's helpful\",\n",
              " 'Awesome, thanks',\n",
              " 'Thanks for helping me',\n",
              " 'what is your name',\n",
              " 'what should I call you',\n",
              " 'whats your name?',\n",
              " 'who are you?',\n",
              " 'how old',\n",
              " 'old',\n",
              " 'how old is florian',\n",
              " 'what is your age',\n",
              " 'old are you',\n",
              " 'age?',\n",
              " 'How you could help me?',\n",
              " 'What you can do?',\n",
              " 'What help you provide?',\n",
              " 'How you can be helpful?',\n",
              " 'What support is offered',\n",
              " 'Can a student who has received a temporary certificate of completion be able to return to education?',\n",
              " 'Can a graduate student who has a temporary certificate return to study?',\n",
              " 'Can a graduate associate who has a temporary certificate return to study?',\n",
              " \"What is the email address of the university's educational administration?\",\n",
              " \"What is the university's educational management email?\",\n",
              " 'Educational management email',\n",
              " 'University educational management email',\n",
              " 'How can scholarship graduates of the Ministry of Science receive a temporary certificate?',\n",
              " 'How to get the temporary certificate of scholarship graduates of the Ministry of Science',\n",
              " 'How can graduates of the scholarship of the Ministry of Science receive a temporary certificate?',\n",
              " 'What is in the temporary certificate of completion of education?',\n",
              " 'Obligations of temporary certificate of completion of education',\n",
              " 'What are the obligations included in the temporary certificate of graduation?',\n",
              " 'What are the obligations mentioned in the temporary certificate of graduation?',\n",
              " 'What are the obligations raised in the temporary certificate of graduation?',\n",
              " 'How long is the validity of the temporary certificate of graduation?',\n",
              " 'Validity of temporary certificate of completion of education',\n",
              " 'Temporary certificate validity',\n",
              " 'The validity of the temporary certificate of completion of education',\n",
              " 'How valid is the temporary certificate of graduation?',\n",
              " 'How can we get a degree if we have a loan after graduation?',\n",
              " 'How can we get a degree if we still have loans after graduation?',\n",
              " 'How can we get a degree if our student loan continues after graduation?',\n",
              " 'Can those committed to serving the bodies, organizations, especially education, receive their degrees?',\n",
              " 'Can those committed to serving organizations receive their certificates?',\n",
              " 'Can those committed to serving the departments receive their certificates?',\n",
              " 'Can a person who has an obligation to serve the departments receive her certificate?',\n",
              " 'Can a person who has an obligation to serve the departments receive his certificate?',\n",
              " 'What kind of degree do graduates who are committed to serving education receive after graduation?',\n",
              " 'What kind of degree do graduates committed to education receive after graduation?',\n",
              " 'What is the degree of graduates committed to education?',\n",
              " 'What is the type of degree of graduates committed to serving education',\n",
              " 'can the students receive educational approval for their degree of education ?',\n",
              " 'Can graduates get academic approval for their degree?',\n",
              " 'Do graduates receive academic approval for their degree?',\n",
              " 'What are the conditions for obtaining a temporary associate degree certificate?',\n",
              " 'Conditions for obtaining a temporary associate certificate',\n",
              " 'Conditions for obtaining a temporary certificate of inter-sectional associate degree',\n",
              " 'What are the conditions for obtaining a duplicate temporary certificate in case of missing temporary certificate',\n",
              " 'Conditions for obtaining a duplicate temporary certificate',\n",
              " 'Duplicate temporary certificate',\n",
              " 'How to get a duplicate temporary certificate',\n",
              " 'Although the temporary certificate is lost, how to get a duplicate temporary certificate',\n",
              " 'If the temporary certificate is lost, how to get a duplicate temporary certificate',\n",
              " 'How to get a temporary certificate of graduation?',\n",
              " 'How to get a temporary certificate',\n",
              " 'How to get a temporary certificate of completion of education',\n",
              " 'Can people other than the educated person receive his degree',\n",
              " \"Can someone else receive the student's degree?\",\n",
              " \"Can any of the student's relatives receive the degree?\",\n",
              " 'Except for a private student, she can receive her degree',\n",
              " 'Except for a private student, he can receive his degree',\n",
              " 'What are the conditions for obtaining a temporary certificate for male graduates',\n",
              " 'What are the conditions for receiving a temporary certificate for male graduates?',\n",
              " 'Conditions for receiving temporary certificate for male students',\n",
              " 'What degree is given to a graduate subject to the conscription system after graduation',\n",
              " 'What degree is given to the graduates subject to the conscription system after graduation?',\n",
              " 'What degree is given to eligible graduates after graduation?',\n",
              " 'What actions should be taken to receive a temporary certificate of graduation',\n",
              " 'What should be done to get a temporary certificate of graduation?',\n",
              " 'Necessary measures to obtain a temporary certificate of completion of education',\n",
              " 'Procedures for obtaining a temporary certificate of completion of education',\n",
              " 'What are the necessary documents to receive a copy of the encyclopedia?',\n",
              " 'Necessary documents of Duplicate Encyclopedia',\n",
              " 'Documents required for a copy of the encyclopedia',\n",
              " 'Necessary documents of a copy of the encyclopedia',\n",
              " 'How can male graduates receive their academic encyclopedias and transcripts?',\n",
              " 'Under what conditions can male graduates receive their academic encyclopedia and transcripts?',\n",
              " 'What are the documents required to issue academic certificates and certified transcripts?',\n",
              " 'What documents are needed to issue an educational encyclopedia?',\n",
              " 'What documents are needed to issue approved transcripts?',\n",
              " 'What is academic encyclopedia?',\n",
              " 'About academic encyclopedia',\n",
              " 'Educational encyclopedia',\n",
              " 'Can the committed people of the executive bodies or the scholarship use the provided service history to cancel the obligation of the scholarship to fulfill the obligations of providing free education?',\n",
              " 'Can people who are committed to executive bodies or scholarships use the service history provided to cancel the commitment of the scholarship to fulfill the obligations of free education service?',\n",
              " 'Can the committed people of the executive bodies use the provided service history to cancel the obligation of the exchange to fulfill the obligations of providing free education?',\n",
              " 'What documents should scholarship students submit to release their degree?',\n",
              " 'Required documents to release the degree of scholarship students?',\n",
              " 'What documents must scholarship students provide to be able to release their degree?',\n",
              " 'What are the conditions for canceling the commitment of free education for scholarship students?',\n",
              " 'Canceling the obligation of free education for scholarship students',\n",
              " 'Name the methods of canceling the obligation of free education?',\n",
              " 'What are the conditions for canceling the obligation of free education?',\n",
              " 'People who have studied at several levels of education should apply from which level in order to fulfill their service obligation?',\n",
              " 'People who have graduated from several levels should apply from which level to commit to their service?',\n",
              " 'A person who has graduated from several courses should apply from which course to commit to her service?',\n",
              " 'A person who has graduated from several courses should apply from which course to commit to his service?',\n",
              " 'Graduates should contact which unit for guidance and information about the semesters and units taken and passed for the cancellation process of the Sajjad system?',\n",
              " 'For guidance and information about the semesters and units taken and passed for the cancellation process of the Sajjad system, where should the students follow up with?',\n",
              " 'How to register in Sajjad system?',\n",
              " 'What should we do to register in the Sajjad system?',\n",
              " 'Registration guide in Sajjad system',\n",
              " 'Is the passage of time included in the cancellation of the obligation of free education?',\n",
              " 'Will the commitment of free education be canceled over time?',\n",
              " 'What is the cancellation of the obligation of free education?',\n",
              " 'Cancellation of the obligation of free education',\n",
              " 'Explain the cancellation of the free education obligation',\n",
              " 'How long is the free education commitment period?',\n",
              " 'Free education service commitment time',\n",
              " 'What is the commitment time for free education service?',\n",
              " 'How much is the free education service commitment?',\n",
              " 'For which group of accepted students, the amount of commitment is calculated as one time of the study period?',\n",
              " 'For which group, the obligation is calculated equal to the study period?',\n",
              " 'For which group of admitted students, the amount of commitment is calculated as double the duration of education?',\n",
              " 'Commitment is calculated as double the study period for which group?',\n",
              " 'For which group of admitted students, the amount of commitment is calculated as three times the study period?',\n",
              " 'The commitment is calculated as three times the study period for which group?',\n",
              " 'In which case, the quota graduates of regions 2, 3, 4, and 5 and tribes and governorates can benefit from the privilege of region 1?',\n",
              " 'How can the graduates of regions 2, 3, 4, and 5 and tribes and governorates benefit from the privilege of region 1?',\n",
              " 'How can the graduates of regions 2, 3, 4, and 5 and tribes and governorates benefit from the points of region 1?',\n",
              " 'Can withdrawn and expelled students who are eligible to receive an interdisciplinary associate certificate benefit from this privilege if they meet the requirements of Region 1?',\n",
              " 'Can withdrawn and expelled students eligible to receive an associate certificate if they meet the requirements of Region 1 benefit from this privilege?',\n",
              " 'What semesters are not included in the obligation to serve free education?',\n",
              " 'Which semesters are not included in the obligation to serve free education?',\n",
              " 'What are the semesters that are not included in the obligation to serve free education?',\n",
              " 'How is the commitment period of introduction courses to the professor calculated?',\n",
              " 'How is the commitment time of introduction courses to the professor calculated?',\n",
              " 'How to calculate the commitment time of introduction courses to the professor',\n",
              " 'Are the removed semesters for emergency, medical, etc. calculated during the commitment period of free education service?',\n",
              " 'Are the removed semesters counted in the commitment period of free education service?',\n",
              " 'Are the removed semesters calculated as an emergency during the commitment period of the free education service?',\n",
              " 'Are the removed semesters medically calculated during the commitment period of free education service?',\n",
              " \"How is the obligation to serve the thesis unit in the master's degree calculated?\",\n",
              " \"Obligation to serve the thesis unit in the master's degree\",\n",
              " \"Obligation to serve the thesis in the master's degree\",\n",
              " 'How is the obligation to serve the dissertation unit in the specialized doctorate level calculated?',\n",
              " 'Obligation to serve the dissertation unit in the specialized doctorate level',\n",
              " 'Obligation to serve the thesis in the specialized doctoral level',\n",
              " 'Are the semesters in which doctoral students are busy preparing the thesis (proposal) and the comprehensive exam calculated in the repayment amount of the free education service obligation?',\n",
              " 'Are the semesters in which doctoral students are busy preparing proposals and comprehensive exams counted in the repayment amount of the free education service obligation?',\n",
              " 'Are semesters and units of prerequisite courses counted as part of the free education service obligation?',\n",
              " 'Are semesters and prerequisite courses counted as part of the obligation to provide free education?',\n",
              " 'Are semesters and prerequisite courses considered part of the free education service commitment?',\n",
              " 'Canceling the obligation of free education includes who?',\n",
              " 'Who is included in canceling the commitment of free education?',\n",
              " 'Who does the cancellation of the obligation of free education include?',\n",
              " 'How to cancel the obligation of free education (students of the daily course)?',\n",
              " 'How to cancel the obligation of free education for graduates of the daily course?',\n",
              " 'How to cancel the obligation of free education for daily graduates?',\n",
              " 'Are the graduates and those accepted at night, Payam Noor, non-profit and virtual also obliged to cancel the obligation of education service?',\n",
              " 'Are evening, Payam Noor, non-profit and virtual graduates also obliged to cancel the obligation of education?',\n",
              " 'Are night graduates also obliged to cancel the obligation of education service?',\n",
              " 'Are the graduates of Payam Noor also obliged to cancel the commitment of education service?',\n",
              " 'Are non-profit graduates obliged to cancel the education service obligation?',\n",
              " 'Are evening and virtual graduates also obliged to cancel the obligation of education service?',\n",
              " 'What group of graduates are exempt from the obligation to serve free education?',\n",
              " 'Which graduates are exempt from the obligation to serve free education?',\n",
              " 'The equivalent amount is distributed for which group of students and for how long?',\n",
              " 'For which group of students and until when will the amount equivalent to the commitment be distributed?',\n",
              " 'The amount equivalent to the commitment will be paid in installments for which group of students and for how long',\n",
              " 'What is the way to cancel the commitment by paying the fee?',\n",
              " 'How to cancel the commitment by paying the fee?',\n",
              " 'How to cancel the commitment with a fee?',\n",
              " 'what factors influence the cost of graduates to cancel their commitment with the documents ?( to pay the amount and provide the certificate of doing the work )',\n",
              " 'Factors influencing the cost of graduates to cancel the commitment along with the documents of doing the work',\n",
              " 'How is the cost of canceling the free education obligation calculated?',\n",
              " 'How to calculate the cost of canceling the free education commitment',\n",
              " 'How to calculate the cost of canceling the obligation of free education',\n",
              " 'How can we get certified social security insurance work records (12-digit barcode) from the social security website?',\n",
              " 'How to get verified work records of social security insurance (12-digit barcode) from the social security website',\n",
              " 'Is the period of military service counted as part of the effective function to cancel the obligation?',\n",
              " 'Is the military period counted as part of the effective function to cancel the obligation?',\n",
              " 'Is the military period counted as part of the work to cancel the obligation?',\n",
              " 'In what way is the certificate of completion of work while studying at a higher level accepted for lower levels?',\n",
              " 'The conditions for accepting the certificate of doing work while studying at a higher level for lower levels?',\n",
              " 'Was the simultaneous work experience accepted at the same place for a service commitment?',\n",
              " 'Has the work experience in several places been accepted for service commitment?',\n",
              " 'Is work experience in several places accepted for service commitment?',\n",
              " 'Were the certificates of the work provided to fulfill the service commitment at one point?',\n",
              " 'Are the certificates of work done to fulfill the obligation of service at one stage acceptable for other stages?',\n",
              " 'Have the work certificates for the commitment of service at one stage been acceptable for other stages?',\n",
              " 'When is the time to provide a certificate for each point?',\n",
              " 'The time to submit the work completion certificate for each section',\n",
              " 'Can the graduate pay the lower level commitment and provide the certificate of doing their job for higher levels?',\n",
              " 'Can the student pay the commitment amount of the lower levels and provide a certificate of completion of her work for the higher level?',\n",
              " '',\n",
              " 'What activities have not included insurance records and are acceptable as a trustee to fulfill the obligation?',\n",
              " 'Activities that do not include providing insurance records and are acceptable as valid work to fulfill the obligation?',\n",
              " 'Is it possible to act as a valid task to cancel the obligation if an insurance experience without an insurance history?',\n",
              " 'Did he act to cancel the commitment in case of activity without record as valid work?',\n",
              " 'Is the experience of working on a daily basis for the cancellation of a free training commitment?',\n",
              " 'Is working with studying at the same time during the day course considered to cancel the obligation of free education?',\n",
              " 'What is the way to release an academic degree by presenting a valid work certificate?',\n",
              " 'How can the release of the academic degree be done by presenting a valid work certificate?',\n",
              " 'Release of educational qualification through the presentation of a valid work certificate',\n",
              " 'How to release a degree by presenting a valid work certificate',\n",
              " 'What kind of employment is considered valid for fulfilling the obligation of free education service?',\n",
              " 'What are the valid tasks to fulfill the obligation of free education service?',\n",
              " 'What works are valid for free education service commitment',\n",
              " 'Works that serve the commitment of free education',\n",
              " 'In what way is it possible to cancel the obligation of free education for those committed to serving education?',\n",
              " 'The conditions for canceling the obligation of free education for those committed to serving education',\n",
              " 'What are the conditions for canceling the obligation of free education for those committed to serving education?',\n",
              " 'What are the conditions for canceling the obligation of free education for those committed to serving education?',\n",
              " 'Can graduates who studied in two fields at the same time use the certificate of lack of employment to cancel the obligation of free education service?',\n",
              " 'Can graduates who have studied in two fields at the same time use the certificate of non-employment to cancel the obligation of free education service?',\n",
              " 'When will students who have a higher education level in the daily withdrawal period register for employment for the previous level (graduate)?',\n",
              " 'Please tell me the registration time of students who have a higher education level during the daily withdrawal period and are dismissed for the previous level (graduate) in job search.',\n",
              " 'The time of registration in job search for students who have a higher education level during the daily withdrawal period, are dismissed for the previous level (graduate)',\n",
              " 'When can the graduates benefiting from study opportunities during their studies register in employment agencies?',\n",
              " 'When can graduates who benefit from study opportunities during their studies register in employment agencies?',\n",
              " 'When can graduates benefit from study opportunities during their studies to register in employment institutions?',\n",
              " 'If you have an insurance history, can you apply for the release of the certificate through a letter of non-employment?',\n",
              " 'If we have a history of insurance, can we apply for the release of the certificate through a letter of non-employment?',\n",
              " \"Can full-time master's students apply to release their bachelor's degree through the method of obtaining a letter of non-employment?\",\n",
              " \"Can daily graduate students apply to release their bachelor's degree by getting a letter of non-employment at the same time as they study?\",\n",
              " 'Can the students who are studying in all the courses of the higher levels of the day course present a certificate of non-employment during their studies to cancel the obligation of the free education service of the previous level?',\n",
              " 'Can the students who are studying in all the courses of the higher levels provide a certificate of non-employment during their studies to cancel the commitment of the free education service of the previous level?',\n",
              " 'How can scholarship graduates or those committed to institutions use the certificate of lack of employment?',\n",
              " 'How can scholarship graduates use the certificate of lack of employment?',\n",
              " 'How can the graduates committed to the devices use the certificate of lack of employment?',\n",
              " 'If a student studies in a different field at a higher level, how is the use of lack of employment?',\n",
              " 'If the student studies in another field at a higher level, what is the use of not finding a job?',\n",
              " 'How can you use job placement search if you graduate at a higher level?',\n",
              " 'If we graduate in higher grades, how can we use job search?',\n",
              " 'How is the cancellation of the commitment through the employment letter calculated for those who are subject to the conscription system?',\n",
              " 'How is it calculated for those who are under the conscription system, canceling the commitment using the employment letter?',\n",
              " 'What documents are required to register in employment agencies?',\n",
              " 'Documents required for registration in employment agencies',\n",
              " \"Is the letter of non-employment issued at the same time as the student's application in the employment offices?\",\n",
              " \"Is the letter of non-employment issued at the same time as the student's application in the relevant offices?\",\n",
              " 'What should be the time to go to the employment offices?',\n",
              " 'Necessary tips when visiting employment offices',\n",
              " 'Points to pay attention to when visiting employment offices',\n",
              " 'Important points when visiting employment offices',\n",
              " 'Should the time limit of 6 months after graduation be observed in order to refer to employment offices?',\n",
              " 'Should the time of 6 months after graduation be observed to refer to employment offices?',\n",
              " 'Do you have to wait 6 months after graduation to go to employment offices?',\n",
              " 'What are the conditions for canceling the obligation through retirement?',\n",
              " 'Conditions for canceling the obligation with the retirement order',\n",
              " 'Is it possible to send an academic confirmation for undergraduate students who are accepted again in the same degree and medical degree?',\n",
              " 'Is it possible to send an academic confirmation for undergraduate students who are accepted again in the same medical degree?',\n",
              " 'What are the conditions for canceling the obligation through disability?',\n",
              " 'Conditions for canceling the disability obligation',\n",
              " 'How long are the years of friendship and how should you act?',\n",
              " 'How long is the duration of friendship and how can it be done?',\n",
              " 'What is the duration of the years of friendship and how can it be done?',\n",
              " 'What is the time of the Arafaqi years and how is it?',\n",
              " 'Can the educational exemption of the previous level (student or student) that has not yet expired be used for the next levels?',\n",
              " 'Can the academic exemption of the previous level that has not yet expired be used for the next levels?',\n",
              " 'Is it possible to use the educational exemption of the previous level for the following levels?',\n",
              " 'Is it possible to use the educational exemption from the previous level (student or student) for the following levels?',\n",
              " \"Is the student's academic exemption valid in case of disconnection from the university (dismissal, withdrawal or failure to return)?\",\n",
              " \"Is the student's academic exemption valid in case of disconnection from the university?\",\n",
              " 'What are the procedures for obtaining an educational exemption?',\n",
              " 'Guide to receiving educational exemption',\n",
              " 'Steps to get educational exemption',\n",
              " 'What is the maximum period of issuing permission to leave the country for each level of education?',\n",
              " 'How long does it take to issue a permission to leave the country at each level of education?',\n",
              " 'How long does it take to issue a permit to leave the country at each level of education?',\n",
              " 'If you have a study leave, will you be allowed to leave the country?',\n",
              " 'If we have a study leave, permission to leave the country will be issued',\n",
              " 'What are the procedures for obtaining permission to leave the country?',\n",
              " 'Procedures for obtaining permission to leave the country',\n",
              " 'What are the steps to get permission to leave the country?',\n",
              " 'When is the date of sending the letter to the conscription system and announcing the withdrawal from education (cancellation of academic exemption) of the eligible students?',\n",
              " 'When is the date of sending the letter to the conscription system and announcing the graduation of the students?',\n",
              " 'When is the date of sending the letter to the conscription system for eligible students?',\n",
              " 'When is the date of sending the letter to the conscription system for graduate students?',\n",
              " 'How long can a student get a permit to leave the country and is it possible to get a permit to leave the country after graduation?',\n",
              " 'How long can a student get permission to leave the country?',\n",
              " 'Is it possible to get permission to leave the country after graduation?',\n",
              " 'Can a student get permission to leave the country after graduation?',\n",
              " 'What are the examples and issues of issuing permission to leave the country? And how many times can you get permission to leave the country?',\n",
              " 'What are the examples and issues of issuing permission to leave the country?',\n",
              " 'How many times can you get permission to leave the country?',\n",
              " 'What are the examples of issuing permission to leave the country? And how many times can you get an exit permit?',\n",
              " 'Is studying at the same time as public service allowed?',\n",
              " 'Is studying and military service allowed at the same time?',\n",
              " 'Is education and military service allowed at the same time?',\n",
              " 'How long is the academic exemption period?',\n",
              " 'What is the duration of using the educational exemption?',\n",
              " 'The duration of using the academic exemption',\n",
              " 'Is it possible to study in two fields or two universities at the same time?',\n",
              " 'Is it possible to study in two fields at the same time?',\n",
              " 'Is it possible to study in two universities at the same time?',\n",
              " 'What is the deadline after completing the studies in each of the study levels?',\n",
              " 'What is the time after the end of education at each level?',\n",
              " 'How can the soldiers who are sent to serve and continue their education?',\n",
              " 'How can serving soldiers continue their education?',\n",
              " 'How can active duty soldiers continue their education?',\n",
              " 'How can soldiers who are being deployed continue their education?',\n",
              " 'What is the process of discharging soldiers?',\n",
              " 'Discharge process of soldiers',\n",
              " 'Procedures for the discharge of soldiers',\n",
              " 'How should I proceed to obtain sponsorship exemption, special and Olympic cases?',\n",
              " 'What should be done to get a sponsorship exemption?',\n",
              " 'What should be done to get exemption for special cases?',\n",
              " 'How should I proceed to get an Olympic exemption?',\n",
              " 'Can withdrawn and expelled students use the academic exemption again?',\n",
              " 'Can withdrawn students use the study exemption again?',\n",
              " 'Can withdrawn students use the academic exemption again?',\n",
              " 'Can expelled students use the study exemption again?',\n",
              " 'Can expelled students use the academic exemption again?',\n",
              " 'What is the deadline for students to be introduced to public duty?',\n",
              " 'How long does it take for students to be introduced to public duty?',\n",
              " 'How much time does it take for students to be introduced to the military?',\n",
              " 'How much time does it take for students to be introduced to public duty?',\n",
              " 'When is the registration period for guest and transfer?',\n",
              " 'When is the application time for the guest and transfer?',\n",
              " 'What are the initial conditions for changing majors?',\n",
              " 'Conditions for changing majors',\n",
              " 'If you withdraw from your studies, can you return to your studies?',\n",
              " 'If the student withdraws, she can return to study',\n",
              " 'If the student withdraws, he can return to study',\n",
              " 'A student who withdraws can return to study',\n",
              " 'What is the maximum time allowed to submit and approve the research plan?',\n",
              " 'What is the maximum time for submitting and approving the research plan?',\n",
              " 'What is the maximum time to submit a proposal?',\n",
              " 'What is the maximum time for submitting and approving the proposal?',\n",
              " \"Is the teaching method possible without doing and defending the thesis in the master's course for graduation?\",\n",
              " 'Is it possible to graduate without defending the thesis in the senior course?',\n",
              " \"The master's degree is done without a thesis\",\n",
              " 'Is it possible to change the title of the thesis or the thesis committee (adding or removing the second supervisor or consultant professor) after the approval of the research plan?',\n",
              " 'Is it possible to change the thesis title after the approval of the research plan?',\n",
              " 'Is it possible to change the second supervisor or consultant professor after the approval of the research plan?',\n",
              " 'Is it possible to change the second supervisor or consultant professor after the approval of the proposal?',\n",
              " 'If the student is applying for an incentive grade for the essay after defending the thesis, should she approve the amendments and finalize the plan in research plan 3?',\n",
              " 'If the student requests more marks for the article after the thesis defense, should she approve the amendments and finalize the plan in research plan 3?',\n",
              " 'If the student requests more marks for the article after the thesis defense, should he approve the amendments and finalize the plan in research plan 3?',\n",
              " 'After defending the thesis, is it possible to submit an article to get an incentive score?',\n",
              " 'Is it possible to submit an essay after the defense of the thesis to increase the grade?',\n",
              " \"If, after passing all the educational units (courses), the student's grade point average is less than 14, is it possible to defend the thesis?\",\n",
              " \"If the student's GPA is less than 14, is it possible to defend the thesis?\",\n",
              " \"If the student's GPA is less than 14, can she defend her thesis?\",\n",
              " \"If the student's GPA is less than 14, can he defend his thesis?\",\n",
              " 'In case of two conditional semesters, is it possible to continue studying?',\n",
              " 'If we are suspended for two semesters, it is possible to continue studying',\n",
              " 'Should the thesis defense sufficiency condition for the defense permit be published in the form of the final version in paper form or electronically (online)?',\n",
              " 'Is it possible to change the thesis title or the thesis committee (adding or removing the second supervisor or consultant professor) after defending the research project?',\n",
              " 'Is it possible to change the thesis title after defending the research plan?',\n",
              " 'Is it possible to change the second supervisor or advisor after defending the research project?',\n",
              " 'Is it possible to change the second supervisor or advisor after defending the proposal?',\n",
              " 'When is the maximum time allowed to send internal and external study opportunities?',\n",
              " 'What is the time allowed for sending study opportunities inside and outside?',\n",
              " 'Allowed time to send study opportunities inside and outside',\n",
              " 'If the student is applying to get an incentive score for the essay (essays) after the thesis defense, should she approve the amendments and finalize the plan in research plan 3?',\n",
              " 'If the student wants an extra grade for the essay after defending the thesis, she must approve the amendments and complete the plan in research plan 3.',\n",
              " 'If the student wants an extra grade for the essay after defending the thesis, he must approve the amendments and complete the plan in research plan 3.',\n",
              " 'If I request to increase the grade of the article after defending the thesis, I have to do 3 things to approve the amendments and complete the plan in the research plan.',\n",
              " 'After defending the dissertation, is it possible to submit an essay to get an incentive score?',\n",
              " 'After the defense of the dissertation, additional marks can be obtained by submitting an essay',\n",
              " 'Should the names of all the members of the thesis committee (the first and second supervisors, the advisors) be mentioned in the essay, or can someone else be added as an author?',\n",
              " 'Should the names of all the members of the thesis committee be mentioned in the article, or can another person be added as an author?',\n",
              " 'Should the names of all committee members be included in the article, or can another person be added as an author?',\n",
              " 'Who is the responsible author of the essay on the condition of sufficiency of thesis defense?',\n",
              " 'Who is the author of the article?',\n",
              " 'What is the maximum number of articles to be submitted for the sufficiency condition of thesis defense for the defense license?',\n",
              " 'How many times is a student allowed to participate in the comprehensive exam and get a passing grade?',\n",
              " 'How many times is a student allowed to participate in the exam to get a passing grade?',\n",
              " 'What is the maximum time allowed to obtain a license to hold a comprehensive evaluation?',\n",
              " 'Allowed time to obtain permission to conduct a comprehensive assessment',\n",
              " 'How many times a year is the comprehensive exam held in Birjand University?',\n",
              " 'How many times is the comprehensive exam held in Birjand University?',\n",
              " 'When is the deadline for defending the research plan?',\n",
              " 'The deadline for defending the research plan',\n",
              " 'When is the deadline for submitting the English proficiency score?',\n",
              " 'The deadline for submitting the English proficiency score',\n",
              " 'What is the formula for calculating the tuition fee for a thesis or dissertation in terms of days?',\n",
              " 'The formula for calculating the tuition fee of a thesis or dissertation in days',\n",
              " 'How to calculate the tuition fee of thesis or thesis in daily basis',\n",
              " \"For what courses should daily master's and doctorate students pay tuition?\",\n",
              " 'Courses for which full-time graduate and doctoral students must pay tuition',\n",
              " \"For what courses do master's and doctorate students have to pay tuition fees?\",\n",
              " 'If a student has a credit in her financial record at the end of her studies, what action should she take to refund the excess deposit?',\n",
              " 'If a student has a credit in her financial record at the end of her studies, what should she do to return the excess deposit?',\n",
              " 'If a student has a credit in his financial record at the end of his studies, what should he do to return the excess deposit?',\n",
              " 'How is the tuition payment method in the dynamic system?',\n",
              " 'How is tuition payment done in the dynamic system',\n",
              " 'How to pay the tuition through the dynamic system',\n",
              " 'From which semester do students pay daily tuition fees?',\n",
              " 'Students pay tuition daily from the second semester']"
            ]
          },
          "metadata": {},
          "execution_count": 8
        }
      ]
    },
    {
      "cell_type": "markdown",
      "source": [
        "### **Calculate Y**"
      ],
      "metadata": {
        "id": "Ir-dD3l49SJO"
      }
    },
    {
      "cell_type": "code",
      "source": [
        "tag = []\n",
        "for doc in documents:\n",
        "  tag.append(doc[1])"
      ],
      "metadata": {
        "id": "9oVdreh59VhB"
      },
      "execution_count": 9,
      "outputs": []
    },
    {
      "cell_type": "code",
      "source": [
        "Y = pd.get_dummies(tag)"
      ],
      "metadata": {
        "id": "xsw1XnGA9cG0"
      },
      "execution_count": 10,
      "outputs": []
    },
    {
      "cell_type": "code",
      "source": [
        "num_unique_tags = len(Y.nunique())"
      ],
      "metadata": {
        "id": "VnSFXahB-TOl"
      },
      "execution_count": 11,
      "outputs": []
    },
    {
      "cell_type": "code",
      "source": [
        "num_unique_tags"
      ],
      "metadata": {
        "colab": {
          "base_uri": "https://localhost:8080/"
        },
        "id": "_GewrS-U-b4H",
        "outputId": "300cb5c1-aeb5-4a3a-ed0d-bb6675f69b10"
      },
      "execution_count": 12,
      "outputs": [
        {
          "output_type": "execute_result",
          "data": {
            "text/plain": [
              "133"
            ]
          },
          "metadata": {},
          "execution_count": 12
        }
      ]
    },
    {
      "cell_type": "markdown",
      "source": [
        "### **X and Y**"
      ],
      "metadata": {
        "id": "3ni9YRQR9sfJ"
      }
    },
    {
      "cell_type": "code",
      "source": [
        "X_train = np.array(question_list)[0:50]\n",
        "y_train = np.array(Y)[0:50]\n",
        "X_test = np.array(question_list)[50:]\n",
        "y_test = np.array(Y)[50:]"
      ],
      "metadata": {
        "id": "3YR73qG0Olgz"
      },
      "execution_count": 13,
      "outputs": []
    },
    {
      "cell_type": "code",
      "source": [
        "print(len(X_train))\n",
        "print(len(y_train))\n",
        "print(len(X_test))\n",
        "print(len(y_test))"
      ],
      "metadata": {
        "colab": {
          "base_uri": "https://localhost:8080/"
        },
        "id": "aMN-I86Nrpv7",
        "outputId": "4d5155b8-354e-43b4-8646-dfd4f6480161"
      },
      "execution_count": 14,
      "outputs": [
        {
          "output_type": "stream",
          "name": "stdout",
          "text": [
            "50\n",
            "50\n",
            "356\n",
            "356\n"
          ]
        }
      ]
    },
    {
      "cell_type": "markdown",
      "source": [
        "### **Fine Tune on BERT**"
      ],
      "metadata": {
        "id": "zX_TRgfi9IHr"
      }
    },
    {
      "cell_type": "code",
      "source": [
        "!pip install -q transformers"
      ],
      "metadata": {
        "id": "Oa6ZBOEy9N0q",
        "colab": {
          "base_uri": "https://localhost:8080/"
        },
        "outputId": "e99aa868-f615-496e-b3fc-aa5aa59b9785"
      },
      "execution_count": 15,
      "outputs": [
        {
          "output_type": "stream",
          "name": "stdout",
          "text": [
            "\u001b[2K     \u001b[90m━━━━━━━━━━━━━━━━━━━━━━━━━━━━━━━━━━━━━━━━\u001b[0m \u001b[32m6.8/6.8 MB\u001b[0m \u001b[31m85.6 MB/s\u001b[0m eta \u001b[36m0:00:00\u001b[0m\n",
            "\u001b[2K     \u001b[90m━━━━━━━━━━━━━━━━━━━━━━━━━━━━━━━━━━━━━━━━\u001b[0m \u001b[32m7.6/7.6 MB\u001b[0m \u001b[31m110.7 MB/s\u001b[0m eta \u001b[36m0:00:00\u001b[0m\n",
            "\u001b[2K     \u001b[90m━━━━━━━━━━━━━━━━━━━━━━━━━━━━━━━━━━━━━━\u001b[0m \u001b[32m199.8/199.8 KB\u001b[0m \u001b[31m23.9 MB/s\u001b[0m eta \u001b[36m0:00:00\u001b[0m\n",
            "\u001b[?25h"
          ]
        }
      ]
    },
    {
      "cell_type": "code",
      "source": [
        "from transformers import AutoTokenizer, TFBertModel\n",
        "tokenizer = AutoTokenizer.from_pretrained('bert-base-cased')\n",
        "bert = TFBertModel.from_pretrained('bert-base-cased')"
      ],
      "metadata": {
        "colab": {
          "base_uri": "https://localhost:8080/",
          "height": 288,
          "referenced_widgets": [
            "5e51880025c44fc3bf33f99283046bba",
            "0218fb1752fa45b3931f4e31a12b27a4",
            "25ac9c90d0b347259ffea88b44ccaf1e",
            "b903c265ae5c4a43a964b62b2da80e93",
            "f295916274fc4f058828aa3fb7f9f5bf",
            "adaeee95cafb4ed9a9f174280b00bf28",
            "32e6b12085b84dfa91e76ffdaf94937b",
            "8f0e48cba72f43dba1bdcd6b25de49d4",
            "59a8bd8877e4440bbc440d21c64d56ff",
            "a447cec2c4ab422c81aeb31f074eb4c1",
            "dacbd20c92a24d2c979459141c3d4878",
            "c7166d6562464c93b8faaf701045feca",
            "2b2b8b4d67f84eb3a8bd5edcdef55c2c",
            "2e8aa6151efd4f56bb99196f39d728cd",
            "74146705c3e342e281dae142eb4bdb47",
            "b5b14fc388474ccaa9cd96e7fe08bb54",
            "9983b5eeb2df4de0840adc02eedc680e",
            "90d124170b2646fab31b6c1fb95e3e0b",
            "b61470aed8a04bc6a9d81f7f6db78b61",
            "0a6216b76f7d45ea9c8b7f68b038af1b",
            "5836d95bc6b543d9b9e2f67078b3ea48",
            "22c3c99a45914f26b7de5e2acb99cb2f",
            "7e44233943ab410695e038c6985c656a",
            "19fae7d8cae5489d8dfd2c3bd701967c",
            "03a73722776a494e950532708ea725df",
            "e4db0ad851a946b99b941c06e58217bf",
            "c0e8150b972145039b7022be0d466395",
            "2274cb20e2934d36a487d791a0b78404",
            "d1a7ef68e9294805a48250719aa079b6",
            "e3653de8fd604ccf982349f6f6554f5b",
            "d5a88135af214b84bcb6754a47ab0769",
            "cba8ee2c68164b09be2135392e9902e8",
            "b129eab9a9f84e238bf8a254e642e3c4",
            "2a612a0785894f67949e3017d2b38ba9",
            "eb2b01884b884ea4971c43df581fe1da",
            "2633f2b145f44812a467e848d944972b",
            "3ff13675a9fb4d088b3de0875f96271a",
            "0c69527330714bf3ab90a1a22a81d8b4",
            "5f71d8a6bab84a299ea9932432d5384a",
            "88952a1794b143c38dadf05cb8530e87",
            "07af2fb2553347219be1bb7d4ea13b96",
            "fd455b08839c4492a8e2962f99235363",
            "b48f3e6965f24b48a63ea8944c1f28cd",
            "f2cc73e41dd04b2da3ceecfc17447ced",
            "bca26ecf7f434b7d9a13fba68415bddf",
            "84a0b80ca52943b686ac46815d5f6c9e",
            "e3ea9c4e38d84c518febddc446be9e11",
            "bf4297a1567241509e35571610fb7ded",
            "a6476fe3ad4149bb946f67278274e37d",
            "548b490f27af48278994e69ad7ddc986",
            "d5bef49480ab477c9d083b159a5c0bdb",
            "84e041a62f274cf58e62099a466313a6",
            "846d7e9a57c442a4bb20980ff169e259",
            "8e6caa15ef4943afaad4677ebd21ba10",
            "3c2cd40686e741a8a33c01934961da49"
          ]
        },
        "id": "6UtCeLXVHvhP",
        "outputId": "b4ac53e9-3871-4400-e8fc-034f653c9196"
      },
      "execution_count": 16,
      "outputs": [
        {
          "output_type": "display_data",
          "data": {
            "text/plain": [
              "Downloading (…)okenizer_config.json:   0%|          | 0.00/29.0 [00:00<?, ?B/s]"
            ],
            "application/vnd.jupyter.widget-view+json": {
              "version_major": 2,
              "version_minor": 0,
              "model_id": "5e51880025c44fc3bf33f99283046bba"
            }
          },
          "metadata": {}
        },
        {
          "output_type": "display_data",
          "data": {
            "text/plain": [
              "Downloading (…)lve/main/config.json:   0%|          | 0.00/570 [00:00<?, ?B/s]"
            ],
            "application/vnd.jupyter.widget-view+json": {
              "version_major": 2,
              "version_minor": 0,
              "model_id": "c7166d6562464c93b8faaf701045feca"
            }
          },
          "metadata": {}
        },
        {
          "output_type": "display_data",
          "data": {
            "text/plain": [
              "Downloading (…)solve/main/vocab.txt:   0%|          | 0.00/213k [00:00<?, ?B/s]"
            ],
            "application/vnd.jupyter.widget-view+json": {
              "version_major": 2,
              "version_minor": 0,
              "model_id": "7e44233943ab410695e038c6985c656a"
            }
          },
          "metadata": {}
        },
        {
          "output_type": "display_data",
          "data": {
            "text/plain": [
              "Downloading (…)/main/tokenizer.json:   0%|          | 0.00/436k [00:00<?, ?B/s]"
            ],
            "application/vnd.jupyter.widget-view+json": {
              "version_major": 2,
              "version_minor": 0,
              "model_id": "2a612a0785894f67949e3017d2b38ba9"
            }
          },
          "metadata": {}
        },
        {
          "output_type": "display_data",
          "data": {
            "text/plain": [
              "Downloading tf_model.h5:   0%|          | 0.00/527M [00:00<?, ?B/s]"
            ],
            "application/vnd.jupyter.widget-view+json": {
              "version_major": 2,
              "version_minor": 0,
              "model_id": "bca26ecf7f434b7d9a13fba68415bddf"
            }
          },
          "metadata": {}
        },
        {
          "output_type": "stream",
          "name": "stderr",
          "text": [
            "Some layers from the model checkpoint at bert-base-cased were not used when initializing TFBertModel: ['mlm___cls', 'nsp___cls']\n",
            "- This IS expected if you are initializing TFBertModel from the checkpoint of a model trained on another task or with another architecture (e.g. initializing a BertForSequenceClassification model from a BertForPreTraining model).\n",
            "- This IS NOT expected if you are initializing TFBertModel from the checkpoint of a model that you expect to be exactly identical (initializing a BertForSequenceClassification model from a BertForSequenceClassification model).\n",
            "All the layers of TFBertModel were initialized from the model checkpoint at bert-base-cased.\n",
            "If your task is similar to the task the model of the checkpoint was trained on, you can already use TFBertModel for predictions without further training.\n"
          ]
        }
      ]
    },
    {
      "cell_type": "code",
      "source": [
        "train_encodings = tokenizer(\n",
        "    text=X_train.tolist(),\n",
        "    add_special_tokens=True,\n",
        "    max_length=9,\n",
        "    truncation=True,\n",
        "    padding=True, \n",
        "    return_tensors='tf',\n",
        "    return_token_type_ids = False,\n",
        "    return_attention_mask = True,\n",
        "    verbose = True)\n",
        "\n",
        "test_encodings = tokenizer(\n",
        "    text=X_test.tolist(),\n",
        "    add_special_tokens=True,\n",
        "    max_length=9,\n",
        "    truncation=True,\n",
        "    padding=True, \n",
        "    return_tensors='tf',\n",
        "    return_token_type_ids = False,\n",
        "    return_attention_mask = True,\n",
        "    verbose = True)"
      ],
      "metadata": {
        "id": "ZDzUrYzCH1aw"
      },
      "execution_count": 17,
      "outputs": []
    },
    {
      "cell_type": "code",
      "source": [
        "train_encodings"
      ],
      "metadata": {
        "colab": {
          "base_uri": "https://localhost:8080/"
        },
        "id": "L3-xowM7KKy3",
        "outputId": "a3666961-019b-45c9-c81b-026b9b3c03e6"
      },
      "execution_count": 18,
      "outputs": [
        {
          "output_type": "execute_result",
          "data": {
            "text/plain": [
              "{'input_ids': <tf.Tensor: shape=(50, 9), dtype=int32, numpy=\n",
              "array([[  101,  8790,  1175,   102,     0,     0,     0,     0,     0],\n",
              "       [  101,  1731,  1132,  1128,   102,     0,     0,     0,     0],\n",
              "       [  101,  1731,  1132,  1128,   136,   102,     0,     0,     0],\n",
              "       [  101,  2181,  2256,  1175,   136,   102,     0,     0,     0],\n",
              "       [  101,  4403,   102,     0,     0,     0,     0,     0,     0],\n",
              "       [  101,  9800,  1742,   102,     0,     0,     0,     0,     0],\n",
              "       [  101,  8667,   102,     0,     0,     0,     0,     0,     0],\n",
              "       [  101,  2750,  1285,   102,     0,     0,     0,     0,     0],\n",
              "       [  101, 17774,   102,     0,     0,     0,     0,     0,     0],\n",
              "       [  101,  3969,  1128,  1224,   102,     0,     0,     0,     0],\n",
              "       [  101, 15938,   102,     0,     0,     0,     0,     0,     0],\n",
              "       [  101,  8835, 25132,  1106,  1128,   117, 11901,   102,     0],\n",
              "       [  101, 22430,  1397,  1159,   102,     0,     0,     0,     0],\n",
              "       [  101,  5749,   102,     0,     0,     0,     0,     0,     0],\n",
              "       [  101,  4514,  1128,   102,     0,     0,     0,     0,     0],\n",
              "       [  101,  1337,   112,   188, 14739,   102,     0,     0,     0],\n",
              "       [  101,   138, 14291,  6758,   117,  5438,   102,     0,     0],\n",
              "       [  101,  5749,  1111,  4395,  1143,   102,     0,     0,     0],\n",
              "       [  101,  1184,  1110,  1240,  1271,   102,     0,     0,     0],\n",
              "       [  101,  1184,  1431,   146,  1840,  1128,   102,     0,     0],\n",
              "       [  101,  1184,  1116,  1240,  1271,   136,   102,     0,     0],\n",
              "       [  101,  1150,  1132,  1128,   136,   102,     0,     0,     0],\n",
              "       [  101,  1293,  1385,   102,     0,     0,     0,     0,     0],\n",
              "       [  101,  1385,   102,     0,     0,     0,     0,     0,     0],\n",
              "       [  101,  1293,  1385,  1110, 22593, 16420,  1179,   102,     0],\n",
              "       [  101,  1184,  1110,  1240,  1425,   102,     0,     0,     0],\n",
              "       [  101,  1385,  1132,  1128,   102,     0,     0,     0,     0],\n",
              "       [  101,  1425,   136,   102,     0,     0,     0,     0,     0],\n",
              "       [  101,  1731,  1128,  1180,  1494,  1143,   136,   102,     0],\n",
              "       [  101,  1327,  1128,  1169,  1202,   136,   102,     0,     0],\n",
              "       [  101,  1327,  1494,  1128,  2194,   136,   102,     0,     0],\n",
              "       [  101,  1731,  1128,  1169,  1129, 14739,   136,   102,     0],\n",
              "       [  101,  1327,  1619,  1110,  2356,   102,     0,     0,     0],\n",
              "       [  101,  2825,   170,  2377,  1150,  1144,  1460,   170,   102],\n",
              "       [  101,  2825,   170,  4469,  2377,  1150,  1144,   170,   102],\n",
              "       [  101,  2825,   170,  4469,  6500,  1150,  1144,   170,   102],\n",
              "       [  101,  1327,  1110,  1103, 10632,  4134,  1104,  1103,   102],\n",
              "       [  101,  1327,  1110,  1103,  2755,   112,   188,  4339,   102],\n",
              "       [  101, 11423,  2635, 10632,   102,     0,     0,     0,     0],\n",
              "       [  101,  1239,  4339,  2635, 10632,   102,     0,     0,     0],\n",
              "       [  101,  1731,  1169,  7084, 11529,  1104,  1103,  3424,   102],\n",
              "       [  101,  1731,  1106,  1243,  1103,  5335, 10890,  1104,   102],\n",
              "       [  101,  1731,  1169, 11529,  1104,  1103,  7084,  1104,   102],\n",
              "       [  101,  1327,  1110,  1107,  1103,  5335, 10890,  1104,   102],\n",
              "       [  101,   152,  1830, 10811,  6126,  1104,  5335, 10890,   102],\n",
              "       [  101,  1327,  1132,  1103, 15337,  1529,  1107,  1103,   102],\n",
              "       [  101,  1327,  1132,  1103, 15337,  3025,  1107,  1103,   102],\n",
              "       [  101,  1327,  1132,  1103, 15337,  2120,  1107,  1103,   102],\n",
              "       [  101,  1731,  1263,  1110,  1103, 17782,  1104,  1103,   102],\n",
              "       [  101, 12226,  2386,  1785,  1104,  5335, 10890,  1104,   102]],\n",
              "      dtype=int32)>, 'attention_mask': <tf.Tensor: shape=(50, 9), dtype=int32, numpy=\n",
              "array([[1, 1, 1, 1, 0, 0, 0, 0, 0],\n",
              "       [1, 1, 1, 1, 1, 0, 0, 0, 0],\n",
              "       [1, 1, 1, 1, 1, 1, 0, 0, 0],\n",
              "       [1, 1, 1, 1, 1, 1, 0, 0, 0],\n",
              "       [1, 1, 1, 0, 0, 0, 0, 0, 0],\n",
              "       [1, 1, 1, 1, 0, 0, 0, 0, 0],\n",
              "       [1, 1, 1, 0, 0, 0, 0, 0, 0],\n",
              "       [1, 1, 1, 1, 0, 0, 0, 0, 0],\n",
              "       [1, 1, 1, 0, 0, 0, 0, 0, 0],\n",
              "       [1, 1, 1, 1, 1, 0, 0, 0, 0],\n",
              "       [1, 1, 1, 0, 0, 0, 0, 0, 0],\n",
              "       [1, 1, 1, 1, 1, 1, 1, 1, 0],\n",
              "       [1, 1, 1, 1, 1, 0, 0, 0, 0],\n",
              "       [1, 1, 1, 0, 0, 0, 0, 0, 0],\n",
              "       [1, 1, 1, 1, 0, 0, 0, 0, 0],\n",
              "       [1, 1, 1, 1, 1, 1, 0, 0, 0],\n",
              "       [1, 1, 1, 1, 1, 1, 1, 0, 0],\n",
              "       [1, 1, 1, 1, 1, 1, 0, 0, 0],\n",
              "       [1, 1, 1, 1, 1, 1, 0, 0, 0],\n",
              "       [1, 1, 1, 1, 1, 1, 1, 0, 0],\n",
              "       [1, 1, 1, 1, 1, 1, 1, 0, 0],\n",
              "       [1, 1, 1, 1, 1, 1, 0, 0, 0],\n",
              "       [1, 1, 1, 1, 0, 0, 0, 0, 0],\n",
              "       [1, 1, 1, 0, 0, 0, 0, 0, 0],\n",
              "       [1, 1, 1, 1, 1, 1, 1, 1, 0],\n",
              "       [1, 1, 1, 1, 1, 1, 0, 0, 0],\n",
              "       [1, 1, 1, 1, 1, 0, 0, 0, 0],\n",
              "       [1, 1, 1, 1, 0, 0, 0, 0, 0],\n",
              "       [1, 1, 1, 1, 1, 1, 1, 1, 0],\n",
              "       [1, 1, 1, 1, 1, 1, 1, 0, 0],\n",
              "       [1, 1, 1, 1, 1, 1, 1, 0, 0],\n",
              "       [1, 1, 1, 1, 1, 1, 1, 1, 0],\n",
              "       [1, 1, 1, 1, 1, 1, 0, 0, 0],\n",
              "       [1, 1, 1, 1, 1, 1, 1, 1, 1],\n",
              "       [1, 1, 1, 1, 1, 1, 1, 1, 1],\n",
              "       [1, 1, 1, 1, 1, 1, 1, 1, 1],\n",
              "       [1, 1, 1, 1, 1, 1, 1, 1, 1],\n",
              "       [1, 1, 1, 1, 1, 1, 1, 1, 1],\n",
              "       [1, 1, 1, 1, 1, 0, 0, 0, 0],\n",
              "       [1, 1, 1, 1, 1, 1, 0, 0, 0],\n",
              "       [1, 1, 1, 1, 1, 1, 1, 1, 1],\n",
              "       [1, 1, 1, 1, 1, 1, 1, 1, 1],\n",
              "       [1, 1, 1, 1, 1, 1, 1, 1, 1],\n",
              "       [1, 1, 1, 1, 1, 1, 1, 1, 1],\n",
              "       [1, 1, 1, 1, 1, 1, 1, 1, 1],\n",
              "       [1, 1, 1, 1, 1, 1, 1, 1, 1],\n",
              "       [1, 1, 1, 1, 1, 1, 1, 1, 1],\n",
              "       [1, 1, 1, 1, 1, 1, 1, 1, 1],\n",
              "       [1, 1, 1, 1, 1, 1, 1, 1, 1],\n",
              "       [1, 1, 1, 1, 1, 1, 1, 1, 1]], dtype=int32)>}"
            ]
          },
          "metadata": {},
          "execution_count": 18
        }
      ]
    },
    {
      "cell_type": "code",
      "source": [
        "y_train[0:10]"
      ],
      "metadata": {
        "colab": {
          "base_uri": "https://localhost:8080/"
        },
        "id": "Oq4CJ-n6Izo_",
        "outputId": "00f200a6-eac2-4576-b86c-e8e6fd44d6e2"
      },
      "execution_count": 19,
      "outputs": [
        {
          "output_type": "execute_result",
          "data": {
            "text/plain": [
              "array([[0, 0, 0, ..., 0, 0, 0],\n",
              "       [0, 0, 0, ..., 0, 0, 0],\n",
              "       [0, 0, 0, ..., 0, 0, 0],\n",
              "       ...,\n",
              "       [0, 0, 0, ..., 0, 0, 0],\n",
              "       [0, 0, 0, ..., 0, 0, 0],\n",
              "       [0, 0, 0, ..., 0, 0, 0]], dtype=uint8)"
            ]
          },
          "metadata": {},
          "execution_count": 19
        }
      ]
    },
    {
      "cell_type": "code",
      "source": [
        "print(len(train_encodings['input_ids']))\n",
        "print(len(y_train))"
      ],
      "metadata": {
        "colab": {
          "base_uri": "https://localhost:8080/"
        },
        "id": "79T7uteMKsVh",
        "outputId": "f731fc95-5a0c-4ad8-8a22-a44dd0dfc5b9"
      },
      "execution_count": 20,
      "outputs": [
        {
          "output_type": "stream",
          "name": "stdout",
          "text": [
            "50\n",
            "50\n"
          ]
        }
      ]
    },
    {
      "cell_type": "code",
      "source": [
        "input_ids = train_encodings['input_ids']\n",
        "attention_mask = train_encodings['attention_mask']"
      ],
      "metadata": {
        "id": "AvPmzCGE5vqx"
      },
      "execution_count": 21,
      "outputs": []
    },
    {
      "cell_type": "markdown",
      "source": [
        "### **Model Building**"
      ],
      "metadata": {
        "id": "YTMiZ1l9F10v"
      }
    },
    {
      "cell_type": "code",
      "source": [
        "import tensorflow as tf\n",
        "from tensorflow.keras.optimizers import Adam\n",
        "from tensorflow.keras.callbacks import EarlyStopping\n",
        "from tensorflow.keras.initializers import TruncatedNormal\n",
        "from tensorflow.keras.losses import CategoricalCrossentropy\n",
        "from tensorflow.keras.metrics import CategoricalAccuracy\n",
        "from tensorflow.keras.utils import to_categorical\n",
        "from tensorflow.keras.layers import Input, Dense"
      ],
      "metadata": {
        "id": "n7QwpghcF68o"
      },
      "execution_count": 22,
      "outputs": []
    },
    {
      "cell_type": "code",
      "source": [
        "max_len = 9\n",
        "input_ids = Input(shape=(max_len,), dtype=tf.int32, name=\"input_ids\")\n",
        "input_mask = Input(shape=(max_len,), dtype=tf.int32, name=\"attention_mask\")\n",
        "embeddings = bert(input_ids, attention_mask=input_mask)[0] \n",
        "out = tf.keras.layers.GlobalMaxPool1D()(embeddings)\n",
        "out = Dense(128, activation='relu')(out)\n",
        "out = tf.keras.layers.Dropout(0.1)(out)\n",
        "out = Dense(32, activation = 'relu')(out)\n",
        "y = Dense(num_unique_tags, activation='sigmoid')(out)\n",
        "model = tf.keras.Model(inputs=[input_ids, input_mask], outputs=y)\n",
        "model.layers[2].trainable = True"
      ],
      "metadata": {
        "id": "AKr1JYihF-1f"
      },
      "execution_count": 30,
      "outputs": []
    },
    {
      "cell_type": "code",
      "source": [
        "optimizer = Adam(learning_rate=5e-05)\n",
        "loss =CategoricalCrossentropy(from_logits=True)\n",
        "metric = CategoricalAccuracy('balanced_accuracy'),\n",
        "# Compile the model\n",
        "model.compile(optimizer=optimizer, loss=loss, metrics=metric)"
      ],
      "metadata": {
        "id": "XOeu7cK4GNeh"
      },
      "execution_count": 31,
      "outputs": []
    },
    {
      "cell_type": "code",
      "source": [
        "model.summary()"
      ],
      "metadata": {
        "colab": {
          "base_uri": "https://localhost:8080/"
        },
        "id": "AGfVyQNWHLR5",
        "outputId": "31c8d9eb-0242-4d6e-d833-7b4dc0674fb3"
      },
      "execution_count": 32,
      "outputs": [
        {
          "output_type": "stream",
          "name": "stdout",
          "text": [
            "Model: \"model_2\"\n",
            "__________________________________________________________________________________________________\n",
            " Layer (type)                   Output Shape         Param #     Connected to                     \n",
            "==================================================================================================\n",
            " input_ids (InputLayer)         [(None, 9)]          0           []                               \n",
            "                                                                                                  \n",
            " attention_mask (InputLayer)    [(None, 9)]          0           []                               \n",
            "                                                                                                  \n",
            " tf_bert_model (TFBertModel)    multiple             108310272   ['input_ids[0][0]',              \n",
            "                                                                  'attention_mask[0][0]']         \n",
            "                                                                                                  \n",
            " global_max_pooling1d_2 (Global  (None, 768)         0           ['tf_bert_model[2][0]']          \n",
            " MaxPooling1D)                                                                                    \n",
            "                                                                                                  \n",
            " dense_6 (Dense)                (None, 128)          98432       ['global_max_pooling1d_2[0][0]'] \n",
            "                                                                                                  \n",
            " dropout_39 (Dropout)           (None, 128)          0           ['dense_6[0][0]']                \n",
            "                                                                                                  \n",
            " dense_7 (Dense)                (None, 32)           4128        ['dropout_39[0][0]']             \n",
            "                                                                                                  \n",
            " dense_8 (Dense)                (None, 133)          4389        ['dense_7[0][0]']                \n",
            "                                                                                                  \n",
            "==================================================================================================\n",
            "Total params: 108,417,221\n",
            "Trainable params: 108,417,221\n",
            "Non-trainable params: 0\n",
            "__________________________________________________________________________________________________\n"
          ]
        }
      ]
    },
    {
      "cell_type": "code",
      "source": [
        "train_history = model.fit(\n",
        "    x = {'input_ids':train_encodings['input_ids'],'attention_mask':train_encodings['attention_mask']},\n",
        "    y = y_train,\n",
        "    validation_data = (\n",
        "    {'input_ids': test_encodings['input_ids'], 'attention_mask': test_encodings['attention_mask']}, y_test\n",
        "    ),\n",
        "    epochs=30,\n",
        "    batch_size=36\n",
        ")"
      ],
      "metadata": {
        "colab": {
          "base_uri": "https://localhost:8080/"
        },
        "id": "4PDiq1wtGeLL",
        "outputId": "1c63881f-fba8-4dfb-ad6b-c4f488b52166"
      },
      "execution_count": 33,
      "outputs": [
        {
          "output_type": "stream",
          "name": "stdout",
          "text": [
            "Epoch 1/30\n"
          ]
        },
        {
          "output_type": "stream",
          "name": "stderr",
          "text": [
            "/usr/local/lib/python3.9/dist-packages/keras/backend.py:5534: UserWarning: \"`categorical_crossentropy` received `from_logits=True`, but the `output` argument was produced by a Softmax activation and thus does not represent logits. Was this intended?\n",
            "  output, from_logits = _get_logits(\n",
            "WARNING:tensorflow:Gradients do not exist for variables ['tf_bert_model/bert/pooler/dense/kernel:0', 'tf_bert_model/bert/pooler/dense/bias:0'] when minimizing the loss. If you're using `model.compile()`, did you forget to provide a `loss` argument?\n",
            "WARNING:tensorflow:Gradients do not exist for variables ['tf_bert_model/bert/pooler/dense/kernel:0', 'tf_bert_model/bert/pooler/dense/bias:0'] when minimizing the loss. If you're using `model.compile()`, did you forget to provide a `loss` argument?\n",
            "WARNING:tensorflow:Gradients do not exist for variables ['tf_bert_model/bert/pooler/dense/kernel:0', 'tf_bert_model/bert/pooler/dense/bias:0'] when minimizing the loss. If you're using `model.compile()`, did you forget to provide a `loss` argument?\n",
            "WARNING:tensorflow:Gradients do not exist for variables ['tf_bert_model/bert/pooler/dense/kernel:0', 'tf_bert_model/bert/pooler/dense/bias:0'] when minimizing the loss. If you're using `model.compile()`, did you forget to provide a `loss` argument?\n"
          ]
        },
        {
          "output_type": "stream",
          "name": "stdout",
          "text": [
            "2/2 [==============================] - 49s 14s/step - loss: 4.8735 - balanced_accuracy: 0.0200 - val_loss: 5.0007 - val_balanced_accuracy: 0.0056\n",
            "Epoch 2/30\n",
            "2/2 [==============================] - 15s 10s/step - loss: 4.5105 - balanced_accuracy: 0.0800 - val_loss: 5.0335 - val_balanced_accuracy: 0.0056\n",
            "Epoch 3/30\n",
            "2/2 [==============================] - 16s 12s/step - loss: 4.3048 - balanced_accuracy: 0.1800 - val_loss: 5.0710 - val_balanced_accuracy: 0.0056\n",
            "Epoch 4/30\n",
            "2/2 [==============================] - 15s 12s/step - loss: 4.0653 - balanced_accuracy: 0.2800 - val_loss: 5.1061 - val_balanced_accuracy: 0.0056\n",
            "Epoch 5/30\n",
            "2/2 [==============================] - 15s 12s/step - loss: 3.7665 - balanced_accuracy: 0.4800 - val_loss: 5.1520 - val_balanced_accuracy: 0.0140\n",
            "Epoch 6/30\n",
            "2/2 [==============================] - 16s 13s/step - loss: 3.5131 - balanced_accuracy: 0.6000 - val_loss: 5.2138 - val_balanced_accuracy: 0.0140\n",
            "Epoch 7/30\n",
            "2/2 [==============================] - 16s 12s/step - loss: 3.2353 - balanced_accuracy: 0.6000 - val_loss: 5.2952 - val_balanced_accuracy: 0.0084\n",
            "Epoch 8/30\n",
            "2/2 [==============================] - 15s 12s/step - loss: 2.8922 - balanced_accuracy: 0.6800 - val_loss: 5.3932 - val_balanced_accuracy: 0.0084\n",
            "Epoch 9/30\n",
            "2/2 [==============================] - 15s 12s/step - loss: 2.6109 - balanced_accuracy: 0.6400 - val_loss: 5.5114 - val_balanced_accuracy: 0.0084\n",
            "Epoch 10/30\n",
            "2/2 [==============================] - 14s 11s/step - loss: 2.4178 - balanced_accuracy: 0.6800 - val_loss: 5.6245 - val_balanced_accuracy: 0.0084\n",
            "Epoch 11/30\n",
            "2/2 [==============================] - 16s 13s/step - loss: 2.2267 - balanced_accuracy: 0.8000 - val_loss: 5.7111 - val_balanced_accuracy: 0.0084\n",
            "Epoch 12/30\n",
            "2/2 [==============================] - 15s 11s/step - loss: 2.0101 - balanced_accuracy: 0.8200 - val_loss: 5.7797 - val_balanced_accuracy: 0.0056\n",
            "Epoch 13/30\n",
            "2/2 [==============================] - 16s 12s/step - loss: 1.7638 - balanced_accuracy: 0.9000 - val_loss: 5.8350 - val_balanced_accuracy: 0.0056\n",
            "Epoch 14/30\n",
            "2/2 [==============================] - 15s 12s/step - loss: 1.5477 - balanced_accuracy: 0.9000 - val_loss: 5.8950 - val_balanced_accuracy: 0.0056\n",
            "Epoch 15/30\n",
            "2/2 [==============================] - 15s 12s/step - loss: 1.3921 - balanced_accuracy: 0.9200 - val_loss: 5.9800 - val_balanced_accuracy: 0.0056\n",
            "Epoch 16/30\n",
            "2/2 [==============================] - 16s 13s/step - loss: 1.2132 - balanced_accuracy: 0.9200 - val_loss: 6.0999 - val_balanced_accuracy: 0.0056\n",
            "Epoch 17/30\n",
            "2/2 [==============================] - 16s 12s/step - loss: 1.1461 - balanced_accuracy: 0.9200 - val_loss: 6.2344 - val_balanced_accuracy: 0.0028\n",
            "Epoch 18/30\n",
            "2/2 [==============================] - 15s 12s/step - loss: 0.9863 - balanced_accuracy: 0.9400 - val_loss: 6.3736 - val_balanced_accuracy: 0.0000e+00\n",
            "Epoch 19/30\n",
            "2/2 [==============================] - 15s 12s/step - loss: 0.9173 - balanced_accuracy: 0.9400 - val_loss: 6.4763 - val_balanced_accuracy: 0.0000e+00\n",
            "Epoch 20/30\n",
            "2/2 [==============================] - 15s 12s/step - loss: 0.8585 - balanced_accuracy: 0.9400 - val_loss: 6.5275 - val_balanced_accuracy: 0.0000e+00\n",
            "Epoch 21/30\n",
            "2/2 [==============================] - 14s 10s/step - loss: 0.7394 - balanced_accuracy: 0.9800 - val_loss: 6.5767 - val_balanced_accuracy: 0.0000e+00\n",
            "Epoch 22/30\n",
            "2/2 [==============================] - 17s 12s/step - loss: 0.6706 - balanced_accuracy: 1.0000 - val_loss: 6.6519 - val_balanced_accuracy: 0.0028\n",
            "Epoch 23/30\n",
            "2/2 [==============================] - 15s 12s/step - loss: 0.5784 - balanced_accuracy: 1.0000 - val_loss: 6.7507 - val_balanced_accuracy: 0.0000e+00\n",
            "Epoch 24/30\n",
            "2/2 [==============================] - 16s 12s/step - loss: 0.5776 - balanced_accuracy: 1.0000 - val_loss: 6.8387 - val_balanced_accuracy: 0.0028\n",
            "Epoch 25/30\n",
            "2/2 [==============================] - 15s 12s/step - loss: 0.5279 - balanced_accuracy: 1.0000 - val_loss: 6.9104 - val_balanced_accuracy: 0.0056\n",
            "Epoch 26/30\n",
            "2/2 [==============================] - 17s 13s/step - loss: 0.4799 - balanced_accuracy: 1.0000 - val_loss: 6.9961 - val_balanced_accuracy: 0.0056\n",
            "Epoch 27/30\n",
            "2/2 [==============================] - 16s 12s/step - loss: 0.4793 - balanced_accuracy: 1.0000 - val_loss: 7.0715 - val_balanced_accuracy: 0.0056\n",
            "Epoch 28/30\n",
            "2/2 [==============================] - 15s 12s/step - loss: 0.3594 - balanced_accuracy: 1.0000 - val_loss: 7.1520 - val_balanced_accuracy: 0.0056\n",
            "Epoch 29/30\n",
            "2/2 [==============================] - 15s 12s/step - loss: 0.3403 - balanced_accuracy: 1.0000 - val_loss: 7.1959 - val_balanced_accuracy: 0.0056\n",
            "Epoch 30/30\n",
            "2/2 [==============================] - 16s 13s/step - loss: 0.3562 - balanced_accuracy: 1.0000 - val_loss: 7.2303 - val_balanced_accuracy: 0.0056\n"
          ]
        }
      ]
    },
    {
      "cell_type": "code",
      "source": [
        "model.save('chatbot_BERT_model.h5')"
      ],
      "metadata": {
        "id": "qB6sKPJq2JTX"
      },
      "execution_count": 34,
      "outputs": []
    },
    {
      "cell_type": "markdown",
      "source": [
        "### **Generetor**"
      ],
      "metadata": {
        "id": "dnXgYJzr6PGs"
      }
    },
    {
      "cell_type": "code",
      "source": [
        "from transformers import MT5ForConditionalGeneration, T5Tokenizer"
      ],
      "metadata": {
        "id": "Ip1ZWnA46NTr"
      },
      "execution_count": 50,
      "outputs": []
    },
    {
      "cell_type": "code",
      "source": [
        "mt5 = MT5ForConditionalGeneration.from_pretrained(\"google/mt5-base\")\n",
        "mt5_tok = T5Tokenizer.from_pretrained(\"google/mt5-base\")"
      ],
      "metadata": {
        "colab": {
          "base_uri": "https://localhost:8080/",
          "height": 654,
          "referenced_widgets": [
            "f55a72dedbc14f51bf09a1645ae85c02",
            "81b76903587c4f4cbca85d34d98f4b69",
            "1384af12ebdd4153bacc0e7c1405661a",
            "0a513b7282fa4313beda43cdc9a320f3",
            "d5369d4c5bad46d885a179b46da625cd",
            "b6debf4e85fe48a6a138280f3e6df5fd",
            "0719b648ec2a4e0c994f8fd16ec6aec0",
            "a78a067a202f4a9bbda9a441231cae76",
            "c2d4970de60d439196bfc30236a62a9d",
            "55b6a2d92ae74aab931ce74c52ee2e52",
            "2bd90f7777c34120b544890dea74b06c",
            "35b8c77268704070839951334f3bf58c",
            "fe640d2ca7dd4bff82a52fafedb30c00",
            "b5dbd76cb0fe48b289edd817e9c5d4e9",
            "cc7653e5d1e94c059f503f64ba7d4659",
            "242b3760d5b940b586ae12fa0de72382",
            "d4f6e2dcfe0647e09363f92bfe47c164",
            "08910e508f3342edaecd5a59d53e8e71",
            "b10e2d6f55fb4cfe9300d3324868c39e",
            "b682d2344a464d0abde6d34785ba6419",
            "cd00d7282cbd4f6e8e9d8e5211046b98",
            "5a1176a369584e4e802406eb213a0dd5",
            "38b43d17c0d143b4a8a89f3b48f3321a",
            "88369abc54824af1a3041e223abda284",
            "dac53c30f4664fc1871fbb29cb5ff77f",
            "2e1d9884190b40dda804ef8bd73a9656",
            "f6b5a3aeb4cb448e99d72060e153cca3",
            "29a8e097721d4fbca111e642f7492c72",
            "9235331c39854719ae454f8f366cad95",
            "0f2c27aa2265494ebd684686755957d2",
            "6542f341eb4d4972b5f9aaf349244389",
            "907c3020744c4863b6cd39eee249e5ae",
            "f09ce1b1d0324e63b9d46eb9bdbbe910"
          ]
        },
        "id": "hpvWSmQZd67u",
        "outputId": "512879f3-69a0-41a9-decc-c3833c0f7bdd"
      },
      "execution_count": 51,
      "outputs": [
        {
          "output_type": "display_data",
          "data": {
            "text/plain": [
              "Downloading (…)lve/main/config.json:   0%|          | 0.00/702 [00:00<?, ?B/s]"
            ],
            "application/vnd.jupyter.widget-view+json": {
              "version_major": 2,
              "version_minor": 0,
              "model_id": "f55a72dedbc14f51bf09a1645ae85c02"
            }
          },
          "metadata": {}
        },
        {
          "output_type": "display_data",
          "data": {
            "text/plain": [
              "Downloading pytorch_model.bin:   0%|          | 0.00/2.33G [00:00<?, ?B/s]"
            ],
            "application/vnd.jupyter.widget-view+json": {
              "version_major": 2,
              "version_minor": 0,
              "model_id": "35b8c77268704070839951334f3bf58c"
            }
          },
          "metadata": {}
        },
        {
          "output_type": "display_data",
          "data": {
            "text/plain": [
              "Downloading (…)neration_config.json:   0%|          | 0.00/147 [00:00<?, ?B/s]"
            ],
            "application/vnd.jupyter.widget-view+json": {
              "version_major": 2,
              "version_minor": 0,
              "model_id": "38b43d17c0d143b4a8a89f3b48f3321a"
            }
          },
          "metadata": {}
        },
        {
          "output_type": "error",
          "ename": "ImportError",
          "evalue": "ignored",
          "traceback": [
            "\u001b[0;31m---------------------------------------------------------------------------\u001b[0m",
            "\u001b[0;31mImportError\u001b[0m                               Traceback (most recent call last)",
            "\u001b[0;32m<ipython-input-51-266491025899>\u001b[0m in \u001b[0;36m<module>\u001b[0;34m\u001b[0m\n\u001b[1;32m      1\u001b[0m \u001b[0mmt5\u001b[0m \u001b[0;34m=\u001b[0m \u001b[0mMT5ForConditionalGeneration\u001b[0m\u001b[0;34m.\u001b[0m\u001b[0mfrom_pretrained\u001b[0m\u001b[0;34m(\u001b[0m\u001b[0;34m\"google/mt5-base\"\u001b[0m\u001b[0;34m)\u001b[0m\u001b[0;34m\u001b[0m\u001b[0;34m\u001b[0m\u001b[0m\n\u001b[0;32m----> 2\u001b[0;31m \u001b[0mmt5_tok\u001b[0m \u001b[0;34m=\u001b[0m \u001b[0mT5Tokenizer\u001b[0m\u001b[0;34m.\u001b[0m\u001b[0mfrom_pretrained\u001b[0m\u001b[0;34m(\u001b[0m\u001b[0;34m\"google/mt5-base\"\u001b[0m\u001b[0;34m)\u001b[0m\u001b[0;34m\u001b[0m\u001b[0;34m\u001b[0m\u001b[0m\n\u001b[0m",
            "\u001b[0;32m/usr/local/lib/python3.9/dist-packages/transformers/utils/import_utils.py\u001b[0m in \u001b[0;36m__getattribute__\u001b[0;34m(cls, key)\u001b[0m\n\u001b[1;32m   1064\u001b[0m         \u001b[0;32mif\u001b[0m \u001b[0mkey\u001b[0m\u001b[0;34m.\u001b[0m\u001b[0mstartswith\u001b[0m\u001b[0;34m(\u001b[0m\u001b[0;34m\"_\"\u001b[0m\u001b[0;34m)\u001b[0m \u001b[0;32mand\u001b[0m \u001b[0mkey\u001b[0m \u001b[0;34m!=\u001b[0m \u001b[0;34m\"_from_config\"\u001b[0m\u001b[0;34m:\u001b[0m\u001b[0;34m\u001b[0m\u001b[0;34m\u001b[0m\u001b[0m\n\u001b[1;32m   1065\u001b[0m             \u001b[0;32mreturn\u001b[0m \u001b[0msuper\u001b[0m\u001b[0;34m(\u001b[0m\u001b[0;34m)\u001b[0m\u001b[0;34m.\u001b[0m\u001b[0m__getattribute__\u001b[0m\u001b[0;34m(\u001b[0m\u001b[0mkey\u001b[0m\u001b[0;34m)\u001b[0m\u001b[0;34m\u001b[0m\u001b[0;34m\u001b[0m\u001b[0m\n\u001b[0;32m-> 1066\u001b[0;31m         \u001b[0mrequires_backends\u001b[0m\u001b[0;34m(\u001b[0m\u001b[0mcls\u001b[0m\u001b[0;34m,\u001b[0m \u001b[0mcls\u001b[0m\u001b[0;34m.\u001b[0m\u001b[0m_backends\u001b[0m\u001b[0;34m)\u001b[0m\u001b[0;34m\u001b[0m\u001b[0;34m\u001b[0m\u001b[0m\n\u001b[0m\u001b[1;32m   1067\u001b[0m \u001b[0;34m\u001b[0m\u001b[0m\n\u001b[1;32m   1068\u001b[0m \u001b[0;34m\u001b[0m\u001b[0m\n",
            "\u001b[0;32m/usr/local/lib/python3.9/dist-packages/transformers/utils/import_utils.py\u001b[0m in \u001b[0;36mrequires_backends\u001b[0;34m(obj, backends)\u001b[0m\n\u001b[1;32m   1052\u001b[0m     \u001b[0mfailed\u001b[0m \u001b[0;34m=\u001b[0m \u001b[0;34m[\u001b[0m\u001b[0mmsg\u001b[0m\u001b[0;34m.\u001b[0m\u001b[0mformat\u001b[0m\u001b[0;34m(\u001b[0m\u001b[0mname\u001b[0m\u001b[0;34m)\u001b[0m \u001b[0;32mfor\u001b[0m \u001b[0mavailable\u001b[0m\u001b[0;34m,\u001b[0m \u001b[0mmsg\u001b[0m \u001b[0;32min\u001b[0m \u001b[0mchecks\u001b[0m \u001b[0;32mif\u001b[0m \u001b[0;32mnot\u001b[0m \u001b[0mavailable\u001b[0m\u001b[0;34m(\u001b[0m\u001b[0;34m)\u001b[0m\u001b[0;34m]\u001b[0m\u001b[0;34m\u001b[0m\u001b[0;34m\u001b[0m\u001b[0m\n\u001b[1;32m   1053\u001b[0m     \u001b[0;32mif\u001b[0m \u001b[0mfailed\u001b[0m\u001b[0;34m:\u001b[0m\u001b[0;34m\u001b[0m\u001b[0;34m\u001b[0m\u001b[0m\n\u001b[0;32m-> 1054\u001b[0;31m         \u001b[0;32mraise\u001b[0m \u001b[0mImportError\u001b[0m\u001b[0;34m(\u001b[0m\u001b[0;34m\"\"\u001b[0m\u001b[0;34m.\u001b[0m\u001b[0mjoin\u001b[0m\u001b[0;34m(\u001b[0m\u001b[0mfailed\u001b[0m\u001b[0;34m)\u001b[0m\u001b[0;34m)\u001b[0m\u001b[0;34m\u001b[0m\u001b[0;34m\u001b[0m\u001b[0m\n\u001b[0m\u001b[1;32m   1055\u001b[0m \u001b[0;34m\u001b[0m\u001b[0m\n\u001b[1;32m   1056\u001b[0m \u001b[0;34m\u001b[0m\u001b[0m\n",
            "\u001b[0;31mImportError\u001b[0m: \nT5Tokenizer requires the SentencePiece library but it was not found in your environment. Checkout the instructions on the\ninstallation page of its repo: https://github.com/google/sentencepiece#installation and follow the ones\nthat match your environment. Please note that you may need to restart your runtime after installation.\n",
            "",
            "\u001b[0;31m---------------------------------------------------------------------------\u001b[0;32m\nNOTE: If your import is failing due to a missing package, you can\nmanually install dependencies using either !pip or !apt.\n\nTo view examples of installing some common dependencies, click the\n\"Open Examples\" button below.\n\u001b[0;31m---------------------------------------------------------------------------\u001b[0m\n"
          ],
          "errorDetails": {
            "actions": [
              {
                "action": "open_url",
                "actionText": "Open Examples",
                "url": "/notebooks/snippets/importing_libraries.ipynb"
              }
            ]
          }
        }
      ]
    },
    {
      "cell_type": "code",
      "source": [
        "input_ids = mt5_tok(\"explain sentiment: I went to see this movie with my husband, and we both thought the acting was terrible!\", return_tensors=\"pt\").input_ids  # in the language of your choice\n",
        "labels = mt5_tok(\"negative explanation: the acting was terrible.\", return_tensors=\"pt\").input_ids  # in the language of your choice\n",
        "\n",
        "loss = mt5(input_ids=input_ids, labels=labels).loss"
      ],
      "metadata": {
        "id": "-xMQ7NSdd_XA"
      },
      "execution_count": null,
      "outputs": []
    },
    {
      "cell_type": "markdown",
      "source": [
        "### **Prediction**"
      ],
      "metadata": {
        "id": "2TD37YeP2daj"
      }
    },
    {
      "cell_type": "code",
      "source": [
        "import pickle"
      ],
      "metadata": {
        "id": "8SB9cGdy39k5"
      },
      "execution_count": 41,
      "outputs": []
    },
    {
      "cell_type": "code",
      "source": [
        "intents = json.loads(open('intents.json').read())"
      ],
      "metadata": {
        "id": "nLxot2Vk6LRV"
      },
      "execution_count": 42,
      "outputs": []
    },
    {
      "cell_type": "code",
      "source": [
        "from keras.models import load_model\n",
        "from transformers import AutoTokenizer, TFBertModel\n",
        "# load model\n",
        "model = load_model('chatbot_BERT_model.h5', custom_objects={'TFBertModel': TFBertModel})"
      ],
      "metadata": {
        "id": "Qot_sfnxjTkU"
      },
      "execution_count": 43,
      "outputs": []
    },
    {
      "cell_type": "code",
      "source": [
        "model"
      ],
      "metadata": {
        "colab": {
          "base_uri": "https://localhost:8080/"
        },
        "id": "up0Xeq9KkSOO",
        "outputId": "5aac7c1a-22a4-4acd-e8c5-e4ee6aae3db7"
      },
      "execution_count": 44,
      "outputs": [
        {
          "output_type": "execute_result",
          "data": {
            "text/plain": [
              "<keras.engine.functional.Functional at 0x7f014d7c1100>"
            ]
          },
          "metadata": {},
          "execution_count": 44
        }
      ]
    },
    {
      "cell_type": "code",
      "source": [
        "def prediction(text):\n",
        "  x_val = tokenizer(\n",
        "    text=text,\n",
        "    add_special_tokens=True,\n",
        "    max_length=9,\n",
        "    truncation=True,\n",
        "    padding='max_length', \n",
        "    return_tensors='tf',\n",
        "    return_token_type_ids = False,\n",
        "    return_attention_mask = True,\n",
        "    verbose = True) \n",
        "  \n",
        "  validation = model.predict({'input_ids': x_val['input_ids'], 'attention_mask': x_val['attention_mask']})\n",
        "  tag_index = np.where(validation[0] == max(validation[0]))[0][0]\n",
        "  result = Y.columns[tag_index]\n",
        "  return result"
      ],
      "metadata": {
        "id": "KPjR2aji4sAw"
      },
      "execution_count": 45,
      "outputs": []
    },
    {
      "cell_type": "code",
      "source": [
        "prediction('how are you?')"
      ],
      "metadata": {
        "colab": {
          "base_uri": "https://localhost:8080/",
          "height": 54
        },
        "id": "S03TgoEg2sqM",
        "outputId": "48294e4b-4fa4-4510-c737-7a8d74787f62"
      },
      "execution_count": 46,
      "outputs": [
        {
          "output_type": "stream",
          "name": "stdout",
          "text": [
            "1/1 [==============================] - 3s 3s/step\n"
          ]
        },
        {
          "output_type": "execute_result",
          "data": {
            "text/plain": [
              "'greeting'"
            ],
            "application/vnd.google.colaboratory.intrinsic+json": {
              "type": "string"
            }
          },
          "metadata": {},
          "execution_count": 46
        }
      ]
    },
    {
      "cell_type": "code",
      "source": [
        "def get_response(text):\n",
        "  tag = prediction(text)\n",
        "  for data in intents['intents']:\n",
        "    if data['tag'] == tag:\n",
        "      result = random.choice(data['responses'])\n",
        "      break\n",
        "  return result"
      ],
      "metadata": {
        "id": "4rp3kQQMQma_"
      },
      "execution_count": 47,
      "outputs": []
    },
    {
      "cell_type": "code",
      "source": [
        "get_response('hi')"
      ],
      "metadata": {
        "colab": {
          "base_uri": "https://localhost:8080/",
          "height": 54
        },
        "id": "YZz6Lb-q6OvM",
        "outputId": "64d64ae9-0d0c-4b14-aebe-48a0ae8932c2"
      },
      "execution_count": 48,
      "outputs": [
        {
          "output_type": "stream",
          "name": "stdout",
          "text": [
            "1/1 [==============================] - 0s 160ms/step\n"
          ]
        },
        {
          "output_type": "execute_result",
          "data": {
            "text/plain": [
              "'Hi there, how can I help?'"
            ],
            "application/vnd.google.colaboratory.intrinsic+json": {
              "type": "string"
            }
          },
          "metadata": {},
          "execution_count": 48
        }
      ]
    },
    {
      "cell_type": "code",
      "source": [
        "while True:\n",
        "\tmessage = input(\"Enter a message:\")\n",
        "\tres = get_response(message)\n",
        "\tprint(res)"
      ],
      "metadata": {
        "id": "IlTyOtqy6Rcm"
      },
      "execution_count": null,
      "outputs": []
    },
    {
      "cell_type": "code",
      "source": [],
      "metadata": {
        "id": "-73IAOUol7UY"
      },
      "execution_count": null,
      "outputs": []
    }
  ]
}